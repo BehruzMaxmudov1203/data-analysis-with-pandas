{
 "cells": [
  {
   "cell_type": "code",
   "execution_count": 3,
   "id": "a807c8d4",
   "metadata": {},
   "outputs": [],
   "source": [
    "import numpy as np\n",
    "import pandas as pd\n",
    "\n",
    "from pandas import Series"
   ]
  },
  {
   "cell_type": "code",
   "execution_count": 7,
   "id": "fb75384b",
   "metadata": {},
   "outputs": [
    {
     "data": {
      "text/plain": [
       "0    4\n",
       "1    5\n",
       "2    6\n",
       "3    7\n",
       "dtype: int64"
      ]
     },
     "execution_count": 7,
     "metadata": {},
     "output_type": "execute_result"
    }
   ],
   "source": [
    "obj = Series([4,5,6,7])\n",
    "obj"
   ]
  },
  {
   "cell_type": "code",
   "execution_count": 8,
   "id": "3968e23e",
   "metadata": {},
   "outputs": [
    {
     "data": {
      "text/plain": [
       "pandas.core.series.Series"
      ]
     },
     "execution_count": 8,
     "metadata": {},
     "output_type": "execute_result"
    }
   ],
   "source": [
    "type(obj)"
   ]
  },
  {
   "cell_type": "code",
   "execution_count": 9,
   "id": "0bbfe073",
   "metadata": {},
   "outputs": [
    {
     "data": {
      "text/plain": [
       "array([4, 5, 6, 7])"
      ]
     },
     "execution_count": 9,
     "metadata": {},
     "output_type": "execute_result"
    }
   ],
   "source": [
    "obj.values"
   ]
  },
  {
   "cell_type": "code",
   "execution_count": 10,
   "id": "d1f531ee",
   "metadata": {},
   "outputs": [
    {
     "data": {
      "text/plain": [
       "RangeIndex(start=0, stop=4, step=1)"
      ]
     },
     "execution_count": 10,
     "metadata": {},
     "output_type": "execute_result"
    }
   ],
   "source": [
    "obj.index"
   ]
  },
  {
   "cell_type": "code",
   "execution_count": 11,
   "id": "f094f438",
   "metadata": {},
   "outputs": [
    {
     "data": {
      "text/plain": [
       "np.int64(4)"
      ]
     },
     "execution_count": 11,
     "metadata": {},
     "output_type": "execute_result"
    }
   ],
   "source": [
    "obj[0]"
   ]
  },
  {
   "cell_type": "code",
   "execution_count": 12,
   "id": "2a0929da",
   "metadata": {},
   "outputs": [
    {
     "data": {
      "text/plain": [
       "np.int64(5)"
      ]
     },
     "execution_count": 12,
     "metadata": {},
     "output_type": "execute_result"
    }
   ],
   "source": [
    "obj[1]"
   ]
  },
  {
   "cell_type": "code",
   "execution_count": 13,
   "id": "bcdcffb4",
   "metadata": {},
   "outputs": [
    {
     "data": {
      "text/plain": [
       "a    6\n",
       "b    3\n",
       "c    2\n",
       "d    1\n",
       "dtype: int64"
      ]
     },
     "execution_count": 13,
     "metadata": {},
     "output_type": "execute_result"
    }
   ],
   "source": [
    "obj2 = Series([6, 3, 2, 1], index = ['a', 'b', 'c', 'd'])\n",
    "obj2"
   ]
  },
  {
   "cell_type": "code",
   "execution_count": 14,
   "id": "3cc5d45b",
   "metadata": {},
   "outputs": [
    {
     "data": {
      "text/plain": [
       "a    6\n",
       "c    2\n",
       "d    1\n",
       "dtype: int64"
      ]
     },
     "execution_count": 14,
     "metadata": {},
     "output_type": "execute_result"
    }
   ],
   "source": [
    "obj2[['a','c','d']]"
   ]
  },
  {
   "cell_type": "code",
   "execution_count": 16,
   "id": "e64afd5a",
   "metadata": {},
   "outputs": [
    {
     "data": {
      "text/plain": [
       "np.int64(6)"
      ]
     },
     "execution_count": 16,
     "metadata": {},
     "output_type": "execute_result"
    }
   ],
   "source": [
    "obj2['a']"
   ]
  },
  {
   "cell_type": "code",
   "execution_count": 17,
   "id": "f2b89e7e",
   "metadata": {},
   "outputs": [
    {
     "data": {
      "text/plain": [
       "a    6\n",
       "b    3\n",
       "dtype: int64"
      ]
     },
     "execution_count": 17,
     "metadata": {},
     "output_type": "execute_result"
    }
   ],
   "source": [
    "obj2[obj2 > 2]"
   ]
  },
  {
   "cell_type": "code",
   "execution_count": 19,
   "id": "f0f4207e",
   "metadata": {},
   "outputs": [
    {
     "data": {
      "text/plain": [
       "a    6\n",
       "b    3\n",
       "c    2\n",
       "d    1\n",
       "dtype: int64"
      ]
     },
     "execution_count": 19,
     "metadata": {},
     "output_type": "execute_result"
    }
   ],
   "source": [
    "obj2"
   ]
  },
  {
   "cell_type": "code",
   "execution_count": 18,
   "id": "99e5b602",
   "metadata": {},
   "outputs": [
    {
     "data": {
      "text/plain": [
       "a    12\n",
       "b     6\n",
       "c     4\n",
       "d     2\n",
       "dtype: int64"
      ]
     },
     "execution_count": 18,
     "metadata": {},
     "output_type": "execute_result"
    }
   ],
   "source": [
    "obj2 * 2"
   ]
  },
  {
   "cell_type": "code",
   "execution_count": 20,
   "id": "d81f23bd",
   "metadata": {},
   "outputs": [
    {
     "data": {
      "text/plain": [
       "a    403.428793\n",
       "b     20.085537\n",
       "c      7.389056\n",
       "d      2.718282\n",
       "dtype: float64"
      ]
     },
     "execution_count": 20,
     "metadata": {},
     "output_type": "execute_result"
    }
   ],
   "source": [
    "np.exp(obj2)"
   ]
  },
  {
   "cell_type": "code",
   "execution_count": 21,
   "id": "df8b71ad",
   "metadata": {},
   "outputs": [
    {
     "data": {
      "text/plain": [
       "0    1\n",
       "1    2\n",
       "2    3\n",
       "dtype: int64"
      ]
     },
     "execution_count": 21,
     "metadata": {},
     "output_type": "execute_result"
    }
   ],
   "source": [
    "obj = Series([1,2,3])\n",
    "obj"
   ]
  },
  {
   "cell_type": "code",
   "execution_count": 22,
   "id": "e93e9988",
   "metadata": {},
   "outputs": [
    {
     "data": {
      "text/plain": [
       "pandas.core.series.Series"
      ]
     },
     "execution_count": 22,
     "metadata": {},
     "output_type": "execute_result"
    }
   ],
   "source": [
    "type(obj)"
   ]
  },
  {
   "cell_type": "code",
   "execution_count": 25,
   "id": "aa864794",
   "metadata": {},
   "outputs": [
    {
     "data": {
      "text/plain": [
       "array([1, 2, 3])"
      ]
     },
     "execution_count": 25,
     "metadata": {},
     "output_type": "execute_result"
    }
   ],
   "source": [
    "obj.values"
   ]
  },
  {
   "cell_type": "code",
   "execution_count": 26,
   "id": "cf3dcbf9",
   "metadata": {},
   "outputs": [
    {
     "data": {
      "text/plain": [
       "RangeIndex(start=0, stop=3, step=1)"
      ]
     },
     "execution_count": 26,
     "metadata": {},
     "output_type": "execute_result"
    }
   ],
   "source": [
    "obj.index"
   ]
  },
  {
   "cell_type": "code",
   "execution_count": 27,
   "id": "02d24225",
   "metadata": {},
   "outputs": [],
   "source": [
    "obj2 = Series([1,2,3,4,5],index=['a','b','c','d','e'])"
   ]
  },
  {
   "cell_type": "code",
   "execution_count": 28,
   "id": "0f12fffb",
   "metadata": {},
   "outputs": [
    {
     "data": {
      "text/plain": [
       "a    1\n",
       "b    2\n",
       "c    3\n",
       "d    4\n",
       "e    5\n",
       "dtype: int64"
      ]
     },
     "execution_count": 28,
     "metadata": {},
     "output_type": "execute_result"
    }
   ],
   "source": [
    "obj2"
   ]
  },
  {
   "cell_type": "code",
   "execution_count": 29,
   "id": "0dc50a43",
   "metadata": {},
   "outputs": [
    {
     "data": {
      "text/plain": [
       "pandas.core.series.Series"
      ]
     },
     "execution_count": 29,
     "metadata": {},
     "output_type": "execute_result"
    }
   ],
   "source": [
    "type(obj2)"
   ]
  },
  {
   "cell_type": "code",
   "execution_count": 30,
   "id": "11279d88",
   "metadata": {},
   "outputs": [
    {
     "data": {
      "text/plain": [
       "array([1, 2, 3, 4, 5])"
      ]
     },
     "execution_count": 30,
     "metadata": {},
     "output_type": "execute_result"
    }
   ],
   "source": [
    "obj2.values"
   ]
  },
  {
   "cell_type": "code",
   "execution_count": 31,
   "id": "101f69f0",
   "metadata": {},
   "outputs": [
    {
     "data": {
      "text/plain": [
       "Index(['a', 'b', 'c', 'd', 'e'], dtype='object')"
      ]
     },
     "execution_count": 31,
     "metadata": {},
     "output_type": "execute_result"
    }
   ],
   "source": [
    "obj2.index"
   ]
  },
  {
   "cell_type": "code",
   "execution_count": 32,
   "id": "3451fbf5",
   "metadata": {},
   "outputs": [
    {
     "data": {
      "text/plain": [
       "np.int64(1)"
      ]
     },
     "execution_count": 32,
     "metadata": {},
     "output_type": "execute_result"
    }
   ],
   "source": [
    "obj2['a']"
   ]
  },
  {
   "cell_type": "code",
   "execution_count": 33,
   "id": "bff1fc23",
   "metadata": {},
   "outputs": [
    {
     "data": {
      "text/plain": [
       "a    1\n",
       "b    2\n",
       "dtype: int64"
      ]
     },
     "execution_count": 33,
     "metadata": {},
     "output_type": "execute_result"
    }
   ],
   "source": [
    "obj2[['a','b']]"
   ]
  },
  {
   "cell_type": "code",
   "execution_count": 35,
   "id": "bb61367b",
   "metadata": {},
   "outputs": [
    {
     "data": {
      "text/plain": [
       "c    3\n",
       "d    4\n",
       "e    5\n",
       "dtype: int64"
      ]
     },
     "execution_count": 35,
     "metadata": {},
     "output_type": "execute_result"
    }
   ],
   "source": [
    "obj2[obj2 > 2]"
   ]
  },
  {
   "cell_type": "code",
   "execution_count": 37,
   "id": "2f5db70b",
   "metadata": {},
   "outputs": [
    {
     "data": {
      "text/plain": [
       "a     2\n",
       "b     4\n",
       "c     6\n",
       "d     8\n",
       "e    10\n",
       "dtype: int64"
      ]
     },
     "execution_count": 37,
     "metadata": {},
     "output_type": "execute_result"
    }
   ],
   "source": [
    "obj2 * 2"
   ]
  },
  {
   "cell_type": "code",
   "execution_count": 38,
   "id": "378db407",
   "metadata": {},
   "outputs": [
    {
     "data": {
      "text/plain": [
       "np.int64(1)"
      ]
     },
     "execution_count": 38,
     "metadata": {},
     "output_type": "execute_result"
    }
   ],
   "source": [
    "obj2['a']"
   ]
  },
  {
   "cell_type": "code",
   "execution_count": 39,
   "id": "127571bd",
   "metadata": {},
   "outputs": [
    {
     "data": {
      "text/plain": [
       "a    1\n",
       "b    2\n",
       "c    3\n",
       "d    4\n",
       "e    5\n",
       "dtype: int64"
      ]
     },
     "execution_count": 39,
     "metadata": {},
     "output_type": "execute_result"
    }
   ],
   "source": [
    "obj2"
   ]
  },
  {
   "cell_type": "code",
   "execution_count": 40,
   "id": "ab2739fe",
   "metadata": {},
   "outputs": [],
   "source": [
    "cars_dict = {'Malibu':40000, 'Lacetti':20000, 'Toyota':45000, 'Mazda':52000, 'Honda':38000}"
   ]
  },
  {
   "cell_type": "code",
   "execution_count": 41,
   "id": "17936dd4",
   "metadata": {},
   "outputs": [
    {
     "data": {
      "text/plain": [
       "dict"
      ]
     },
     "execution_count": 41,
     "metadata": {},
     "output_type": "execute_result"
    }
   ],
   "source": [
    "type(cars_dict)"
   ]
  },
  {
   "cell_type": "code",
   "execution_count": 42,
   "id": "8175eada",
   "metadata": {},
   "outputs": [],
   "source": [
    "cars1 = Series(cars_dict)"
   ]
  },
  {
   "cell_type": "code",
   "execution_count": 43,
   "id": "3a251703",
   "metadata": {},
   "outputs": [
    {
     "data": {
      "text/plain": [
       "Malibu     40000\n",
       "Lacetti    20000\n",
       "Toyota     45000\n",
       "Mazda      52000\n",
       "Honda      38000\n",
       "dtype: int64"
      ]
     },
     "execution_count": 43,
     "metadata": {},
     "output_type": "execute_result"
    }
   ],
   "source": [
    "cars1"
   ]
  },
  {
   "cell_type": "code",
   "execution_count": 44,
   "id": "a83b51fe",
   "metadata": {},
   "outputs": [
    {
     "data": {
      "text/plain": [
       "pandas.core.series.Series"
      ]
     },
     "execution_count": 44,
     "metadata": {},
     "output_type": "execute_result"
    }
   ],
   "source": [
    "type(cars1)"
   ]
  },
  {
   "cell_type": "code",
   "execution_count": 48,
   "id": "be00fab4",
   "metadata": {},
   "outputs": [
    {
     "data": {
      "text/plain": [
       "Malibu     40000\n",
       "Lacetti    20000\n",
       "Toyota     45000\n",
       "Mazda      52000\n",
       "Honda      38000\n",
       "dtype: int64"
      ]
     },
     "execution_count": 48,
     "metadata": {},
     "output_type": "execute_result"
    }
   ],
   "source": [
    "cars1 = Series({'Malibu':40000, 'Lacetti':20000, 'Toyota':45000, 'Mazda':52000, 'Honda':38000})\n",
    "cars1"
   ]
  },
  {
   "cell_type": "code",
   "execution_count": 49,
   "id": "c1b95225",
   "metadata": {},
   "outputs": [
    {
     "data": {
      "text/plain": [
       "pandas.core.series.Series"
      ]
     },
     "execution_count": 49,
     "metadata": {},
     "output_type": "execute_result"
    }
   ],
   "source": [
    "type(cars1)"
   ]
  },
  {
   "cell_type": "code",
   "execution_count": 52,
   "id": "049d1627",
   "metadata": {},
   "outputs": [
    {
     "data": {
      "text/plain": [
       "True"
      ]
     },
     "execution_count": 52,
     "metadata": {},
     "output_type": "execute_result"
    }
   ],
   "source": [
    "'Malibu' in cars1"
   ]
  },
  {
   "cell_type": "code",
   "execution_count": 53,
   "id": "8e55ec25",
   "metadata": {},
   "outputs": [
    {
     "data": {
      "text/plain": [
       "False"
      ]
     },
     "execution_count": 53,
     "metadata": {},
     "output_type": "execute_result"
    }
   ],
   "source": [
    "'BMW' in cars1"
   ]
  },
  {
   "cell_type": "code",
   "execution_count": 54,
   "id": "6ee6c52b",
   "metadata": {},
   "outputs": [
    {
     "data": {
      "text/plain": [
       "np.int64(45000)"
      ]
     },
     "execution_count": 54,
     "metadata": {},
     "output_type": "execute_result"
    }
   ],
   "source": [
    "cars1['Toyota']"
   ]
  },
  {
   "cell_type": "code",
   "execution_count": 55,
   "id": "7a006466",
   "metadata": {},
   "outputs": [],
   "source": [
    "models = ['Malibu', 'Lacetti', 'Toyota', 'BMW', 'Mazda', 'Honda', 'Cobalt']"
   ]
  },
  {
   "cell_type": "code",
   "execution_count": 56,
   "id": "d20b6c4d",
   "metadata": {},
   "outputs": [
    {
     "data": {
      "text/plain": [
       "['Malibu', 'Lacetti', 'Toyota', 'BMW', 'Mazda', 'Honda', 'Cobalt']"
      ]
     },
     "execution_count": 56,
     "metadata": {},
     "output_type": "execute_result"
    }
   ],
   "source": [
    "models"
   ]
  },
  {
   "cell_type": "code",
   "execution_count": 58,
   "id": "06355f6d",
   "metadata": {},
   "outputs": [
    {
     "data": {
      "text/plain": [
       "{'Malibu': 40000,\n",
       " 'Lacetti': 20000,\n",
       " 'Toyota': 45000,\n",
       " 'Mazda': 52000,\n",
       " 'Honda': 38000}"
      ]
     },
     "execution_count": 58,
     "metadata": {},
     "output_type": "execute_result"
    }
   ],
   "source": [
    "cars_dict"
   ]
  },
  {
   "cell_type": "code",
   "execution_count": 59,
   "id": "14ff4414",
   "metadata": {},
   "outputs": [],
   "source": [
    "cars2 = Series(cars_dict, index = models)"
   ]
  },
  {
   "cell_type": "code",
   "execution_count": 60,
   "id": "db61a223",
   "metadata": {},
   "outputs": [
    {
     "data": {
      "text/plain": [
       "Malibu     40000.0\n",
       "Lacetti    20000.0\n",
       "Toyota     45000.0\n",
       "BMW            NaN\n",
       "Mazda      52000.0\n",
       "Honda      38000.0\n",
       "Cobalt         NaN\n",
       "dtype: float64"
      ]
     },
     "execution_count": 60,
     "metadata": {},
     "output_type": "execute_result"
    }
   ],
   "source": [
    "cars2 "
   ]
  },
  {
   "cell_type": "code",
   "execution_count": 62,
   "id": "14aa7c87",
   "metadata": {},
   "outputs": [
    {
     "data": {
      "text/plain": [
       "{'Malibu': 40000,\n",
       " 'Lacetti': 20000,\n",
       " 'Toyota': 45000,\n",
       " 'Mazda': 52000,\n",
       " 'Honda': 38000}"
      ]
     },
     "execution_count": 62,
     "metadata": {},
     "output_type": "execute_result"
    }
   ],
   "source": [
    "car_ = {'Malibu':40000, 'Lacetti':20000, 'Toyota':45000, 'Mazda':52000, 'Honda':38000}\n",
    "car_"
   ]
  },
  {
   "cell_type": "code",
   "execution_count": 65,
   "id": "1638c2df",
   "metadata": {},
   "outputs": [
    {
     "data": {
      "text/plain": [
       "Malibu     40000\n",
       "Lacetti    20000\n",
       "Toyota     45000\n",
       "Mazda      52000\n",
       "Honda      38000\n",
       "dtype: int64"
      ]
     },
     "execution_count": 65,
     "metadata": {},
     "output_type": "execute_result"
    }
   ],
   "source": [
    "car_1 = Series(car_)\n",
    "car_1"
   ]
  },
  {
   "cell_type": "code",
   "execution_count": 66,
   "id": "c53a1c61",
   "metadata": {},
   "outputs": [
    {
     "data": {
      "text/plain": [
       "array([40000, 20000, 45000, 52000, 38000])"
      ]
     },
     "execution_count": 66,
     "metadata": {},
     "output_type": "execute_result"
    }
   ],
   "source": [
    "car_1.values"
   ]
  },
  {
   "cell_type": "code",
   "execution_count": 67,
   "id": "93962b18",
   "metadata": {},
   "outputs": [
    {
     "data": {
      "text/plain": [
       "Index(['Malibu', 'Lacetti', 'Toyota', 'Mazda', 'Honda'], dtype='object')"
      ]
     },
     "execution_count": 67,
     "metadata": {},
     "output_type": "execute_result"
    }
   ],
   "source": [
    "car_1.index"
   ]
  },
  {
   "cell_type": "code",
   "execution_count": 68,
   "id": "74ba347a",
   "metadata": {},
   "outputs": [
    {
     "data": {
      "text/plain": [
       "pandas.core.series.Series"
      ]
     },
     "execution_count": 68,
     "metadata": {},
     "output_type": "execute_result"
    }
   ],
   "source": [
    "type(car_1)"
   ]
  },
  {
   "cell_type": "code",
   "execution_count": 71,
   "id": "1995c086",
   "metadata": {},
   "outputs": [
    {
     "data": {
      "text/plain": [
       "True"
      ]
     },
     "execution_count": 71,
     "metadata": {},
     "output_type": "execute_result"
    }
   ],
   "source": [
    "'Honda' in car_1"
   ]
  },
  {
   "cell_type": "code",
   "execution_count": 72,
   "id": "a382cae0",
   "metadata": {},
   "outputs": [
    {
     "data": {
      "text/plain": [
       "True"
      ]
     },
     "execution_count": 72,
     "metadata": {},
     "output_type": "execute_result"
    }
   ],
   "source": [
    "'Mazda' in car_1"
   ]
  },
  {
   "cell_type": "code",
   "execution_count": 73,
   "id": "899271b2",
   "metadata": {},
   "outputs": [
    {
     "data": {
      "text/plain": [
       "np.int64(52000)"
      ]
     },
     "execution_count": 73,
     "metadata": {},
     "output_type": "execute_result"
    }
   ],
   "source": [
    "car_1['Mazda']"
   ]
  },
  {
   "cell_type": "code",
   "execution_count": 74,
   "id": "99cfd703",
   "metadata": {},
   "outputs": [],
   "source": [
    "models = ['Malibu', 'Lacetti', 'Toyota', 'BMW', 'Mazda', 'Honda', 'Cobalt']"
   ]
  },
  {
   "cell_type": "code",
   "execution_count": 76,
   "id": "d45fc425",
   "metadata": {},
   "outputs": [
    {
     "data": {
      "text/plain": [
       "Malibu     40000.0\n",
       "Lacetti    20000.0\n",
       "Toyota     45000.0\n",
       "BMW            NaN\n",
       "Mazda      52000.0\n",
       "Honda      38000.0\n",
       "Cobalt         NaN\n",
       "dtype: float64"
      ]
     },
     "execution_count": 76,
     "metadata": {},
     "output_type": "execute_result"
    }
   ],
   "source": [
    "cars_2 = Series(car_,models)\n",
    "cars_2"
   ]
  },
  {
   "cell_type": "code",
   "execution_count": 77,
   "id": "24ecd167",
   "metadata": {},
   "outputs": [
    {
     "data": {
      "text/plain": [
       "np.float64(45000.0)"
      ]
     },
     "execution_count": 77,
     "metadata": {},
     "output_type": "execute_result"
    }
   ],
   "source": [
    "cars_2['Toyota']"
   ]
  },
  {
   "cell_type": "code",
   "execution_count": 78,
   "id": "2074e207",
   "metadata": {},
   "outputs": [
    {
     "data": {
      "text/plain": [
       "pandas.core.series.Series"
      ]
     },
     "execution_count": 78,
     "metadata": {},
     "output_type": "execute_result"
    }
   ],
   "source": [
    "type(cars_2)"
   ]
  },
  {
   "cell_type": "code",
   "execution_count": 79,
   "id": "89ad0896",
   "metadata": {},
   "outputs": [
    {
     "data": {
      "text/plain": [
       "Malibu     False\n",
       "Lacetti    False\n",
       "Toyota     False\n",
       "BMW         True\n",
       "Mazda      False\n",
       "Honda      False\n",
       "Cobalt      True\n",
       "dtype: bool"
      ]
     },
     "execution_count": 79,
     "metadata": {},
     "output_type": "execute_result"
    }
   ],
   "source": [
    "cars_2.isnull()"
   ]
  },
  {
   "cell_type": "code",
   "execution_count": 81,
   "id": "050511a7",
   "metadata": {},
   "outputs": [
    {
     "data": {
      "text/plain": [
       "Malibu      True\n",
       "Lacetti     True\n",
       "Toyota      True\n",
       "BMW        False\n",
       "Mazda       True\n",
       "Honda       True\n",
       "Cobalt     False\n",
       "dtype: bool"
      ]
     },
     "execution_count": 81,
     "metadata": {},
     "output_type": "execute_result"
    }
   ],
   "source": [
    "cars_2.notnull()"
   ]
  },
  {
   "cell_type": "code",
   "execution_count": null,
   "id": "2b0b48fc",
   "metadata": {},
   "outputs": [],
   "source": [
    "models = ['Malibu', 'Lacetti', 'Toyota', 'BMW', 'Mazda', 'Honda', 'Cobalt']\n",
    "cars_3 = Series(cars_dict,index=models)"
   ]
  },
  {
   "cell_type": "code",
   "execution_count": 83,
   "id": "54c4dce5",
   "metadata": {},
   "outputs": [
    {
     "data": {
      "text/plain": [
       "Malibu     40000.0\n",
       "Lacetti    20000.0\n",
       "Toyota     45000.0\n",
       "BMW            NaN\n",
       "Mazda      52000.0\n",
       "Honda      38000.0\n",
       "Cobalt         NaN\n",
       "dtype: float64"
      ]
     },
     "execution_count": 83,
     "metadata": {},
     "output_type": "execute_result"
    }
   ],
   "source": [
    "cars_3"
   ]
  },
  {
   "cell_type": "code",
   "execution_count": 84,
   "id": "b47213fe",
   "metadata": {},
   "outputs": [
    {
     "data": {
      "text/plain": [
       "Malibu     False\n",
       "Lacetti    False\n",
       "Toyota     False\n",
       "BMW         True\n",
       "Mazda      False\n",
       "Honda      False\n",
       "Cobalt      True\n",
       "dtype: bool"
      ]
     },
     "execution_count": 84,
     "metadata": {},
     "output_type": "execute_result"
    }
   ],
   "source": [
    "cars_3.isnull() # qiymat mavjud bo'masa true qayataradi"
   ]
  },
  {
   "cell_type": "code",
   "execution_count": 86,
   "id": "5985650a",
   "metadata": {},
   "outputs": [
    {
     "data": {
      "text/plain": [
       "Malibu      True\n",
       "Lacetti     True\n",
       "Toyota      True\n",
       "BMW        False\n",
       "Mazda       True\n",
       "Honda       True\n",
       "Cobalt     False\n",
       "dtype: bool"
      ]
     },
     "execution_count": 86,
     "metadata": {},
     "output_type": "execute_result"
    }
   ],
   "source": [
    "cars_3.notnull()"
   ]
  },
  {
   "cell_type": "code",
   "execution_count": 87,
   "id": "899ac0d1",
   "metadata": {},
   "outputs": [
    {
     "data": {
      "text/plain": [
       "Malibu     40000.0\n",
       "Lacetti    20000.0\n",
       "Toyota     45000.0\n",
       "BMW            NaN\n",
       "Mazda      52000.0\n",
       "Honda      38000.0\n",
       "Cobalt         NaN\n",
       "dtype: float64"
      ]
     },
     "execution_count": 87,
     "metadata": {},
     "output_type": "execute_result"
    }
   ],
   "source": [
    "cars_3"
   ]
  },
  {
   "cell_type": "code",
   "execution_count": 88,
   "id": "88e4ab23",
   "metadata": {},
   "outputs": [
    {
     "data": {
      "text/plain": [
       "Malibu     40000\n",
       "Lacetti    20000\n",
       "Toyota     45000\n",
       "Mazda      52000\n",
       "Honda      38000\n",
       "dtype: int64"
      ]
     },
     "execution_count": 88,
     "metadata": {},
     "output_type": "execute_result"
    }
   ],
   "source": [
    "car_1"
   ]
  },
  {
   "cell_type": "code",
   "execution_count": 89,
   "id": "1a4d5d82",
   "metadata": {},
   "outputs": [
    {
     "data": {
      "text/plain": [
       "Malibu     40000.0\n",
       "Lacetti    20000.0\n",
       "Toyota     45000.0\n",
       "BMW            NaN\n",
       "Mazda      52000.0\n",
       "Honda      38000.0\n",
       "Cobalt         NaN\n",
       "dtype: float64"
      ]
     },
     "execution_count": 89,
     "metadata": {},
     "output_type": "execute_result"
    }
   ],
   "source": [
    "cars_2"
   ]
  },
  {
   "cell_type": "code",
   "execution_count": 90,
   "id": "047f5c08",
   "metadata": {},
   "outputs": [
    {
     "data": {
      "text/plain": [
       "BMW             NaN\n",
       "Cobalt          NaN\n",
       "Honda       76000.0\n",
       "Lacetti     40000.0\n",
       "Malibu      80000.0\n",
       "Mazda      104000.0\n",
       "Toyota      90000.0\n",
       "dtype: float64"
      ]
     },
     "execution_count": 90,
     "metadata": {},
     "output_type": "execute_result"
    }
   ],
   "source": [
    "car_1 + cars_3"
   ]
  },
  {
   "cell_type": "code",
   "execution_count": 91,
   "id": "efa86bb0",
   "metadata": {},
   "outputs": [
    {
     "name": "stdout",
     "output_type": "stream",
     "text": [
      "Malibu     40000\n",
      "Lacetti    20000\n",
      "Toyota     45000\n",
      "Mazda      52000\n",
      "Honda      38000\n",
      "dtype: int64\n",
      "Malibu     40000.0\n",
      "Lacetti    20000.0\n",
      "Toyota     45000.0\n",
      "BMW            NaN\n",
      "Mazda      52000.0\n",
      "Honda      38000.0\n",
      "Cobalt         NaN\n",
      "dtype: float64\n"
     ]
    }
   ],
   "source": [
    "print(car_1)\n",
    "print(cars_2)"
   ]
  },
  {
   "cell_type": "code",
   "execution_count": 92,
   "id": "fce61284",
   "metadata": {},
   "outputs": [],
   "source": [
    "cars_2.name = \"AvtoSalon\""
   ]
  },
  {
   "cell_type": "code",
   "execution_count": 93,
   "id": "bb764873",
   "metadata": {},
   "outputs": [],
   "source": [
    "cars_2.index.name = \"Modellar\""
   ]
  },
  {
   "cell_type": "code",
   "execution_count": 94,
   "id": "2a1df7cf",
   "metadata": {},
   "outputs": [
    {
     "data": {
      "text/plain": [
       "Modellar\n",
       "Malibu     40000.0\n",
       "Lacetti    20000.0\n",
       "Toyota     45000.0\n",
       "BMW            NaN\n",
       "Mazda      52000.0\n",
       "Honda      38000.0\n",
       "Cobalt         NaN\n",
       "Name: AvtoSalon, dtype: float64"
      ]
     },
     "execution_count": 94,
     "metadata": {},
     "output_type": "execute_result"
    }
   ],
   "source": [
    "cars_2"
   ]
  },
  {
   "cell_type": "code",
   "execution_count": 96,
   "id": "5bc98056",
   "metadata": {},
   "outputs": [
    {
     "data": {
      "text/plain": [
       "Malibu     40000.0\n",
       "Lacetti    20000.0\n",
       "Toyota     45000.0\n",
       "BMW            NaN\n",
       "Mazda      52000.0\n",
       "Honda      38000.0\n",
       "Cobalt         NaN\n",
       "dtype: float64"
      ]
     },
     "execution_count": 96,
     "metadata": {},
     "output_type": "execute_result"
    }
   ],
   "source": [
    "cars_3"
   ]
  },
  {
   "cell_type": "code",
   "execution_count": 97,
   "id": "b881a7d9",
   "metadata": {},
   "outputs": [
    {
     "data": {
      "text/plain": [
       "True"
      ]
     },
     "execution_count": 97,
     "metadata": {},
     "output_type": "execute_result"
    }
   ],
   "source": [
    "cars_3.hasnans"
   ]
  },
  {
   "cell_type": "code",
   "execution_count": 98,
   "id": "63f10280",
   "metadata": {},
   "outputs": [
    {
     "data": {
      "text/plain": [
       "Malibu     40000\n",
       "Lacetti    20000\n",
       "Toyota     45000\n",
       "Mazda      52000\n",
       "Honda      38000\n",
       "dtype: int64"
      ]
     },
     "execution_count": 98,
     "metadata": {},
     "output_type": "execute_result"
    }
   ],
   "source": [
    "cars1"
   ]
  },
  {
   "cell_type": "code",
   "execution_count": 99,
   "id": "d8d4b4ed",
   "metadata": {},
   "outputs": [
    {
     "data": {
      "text/plain": [
       "False"
      ]
     },
     "execution_count": 99,
     "metadata": {},
     "output_type": "execute_result"
    }
   ],
   "source": [
    "cars1.hasnans"
   ]
  },
  {
   "cell_type": "code",
   "execution_count": 101,
   "id": "64bebd14",
   "metadata": {},
   "outputs": [
    {
     "data": {
      "text/plain": [
       "5"
      ]
     },
     "execution_count": 101,
     "metadata": {},
     "output_type": "execute_result"
    }
   ],
   "source": [
    "cars1.size"
   ]
  },
  {
   "cell_type": "code",
   "execution_count": 102,
   "id": "f86a9c09",
   "metadata": {},
   "outputs": [
    {
     "data": {
      "text/plain": [
       "(5,)"
      ]
     },
     "execution_count": 102,
     "metadata": {},
     "output_type": "execute_result"
    }
   ],
   "source": [
    "cars1.shape"
   ]
  },
  {
   "cell_type": "code",
   "execution_count": 103,
   "id": "753aecca",
   "metadata": {},
   "outputs": [
    {
     "data": {
      "text/plain": [
       "1"
      ]
     },
     "execution_count": 103,
     "metadata": {},
     "output_type": "execute_result"
    }
   ],
   "source": [
    "cars1.ndim"
   ]
  },
  {
   "cell_type": "code",
   "execution_count": 104,
   "id": "d8cb4a65",
   "metadata": {},
   "outputs": [
    {
     "data": {
      "text/plain": [
       "True"
      ]
     },
     "execution_count": 104,
     "metadata": {},
     "output_type": "execute_result"
    }
   ],
   "source": [
    "cars1.is_unique"
   ]
  },
  {
   "cell_type": "code",
   "execution_count": 106,
   "id": "562c8d1b",
   "metadata": {},
   "outputs": [
    {
     "data": {
      "text/plain": [
       "Malibu     40000\n",
       "Lacetti    20000\n",
       "Toyota     45000\n",
       "Mazda      52000\n",
       "Honda      38000\n",
       "dtype: int64"
      ]
     },
     "execution_count": 106,
     "metadata": {},
     "output_type": "execute_result"
    }
   ],
   "source": [
    "cars1"
   ]
  },
  {
   "cell_type": "code",
   "execution_count": 105,
   "id": "75ba0c49",
   "metadata": {},
   "outputs": [
    {
     "data": {
      "text/plain": [
       "np.int64(45000)"
      ]
     },
     "execution_count": 105,
     "metadata": {},
     "output_type": "execute_result"
    }
   ],
   "source": [
    "cars1.iloc[2]"
   ]
  },
  {
   "cell_type": "code",
   "execution_count": 108,
   "id": "0ad96408",
   "metadata": {},
   "outputs": [
    {
     "name": "stderr",
     "output_type": "stream",
     "text": [
      "C:\\Users\\behru\\AppData\\Local\\Temp\\ipykernel_14804\\1974746557.py:1: FutureWarning: Series.__getitem__ treating keys as positions is deprecated. In a future version, integer keys will always be treated as labels (consistent with DataFrame behavior). To access a value by position, use `ser.iloc[pos]`\n",
      "  cars1[-1]\n"
     ]
    },
    {
     "data": {
      "text/plain": [
       "np.int64(38000)"
      ]
     },
     "execution_count": 108,
     "metadata": {},
     "output_type": "execute_result"
    }
   ],
   "source": [
    "cars1.loc[-1]"
   ]
  },
  {
   "cell_type": "code",
   "execution_count": 111,
   "id": "9ce23007",
   "metadata": {},
   "outputs": [
    {
     "data": {
      "text/plain": [
       "np.float64(39000.0)"
      ]
     },
     "execution_count": 111,
     "metadata": {},
     "output_type": "execute_result"
    }
   ],
   "source": [
    "cars1.mean()"
   ]
  },
  {
   "cell_type": "code",
   "execution_count": null,
   "id": "fcf302cd",
   "metadata": {},
   "outputs": [],
   "source": [
    "import pandas as pd\n",
    "import numpy as np\n",
    "\n",
    "from pandas import DataFrame"
   ]
  },
  {
   "cell_type": "code",
   "execution_count": 167,
   "id": "8d1a8a67",
   "metadata": {},
   "outputs": [],
   "source": [
    "data = {\n",
    "    'Yil':[2021,2020,2019,2018,2017,2016,2015,2010],\n",
    "    'Aholi soni':[33.9,33.5,32.9,32.5,31.9,31.4,30.9,28.5],\n",
    "    'Temp':[1.54,1.48,1.56,1.62,1.65,1.66,1.64,1.53]\n",
    "}\n"
   ]
  },
  {
   "cell_type": "code",
   "execution_count": 115,
   "id": "cf13bb27",
   "metadata": {},
   "outputs": [
    {
     "data": {
      "text/plain": [
       "{'Yil': [2021, 2020, 2019, 2018, 2017, 2016, 2015, 2010],\n",
       " 'Aholi soni': [33.9, 33.5, 32.9, 32.5, 31.9, 31.4, 30.9, 28.5],\n",
       " 'Temp': [1.54, 1.48, 1.56, 1.62, 1.65, 1.66, 1.64, 1.53]}"
      ]
     },
     "execution_count": 115,
     "metadata": {},
     "output_type": "execute_result"
    }
   ],
   "source": [
    "data"
   ]
  },
  {
   "cell_type": "code",
   "execution_count": 118,
   "id": "00452ec2",
   "metadata": {},
   "outputs": [
    {
     "data": {
      "text/html": [
       "<div>\n",
       "<style scoped>\n",
       "    .dataframe tbody tr th:only-of-type {\n",
       "        vertical-align: middle;\n",
       "    }\n",
       "\n",
       "    .dataframe tbody tr th {\n",
       "        vertical-align: top;\n",
       "    }\n",
       "\n",
       "    .dataframe thead th {\n",
       "        text-align: right;\n",
       "    }\n",
       "</style>\n",
       "<table border=\"1\" class=\"dataframe\">\n",
       "  <thead>\n",
       "    <tr style=\"text-align: right;\">\n",
       "      <th></th>\n",
       "      <th>Yil</th>\n",
       "      <th>Aholi soni</th>\n",
       "      <th>Temp</th>\n",
       "    </tr>\n",
       "  </thead>\n",
       "  <tbody>\n",
       "    <tr>\n",
       "      <th>0</th>\n",
       "      <td>2021</td>\n",
       "      <td>33.9</td>\n",
       "      <td>1.54</td>\n",
       "    </tr>\n",
       "    <tr>\n",
       "      <th>1</th>\n",
       "      <td>2020</td>\n",
       "      <td>33.5</td>\n",
       "      <td>1.48</td>\n",
       "    </tr>\n",
       "    <tr>\n",
       "      <th>2</th>\n",
       "      <td>2019</td>\n",
       "      <td>32.9</td>\n",
       "      <td>1.56</td>\n",
       "    </tr>\n",
       "    <tr>\n",
       "      <th>3</th>\n",
       "      <td>2018</td>\n",
       "      <td>32.5</td>\n",
       "      <td>1.62</td>\n",
       "    </tr>\n",
       "    <tr>\n",
       "      <th>4</th>\n",
       "      <td>2017</td>\n",
       "      <td>31.9</td>\n",
       "      <td>1.65</td>\n",
       "    </tr>\n",
       "    <tr>\n",
       "      <th>5</th>\n",
       "      <td>2016</td>\n",
       "      <td>31.4</td>\n",
       "      <td>1.66</td>\n",
       "    </tr>\n",
       "    <tr>\n",
       "      <th>6</th>\n",
       "      <td>2015</td>\n",
       "      <td>30.9</td>\n",
       "      <td>1.64</td>\n",
       "    </tr>\n",
       "    <tr>\n",
       "      <th>7</th>\n",
       "      <td>2010</td>\n",
       "      <td>28.5</td>\n",
       "      <td>1.53</td>\n",
       "    </tr>\n",
       "  </tbody>\n",
       "</table>\n",
       "</div>"
      ],
      "text/plain": [
       "    Yil  Aholi soni  Temp\n",
       "0  2021        33.9  1.54\n",
       "1  2020        33.5  1.48\n",
       "2  2019        32.9  1.56\n",
       "3  2018        32.5  1.62\n",
       "4  2017        31.9  1.65\n",
       "5  2016        31.4  1.66\n",
       "6  2015        30.9  1.64\n",
       "7  2010        28.5  1.53"
      ]
     },
     "execution_count": 118,
     "metadata": {},
     "output_type": "execute_result"
    }
   ],
   "source": [
    "df = pd.DataFrame(data)\n",
    "df"
   ]
  },
  {
   "cell_type": "code",
   "execution_count": 125,
   "id": "e3f07ef0",
   "metadata": {},
   "outputs": [
    {
     "data": {
      "text/html": [
       "<div>\n",
       "<style scoped>\n",
       "    .dataframe tbody tr th:only-of-type {\n",
       "        vertical-align: middle;\n",
       "    }\n",
       "\n",
       "    .dataframe tbody tr th {\n",
       "        vertical-align: top;\n",
       "    }\n",
       "\n",
       "    .dataframe thead th {\n",
       "        text-align: right;\n",
       "    }\n",
       "</style>\n",
       "<table border=\"1\" class=\"dataframe\">\n",
       "  <thead>\n",
       "    <tr style=\"text-align: right;\">\n",
       "      <th></th>\n",
       "      <th>Yil</th>\n",
       "      <th>Aholi soni</th>\n",
       "      <th>Temp</th>\n",
       "    </tr>\n",
       "  </thead>\n",
       "  <tbody>\n",
       "    <tr>\n",
       "      <th>0</th>\n",
       "      <td>2021</td>\n",
       "      <td>33.9</td>\n",
       "      <td>1.54</td>\n",
       "    </tr>\n",
       "    <tr>\n",
       "      <th>1</th>\n",
       "      <td>2020</td>\n",
       "      <td>33.5</td>\n",
       "      <td>1.48</td>\n",
       "    </tr>\n",
       "    <tr>\n",
       "      <th>2</th>\n",
       "      <td>2019</td>\n",
       "      <td>32.9</td>\n",
       "      <td>1.56</td>\n",
       "    </tr>\n",
       "    <tr>\n",
       "      <th>3</th>\n",
       "      <td>2018</td>\n",
       "      <td>32.5</td>\n",
       "      <td>1.62</td>\n",
       "    </tr>\n",
       "    <tr>\n",
       "      <th>4</th>\n",
       "      <td>2017</td>\n",
       "      <td>31.9</td>\n",
       "      <td>1.65</td>\n",
       "    </tr>\n",
       "  </tbody>\n",
       "</table>\n",
       "</div>"
      ],
      "text/plain": [
       "    Yil  Aholi soni  Temp\n",
       "0  2021        33.9  1.54\n",
       "1  2020        33.5  1.48\n",
       "2  2019        32.9  1.56\n",
       "3  2018        32.5  1.62\n",
       "4  2017        31.9  1.65"
      ]
     },
     "execution_count": 125,
     "metadata": {},
     "output_type": "execute_result"
    }
   ],
   "source": [
    "df.head()"
   ]
  },
  {
   "cell_type": "code",
   "execution_count": 126,
   "id": "8f33de09",
   "metadata": {},
   "outputs": [
    {
     "data": {
      "text/plain": [
       "(8, 3)"
      ]
     },
     "execution_count": 126,
     "metadata": {},
     "output_type": "execute_result"
    }
   ],
   "source": [
    "df.shape"
   ]
  },
  {
   "cell_type": "code",
   "execution_count": 127,
   "id": "93add797",
   "metadata": {},
   "outputs": [
    {
     "data": {
      "text/plain": [
       "{'Yil': [2021, 2020, 2019, 2018, 2017, 2016, 2015, 2010],\n",
       " 'Aholi soni': [33.9, 33.5, 32.9, 32.5, 31.9, 31.4, 30.9, 28.5],\n",
       " 'Temp': [1.54, 1.48, 1.56, 1.62, 1.65, 1.66, 1.64, 1.53]}"
      ]
     },
     "execution_count": 127,
     "metadata": {},
     "output_type": "execute_result"
    }
   ],
   "source": [
    "data"
   ]
  },
  {
   "cell_type": "code",
   "execution_count": 128,
   "id": "770bb4d7",
   "metadata": {},
   "outputs": [],
   "source": [
    "df1 = pd.DataFrame(data)"
   ]
  },
  {
   "cell_type": "code",
   "execution_count": 129,
   "id": "0774a3fe",
   "metadata": {},
   "outputs": [
    {
     "data": {
      "text/html": [
       "<div>\n",
       "<style scoped>\n",
       "    .dataframe tbody tr th:only-of-type {\n",
       "        vertical-align: middle;\n",
       "    }\n",
       "\n",
       "    .dataframe tbody tr th {\n",
       "        vertical-align: top;\n",
       "    }\n",
       "\n",
       "    .dataframe thead th {\n",
       "        text-align: right;\n",
       "    }\n",
       "</style>\n",
       "<table border=\"1\" class=\"dataframe\">\n",
       "  <thead>\n",
       "    <tr style=\"text-align: right;\">\n",
       "      <th></th>\n",
       "      <th>Yil</th>\n",
       "      <th>Aholi soni</th>\n",
       "      <th>Temp</th>\n",
       "    </tr>\n",
       "  </thead>\n",
       "  <tbody>\n",
       "    <tr>\n",
       "      <th>0</th>\n",
       "      <td>2021</td>\n",
       "      <td>33.9</td>\n",
       "      <td>1.54</td>\n",
       "    </tr>\n",
       "    <tr>\n",
       "      <th>1</th>\n",
       "      <td>2020</td>\n",
       "      <td>33.5</td>\n",
       "      <td>1.48</td>\n",
       "    </tr>\n",
       "    <tr>\n",
       "      <th>2</th>\n",
       "      <td>2019</td>\n",
       "      <td>32.9</td>\n",
       "      <td>1.56</td>\n",
       "    </tr>\n",
       "    <tr>\n",
       "      <th>3</th>\n",
       "      <td>2018</td>\n",
       "      <td>32.5</td>\n",
       "      <td>1.62</td>\n",
       "    </tr>\n",
       "    <tr>\n",
       "      <th>4</th>\n",
       "      <td>2017</td>\n",
       "      <td>31.9</td>\n",
       "      <td>1.65</td>\n",
       "    </tr>\n",
       "    <tr>\n",
       "      <th>5</th>\n",
       "      <td>2016</td>\n",
       "      <td>31.4</td>\n",
       "      <td>1.66</td>\n",
       "    </tr>\n",
       "    <tr>\n",
       "      <th>6</th>\n",
       "      <td>2015</td>\n",
       "      <td>30.9</td>\n",
       "      <td>1.64</td>\n",
       "    </tr>\n",
       "    <tr>\n",
       "      <th>7</th>\n",
       "      <td>2010</td>\n",
       "      <td>28.5</td>\n",
       "      <td>1.53</td>\n",
       "    </tr>\n",
       "  </tbody>\n",
       "</table>\n",
       "</div>"
      ],
      "text/plain": [
       "    Yil  Aholi soni  Temp\n",
       "0  2021        33.9  1.54\n",
       "1  2020        33.5  1.48\n",
       "2  2019        32.9  1.56\n",
       "3  2018        32.5  1.62\n",
       "4  2017        31.9  1.65\n",
       "5  2016        31.4  1.66\n",
       "6  2015        30.9  1.64\n",
       "7  2010        28.5  1.53"
      ]
     },
     "execution_count": 129,
     "metadata": {},
     "output_type": "execute_result"
    }
   ],
   "source": [
    "df1"
   ]
  },
  {
   "cell_type": "code",
   "execution_count": 130,
   "id": "6714b556",
   "metadata": {},
   "outputs": [
    {
     "data": {
      "text/html": [
       "<div>\n",
       "<style scoped>\n",
       "    .dataframe tbody tr th:only-of-type {\n",
       "        vertical-align: middle;\n",
       "    }\n",
       "\n",
       "    .dataframe tbody tr th {\n",
       "        vertical-align: top;\n",
       "    }\n",
       "\n",
       "    .dataframe thead th {\n",
       "        text-align: right;\n",
       "    }\n",
       "</style>\n",
       "<table border=\"1\" class=\"dataframe\">\n",
       "  <thead>\n",
       "    <tr style=\"text-align: right;\">\n",
       "      <th></th>\n",
       "      <th>Yil</th>\n",
       "      <th>Aholi soni</th>\n",
       "      <th>Temp</th>\n",
       "    </tr>\n",
       "  </thead>\n",
       "  <tbody>\n",
       "    <tr>\n",
       "      <th>2</th>\n",
       "      <td>2019</td>\n",
       "      <td>32.9</td>\n",
       "      <td>1.56</td>\n",
       "    </tr>\n",
       "    <tr>\n",
       "      <th>3</th>\n",
       "      <td>2018</td>\n",
       "      <td>32.5</td>\n",
       "      <td>1.62</td>\n",
       "    </tr>\n",
       "    <tr>\n",
       "      <th>4</th>\n",
       "      <td>2017</td>\n",
       "      <td>31.9</td>\n",
       "      <td>1.65</td>\n",
       "    </tr>\n",
       "    <tr>\n",
       "      <th>5</th>\n",
       "      <td>2016</td>\n",
       "      <td>31.4</td>\n",
       "      <td>1.66</td>\n",
       "    </tr>\n",
       "    <tr>\n",
       "      <th>6</th>\n",
       "      <td>2015</td>\n",
       "      <td>30.9</td>\n",
       "      <td>1.64</td>\n",
       "    </tr>\n",
       "  </tbody>\n",
       "</table>\n",
       "</div>"
      ],
      "text/plain": [
       "    Yil  Aholi soni  Temp\n",
       "2  2019        32.9  1.56\n",
       "3  2018        32.5  1.62\n",
       "4  2017        31.9  1.65\n",
       "5  2016        31.4  1.66\n",
       "6  2015        30.9  1.64"
      ]
     },
     "execution_count": 130,
     "metadata": {},
     "output_type": "execute_result"
    }
   ],
   "source": [
    "df1[df1.Temp > 1.54]"
   ]
  },
  {
   "cell_type": "code",
   "execution_count": 131,
   "id": "e72eecdf",
   "metadata": {},
   "outputs": [
    {
     "data": {
      "text/html": [
       "<div>\n",
       "<style scoped>\n",
       "    .dataframe tbody tr th:only-of-type {\n",
       "        vertical-align: middle;\n",
       "    }\n",
       "\n",
       "    .dataframe tbody tr th {\n",
       "        vertical-align: top;\n",
       "    }\n",
       "\n",
       "    .dataframe thead th {\n",
       "        text-align: right;\n",
       "    }\n",
       "</style>\n",
       "<table border=\"1\" class=\"dataframe\">\n",
       "  <thead>\n",
       "    <tr style=\"text-align: right;\">\n",
       "      <th></th>\n",
       "      <th>Yil</th>\n",
       "      <th>Aholi soni</th>\n",
       "      <th>Temp</th>\n",
       "    </tr>\n",
       "  </thead>\n",
       "  <tbody>\n",
       "    <tr>\n",
       "      <th>0</th>\n",
       "      <td>2021</td>\n",
       "      <td>33.9</td>\n",
       "      <td>1.54</td>\n",
       "    </tr>\n",
       "    <tr>\n",
       "      <th>1</th>\n",
       "      <td>2020</td>\n",
       "      <td>33.5</td>\n",
       "      <td>1.48</td>\n",
       "    </tr>\n",
       "    <tr>\n",
       "      <th>2</th>\n",
       "      <td>2019</td>\n",
       "      <td>32.9</td>\n",
       "      <td>1.56</td>\n",
       "    </tr>\n",
       "    <tr>\n",
       "      <th>3</th>\n",
       "      <td>2018</td>\n",
       "      <td>32.5</td>\n",
       "      <td>1.62</td>\n",
       "    </tr>\n",
       "    <tr>\n",
       "      <th>4</th>\n",
       "      <td>2017</td>\n",
       "      <td>31.9</td>\n",
       "      <td>1.65</td>\n",
       "    </tr>\n",
       "  </tbody>\n",
       "</table>\n",
       "</div>"
      ],
      "text/plain": [
       "    Yil  Aholi soni  Temp\n",
       "0  2021        33.9  1.54\n",
       "1  2020        33.5  1.48\n",
       "2  2019        32.9  1.56\n",
       "3  2018        32.5  1.62\n",
       "4  2017        31.9  1.65"
      ]
     },
     "execution_count": 131,
     "metadata": {},
     "output_type": "execute_result"
    }
   ],
   "source": [
    "df.head()"
   ]
  },
  {
   "cell_type": "code",
   "execution_count": 132,
   "id": "360fd64c",
   "metadata": {},
   "outputs": [
    {
     "data": {
      "text/plain": [
       "(8, 3)"
      ]
     },
     "execution_count": 132,
     "metadata": {},
     "output_type": "execute_result"
    }
   ],
   "source": [
    "df.shape"
   ]
  },
  {
   "cell_type": "code",
   "execution_count": 133,
   "id": "7e71de8b",
   "metadata": {},
   "outputs": [
    {
     "data": {
      "text/plain": [
       "2"
      ]
     },
     "execution_count": 133,
     "metadata": {},
     "output_type": "execute_result"
    }
   ],
   "source": [
    "df.ndim"
   ]
  },
  {
   "cell_type": "code",
   "execution_count": 134,
   "id": "b20c316a",
   "metadata": {},
   "outputs": [
    {
     "data": {
      "text/plain": [
       "24"
      ]
     },
     "execution_count": 134,
     "metadata": {},
     "output_type": "execute_result"
    }
   ],
   "source": [
    "df.size"
   ]
  },
  {
   "cell_type": "code",
   "execution_count": 137,
   "id": "4a60b7b8",
   "metadata": {},
   "outputs": [
    {
     "data": {
      "text/html": [
       "<div>\n",
       "<style scoped>\n",
       "    .dataframe tbody tr th:only-of-type {\n",
       "        vertical-align: middle;\n",
       "    }\n",
       "\n",
       "    .dataframe tbody tr th {\n",
       "        vertical-align: top;\n",
       "    }\n",
       "\n",
       "    .dataframe thead th {\n",
       "        text-align: right;\n",
       "    }\n",
       "</style>\n",
       "<table border=\"1\" class=\"dataframe\">\n",
       "  <thead>\n",
       "    <tr style=\"text-align: right;\">\n",
       "      <th></th>\n",
       "      <th>Yil</th>\n",
       "      <th>Temp</th>\n",
       "      <th>Aholi soni</th>\n",
       "    </tr>\n",
       "  </thead>\n",
       "  <tbody>\n",
       "    <tr>\n",
       "      <th>0</th>\n",
       "      <td>2021</td>\n",
       "      <td>1.54</td>\n",
       "      <td>33.9</td>\n",
       "    </tr>\n",
       "    <tr>\n",
       "      <th>1</th>\n",
       "      <td>2020</td>\n",
       "      <td>1.48</td>\n",
       "      <td>33.5</td>\n",
       "    </tr>\n",
       "    <tr>\n",
       "      <th>2</th>\n",
       "      <td>2019</td>\n",
       "      <td>1.56</td>\n",
       "      <td>32.9</td>\n",
       "    </tr>\n",
       "    <tr>\n",
       "      <th>3</th>\n",
       "      <td>2018</td>\n",
       "      <td>1.62</td>\n",
       "      <td>32.5</td>\n",
       "    </tr>\n",
       "    <tr>\n",
       "      <th>4</th>\n",
       "      <td>2017</td>\n",
       "      <td>1.65</td>\n",
       "      <td>31.9</td>\n",
       "    </tr>\n",
       "    <tr>\n",
       "      <th>5</th>\n",
       "      <td>2016</td>\n",
       "      <td>1.66</td>\n",
       "      <td>31.4</td>\n",
       "    </tr>\n",
       "    <tr>\n",
       "      <th>6</th>\n",
       "      <td>2015</td>\n",
       "      <td>1.64</td>\n",
       "      <td>30.9</td>\n",
       "    </tr>\n",
       "    <tr>\n",
       "      <th>7</th>\n",
       "      <td>2010</td>\n",
       "      <td>1.53</td>\n",
       "      <td>28.5</td>\n",
       "    </tr>\n",
       "  </tbody>\n",
       "</table>\n",
       "</div>"
      ],
      "text/plain": [
       "    Yil  Temp  Aholi soni\n",
       "0  2021  1.54        33.9\n",
       "1  2020  1.48        33.5\n",
       "2  2019  1.56        32.9\n",
       "3  2018  1.62        32.5\n",
       "4  2017  1.65        31.9\n",
       "5  2016  1.66        31.4\n",
       "6  2015  1.64        30.9\n",
       "7  2010  1.53        28.5"
      ]
     },
     "execution_count": 137,
     "metadata": {},
     "output_type": "execute_result"
    }
   ],
   "source": [
    "df3 = pd.DataFrame(data,columns=['Yil','Temp','Aholi soni'])\n",
    "df3"
   ]
  },
  {
   "cell_type": "code",
   "execution_count": 138,
   "id": "34217316",
   "metadata": {},
   "outputs": [
    {
     "data": {
      "text/html": [
       "<div>\n",
       "<style scoped>\n",
       "    .dataframe tbody tr th:only-of-type {\n",
       "        vertical-align: middle;\n",
       "    }\n",
       "\n",
       "    .dataframe tbody tr th {\n",
       "        vertical-align: top;\n",
       "    }\n",
       "\n",
       "    .dataframe thead th {\n",
       "        text-align: right;\n",
       "    }\n",
       "</style>\n",
       "<table border=\"1\" class=\"dataframe\">\n",
       "  <thead>\n",
       "    <tr style=\"text-align: right;\">\n",
       "      <th></th>\n",
       "      <th>Yil</th>\n",
       "      <th>Temp</th>\n",
       "      <th>Aholi soni</th>\n",
       "      <th>YAIM</th>\n",
       "    </tr>\n",
       "  </thead>\n",
       "  <tbody>\n",
       "    <tr>\n",
       "      <th>0</th>\n",
       "      <td>2021</td>\n",
       "      <td>1.54</td>\n",
       "      <td>33.9</td>\n",
       "      <td>NaN</td>\n",
       "    </tr>\n",
       "    <tr>\n",
       "      <th>1</th>\n",
       "      <td>2020</td>\n",
       "      <td>1.48</td>\n",
       "      <td>33.5</td>\n",
       "      <td>NaN</td>\n",
       "    </tr>\n",
       "    <tr>\n",
       "      <th>2</th>\n",
       "      <td>2019</td>\n",
       "      <td>1.56</td>\n",
       "      <td>32.9</td>\n",
       "      <td>NaN</td>\n",
       "    </tr>\n",
       "    <tr>\n",
       "      <th>3</th>\n",
       "      <td>2018</td>\n",
       "      <td>1.62</td>\n",
       "      <td>32.5</td>\n",
       "      <td>NaN</td>\n",
       "    </tr>\n",
       "    <tr>\n",
       "      <th>4</th>\n",
       "      <td>2017</td>\n",
       "      <td>1.65</td>\n",
       "      <td>31.9</td>\n",
       "      <td>NaN</td>\n",
       "    </tr>\n",
       "    <tr>\n",
       "      <th>5</th>\n",
       "      <td>2016</td>\n",
       "      <td>1.66</td>\n",
       "      <td>31.4</td>\n",
       "      <td>NaN</td>\n",
       "    </tr>\n",
       "    <tr>\n",
       "      <th>6</th>\n",
       "      <td>2015</td>\n",
       "      <td>1.64</td>\n",
       "      <td>30.9</td>\n",
       "      <td>NaN</td>\n",
       "    </tr>\n",
       "    <tr>\n",
       "      <th>7</th>\n",
       "      <td>2010</td>\n",
       "      <td>1.53</td>\n",
       "      <td>28.5</td>\n",
       "      <td>NaN</td>\n",
       "    </tr>\n",
       "  </tbody>\n",
       "</table>\n",
       "</div>"
      ],
      "text/plain": [
       "    Yil  Temp  Aholi soni YAIM\n",
       "0  2021  1.54        33.9  NaN\n",
       "1  2020  1.48        33.5  NaN\n",
       "2  2019  1.56        32.9  NaN\n",
       "3  2018  1.62        32.5  NaN\n",
       "4  2017  1.65        31.9  NaN\n",
       "5  2016  1.66        31.4  NaN\n",
       "6  2015  1.64        30.9  NaN\n",
       "7  2010  1.53        28.5  NaN"
      ]
     },
     "execution_count": 138,
     "metadata": {},
     "output_type": "execute_result"
    }
   ],
   "source": [
    "df4 = pd.DataFrame(data,columns=['Yil','Temp','Aholi soni','YAIM'])\n",
    "df4"
   ]
  },
  {
   "cell_type": "code",
   "execution_count": 140,
   "id": "dad4b2a3",
   "metadata": {},
   "outputs": [
    {
     "data": {
      "text/html": [
       "<div>\n",
       "<style scoped>\n",
       "    .dataframe tbody tr th:only-of-type {\n",
       "        vertical-align: middle;\n",
       "    }\n",
       "\n",
       "    .dataframe tbody tr th {\n",
       "        vertical-align: top;\n",
       "    }\n",
       "\n",
       "    .dataframe thead th {\n",
       "        text-align: right;\n",
       "    }\n",
       "</style>\n",
       "<table border=\"1\" class=\"dataframe\">\n",
       "  <thead>\n",
       "    <tr style=\"text-align: right;\">\n",
       "      <th></th>\n",
       "      <th>Yil</th>\n",
       "      <th>Temp</th>\n",
       "      <th>Aholi soni</th>\n",
       "      <th>YAIM</th>\n",
       "    </tr>\n",
       "  </thead>\n",
       "  <tbody>\n",
       "    <tr>\n",
       "      <th>21</th>\n",
       "      <td>2021</td>\n",
       "      <td>1.54</td>\n",
       "      <td>33.9</td>\n",
       "      <td>NaN</td>\n",
       "    </tr>\n",
       "    <tr>\n",
       "      <th>20</th>\n",
       "      <td>2020</td>\n",
       "      <td>1.48</td>\n",
       "      <td>33.5</td>\n",
       "      <td>NaN</td>\n",
       "    </tr>\n",
       "    <tr>\n",
       "      <th>19</th>\n",
       "      <td>2019</td>\n",
       "      <td>1.56</td>\n",
       "      <td>32.9</td>\n",
       "      <td>NaN</td>\n",
       "    </tr>\n",
       "    <tr>\n",
       "      <th>18</th>\n",
       "      <td>2018</td>\n",
       "      <td>1.62</td>\n",
       "      <td>32.5</td>\n",
       "      <td>NaN</td>\n",
       "    </tr>\n",
       "    <tr>\n",
       "      <th>17</th>\n",
       "      <td>2017</td>\n",
       "      <td>1.65</td>\n",
       "      <td>31.9</td>\n",
       "      <td>NaN</td>\n",
       "    </tr>\n",
       "    <tr>\n",
       "      <th>16</th>\n",
       "      <td>2016</td>\n",
       "      <td>1.66</td>\n",
       "      <td>31.4</td>\n",
       "      <td>NaN</td>\n",
       "    </tr>\n",
       "    <tr>\n",
       "      <th>15</th>\n",
       "      <td>2015</td>\n",
       "      <td>1.64</td>\n",
       "      <td>30.9</td>\n",
       "      <td>NaN</td>\n",
       "    </tr>\n",
       "    <tr>\n",
       "      <th>10</th>\n",
       "      <td>2010</td>\n",
       "      <td>1.53</td>\n",
       "      <td>28.5</td>\n",
       "      <td>NaN</td>\n",
       "    </tr>\n",
       "  </tbody>\n",
       "</table>\n",
       "</div>"
      ],
      "text/plain": [
       "     Yil  Temp  Aholi soni YAIM\n",
       "21  2021  1.54        33.9  NaN\n",
       "20  2020  1.48        33.5  NaN\n",
       "19  2019  1.56        32.9  NaN\n",
       "18  2018  1.62        32.5  NaN\n",
       "17  2017  1.65        31.9  NaN\n",
       "16  2016  1.66        31.4  NaN\n",
       "15  2015  1.64        30.9  NaN\n",
       "10  2010  1.53        28.5  NaN"
      ]
     },
     "execution_count": 140,
     "metadata": {},
     "output_type": "execute_result"
    }
   ],
   "source": [
    "df5 = pd.DataFrame(data,columns=['Yil','Temp','Aholi soni','YAIM'],index=[21,20,19,18,17,16,15,10])\n",
    "df5"
   ]
  },
  {
   "cell_type": "code",
   "execution_count": 146,
   "id": "637d0fb6",
   "metadata": {},
   "outputs": [],
   "source": [
    "aholi = df5['Aholi soni']"
   ]
  },
  {
   "cell_type": "code",
   "execution_count": 147,
   "id": "b74b0966",
   "metadata": {},
   "outputs": [
    {
     "data": {
      "text/plain": [
       "21    33.9\n",
       "20    33.5\n",
       "19    32.9\n",
       "18    32.5\n",
       "17    31.9\n",
       "16    31.4\n",
       "15    30.9\n",
       "10    28.5\n",
       "Name: Aholi soni, dtype: float64"
      ]
     },
     "execution_count": 147,
     "metadata": {},
     "output_type": "execute_result"
    }
   ],
   "source": [
    "aholi"
   ]
  },
  {
   "cell_type": "code",
   "execution_count": 148,
   "id": "00ea2115",
   "metadata": {},
   "outputs": [
    {
     "data": {
      "text/plain": [
       "pandas.core.series.Series"
      ]
     },
     "execution_count": 148,
     "metadata": {},
     "output_type": "execute_result"
    }
   ],
   "source": [
    "type(aholi)"
   ]
  },
  {
   "cell_type": "code",
   "execution_count": 149,
   "id": "4617733f",
   "metadata": {},
   "outputs": [
    {
     "data": {
      "text/plain": [
       "21    1.54\n",
       "20    1.48\n",
       "19    1.56\n",
       "18    1.62\n",
       "17    1.65\n",
       "16    1.66\n",
       "15    1.64\n",
       "10    1.53\n",
       "Name: Temp, dtype: float64"
      ]
     },
     "execution_count": 149,
     "metadata": {},
     "output_type": "execute_result"
    }
   ],
   "source": [
    "df5.Temp"
   ]
  },
  {
   "cell_type": "code",
   "execution_count": 151,
   "id": "fd7c60bb",
   "metadata": {},
   "outputs": [
    {
     "data": {
      "text/plain": [
       "21    2021\n",
       "20    2020\n",
       "19    2019\n",
       "18    2018\n",
       "17    2017\n",
       "16    2016\n",
       "15    2015\n",
       "10    2010\n",
       "Name: Yil, dtype: int64"
      ]
     },
     "execution_count": 151,
     "metadata": {},
     "output_type": "execute_result"
    }
   ],
   "source": [
    "df5.Yil"
   ]
  },
  {
   "cell_type": "code",
   "execution_count": 152,
   "id": "7e7586d8",
   "metadata": {},
   "outputs": [],
   "source": [
    "df5.YAIM = 0"
   ]
  },
  {
   "cell_type": "code",
   "execution_count": 153,
   "id": "a6e6f65d",
   "metadata": {},
   "outputs": [
    {
     "data": {
      "text/html": [
       "<div>\n",
       "<style scoped>\n",
       "    .dataframe tbody tr th:only-of-type {\n",
       "        vertical-align: middle;\n",
       "    }\n",
       "\n",
       "    .dataframe tbody tr th {\n",
       "        vertical-align: top;\n",
       "    }\n",
       "\n",
       "    .dataframe thead th {\n",
       "        text-align: right;\n",
       "    }\n",
       "</style>\n",
       "<table border=\"1\" class=\"dataframe\">\n",
       "  <thead>\n",
       "    <tr style=\"text-align: right;\">\n",
       "      <th></th>\n",
       "      <th>Yil</th>\n",
       "      <th>Temp</th>\n",
       "      <th>Aholi soni</th>\n",
       "      <th>YAIM</th>\n",
       "    </tr>\n",
       "  </thead>\n",
       "  <tbody>\n",
       "    <tr>\n",
       "      <th>21</th>\n",
       "      <td>2021</td>\n",
       "      <td>1.54</td>\n",
       "      <td>33.9</td>\n",
       "      <td>0</td>\n",
       "    </tr>\n",
       "    <tr>\n",
       "      <th>20</th>\n",
       "      <td>2020</td>\n",
       "      <td>1.48</td>\n",
       "      <td>33.5</td>\n",
       "      <td>0</td>\n",
       "    </tr>\n",
       "    <tr>\n",
       "      <th>19</th>\n",
       "      <td>2019</td>\n",
       "      <td>1.56</td>\n",
       "      <td>32.9</td>\n",
       "      <td>0</td>\n",
       "    </tr>\n",
       "    <tr>\n",
       "      <th>18</th>\n",
       "      <td>2018</td>\n",
       "      <td>1.62</td>\n",
       "      <td>32.5</td>\n",
       "      <td>0</td>\n",
       "    </tr>\n",
       "    <tr>\n",
       "      <th>17</th>\n",
       "      <td>2017</td>\n",
       "      <td>1.65</td>\n",
       "      <td>31.9</td>\n",
       "      <td>0</td>\n",
       "    </tr>\n",
       "    <tr>\n",
       "      <th>16</th>\n",
       "      <td>2016</td>\n",
       "      <td>1.66</td>\n",
       "      <td>31.4</td>\n",
       "      <td>0</td>\n",
       "    </tr>\n",
       "    <tr>\n",
       "      <th>15</th>\n",
       "      <td>2015</td>\n",
       "      <td>1.64</td>\n",
       "      <td>30.9</td>\n",
       "      <td>0</td>\n",
       "    </tr>\n",
       "    <tr>\n",
       "      <th>10</th>\n",
       "      <td>2010</td>\n",
       "      <td>1.53</td>\n",
       "      <td>28.5</td>\n",
       "      <td>0</td>\n",
       "    </tr>\n",
       "  </tbody>\n",
       "</table>\n",
       "</div>"
      ],
      "text/plain": [
       "     Yil  Temp  Aholi soni  YAIM\n",
       "21  2021  1.54        33.9     0\n",
       "20  2020  1.48        33.5     0\n",
       "19  2019  1.56        32.9     0\n",
       "18  2018  1.62        32.5     0\n",
       "17  2017  1.65        31.9     0\n",
       "16  2016  1.66        31.4     0\n",
       "15  2015  1.64        30.9     0\n",
       "10  2010  1.53        28.5     0"
      ]
     },
     "execution_count": 153,
     "metadata": {},
     "output_type": "execute_result"
    }
   ],
   "source": [
    "df5"
   ]
  },
  {
   "cell_type": "code",
   "execution_count": 154,
   "id": "d414ef5e",
   "metadata": {},
   "outputs": [
    {
     "data": {
      "text/plain": [
       "21    1700\n",
       "20    1650\n",
       "10    1300\n",
       "dtype: int64"
      ]
     },
     "execution_count": 154,
     "metadata": {},
     "output_type": "execute_result"
    }
   ],
   "source": [
    "val = pd.Series([1700,1650,1300],index=[21,20,10])\n",
    "val"
   ]
  },
  {
   "cell_type": "code",
   "execution_count": 155,
   "id": "ff6fbea6",
   "metadata": {},
   "outputs": [],
   "source": [
    "df5.YAIM = val"
   ]
  },
  {
   "cell_type": "code",
   "execution_count": 156,
   "id": "89828f1b",
   "metadata": {},
   "outputs": [
    {
     "data": {
      "text/html": [
       "<div>\n",
       "<style scoped>\n",
       "    .dataframe tbody tr th:only-of-type {\n",
       "        vertical-align: middle;\n",
       "    }\n",
       "\n",
       "    .dataframe tbody tr th {\n",
       "        vertical-align: top;\n",
       "    }\n",
       "\n",
       "    .dataframe thead th {\n",
       "        text-align: right;\n",
       "    }\n",
       "</style>\n",
       "<table border=\"1\" class=\"dataframe\">\n",
       "  <thead>\n",
       "    <tr style=\"text-align: right;\">\n",
       "      <th></th>\n",
       "      <th>Yil</th>\n",
       "      <th>Temp</th>\n",
       "      <th>Aholi soni</th>\n",
       "      <th>YAIM</th>\n",
       "    </tr>\n",
       "  </thead>\n",
       "  <tbody>\n",
       "    <tr>\n",
       "      <th>21</th>\n",
       "      <td>2021</td>\n",
       "      <td>1.54</td>\n",
       "      <td>33.9</td>\n",
       "      <td>1700.0</td>\n",
       "    </tr>\n",
       "    <tr>\n",
       "      <th>20</th>\n",
       "      <td>2020</td>\n",
       "      <td>1.48</td>\n",
       "      <td>33.5</td>\n",
       "      <td>1650.0</td>\n",
       "    </tr>\n",
       "    <tr>\n",
       "      <th>19</th>\n",
       "      <td>2019</td>\n",
       "      <td>1.56</td>\n",
       "      <td>32.9</td>\n",
       "      <td>NaN</td>\n",
       "    </tr>\n",
       "    <tr>\n",
       "      <th>18</th>\n",
       "      <td>2018</td>\n",
       "      <td>1.62</td>\n",
       "      <td>32.5</td>\n",
       "      <td>NaN</td>\n",
       "    </tr>\n",
       "    <tr>\n",
       "      <th>17</th>\n",
       "      <td>2017</td>\n",
       "      <td>1.65</td>\n",
       "      <td>31.9</td>\n",
       "      <td>NaN</td>\n",
       "    </tr>\n",
       "    <tr>\n",
       "      <th>16</th>\n",
       "      <td>2016</td>\n",
       "      <td>1.66</td>\n",
       "      <td>31.4</td>\n",
       "      <td>NaN</td>\n",
       "    </tr>\n",
       "    <tr>\n",
       "      <th>15</th>\n",
       "      <td>2015</td>\n",
       "      <td>1.64</td>\n",
       "      <td>30.9</td>\n",
       "      <td>NaN</td>\n",
       "    </tr>\n",
       "    <tr>\n",
       "      <th>10</th>\n",
       "      <td>2010</td>\n",
       "      <td>1.53</td>\n",
       "      <td>28.5</td>\n",
       "      <td>1300.0</td>\n",
       "    </tr>\n",
       "  </tbody>\n",
       "</table>\n",
       "</div>"
      ],
      "text/plain": [
       "     Yil  Temp  Aholi soni    YAIM\n",
       "21  2021  1.54        33.9  1700.0\n",
       "20  2020  1.48        33.5  1650.0\n",
       "19  2019  1.56        32.9     NaN\n",
       "18  2018  1.62        32.5     NaN\n",
       "17  2017  1.65        31.9     NaN\n",
       "16  2016  1.66        31.4     NaN\n",
       "15  2015  1.64        30.9     NaN\n",
       "10  2010  1.53        28.5  1300.0"
      ]
     },
     "execution_count": 156,
     "metadata": {},
     "output_type": "execute_result"
    }
   ],
   "source": [
    "df5"
   ]
  },
  {
   "cell_type": "code",
   "execution_count": 159,
   "id": "d7a0de75",
   "metadata": {},
   "outputs": [
    {
     "data": {
      "text/plain": [
       "pandas.core.series.Series"
      ]
     },
     "execution_count": 159,
     "metadata": {},
     "output_type": "execute_result"
    }
   ],
   "source": [
    "type(df5.YAIM)"
   ]
  },
  {
   "cell_type": "code",
   "execution_count": 162,
   "id": "d5b83232",
   "metadata": {},
   "outputs": [],
   "source": [
    "val = [1700,1670,1600,1590,1400,1300,1350,1360]\n",
    "df5['YAIM'] = val"
   ]
  },
  {
   "cell_type": "code",
   "execution_count": 161,
   "id": "afe72437",
   "metadata": {},
   "outputs": [
    {
     "data": {
      "text/html": [
       "<div>\n",
       "<style scoped>\n",
       "    .dataframe tbody tr th:only-of-type {\n",
       "        vertical-align: middle;\n",
       "    }\n",
       "\n",
       "    .dataframe tbody tr th {\n",
       "        vertical-align: top;\n",
       "    }\n",
       "\n",
       "    .dataframe thead th {\n",
       "        text-align: right;\n",
       "    }\n",
       "</style>\n",
       "<table border=\"1\" class=\"dataframe\">\n",
       "  <thead>\n",
       "    <tr style=\"text-align: right;\">\n",
       "      <th></th>\n",
       "      <th>Yil</th>\n",
       "      <th>Temp</th>\n",
       "      <th>Aholi soni</th>\n",
       "      <th>YAIM</th>\n",
       "    </tr>\n",
       "  </thead>\n",
       "  <tbody>\n",
       "    <tr>\n",
       "      <th>21</th>\n",
       "      <td>2021</td>\n",
       "      <td>1.54</td>\n",
       "      <td>33.9</td>\n",
       "      <td>1700</td>\n",
       "    </tr>\n",
       "    <tr>\n",
       "      <th>20</th>\n",
       "      <td>2020</td>\n",
       "      <td>1.48</td>\n",
       "      <td>33.5</td>\n",
       "      <td>1670</td>\n",
       "    </tr>\n",
       "    <tr>\n",
       "      <th>19</th>\n",
       "      <td>2019</td>\n",
       "      <td>1.56</td>\n",
       "      <td>32.9</td>\n",
       "      <td>1600</td>\n",
       "    </tr>\n",
       "    <tr>\n",
       "      <th>18</th>\n",
       "      <td>2018</td>\n",
       "      <td>1.62</td>\n",
       "      <td>32.5</td>\n",
       "      <td>1590</td>\n",
       "    </tr>\n",
       "    <tr>\n",
       "      <th>17</th>\n",
       "      <td>2017</td>\n",
       "      <td>1.65</td>\n",
       "      <td>31.9</td>\n",
       "      <td>1400</td>\n",
       "    </tr>\n",
       "    <tr>\n",
       "      <th>16</th>\n",
       "      <td>2016</td>\n",
       "      <td>1.66</td>\n",
       "      <td>31.4</td>\n",
       "      <td>1300</td>\n",
       "    </tr>\n",
       "    <tr>\n",
       "      <th>15</th>\n",
       "      <td>2015</td>\n",
       "      <td>1.64</td>\n",
       "      <td>30.9</td>\n",
       "      <td>1350</td>\n",
       "    </tr>\n",
       "    <tr>\n",
       "      <th>10</th>\n",
       "      <td>2010</td>\n",
       "      <td>1.53</td>\n",
       "      <td>28.5</td>\n",
       "      <td>1360</td>\n",
       "    </tr>\n",
       "  </tbody>\n",
       "</table>\n",
       "</div>"
      ],
      "text/plain": [
       "     Yil  Temp  Aholi soni  YAIM\n",
       "21  2021  1.54        33.9  1700\n",
       "20  2020  1.48        33.5  1670\n",
       "19  2019  1.56        32.9  1600\n",
       "18  2018  1.62        32.5  1590\n",
       "17  2017  1.65        31.9  1400\n",
       "16  2016  1.66        31.4  1300\n",
       "15  2015  1.64        30.9  1350\n",
       "10  2010  1.53        28.5  1360"
      ]
     },
     "execution_count": 161,
     "metadata": {},
     "output_type": "execute_result"
    }
   ],
   "source": [
    "df5"
   ]
  },
  {
   "cell_type": "code",
   "execution_count": 163,
   "id": "bc5ff3de",
   "metadata": {},
   "outputs": [],
   "source": [
    "df5['1500+'] = df5.YAIM > 1500"
   ]
  },
  {
   "cell_type": "code",
   "execution_count": 164,
   "id": "6b2096ff",
   "metadata": {},
   "outputs": [
    {
     "data": {
      "text/html": [
       "<div>\n",
       "<style scoped>\n",
       "    .dataframe tbody tr th:only-of-type {\n",
       "        vertical-align: middle;\n",
       "    }\n",
       "\n",
       "    .dataframe tbody tr th {\n",
       "        vertical-align: top;\n",
       "    }\n",
       "\n",
       "    .dataframe thead th {\n",
       "        text-align: right;\n",
       "    }\n",
       "</style>\n",
       "<table border=\"1\" class=\"dataframe\">\n",
       "  <thead>\n",
       "    <tr style=\"text-align: right;\">\n",
       "      <th></th>\n",
       "      <th>Yil</th>\n",
       "      <th>Temp</th>\n",
       "      <th>Aholi soni</th>\n",
       "      <th>YAIM</th>\n",
       "      <th>1500+</th>\n",
       "    </tr>\n",
       "  </thead>\n",
       "  <tbody>\n",
       "    <tr>\n",
       "      <th>21</th>\n",
       "      <td>2021</td>\n",
       "      <td>1.54</td>\n",
       "      <td>33.9</td>\n",
       "      <td>1700</td>\n",
       "      <td>True</td>\n",
       "    </tr>\n",
       "    <tr>\n",
       "      <th>20</th>\n",
       "      <td>2020</td>\n",
       "      <td>1.48</td>\n",
       "      <td>33.5</td>\n",
       "      <td>1670</td>\n",
       "      <td>True</td>\n",
       "    </tr>\n",
       "    <tr>\n",
       "      <th>19</th>\n",
       "      <td>2019</td>\n",
       "      <td>1.56</td>\n",
       "      <td>32.9</td>\n",
       "      <td>1600</td>\n",
       "      <td>True</td>\n",
       "    </tr>\n",
       "    <tr>\n",
       "      <th>18</th>\n",
       "      <td>2018</td>\n",
       "      <td>1.62</td>\n",
       "      <td>32.5</td>\n",
       "      <td>1590</td>\n",
       "      <td>True</td>\n",
       "    </tr>\n",
       "    <tr>\n",
       "      <th>17</th>\n",
       "      <td>2017</td>\n",
       "      <td>1.65</td>\n",
       "      <td>31.9</td>\n",
       "      <td>1400</td>\n",
       "      <td>False</td>\n",
       "    </tr>\n",
       "    <tr>\n",
       "      <th>16</th>\n",
       "      <td>2016</td>\n",
       "      <td>1.66</td>\n",
       "      <td>31.4</td>\n",
       "      <td>1300</td>\n",
       "      <td>False</td>\n",
       "    </tr>\n",
       "    <tr>\n",
       "      <th>15</th>\n",
       "      <td>2015</td>\n",
       "      <td>1.64</td>\n",
       "      <td>30.9</td>\n",
       "      <td>1350</td>\n",
       "      <td>False</td>\n",
       "    </tr>\n",
       "    <tr>\n",
       "      <th>10</th>\n",
       "      <td>2010</td>\n",
       "      <td>1.53</td>\n",
       "      <td>28.5</td>\n",
       "      <td>1360</td>\n",
       "      <td>False</td>\n",
       "    </tr>\n",
       "  </tbody>\n",
       "</table>\n",
       "</div>"
      ],
      "text/plain": [
       "     Yil  Temp  Aholi soni  YAIM  1500+\n",
       "21  2021  1.54        33.9  1700   True\n",
       "20  2020  1.48        33.5  1670   True\n",
       "19  2019  1.56        32.9  1600   True\n",
       "18  2018  1.62        32.5  1590   True\n",
       "17  2017  1.65        31.9  1400  False\n",
       "16  2016  1.66        31.4  1300  False\n",
       "15  2015  1.64        30.9  1350  False\n",
       "10  2010  1.53        28.5  1360  False"
      ]
     },
     "execution_count": 164,
     "metadata": {},
     "output_type": "execute_result"
    }
   ],
   "source": [
    "df5"
   ]
  },
  {
   "cell_type": "code",
   "execution_count": 165,
   "id": "565274ce",
   "metadata": {},
   "outputs": [],
   "source": [
    "del df5['1500+']"
   ]
  },
  {
   "cell_type": "code",
   "execution_count": 166,
   "id": "617af78f",
   "metadata": {},
   "outputs": [
    {
     "data": {
      "text/html": [
       "<div>\n",
       "<style scoped>\n",
       "    .dataframe tbody tr th:only-of-type {\n",
       "        vertical-align: middle;\n",
       "    }\n",
       "\n",
       "    .dataframe tbody tr th {\n",
       "        vertical-align: top;\n",
       "    }\n",
       "\n",
       "    .dataframe thead th {\n",
       "        text-align: right;\n",
       "    }\n",
       "</style>\n",
       "<table border=\"1\" class=\"dataframe\">\n",
       "  <thead>\n",
       "    <tr style=\"text-align: right;\">\n",
       "      <th></th>\n",
       "      <th>Yil</th>\n",
       "      <th>Temp</th>\n",
       "      <th>Aholi soni</th>\n",
       "      <th>YAIM</th>\n",
       "    </tr>\n",
       "  </thead>\n",
       "  <tbody>\n",
       "    <tr>\n",
       "      <th>21</th>\n",
       "      <td>2021</td>\n",
       "      <td>1.54</td>\n",
       "      <td>33.9</td>\n",
       "      <td>1700</td>\n",
       "    </tr>\n",
       "    <tr>\n",
       "      <th>20</th>\n",
       "      <td>2020</td>\n",
       "      <td>1.48</td>\n",
       "      <td>33.5</td>\n",
       "      <td>1670</td>\n",
       "    </tr>\n",
       "    <tr>\n",
       "      <th>19</th>\n",
       "      <td>2019</td>\n",
       "      <td>1.56</td>\n",
       "      <td>32.9</td>\n",
       "      <td>1600</td>\n",
       "    </tr>\n",
       "    <tr>\n",
       "      <th>18</th>\n",
       "      <td>2018</td>\n",
       "      <td>1.62</td>\n",
       "      <td>32.5</td>\n",
       "      <td>1590</td>\n",
       "    </tr>\n",
       "    <tr>\n",
       "      <th>17</th>\n",
       "      <td>2017</td>\n",
       "      <td>1.65</td>\n",
       "      <td>31.9</td>\n",
       "      <td>1400</td>\n",
       "    </tr>\n",
       "    <tr>\n",
       "      <th>16</th>\n",
       "      <td>2016</td>\n",
       "      <td>1.66</td>\n",
       "      <td>31.4</td>\n",
       "      <td>1300</td>\n",
       "    </tr>\n",
       "    <tr>\n",
       "      <th>15</th>\n",
       "      <td>2015</td>\n",
       "      <td>1.64</td>\n",
       "      <td>30.9</td>\n",
       "      <td>1350</td>\n",
       "    </tr>\n",
       "    <tr>\n",
       "      <th>10</th>\n",
       "      <td>2010</td>\n",
       "      <td>1.53</td>\n",
       "      <td>28.5</td>\n",
       "      <td>1360</td>\n",
       "    </tr>\n",
       "  </tbody>\n",
       "</table>\n",
       "</div>"
      ],
      "text/plain": [
       "     Yil  Temp  Aholi soni  YAIM\n",
       "21  2021  1.54        33.9  1700\n",
       "20  2020  1.48        33.5  1670\n",
       "19  2019  1.56        32.9  1600\n",
       "18  2018  1.62        32.5  1590\n",
       "17  2017  1.65        31.9  1400\n",
       "16  2016  1.66        31.4  1300\n",
       "15  2015  1.64        30.9  1350\n",
       "10  2010  1.53        28.5  1360"
      ]
     },
     "execution_count": 166,
     "metadata": {},
     "output_type": "execute_result"
    }
   ],
   "source": [
    "df5"
   ]
  },
  {
   "cell_type": "code",
   "execution_count": null,
   "id": "6444c942",
   "metadata": {},
   "outputs": [],
   "source": [
    "data = {\n",
    "    'Uzbekistan':{2021:33.9, 2020:33.5, 2019:32.9, 2018:32.5, 2017:31.9},\n",
    "    'Kazakhstan':{2021:18.9, 2020:18.7, 2019:18.5, 2018:18.3, 2017:18.1, 2016:17.8}\n",
    "}"
   ]
  },
  {
   "cell_type": "code",
   "execution_count": 169,
   "id": "a1ac9776",
   "metadata": {},
   "outputs": [
    {
     "data": {
      "text/plain": [
       "{'Uzbekistan': {2021: 33.9, 2020: 33.5, 2019: 32.9, 2018: 32.5, 2017: 31.9},\n",
       " 'Kazakhstan': {2021: 18.9,\n",
       "  2020: 18.7,\n",
       "  2019: 18.5,\n",
       "  2018: 18.3,\n",
       "  2017: 18.1,\n",
       "  2016: 17.8}}"
      ]
     },
     "execution_count": 169,
     "metadata": {},
     "output_type": "execute_result"
    }
   ],
   "source": [
    "data"
   ]
  },
  {
   "cell_type": "code",
   "execution_count": 191,
   "id": "bc46a4f0",
   "metadata": {},
   "outputs": [
    {
     "data": {
      "text/html": [
       "<div>\n",
       "<style scoped>\n",
       "    .dataframe tbody tr th:only-of-type {\n",
       "        vertical-align: middle;\n",
       "    }\n",
       "\n",
       "    .dataframe tbody tr th {\n",
       "        vertical-align: top;\n",
       "    }\n",
       "\n",
       "    .dataframe thead th {\n",
       "        text-align: right;\n",
       "    }\n",
       "</style>\n",
       "<table border=\"1\" class=\"dataframe\">\n",
       "  <thead>\n",
       "    <tr style=\"text-align: right;\">\n",
       "      <th></th>\n",
       "      <th>Uzbekistan</th>\n",
       "      <th>Kazakhstan</th>\n",
       "    </tr>\n",
       "  </thead>\n",
       "  <tbody>\n",
       "    <tr>\n",
       "      <th>2021</th>\n",
       "      <td>33.9</td>\n",
       "      <td>18.9</td>\n",
       "    </tr>\n",
       "    <tr>\n",
       "      <th>2020</th>\n",
       "      <td>33.5</td>\n",
       "      <td>18.7</td>\n",
       "    </tr>\n",
       "    <tr>\n",
       "      <th>2019</th>\n",
       "      <td>32.9</td>\n",
       "      <td>18.5</td>\n",
       "    </tr>\n",
       "    <tr>\n",
       "      <th>2018</th>\n",
       "      <td>32.5</td>\n",
       "      <td>18.3</td>\n",
       "    </tr>\n",
       "    <tr>\n",
       "      <th>2017</th>\n",
       "      <td>31.9</td>\n",
       "      <td>18.1</td>\n",
       "    </tr>\n",
       "    <tr>\n",
       "      <th>2016</th>\n",
       "      <td>NaN</td>\n",
       "      <td>17.8</td>\n",
       "    </tr>\n",
       "  </tbody>\n",
       "</table>\n",
       "</div>"
      ],
      "text/plain": [
       "      Uzbekistan  Kazakhstan\n",
       "2021        33.9        18.9\n",
       "2020        33.5        18.7\n",
       "2019        32.9        18.5\n",
       "2018        32.5        18.3\n",
       "2017        31.9        18.1\n",
       "2016         NaN        17.8"
      ]
     },
     "execution_count": 191,
     "metadata": {},
     "output_type": "execute_result"
    }
   ],
   "source": [
    "df2 = pd.DataFrame(data)\n",
    "df2"
   ]
  },
  {
   "cell_type": "code",
   "execution_count": 193,
   "id": "d1e0b7bb",
   "metadata": {},
   "outputs": [
    {
     "data": {
      "text/plain": [
       "array([[33.9, 18.9],\n",
       "       [33.5, 18.7],\n",
       "       [32.9, 18.5],\n",
       "       [32.5, 18.3],\n",
       "       [31.9, 18.1],\n",
       "       [ nan, 17.8]])"
      ]
     },
     "execution_count": 193,
     "metadata": {},
     "output_type": "execute_result"
    }
   ],
   "source": [
    "df2.values"
   ]
  },
  {
   "cell_type": "code",
   "execution_count": 186,
   "id": "995e722d",
   "metadata": {},
   "outputs": [
    {
     "data": {
      "text/html": [
       "<div>\n",
       "<style scoped>\n",
       "    .dataframe tbody tr th:only-of-type {\n",
       "        vertical-align: middle;\n",
       "    }\n",
       "\n",
       "    .dataframe tbody tr th {\n",
       "        vertical-align: top;\n",
       "    }\n",
       "\n",
       "    .dataframe thead th {\n",
       "        text-align: right;\n",
       "    }\n",
       "</style>\n",
       "<table border=\"1\" class=\"dataframe\">\n",
       "  <thead>\n",
       "    <tr style=\"text-align: right;\">\n",
       "      <th></th>\n",
       "      <th>Uzbekistan</th>\n",
       "      <th>Kazakhstan</th>\n",
       "    </tr>\n",
       "    <tr>\n",
       "      <th>Yil</th>\n",
       "      <th></th>\n",
       "      <th></th>\n",
       "    </tr>\n",
       "  </thead>\n",
       "  <tbody>\n",
       "    <tr>\n",
       "      <th>2021</th>\n",
       "      <td>33.9</td>\n",
       "      <td>18.9</td>\n",
       "    </tr>\n",
       "    <tr>\n",
       "      <th>2020</th>\n",
       "      <td>33.5</td>\n",
       "      <td>18.7</td>\n",
       "    </tr>\n",
       "    <tr>\n",
       "      <th>2019</th>\n",
       "      <td>32.9</td>\n",
       "      <td>18.5</td>\n",
       "    </tr>\n",
       "    <tr>\n",
       "      <th>2018</th>\n",
       "      <td>32.5</td>\n",
       "      <td>18.3</td>\n",
       "    </tr>\n",
       "    <tr>\n",
       "      <th>2017</th>\n",
       "      <td>31.9</td>\n",
       "      <td>18.1</td>\n",
       "    </tr>\n",
       "    <tr>\n",
       "      <th>2016</th>\n",
       "      <td>NaN</td>\n",
       "      <td>17.8</td>\n",
       "    </tr>\n",
       "  </tbody>\n",
       "</table>\n",
       "</div>"
      ],
      "text/plain": [
       "      Uzbekistan  Kazakhstan\n",
       "Yil                         \n",
       "2021        33.9        18.9\n",
       "2020        33.5        18.7\n",
       "2019        32.9        18.5\n",
       "2018        32.5        18.3\n",
       "2017        31.9        18.1\n",
       "2016         NaN        17.8"
      ]
     },
     "execution_count": 186,
     "metadata": {},
     "output_type": "execute_result"
    }
   ],
   "source": [
    "df2.index.name = 'Yil'\n",
    "df2"
   ]
  },
  {
   "cell_type": "code",
   "execution_count": 195,
   "id": "825e8b90",
   "metadata": {},
   "outputs": [
    {
     "data": {
      "text/html": [
       "<div>\n",
       "<style scoped>\n",
       "    .dataframe tbody tr th:only-of-type {\n",
       "        vertical-align: middle;\n",
       "    }\n",
       "\n",
       "    .dataframe tbody tr th {\n",
       "        vertical-align: top;\n",
       "    }\n",
       "\n",
       "    .dataframe thead th {\n",
       "        text-align: right;\n",
       "    }\n",
       "</style>\n",
       "<table border=\"1\" class=\"dataframe\">\n",
       "  <thead>\n",
       "    <tr style=\"text-align: right;\">\n",
       "      <th></th>\n",
       "      <th>Uzbekistan</th>\n",
       "      <th>Kazakhstan</th>\n",
       "    </tr>\n",
       "  </thead>\n",
       "  <tbody>\n",
       "    <tr>\n",
       "      <th>2021</th>\n",
       "      <td>33.9</td>\n",
       "      <td>18.9</td>\n",
       "    </tr>\n",
       "    <tr>\n",
       "      <th>2019</th>\n",
       "      <td>32.9</td>\n",
       "      <td>18.5</td>\n",
       "    </tr>\n",
       "    <tr>\n",
       "      <th>2017</th>\n",
       "      <td>31.9</td>\n",
       "      <td>18.1</td>\n",
       "    </tr>\n",
       "  </tbody>\n",
       "</table>\n",
       "</div>"
      ],
      "text/plain": [
       "      Uzbekistan  Kazakhstan\n",
       "2021        33.9        18.9\n",
       "2019        32.9        18.5\n",
       "2017        31.9        18.1"
      ]
     },
     "execution_count": 195,
     "metadata": {},
     "output_type": "execute_result"
    }
   ],
   "source": [
    "df2 = pd.DataFrame(data,index=[2021,2019,2017])\n",
    "df2"
   ]
  },
  {
   "cell_type": "code",
   "execution_count": 196,
   "id": "62339d5c",
   "metadata": {},
   "outputs": [
    {
     "data": {
      "text/html": [
       "<div>\n",
       "<style scoped>\n",
       "    .dataframe tbody tr th:only-of-type {\n",
       "        vertical-align: middle;\n",
       "    }\n",
       "\n",
       "    .dataframe tbody tr th {\n",
       "        vertical-align: top;\n",
       "    }\n",
       "\n",
       "    .dataframe thead th {\n",
       "        text-align: right;\n",
       "    }\n",
       "</style>\n",
       "<table border=\"1\" class=\"dataframe\">\n",
       "  <thead>\n",
       "    <tr style=\"text-align: right;\">\n",
       "      <th></th>\n",
       "      <th>2021</th>\n",
       "      <th>2019</th>\n",
       "      <th>2017</th>\n",
       "    </tr>\n",
       "  </thead>\n",
       "  <tbody>\n",
       "    <tr>\n",
       "      <th>Uzbekistan</th>\n",
       "      <td>33.9</td>\n",
       "      <td>32.9</td>\n",
       "      <td>31.9</td>\n",
       "    </tr>\n",
       "    <tr>\n",
       "      <th>Kazakhstan</th>\n",
       "      <td>18.9</td>\n",
       "      <td>18.5</td>\n",
       "      <td>18.1</td>\n",
       "    </tr>\n",
       "  </tbody>\n",
       "</table>\n",
       "</div>"
      ],
      "text/plain": [
       "            2021  2019  2017\n",
       "Uzbekistan  33.9  32.9  31.9\n",
       "Kazakhstan  18.9  18.5  18.1"
      ]
     },
     "execution_count": 196,
     "metadata": {},
     "output_type": "execute_result"
    }
   ],
   "source": [
    "df2.T"
   ]
  },
  {
   "cell_type": "code",
   "execution_count": 199,
   "id": "29234df1",
   "metadata": {},
   "outputs": [
    {
     "data": {
      "text/plain": [
       "array([[33.9, 18.9],\n",
       "       [32.9, 18.5],\n",
       "       [31.9, 18.1]])"
      ]
     },
     "execution_count": 199,
     "metadata": {},
     "output_type": "execute_result"
    }
   ],
   "source": [
    "arr = df2.values\n",
    "arr"
   ]
  },
  {
   "cell_type": "code",
   "execution_count": 200,
   "id": "09d48031",
   "metadata": {},
   "outputs": [
    {
     "data": {
      "text/plain": [
       "numpy.ndarray"
      ]
     },
     "execution_count": 200,
     "metadata": {},
     "output_type": "execute_result"
    }
   ],
   "source": [
    "type(arr)"
   ]
  },
  {
   "cell_type": "code",
   "execution_count": 9,
   "id": "3f932e7b",
   "metadata": {},
   "outputs": [],
   "source": [
    "import numpy as np\n",
    "import pandas as pd"
   ]
  },
  {
   "cell_type": "code",
   "execution_count": 11,
   "id": "071df91f",
   "metadata": {},
   "outputs": [
    {
     "data": {
      "text/html": [
       "<div>\n",
       "<style scoped>\n",
       "    .dataframe tbody tr th:only-of-type {\n",
       "        vertical-align: middle;\n",
       "    }\n",
       "\n",
       "    .dataframe tbody tr th {\n",
       "        vertical-align: top;\n",
       "    }\n",
       "\n",
       "    .dataframe thead th {\n",
       "        text-align: right;\n",
       "    }\n",
       "</style>\n",
       "<table border=\"1\" class=\"dataframe\">\n",
       "  <thead>\n",
       "    <tr style=\"text-align: right;\">\n",
       "      <th></th>\n",
       "      <th>Yil</th>\n",
       "      <th>Aholi soni</th>\n",
       "      <th>Temp</th>\n",
       "    </tr>\n",
       "  </thead>\n",
       "  <tbody>\n",
       "    <tr>\n",
       "      <th>0</th>\n",
       "      <td>2021</td>\n",
       "      <td>33.9</td>\n",
       "      <td>1.54</td>\n",
       "    </tr>\n",
       "    <tr>\n",
       "      <th>1</th>\n",
       "      <td>2020</td>\n",
       "      <td>33.5</td>\n",
       "      <td>1.48</td>\n",
       "    </tr>\n",
       "    <tr>\n",
       "      <th>2</th>\n",
       "      <td>2019</td>\n",
       "      <td>32.9</td>\n",
       "      <td>1.56</td>\n",
       "    </tr>\n",
       "    <tr>\n",
       "      <th>3</th>\n",
       "      <td>2018</td>\n",
       "      <td>32.5</td>\n",
       "      <td>1.62</td>\n",
       "    </tr>\n",
       "    <tr>\n",
       "      <th>4</th>\n",
       "      <td>2017</td>\n",
       "      <td>31.9</td>\n",
       "      <td>1.65</td>\n",
       "    </tr>\n",
       "    <tr>\n",
       "      <th>5</th>\n",
       "      <td>2016</td>\n",
       "      <td>31.4</td>\n",
       "      <td>1.66</td>\n",
       "    </tr>\n",
       "    <tr>\n",
       "      <th>6</th>\n",
       "      <td>2015</td>\n",
       "      <td>30.9</td>\n",
       "      <td>1.64</td>\n",
       "    </tr>\n",
       "    <tr>\n",
       "      <th>7</th>\n",
       "      <td>2010</td>\n",
       "      <td>28.5</td>\n",
       "      <td>1.53</td>\n",
       "    </tr>\n",
       "  </tbody>\n",
       "</table>\n",
       "</div>"
      ],
      "text/plain": [
       "    Yil  Aholi soni  Temp\n",
       "0  2021        33.9  1.54\n",
       "1  2020        33.5  1.48\n",
       "2  2019        32.9  1.56\n",
       "3  2018        32.5  1.62\n",
       "4  2017        31.9  1.65\n",
       "5  2016        31.4  1.66\n",
       "6  2015        30.9  1.64\n",
       "7  2010        28.5  1.53"
      ]
     },
     "execution_count": 11,
     "metadata": {},
     "output_type": "execute_result"
    }
   ],
   "source": [
    "data = {'Yil':[2021, 2020, 2019, 2018, 2017, 2016, 2015, 2010],\n",
    "       'Aholi soni':[33.9, 33.5, 32.9, 32.5, 31.9, 31.4, 30.9, 28.5],\n",
    "       \"Temp\":[1.54, 1.48, 1.56, 1.62, 1.65, 1.66, 1.64, 1.53]}\n",
    "df = pd.DataFrame(data)\n",
    "df"
   ]
  },
  {
   "cell_type": "code",
   "execution_count": 15,
   "id": "0564eb6c",
   "metadata": {},
   "outputs": [
    {
     "data": {
      "text/html": [
       "<div>\n",
       "<style scoped>\n",
       "    .dataframe tbody tr th:only-of-type {\n",
       "        vertical-align: middle;\n",
       "    }\n",
       "\n",
       "    .dataframe tbody tr th {\n",
       "        vertical-align: top;\n",
       "    }\n",
       "\n",
       "    .dataframe thead th {\n",
       "        text-align: right;\n",
       "    }\n",
       "</style>\n",
       "<table border=\"1\" class=\"dataframe\">\n",
       "  <thead>\n",
       "    <tr style=\"text-align: right;\">\n",
       "      <th></th>\n",
       "      <th>Yil</th>\n",
       "      <th>Temp</th>\n",
       "      <th>Aholi soni</th>\n",
       "      <th>YAIM</th>\n",
       "    </tr>\n",
       "  </thead>\n",
       "  <tbody>\n",
       "    <tr>\n",
       "      <th>21</th>\n",
       "      <td>2021</td>\n",
       "      <td>1.54</td>\n",
       "      <td>33.9</td>\n",
       "      <td>NaN</td>\n",
       "    </tr>\n",
       "    <tr>\n",
       "      <th>20</th>\n",
       "      <td>2020</td>\n",
       "      <td>1.48</td>\n",
       "      <td>33.5</td>\n",
       "      <td>NaN</td>\n",
       "    </tr>\n",
       "    <tr>\n",
       "      <th>19</th>\n",
       "      <td>2019</td>\n",
       "      <td>1.56</td>\n",
       "      <td>32.9</td>\n",
       "      <td>NaN</td>\n",
       "    </tr>\n",
       "    <tr>\n",
       "      <th>18</th>\n",
       "      <td>2018</td>\n",
       "      <td>1.62</td>\n",
       "      <td>32.5</td>\n",
       "      <td>NaN</td>\n",
       "    </tr>\n",
       "    <tr>\n",
       "      <th>17</th>\n",
       "      <td>2017</td>\n",
       "      <td>1.65</td>\n",
       "      <td>31.9</td>\n",
       "      <td>NaN</td>\n",
       "    </tr>\n",
       "    <tr>\n",
       "      <th>16</th>\n",
       "      <td>2016</td>\n",
       "      <td>1.66</td>\n",
       "      <td>31.4</td>\n",
       "      <td>NaN</td>\n",
       "    </tr>\n",
       "    <tr>\n",
       "      <th>15</th>\n",
       "      <td>2015</td>\n",
       "      <td>1.64</td>\n",
       "      <td>30.9</td>\n",
       "      <td>NaN</td>\n",
       "    </tr>\n",
       "    <tr>\n",
       "      <th>10</th>\n",
       "      <td>2010</td>\n",
       "      <td>1.53</td>\n",
       "      <td>28.5</td>\n",
       "      <td>NaN</td>\n",
       "    </tr>\n",
       "  </tbody>\n",
       "</table>\n",
       "</div>"
      ],
      "text/plain": [
       "     Yil  Temp  Aholi soni YAIM\n",
       "21  2021  1.54        33.9  NaN\n",
       "20  2020  1.48        33.5  NaN\n",
       "19  2019  1.56        32.9  NaN\n",
       "18  2018  1.62        32.5  NaN\n",
       "17  2017  1.65        31.9  NaN\n",
       "16  2016  1.66        31.4  NaN\n",
       "15  2015  1.64        30.9  NaN\n",
       "10  2010  1.53        28.5  NaN"
      ]
     },
     "execution_count": 15,
     "metadata": {},
     "output_type": "execute_result"
    }
   ],
   "source": [
    "df = pd.DataFrame(data,columns=['Yil','Temp','Aholi soni','YAIM'],index=[21,20,19,18,17,16,15,10])\n",
    "df"
   ]
  },
  {
   "cell_type": "code",
   "execution_count": 16,
   "id": "9bc0bc0b",
   "metadata": {},
   "outputs": [
    {
     "data": {
      "text/plain": [
       "Index([21, 20, 19, 18, 17, 16, 15, 10], dtype='int64')"
      ]
     },
     "execution_count": 16,
     "metadata": {},
     "output_type": "execute_result"
    }
   ],
   "source": [
    "df.index"
   ]
  },
  {
   "cell_type": "code",
   "execution_count": 17,
   "id": "fd2b0efa",
   "metadata": {},
   "outputs": [
    {
     "data": {
      "text/plain": [
       "Index(['Yil', 'Temp', 'Aholi soni', 'YAIM'], dtype='object')"
      ]
     },
     "execution_count": 17,
     "metadata": {},
     "output_type": "execute_result"
    }
   ],
   "source": [
    "df.columns"
   ]
  },
  {
   "cell_type": "code",
   "execution_count": 18,
   "id": "6e64dd65",
   "metadata": {},
   "outputs": [],
   "source": [
    "indeks = df.columns"
   ]
  },
  {
   "cell_type": "code",
   "execution_count": 19,
   "id": "0bc87134",
   "metadata": {},
   "outputs": [
    {
     "data": {
      "text/plain": [
       "Index(['Yil', 'Temp', 'Aholi soni', 'YAIM'], dtype='object')"
      ]
     },
     "execution_count": 19,
     "metadata": {},
     "output_type": "execute_result"
    }
   ],
   "source": [
    "indeks"
   ]
  },
  {
   "cell_type": "code",
   "execution_count": 21,
   "id": "09834ea2",
   "metadata": {},
   "outputs": [
    {
     "data": {
      "text/plain": [
       "True"
      ]
     },
     "execution_count": 21,
     "metadata": {},
     "output_type": "execute_result"
    }
   ],
   "source": [
    "'Temp' in indeks"
   ]
  },
  {
   "cell_type": "code",
   "execution_count": 25,
   "id": "70fac801",
   "metadata": {},
   "outputs": [],
   "source": [
    "data = {\n",
    "    'Uzbekistan':{2021:33.9, 2020:33.5, 2019:32.9, 2018:32.5, 2017:31.9},\n",
    "    'Kazakhstan':{2021:18.9, 2020:18.7, 2019:18.5, 2018:18.3, 2017:18.1, 2016:17.8}\n",
    "}\n",
    "df2 = pd.DataFrame(data)"
   ]
  },
  {
   "cell_type": "code",
   "execution_count": 26,
   "id": "9c08ceb0",
   "metadata": {},
   "outputs": [
    {
     "data": {
      "text/html": [
       "<div>\n",
       "<style scoped>\n",
       "    .dataframe tbody tr th:only-of-type {\n",
       "        vertical-align: middle;\n",
       "    }\n",
       "\n",
       "    .dataframe tbody tr th {\n",
       "        vertical-align: top;\n",
       "    }\n",
       "\n",
       "    .dataframe thead th {\n",
       "        text-align: right;\n",
       "    }\n",
       "</style>\n",
       "<table border=\"1\" class=\"dataframe\">\n",
       "  <thead>\n",
       "    <tr style=\"text-align: right;\">\n",
       "      <th></th>\n",
       "      <th>Uzbekistan</th>\n",
       "      <th>Kazakhstan</th>\n",
       "    </tr>\n",
       "  </thead>\n",
       "  <tbody>\n",
       "    <tr>\n",
       "      <th>2021</th>\n",
       "      <td>33.9</td>\n",
       "      <td>18.9</td>\n",
       "    </tr>\n",
       "    <tr>\n",
       "      <th>2019</th>\n",
       "      <td>32.9</td>\n",
       "      <td>18.5</td>\n",
       "    </tr>\n",
       "    <tr>\n",
       "      <th>2017</th>\n",
       "      <td>31.9</td>\n",
       "      <td>18.1</td>\n",
       "    </tr>\n",
       "  </tbody>\n",
       "</table>\n",
       "</div>"
      ],
      "text/plain": [
       "      Uzbekistan  Kazakhstan\n",
       "2021        33.9        18.9\n",
       "2019        32.9        18.5\n",
       "2017        31.9        18.1"
      ]
     },
     "execution_count": 26,
     "metadata": {},
     "output_type": "execute_result"
    }
   ],
   "source": [
    "df2 = pd.DataFrame(data,index=[2021,2019,2017])\n",
    "df2"
   ]
  },
  {
   "cell_type": "code",
   "execution_count": 27,
   "id": "158a8f09",
   "metadata": {},
   "outputs": [
    {
     "data": {
      "text/plain": [
       "False"
      ]
     },
     "execution_count": 27,
     "metadata": {},
     "output_type": "execute_result"
    }
   ],
   "source": [
    "'Tajik' in df2.columns"
   ]
  },
  {
   "cell_type": "code",
   "execution_count": 29,
   "id": "4b026524",
   "metadata": {},
   "outputs": [
    {
     "data": {
      "text/plain": [
       "True"
      ]
     },
     "execution_count": 29,
     "metadata": {},
     "output_type": "execute_result"
    }
   ],
   "source": [
    "2021 in df2.index"
   ]
  },
  {
   "cell_type": "code",
   "execution_count": 30,
   "id": "a150256e",
   "metadata": {},
   "outputs": [
    {
     "data": {
      "text/plain": [
       "'Yil'"
      ]
     },
     "execution_count": 30,
     "metadata": {},
     "output_type": "execute_result"
    }
   ],
   "source": [
    "indeks[0]"
   ]
  },
  {
   "cell_type": "code",
   "execution_count": 31,
   "id": "df6f5c48",
   "metadata": {},
   "outputs": [
    {
     "data": {
      "text/plain": [
       "Index(['Aholi soni', 'YAIM'], dtype='object')"
      ]
     },
     "execution_count": 31,
     "metadata": {},
     "output_type": "execute_result"
    }
   ],
   "source": [
    "indeks[2:4]"
   ]
  },
  {
   "cell_type": "code",
   "execution_count": 2,
   "id": "7a67ea4f",
   "metadata": {},
   "outputs": [],
   "source": [
    "import numpy as np\n",
    "import pandas as pd"
   ]
  },
  {
   "cell_type": "code",
   "execution_count": 3,
   "id": "7dc2fa73",
   "metadata": {},
   "outputs": [],
   "source": [
    "uz = {2020:33.5, 2019:32.9, 2018:32.5, 2017:31.9, 2016:31.4, 2015:30.9}\n",
    "kz = {2020:18.8, 2019:18.5, 2018:18.3, 2017:18.1, 2016:17.8, 2015:17.6}\n",
    "tj = {2020:9.5, 2019:9.3, 2018:9.1, 2017:8.9, 2016:8.7, 2015:8.5}\n",
    "kg = {2020:6.5, 2019:6.4, 2018:6.3, 2017:6.2, 2016:6.1, 2015:6.0}\n",
    "tr = {2020:6.0, 2019:5.9, 2018:5.9, 2017:5.8, 2016:5.6, 2015:5.6}\n",
    "\n",
    "\n",
    "df = pd.DataFrame(\n",
    "    {'Uzbekistan':uz,\n",
    "     'Kazakhstan':kz,\n",
    "     'Tajikistan':tj,\n",
    "     'Kyrgizstan':kg,\n",
    "     'Turkmenistan':tr\n",
    "    }\n",
    ")"
   ]
  },
  {
   "cell_type": "code",
   "execution_count": 4,
   "id": "a1a83d1b",
   "metadata": {},
   "outputs": [
    {
     "data": {
      "text/html": [
       "<div>\n",
       "<style scoped>\n",
       "    .dataframe tbody tr th:only-of-type {\n",
       "        vertical-align: middle;\n",
       "    }\n",
       "\n",
       "    .dataframe tbody tr th {\n",
       "        vertical-align: top;\n",
       "    }\n",
       "\n",
       "    .dataframe thead th {\n",
       "        text-align: right;\n",
       "    }\n",
       "</style>\n",
       "<table border=\"1\" class=\"dataframe\">\n",
       "  <thead>\n",
       "    <tr style=\"text-align: right;\">\n",
       "      <th></th>\n",
       "      <th>Uzbekistan</th>\n",
       "      <th>Kazakhstan</th>\n",
       "      <th>Tajikistan</th>\n",
       "      <th>Kyrgizstan</th>\n",
       "      <th>Turkmenistan</th>\n",
       "    </tr>\n",
       "  </thead>\n",
       "  <tbody>\n",
       "    <tr>\n",
       "      <th>2020</th>\n",
       "      <td>33.5</td>\n",
       "      <td>18.8</td>\n",
       "      <td>9.5</td>\n",
       "      <td>6.5</td>\n",
       "      <td>6.0</td>\n",
       "    </tr>\n",
       "    <tr>\n",
       "      <th>2019</th>\n",
       "      <td>32.9</td>\n",
       "      <td>18.5</td>\n",
       "      <td>9.3</td>\n",
       "      <td>6.4</td>\n",
       "      <td>5.9</td>\n",
       "    </tr>\n",
       "    <tr>\n",
       "      <th>2018</th>\n",
       "      <td>32.5</td>\n",
       "      <td>18.3</td>\n",
       "      <td>9.1</td>\n",
       "      <td>6.3</td>\n",
       "      <td>5.9</td>\n",
       "    </tr>\n",
       "    <tr>\n",
       "      <th>2017</th>\n",
       "      <td>31.9</td>\n",
       "      <td>18.1</td>\n",
       "      <td>8.9</td>\n",
       "      <td>6.2</td>\n",
       "      <td>5.8</td>\n",
       "    </tr>\n",
       "    <tr>\n",
       "      <th>2016</th>\n",
       "      <td>31.4</td>\n",
       "      <td>17.8</td>\n",
       "      <td>8.7</td>\n",
       "      <td>6.1</td>\n",
       "      <td>5.6</td>\n",
       "    </tr>\n",
       "    <tr>\n",
       "      <th>2015</th>\n",
       "      <td>30.9</td>\n",
       "      <td>17.6</td>\n",
       "      <td>8.5</td>\n",
       "      <td>6.0</td>\n",
       "      <td>5.6</td>\n",
       "    </tr>\n",
       "  </tbody>\n",
       "</table>\n",
       "</div>"
      ],
      "text/plain": [
       "      Uzbekistan  Kazakhstan  Tajikistan  Kyrgizstan  Turkmenistan\n",
       "2020        33.5        18.8         9.5         6.5           6.0\n",
       "2019        32.9        18.5         9.3         6.4           5.9\n",
       "2018        32.5        18.3         9.1         6.3           5.9\n",
       "2017        31.9        18.1         8.9         6.2           5.8\n",
       "2016        31.4        17.8         8.7         6.1           5.6\n",
       "2015        30.9        17.6         8.5         6.0           5.6"
      ]
     },
     "execution_count": 4,
     "metadata": {},
     "output_type": "execute_result"
    }
   ],
   "source": [
    "df"
   ]
  },
  {
   "cell_type": "code",
   "execution_count": 6,
   "id": "6b4fdc00",
   "metadata": {},
   "outputs": [
    {
     "data": {
      "text/html": [
       "<div>\n",
       "<style scoped>\n",
       "    .dataframe tbody tr th:only-of-type {\n",
       "        vertical-align: middle;\n",
       "    }\n",
       "\n",
       "    .dataframe tbody tr th {\n",
       "        vertical-align: top;\n",
       "    }\n",
       "\n",
       "    .dataframe thead th {\n",
       "        text-align: right;\n",
       "    }\n",
       "</style>\n",
       "<table border=\"1\" class=\"dataframe\">\n",
       "  <thead>\n",
       "    <tr style=\"text-align: right;\">\n",
       "      <th></th>\n",
       "      <th>Uzbekistan</th>\n",
       "    </tr>\n",
       "  </thead>\n",
       "  <tbody>\n",
       "    <tr>\n",
       "      <th>2020</th>\n",
       "      <td>33.5</td>\n",
       "    </tr>\n",
       "    <tr>\n",
       "      <th>2019</th>\n",
       "      <td>32.9</td>\n",
       "    </tr>\n",
       "    <tr>\n",
       "      <th>2018</th>\n",
       "      <td>32.5</td>\n",
       "    </tr>\n",
       "    <tr>\n",
       "      <th>2017</th>\n",
       "      <td>31.9</td>\n",
       "    </tr>\n",
       "    <tr>\n",
       "      <th>2016</th>\n",
       "      <td>31.4</td>\n",
       "    </tr>\n",
       "    <tr>\n",
       "      <th>2015</th>\n",
       "      <td>30.9</td>\n",
       "    </tr>\n",
       "  </tbody>\n",
       "</table>\n",
       "</div>"
      ],
      "text/plain": [
       "      Uzbekistan\n",
       "2020        33.5\n",
       "2019        32.9\n",
       "2018        32.5\n",
       "2017        31.9\n",
       "2016        31.4\n",
       "2015        30.9"
      ]
     },
     "execution_count": 6,
     "metadata": {},
     "output_type": "execute_result"
    }
   ],
   "source": [
    "df[['Uzbekistan']]"
   ]
  },
  {
   "cell_type": "code",
   "execution_count": 8,
   "id": "2e672ae2",
   "metadata": {},
   "outputs": [
    {
     "data": {
      "text/plain": [
       "array([33.5, 32.9, 32.5, 31.9, 31.4, 30.9])"
      ]
     },
     "execution_count": 8,
     "metadata": {},
     "output_type": "execute_result"
    }
   ],
   "source": [
    "df['Uzbekistan'].to_numpy()"
   ]
  },
  {
   "cell_type": "code",
   "execution_count": 9,
   "id": "be8afc9d",
   "metadata": {},
   "outputs": [
    {
     "data": {
      "text/html": [
       "<div>\n",
       "<style scoped>\n",
       "    .dataframe tbody tr th:only-of-type {\n",
       "        vertical-align: middle;\n",
       "    }\n",
       "\n",
       "    .dataframe tbody tr th {\n",
       "        vertical-align: top;\n",
       "    }\n",
       "\n",
       "    .dataframe thead th {\n",
       "        text-align: right;\n",
       "    }\n",
       "</style>\n",
       "<table border=\"1\" class=\"dataframe\">\n",
       "  <thead>\n",
       "    <tr style=\"text-align: right;\">\n",
       "      <th></th>\n",
       "      <th>Uzbekistan</th>\n",
       "      <th>Kazakhstan</th>\n",
       "      <th>Tajikistan</th>\n",
       "      <th>Kyrgizstan</th>\n",
       "      <th>Turkmenistan</th>\n",
       "    </tr>\n",
       "  </thead>\n",
       "  <tbody>\n",
       "    <tr>\n",
       "      <th>2020</th>\n",
       "      <td>33.5</td>\n",
       "      <td>18.8</td>\n",
       "      <td>9.5</td>\n",
       "      <td>6.5</td>\n",
       "      <td>6.0</td>\n",
       "    </tr>\n",
       "    <tr>\n",
       "      <th>2019</th>\n",
       "      <td>32.9</td>\n",
       "      <td>18.5</td>\n",
       "      <td>9.3</td>\n",
       "      <td>6.4</td>\n",
       "      <td>5.9</td>\n",
       "    </tr>\n",
       "    <tr>\n",
       "      <th>2018</th>\n",
       "      <td>32.5</td>\n",
       "      <td>18.3</td>\n",
       "      <td>9.1</td>\n",
       "      <td>6.3</td>\n",
       "      <td>5.9</td>\n",
       "    </tr>\n",
       "    <tr>\n",
       "      <th>2017</th>\n",
       "      <td>31.9</td>\n",
       "      <td>18.1</td>\n",
       "      <td>8.9</td>\n",
       "      <td>6.2</td>\n",
       "      <td>5.8</td>\n",
       "    </tr>\n",
       "    <tr>\n",
       "      <th>2016</th>\n",
       "      <td>31.4</td>\n",
       "      <td>17.8</td>\n",
       "      <td>8.7</td>\n",
       "      <td>6.1</td>\n",
       "      <td>5.6</td>\n",
       "    </tr>\n",
       "    <tr>\n",
       "      <th>2015</th>\n",
       "      <td>30.9</td>\n",
       "      <td>17.6</td>\n",
       "      <td>8.5</td>\n",
       "      <td>6.0</td>\n",
       "      <td>5.6</td>\n",
       "    </tr>\n",
       "  </tbody>\n",
       "</table>\n",
       "</div>"
      ],
      "text/plain": [
       "      Uzbekistan  Kazakhstan  Tajikistan  Kyrgizstan  Turkmenistan\n",
       "2020        33.5        18.8         9.5         6.5           6.0\n",
       "2019        32.9        18.5         9.3         6.4           5.9\n",
       "2018        32.5        18.3         9.1         6.3           5.9\n",
       "2017        31.9        18.1         8.9         6.2           5.8\n",
       "2016        31.4        17.8         8.7         6.1           5.6\n",
       "2015        30.9        17.6         8.5         6.0           5.6"
      ]
     },
     "execution_count": 9,
     "metadata": {},
     "output_type": "execute_result"
    }
   ],
   "source": [
    "df"
   ]
  },
  {
   "cell_type": "code",
   "execution_count": 16,
   "id": "99e42a72",
   "metadata": {},
   "outputs": [
    {
     "data": {
      "text/plain": [
       "array([False, False, False, False, False, False])"
      ]
     },
     "execution_count": 16,
     "metadata": {},
     "output_type": "execute_result"
    }
   ],
   "source": [
    "w = df['Kazakhstan'].to_numpy()\n",
    "w < 3"
   ]
  },
  {
   "cell_type": "code",
   "execution_count": 18,
   "id": "07d1433c",
   "metadata": {},
   "outputs": [
    {
     "data": {
      "text/plain": [
       "array([[9.5, 6. ],\n",
       "       [9.3, 5.9],\n",
       "       [9.1, 5.9],\n",
       "       [8.9, 5.8],\n",
       "       [8.7, 5.6],\n",
       "       [8.5, 5.6]])"
      ]
     },
     "execution_count": 18,
     "metadata": {},
     "output_type": "execute_result"
    }
   ],
   "source": [
    "df[['Tajikistan','Turkmenistan']].to_numpy()"
   ]
  },
  {
   "cell_type": "code",
   "execution_count": 19,
   "id": "9ff3bd8a",
   "metadata": {},
   "outputs": [
    {
     "data": {
      "text/html": [
       "<div>\n",
       "<style scoped>\n",
       "    .dataframe tbody tr th:only-of-type {\n",
       "        vertical-align: middle;\n",
       "    }\n",
       "\n",
       "    .dataframe tbody tr th {\n",
       "        vertical-align: top;\n",
       "    }\n",
       "\n",
       "    .dataframe thead th {\n",
       "        text-align: right;\n",
       "    }\n",
       "</style>\n",
       "<table border=\"1\" class=\"dataframe\">\n",
       "  <thead>\n",
       "    <tr style=\"text-align: right;\">\n",
       "      <th></th>\n",
       "      <th>Uzbekistan</th>\n",
       "      <th>Kazakhstan</th>\n",
       "      <th>Tajikistan</th>\n",
       "      <th>Kyrgizstan</th>\n",
       "      <th>Turkmenistan</th>\n",
       "    </tr>\n",
       "  </thead>\n",
       "  <tbody>\n",
       "    <tr>\n",
       "      <th>2018</th>\n",
       "      <td>32.5</td>\n",
       "      <td>18.3</td>\n",
       "      <td>9.1</td>\n",
       "      <td>6.3</td>\n",
       "      <td>5.9</td>\n",
       "    </tr>\n",
       "    <tr>\n",
       "      <th>2017</th>\n",
       "      <td>31.9</td>\n",
       "      <td>18.1</td>\n",
       "      <td>8.9</td>\n",
       "      <td>6.2</td>\n",
       "      <td>5.8</td>\n",
       "    </tr>\n",
       "    <tr>\n",
       "      <th>2016</th>\n",
       "      <td>31.4</td>\n",
       "      <td>17.8</td>\n",
       "      <td>8.7</td>\n",
       "      <td>6.1</td>\n",
       "      <td>5.6</td>\n",
       "    </tr>\n",
       "    <tr>\n",
       "      <th>2015</th>\n",
       "      <td>30.9</td>\n",
       "      <td>17.6</td>\n",
       "      <td>8.5</td>\n",
       "      <td>6.0</td>\n",
       "      <td>5.6</td>\n",
       "    </tr>\n",
       "  </tbody>\n",
       "</table>\n",
       "</div>"
      ],
      "text/plain": [
       "      Uzbekistan  Kazakhstan  Tajikistan  Kyrgizstan  Turkmenistan\n",
       "2018        32.5        18.3         9.1         6.3           5.9\n",
       "2017        31.9        18.1         8.9         6.2           5.8\n",
       "2016        31.4        17.8         8.7         6.1           5.6\n",
       "2015        30.9        17.6         8.5         6.0           5.6"
      ]
     },
     "execution_count": 19,
     "metadata": {},
     "output_type": "execute_result"
    }
   ],
   "source": [
    "df[2:]"
   ]
  },
  {
   "cell_type": "code",
   "execution_count": 21,
   "id": "8a267c43",
   "metadata": {},
   "outputs": [
    {
     "data": {
      "text/html": [
       "<div>\n",
       "<style scoped>\n",
       "    .dataframe tbody tr th:only-of-type {\n",
       "        vertical-align: middle;\n",
       "    }\n",
       "\n",
       "    .dataframe tbody tr th {\n",
       "        vertical-align: top;\n",
       "    }\n",
       "\n",
       "    .dataframe thead th {\n",
       "        text-align: right;\n",
       "    }\n",
       "</style>\n",
       "<table border=\"1\" class=\"dataframe\">\n",
       "  <thead>\n",
       "    <tr style=\"text-align: right;\">\n",
       "      <th></th>\n",
       "      <th>Uzbekistan</th>\n",
       "      <th>Kazakhstan</th>\n",
       "      <th>Tajikistan</th>\n",
       "      <th>Kyrgizstan</th>\n",
       "      <th>Turkmenistan</th>\n",
       "    </tr>\n",
       "  </thead>\n",
       "  <tbody>\n",
       "    <tr>\n",
       "      <th>2020</th>\n",
       "      <td>True</td>\n",
       "      <td>True</td>\n",
       "      <td>True</td>\n",
       "      <td>False</td>\n",
       "      <td>False</td>\n",
       "    </tr>\n",
       "    <tr>\n",
       "      <th>2019</th>\n",
       "      <td>True</td>\n",
       "      <td>True</td>\n",
       "      <td>True</td>\n",
       "      <td>False</td>\n",
       "      <td>False</td>\n",
       "    </tr>\n",
       "    <tr>\n",
       "      <th>2018</th>\n",
       "      <td>True</td>\n",
       "      <td>True</td>\n",
       "      <td>True</td>\n",
       "      <td>False</td>\n",
       "      <td>False</td>\n",
       "    </tr>\n",
       "    <tr>\n",
       "      <th>2017</th>\n",
       "      <td>True</td>\n",
       "      <td>True</td>\n",
       "      <td>True</td>\n",
       "      <td>False</td>\n",
       "      <td>False</td>\n",
       "    </tr>\n",
       "    <tr>\n",
       "      <th>2016</th>\n",
       "      <td>True</td>\n",
       "      <td>True</td>\n",
       "      <td>True</td>\n",
       "      <td>False</td>\n",
       "      <td>False</td>\n",
       "    </tr>\n",
       "    <tr>\n",
       "      <th>2015</th>\n",
       "      <td>True</td>\n",
       "      <td>True</td>\n",
       "      <td>True</td>\n",
       "      <td>False</td>\n",
       "      <td>False</td>\n",
       "    </tr>\n",
       "  </tbody>\n",
       "</table>\n",
       "</div>"
      ],
      "text/plain": [
       "      Uzbekistan  Kazakhstan  Tajikistan  Kyrgizstan  Turkmenistan\n",
       "2020        True        True        True       False         False\n",
       "2019        True        True        True       False         False\n",
       "2018        True        True        True       False         False\n",
       "2017        True        True        True       False         False\n",
       "2016        True        True        True       False         False\n",
       "2015        True        True        True       False         False"
      ]
     },
     "execution_count": 21,
     "metadata": {},
     "output_type": "execute_result"
    }
   ],
   "source": [
    "df > 7"
   ]
  },
  {
   "cell_type": "code",
   "execution_count": 25,
   "id": "d7c42e8a",
   "metadata": {},
   "outputs": [
    {
     "data": {
      "text/html": [
       "<div>\n",
       "<style scoped>\n",
       "    .dataframe tbody tr th:only-of-type {\n",
       "        vertical-align: middle;\n",
       "    }\n",
       "\n",
       "    .dataframe tbody tr th {\n",
       "        vertical-align: top;\n",
       "    }\n",
       "\n",
       "    .dataframe thead th {\n",
       "        text-align: right;\n",
       "    }\n",
       "</style>\n",
       "<table border=\"1\" class=\"dataframe\">\n",
       "  <thead>\n",
       "    <tr style=\"text-align: right;\">\n",
       "      <th></th>\n",
       "      <th>Uzbekistan</th>\n",
       "    </tr>\n",
       "  </thead>\n",
       "  <tbody>\n",
       "    <tr>\n",
       "      <th>2020</th>\n",
       "      <td>33.5</td>\n",
       "    </tr>\n",
       "    <tr>\n",
       "      <th>2019</th>\n",
       "      <td>32.9</td>\n",
       "    </tr>\n",
       "    <tr>\n",
       "      <th>2018</th>\n",
       "      <td>32.5</td>\n",
       "    </tr>\n",
       "  </tbody>\n",
       "</table>\n",
       "</div>"
      ],
      "text/plain": [
       "      Uzbekistan\n",
       "2020        33.5\n",
       "2019        32.9\n",
       "2018        32.5"
      ]
     },
     "execution_count": 25,
     "metadata": {},
     "output_type": "execute_result"
    }
   ],
   "source": [
    "df[['Uzbekistan']][df['Uzbekistan'] > 32]"
   ]
  },
  {
   "cell_type": "code",
   "execution_count": 26,
   "id": "996812fe",
   "metadata": {},
   "outputs": [
    {
     "data": {
      "text/html": [
       "<div>\n",
       "<style scoped>\n",
       "    .dataframe tbody tr th:only-of-type {\n",
       "        vertical-align: middle;\n",
       "    }\n",
       "\n",
       "    .dataframe tbody tr th {\n",
       "        vertical-align: top;\n",
       "    }\n",
       "\n",
       "    .dataframe thead th {\n",
       "        text-align: right;\n",
       "    }\n",
       "</style>\n",
       "<table border=\"1\" class=\"dataframe\">\n",
       "  <thead>\n",
       "    <tr style=\"text-align: right;\">\n",
       "      <th></th>\n",
       "      <th>Uzbekistan</th>\n",
       "    </tr>\n",
       "  </thead>\n",
       "  <tbody>\n",
       "    <tr>\n",
       "      <th>2020</th>\n",
       "      <td>33.5</td>\n",
       "    </tr>\n",
       "    <tr>\n",
       "      <th>2019</th>\n",
       "      <td>32.9</td>\n",
       "    </tr>\n",
       "    <tr>\n",
       "      <th>2018</th>\n",
       "      <td>32.5</td>\n",
       "    </tr>\n",
       "    <tr>\n",
       "      <th>2017</th>\n",
       "      <td>31.9</td>\n",
       "    </tr>\n",
       "    <tr>\n",
       "      <th>2016</th>\n",
       "      <td>31.4</td>\n",
       "    </tr>\n",
       "    <tr>\n",
       "      <th>2015</th>\n",
       "      <td>30.9</td>\n",
       "    </tr>\n",
       "  </tbody>\n",
       "</table>\n",
       "</div>"
      ],
      "text/plain": [
       "      Uzbekistan\n",
       "2020        33.5\n",
       "2019        32.9\n",
       "2018        32.5\n",
       "2017        31.9\n",
       "2016        31.4\n",
       "2015        30.9"
      ]
     },
     "execution_count": 26,
     "metadata": {},
     "output_type": "execute_result"
    }
   ],
   "source": [
    "dfuz = df[['Uzbekistan']]\n",
    "dfuz"
   ]
  },
  {
   "cell_type": "code",
   "execution_count": 29,
   "id": "8339cd85",
   "metadata": {},
   "outputs": [
    {
     "data": {
      "text/html": [
       "<div>\n",
       "<style scoped>\n",
       "    .dataframe tbody tr th:only-of-type {\n",
       "        vertical-align: middle;\n",
       "    }\n",
       "\n",
       "    .dataframe tbody tr th {\n",
       "        vertical-align: top;\n",
       "    }\n",
       "\n",
       "    .dataframe thead th {\n",
       "        text-align: right;\n",
       "    }\n",
       "</style>\n",
       "<table border=\"1\" class=\"dataframe\">\n",
       "  <thead>\n",
       "    <tr style=\"text-align: right;\">\n",
       "      <th></th>\n",
       "      <th>Uzbekistan</th>\n",
       "    </tr>\n",
       "  </thead>\n",
       "  <tbody>\n",
       "    <tr>\n",
       "      <th>2020</th>\n",
       "      <td>33.5</td>\n",
       "    </tr>\n",
       "    <tr>\n",
       "      <th>2019</th>\n",
       "      <td>32.9</td>\n",
       "    </tr>\n",
       "    <tr>\n",
       "      <th>2018</th>\n",
       "      <td>32.5</td>\n",
       "    </tr>\n",
       "  </tbody>\n",
       "</table>\n",
       "</div>"
      ],
      "text/plain": [
       "      Uzbekistan\n",
       "2020        33.5\n",
       "2019        32.9\n",
       "2018        32.5"
      ]
     },
     "execution_count": 29,
     "metadata": {},
     "output_type": "execute_result"
    }
   ],
   "source": [
    "dfuz[dfuz['Uzbekistan'] > 32]"
   ]
  },
  {
   "cell_type": "code",
   "execution_count": 30,
   "id": "8871d106",
   "metadata": {},
   "outputs": [
    {
     "data": {
      "text/plain": [
       "2020     True\n",
       "2019     True\n",
       "2018     True\n",
       "2017    False\n",
       "2016    False\n",
       "2015    False\n",
       "Name: Uzbekistan, dtype: bool"
      ]
     },
     "execution_count": 30,
     "metadata": {},
     "output_type": "execute_result"
    }
   ],
   "source": [
    "dfuz['Uzbekistan'] > 32"
   ]
  },
  {
   "cell_type": "code",
   "execution_count": 31,
   "id": "7f0d7718",
   "metadata": {},
   "outputs": [
    {
     "data": {
      "text/html": [
       "<div>\n",
       "<style scoped>\n",
       "    .dataframe tbody tr th:only-of-type {\n",
       "        vertical-align: middle;\n",
       "    }\n",
       "\n",
       "    .dataframe tbody tr th {\n",
       "        vertical-align: top;\n",
       "    }\n",
       "\n",
       "    .dataframe thead th {\n",
       "        text-align: right;\n",
       "    }\n",
       "</style>\n",
       "<table border=\"1\" class=\"dataframe\">\n",
       "  <thead>\n",
       "    <tr style=\"text-align: right;\">\n",
       "      <th></th>\n",
       "      <th>Uzbekistan</th>\n",
       "      <th>Kazakhstan</th>\n",
       "      <th>Tajikistan</th>\n",
       "      <th>Kyrgizstan</th>\n",
       "      <th>Turkmenistan</th>\n",
       "    </tr>\n",
       "  </thead>\n",
       "  <tbody>\n",
       "    <tr>\n",
       "      <th>2020</th>\n",
       "      <td>33.5</td>\n",
       "      <td>18.8</td>\n",
       "      <td>9.5</td>\n",
       "      <td>6.5</td>\n",
       "      <td>6.0</td>\n",
       "    </tr>\n",
       "    <tr>\n",
       "      <th>2019</th>\n",
       "      <td>32.9</td>\n",
       "      <td>18.5</td>\n",
       "      <td>9.3</td>\n",
       "      <td>6.4</td>\n",
       "      <td>5.9</td>\n",
       "    </tr>\n",
       "    <tr>\n",
       "      <th>2018</th>\n",
       "      <td>32.5</td>\n",
       "      <td>18.3</td>\n",
       "      <td>9.1</td>\n",
       "      <td>6.3</td>\n",
       "      <td>5.9</td>\n",
       "    </tr>\n",
       "    <tr>\n",
       "      <th>2017</th>\n",
       "      <td>31.9</td>\n",
       "      <td>18.1</td>\n",
       "      <td>8.9</td>\n",
       "      <td>6.2</td>\n",
       "      <td>5.8</td>\n",
       "    </tr>\n",
       "    <tr>\n",
       "      <th>2016</th>\n",
       "      <td>31.4</td>\n",
       "      <td>17.8</td>\n",
       "      <td>8.7</td>\n",
       "      <td>6.1</td>\n",
       "      <td>5.6</td>\n",
       "    </tr>\n",
       "    <tr>\n",
       "      <th>2015</th>\n",
       "      <td>30.9</td>\n",
       "      <td>17.6</td>\n",
       "      <td>8.5</td>\n",
       "      <td>6.0</td>\n",
       "      <td>5.6</td>\n",
       "    </tr>\n",
       "  </tbody>\n",
       "</table>\n",
       "</div>"
      ],
      "text/plain": [
       "      Uzbekistan  Kazakhstan  Tajikistan  Kyrgizstan  Turkmenistan\n",
       "2020        33.5        18.8         9.5         6.5           6.0\n",
       "2019        32.9        18.5         9.3         6.4           5.9\n",
       "2018        32.5        18.3         9.1         6.3           5.9\n",
       "2017        31.9        18.1         8.9         6.2           5.8\n",
       "2016        31.4        17.8         8.7         6.1           5.6\n",
       "2015        30.9        17.6         8.5         6.0           5.6"
      ]
     },
     "execution_count": 31,
     "metadata": {},
     "output_type": "execute_result"
    }
   ],
   "source": [
    "df"
   ]
  },
  {
   "cell_type": "code",
   "execution_count": 32,
   "id": "6bc4a691",
   "metadata": {},
   "outputs": [
    {
     "data": {
      "text/html": [
       "<div>\n",
       "<style scoped>\n",
       "    .dataframe tbody tr th:only-of-type {\n",
       "        vertical-align: middle;\n",
       "    }\n",
       "\n",
       "    .dataframe tbody tr th {\n",
       "        vertical-align: top;\n",
       "    }\n",
       "\n",
       "    .dataframe thead th {\n",
       "        text-align: right;\n",
       "    }\n",
       "</style>\n",
       "<table border=\"1\" class=\"dataframe\">\n",
       "  <thead>\n",
       "    <tr style=\"text-align: right;\">\n",
       "      <th></th>\n",
       "      <th>2020</th>\n",
       "      <th>2019</th>\n",
       "      <th>2018</th>\n",
       "      <th>2017</th>\n",
       "      <th>2016</th>\n",
       "      <th>2015</th>\n",
       "    </tr>\n",
       "  </thead>\n",
       "  <tbody>\n",
       "    <tr>\n",
       "      <th>Uzbekistan</th>\n",
       "      <td>33.5</td>\n",
       "      <td>32.9</td>\n",
       "      <td>32.5</td>\n",
       "      <td>31.9</td>\n",
       "      <td>31.4</td>\n",
       "      <td>30.9</td>\n",
       "    </tr>\n",
       "    <tr>\n",
       "      <th>Kazakhstan</th>\n",
       "      <td>18.8</td>\n",
       "      <td>18.5</td>\n",
       "      <td>18.3</td>\n",
       "      <td>18.1</td>\n",
       "      <td>17.8</td>\n",
       "      <td>17.6</td>\n",
       "    </tr>\n",
       "    <tr>\n",
       "      <th>Tajikistan</th>\n",
       "      <td>9.5</td>\n",
       "      <td>9.3</td>\n",
       "      <td>9.1</td>\n",
       "      <td>8.9</td>\n",
       "      <td>8.7</td>\n",
       "      <td>8.5</td>\n",
       "    </tr>\n",
       "    <tr>\n",
       "      <th>Kyrgizstan</th>\n",
       "      <td>6.5</td>\n",
       "      <td>6.4</td>\n",
       "      <td>6.3</td>\n",
       "      <td>6.2</td>\n",
       "      <td>6.1</td>\n",
       "      <td>6.0</td>\n",
       "    </tr>\n",
       "    <tr>\n",
       "      <th>Turkmenistan</th>\n",
       "      <td>6.0</td>\n",
       "      <td>5.9</td>\n",
       "      <td>5.9</td>\n",
       "      <td>5.8</td>\n",
       "      <td>5.6</td>\n",
       "      <td>5.6</td>\n",
       "    </tr>\n",
       "  </tbody>\n",
       "</table>\n",
       "</div>"
      ],
      "text/plain": [
       "              2020  2019  2018  2017  2016  2015\n",
       "Uzbekistan    33.5  32.9  32.5  31.9  31.4  30.9\n",
       "Kazakhstan    18.8  18.5  18.3  18.1  17.8  17.6\n",
       "Tajikistan     9.5   9.3   9.1   8.9   8.7   8.5\n",
       "Kyrgizstan     6.5   6.4   6.3   6.2   6.1   6.0\n",
       "Turkmenistan   6.0   5.9   5.9   5.8   5.6   5.6"
      ]
     },
     "execution_count": 32,
     "metadata": {},
     "output_type": "execute_result"
    }
   ],
   "source": [
    "df2 = df.transpose(copy = True)\n",
    "df2"
   ]
  },
  {
   "cell_type": "code",
   "execution_count": 35,
   "id": "70d2eaec",
   "metadata": {},
   "outputs": [
    {
     "data": {
      "text/html": [
       "<div>\n",
       "<style scoped>\n",
       "    .dataframe tbody tr th:only-of-type {\n",
       "        vertical-align: middle;\n",
       "    }\n",
       "\n",
       "    .dataframe tbody tr th {\n",
       "        vertical-align: top;\n",
       "    }\n",
       "\n",
       "    .dataframe thead th {\n",
       "        text-align: right;\n",
       "    }\n",
       "</style>\n",
       "<table border=\"1\" class=\"dataframe\">\n",
       "  <thead>\n",
       "    <tr style=\"text-align: right;\">\n",
       "      <th></th>\n",
       "      <th>2020</th>\n",
       "      <th>2019</th>\n",
       "      <th>2018</th>\n",
       "      <th>2017</th>\n",
       "      <th>2016</th>\n",
       "      <th>2015</th>\n",
       "    </tr>\n",
       "  </thead>\n",
       "  <tbody>\n",
       "    <tr>\n",
       "      <th>Uzbekistan</th>\n",
       "      <td>33.5</td>\n",
       "      <td>32.9</td>\n",
       "      <td>32.5</td>\n",
       "      <td>31.9</td>\n",
       "      <td>31.4</td>\n",
       "      <td>30.9</td>\n",
       "    </tr>\n",
       "    <tr>\n",
       "      <th>Kazakhstan</th>\n",
       "      <td>18.8</td>\n",
       "      <td>18.5</td>\n",
       "      <td>18.3</td>\n",
       "      <td>18.1</td>\n",
       "      <td>17.8</td>\n",
       "      <td>17.6</td>\n",
       "    </tr>\n",
       "    <tr>\n",
       "      <th>Tajikistan</th>\n",
       "      <td>9.5</td>\n",
       "      <td>9.3</td>\n",
       "      <td>9.1</td>\n",
       "      <td>8.9</td>\n",
       "      <td>8.7</td>\n",
       "      <td>8.5</td>\n",
       "    </tr>\n",
       "  </tbody>\n",
       "</table>\n",
       "</div>"
      ],
      "text/plain": [
       "            2020  2019  2018  2017  2016  2015\n",
       "Uzbekistan  33.5  32.9  32.5  31.9  31.4  30.9\n",
       "Kazakhstan  18.8  18.5  18.3  18.1  17.8  17.6\n",
       "Tajikistan   9.5   9.3   9.1   8.9   8.7   8.5"
      ]
     },
     "execution_count": 35,
     "metadata": {},
     "output_type": "execute_result"
    }
   ],
   "source": [
    "df2[df2[2015] > 8]"
   ]
  },
  {
   "cell_type": "markdown",
   "id": "0bd83108",
   "metadata": {},
   "source": [
    "## loc and iloc"
   ]
  },
  {
   "cell_type": "code",
   "execution_count": 38,
   "id": "0867c235",
   "metadata": {},
   "outputs": [
    {
     "data": {
      "text/html": [
       "<div>\n",
       "<style scoped>\n",
       "    .dataframe tbody tr th:only-of-type {\n",
       "        vertical-align: middle;\n",
       "    }\n",
       "\n",
       "    .dataframe tbody tr th {\n",
       "        vertical-align: top;\n",
       "    }\n",
       "\n",
       "    .dataframe thead th {\n",
       "        text-align: right;\n",
       "    }\n",
       "</style>\n",
       "<table border=\"1\" class=\"dataframe\">\n",
       "  <thead>\n",
       "    <tr style=\"text-align: right;\">\n",
       "      <th></th>\n",
       "      <th>Uzbekistan</th>\n",
       "      <th>Kazakhstan</th>\n",
       "      <th>Tajikistan</th>\n",
       "      <th>Kyrgizstan</th>\n",
       "      <th>Turkmenistan</th>\n",
       "    </tr>\n",
       "  </thead>\n",
       "  <tbody>\n",
       "    <tr>\n",
       "      <th>2020</th>\n",
       "      <td>33.5</td>\n",
       "      <td>18.8</td>\n",
       "      <td>9.5</td>\n",
       "      <td>6.5</td>\n",
       "      <td>6.0</td>\n",
       "    </tr>\n",
       "    <tr>\n",
       "      <th>2019</th>\n",
       "      <td>32.9</td>\n",
       "      <td>18.5</td>\n",
       "      <td>9.3</td>\n",
       "      <td>6.4</td>\n",
       "      <td>5.9</td>\n",
       "    </tr>\n",
       "    <tr>\n",
       "      <th>2018</th>\n",
       "      <td>32.5</td>\n",
       "      <td>18.3</td>\n",
       "      <td>9.1</td>\n",
       "      <td>6.3</td>\n",
       "      <td>5.9</td>\n",
       "    </tr>\n",
       "    <tr>\n",
       "      <th>2017</th>\n",
       "      <td>31.9</td>\n",
       "      <td>18.1</td>\n",
       "      <td>8.9</td>\n",
       "      <td>6.2</td>\n",
       "      <td>5.8</td>\n",
       "    </tr>\n",
       "    <tr>\n",
       "      <th>2016</th>\n",
       "      <td>31.4</td>\n",
       "      <td>17.8</td>\n",
       "      <td>8.7</td>\n",
       "      <td>6.1</td>\n",
       "      <td>5.6</td>\n",
       "    </tr>\n",
       "    <tr>\n",
       "      <th>2015</th>\n",
       "      <td>30.9</td>\n",
       "      <td>17.6</td>\n",
       "      <td>8.5</td>\n",
       "      <td>6.0</td>\n",
       "      <td>5.6</td>\n",
       "    </tr>\n",
       "  </tbody>\n",
       "</table>\n",
       "</div>"
      ],
      "text/plain": [
       "      Uzbekistan  Kazakhstan  Tajikistan  Kyrgizstan  Turkmenistan\n",
       "2020        33.5        18.8         9.5         6.5           6.0\n",
       "2019        32.9        18.5         9.3         6.4           5.9\n",
       "2018        32.5        18.3         9.1         6.3           5.9\n",
       "2017        31.9        18.1         8.9         6.2           5.8\n",
       "2016        31.4        17.8         8.7         6.1           5.6\n",
       "2015        30.9        17.6         8.5         6.0           5.6"
      ]
     },
     "execution_count": 38,
     "metadata": {},
     "output_type": "execute_result"
    }
   ],
   "source": [
    "df"
   ]
  },
  {
   "cell_type": "code",
   "execution_count": 40,
   "id": "5340bda9",
   "metadata": {},
   "outputs": [
    {
     "data": {
      "text/html": [
       "<div>\n",
       "<style scoped>\n",
       "    .dataframe tbody tr th:only-of-type {\n",
       "        vertical-align: middle;\n",
       "    }\n",
       "\n",
       "    .dataframe tbody tr th {\n",
       "        vertical-align: top;\n",
       "    }\n",
       "\n",
       "    .dataframe thead th {\n",
       "        text-align: right;\n",
       "    }\n",
       "</style>\n",
       "<table border=\"1\" class=\"dataframe\">\n",
       "  <thead>\n",
       "    <tr style=\"text-align: right;\">\n",
       "      <th></th>\n",
       "      <th>Uzbekistan</th>\n",
       "      <th>Kazakhstan</th>\n",
       "      <th>Tajikistan</th>\n",
       "      <th>Kyrgizstan</th>\n",
       "      <th>Turkmenistan</th>\n",
       "    </tr>\n",
       "  </thead>\n",
       "  <tbody>\n",
       "    <tr>\n",
       "      <th>2017</th>\n",
       "      <td>31.9</td>\n",
       "      <td>18.1</td>\n",
       "      <td>8.9</td>\n",
       "      <td>6.2</td>\n",
       "      <td>5.8</td>\n",
       "    </tr>\n",
       "    <tr>\n",
       "      <th>2018</th>\n",
       "      <td>32.5</td>\n",
       "      <td>18.3</td>\n",
       "      <td>9.1</td>\n",
       "      <td>6.3</td>\n",
       "      <td>5.9</td>\n",
       "    </tr>\n",
       "  </tbody>\n",
       "</table>\n",
       "</div>"
      ],
      "text/plain": [
       "      Uzbekistan  Kazakhstan  Tajikistan  Kyrgizstan  Turkmenistan\n",
       "2017        31.9        18.1         8.9         6.2           5.8\n",
       "2018        32.5        18.3         9.1         6.3           5.9"
      ]
     },
     "execution_count": 40,
     "metadata": {},
     "output_type": "execute_result"
    }
   ],
   "source": [
    "df.loc[[2017,2018]]"
   ]
  },
  {
   "cell_type": "code",
   "execution_count": 41,
   "id": "e956ce53",
   "metadata": {},
   "outputs": [
    {
     "data": {
      "text/html": [
       "<div>\n",
       "<style scoped>\n",
       "    .dataframe tbody tr th:only-of-type {\n",
       "        vertical-align: middle;\n",
       "    }\n",
       "\n",
       "    .dataframe tbody tr th {\n",
       "        vertical-align: top;\n",
       "    }\n",
       "\n",
       "    .dataframe thead th {\n",
       "        text-align: right;\n",
       "    }\n",
       "</style>\n",
       "<table border=\"1\" class=\"dataframe\">\n",
       "  <thead>\n",
       "    <tr style=\"text-align: right;\">\n",
       "      <th></th>\n",
       "      <th>Uzbekistan</th>\n",
       "      <th>Tajikistan</th>\n",
       "    </tr>\n",
       "  </thead>\n",
       "  <tbody>\n",
       "    <tr>\n",
       "      <th>2015</th>\n",
       "      <td>30.9</td>\n",
       "      <td>8.5</td>\n",
       "    </tr>\n",
       "    <tr>\n",
       "      <th>2020</th>\n",
       "      <td>33.5</td>\n",
       "      <td>9.5</td>\n",
       "    </tr>\n",
       "  </tbody>\n",
       "</table>\n",
       "</div>"
      ],
      "text/plain": [
       "      Uzbekistan  Tajikistan\n",
       "2015        30.9         8.5\n",
       "2020        33.5         9.5"
      ]
     },
     "execution_count": 41,
     "metadata": {},
     "output_type": "execute_result"
    }
   ],
   "source": [
    "df.loc[[2015,2020],['Uzbekistan','Tajikistan']]"
   ]
  },
  {
   "cell_type": "code",
   "execution_count": 44,
   "id": "a4965191",
   "metadata": {},
   "outputs": [
    {
     "data": {
      "text/html": [
       "<div>\n",
       "<style scoped>\n",
       "    .dataframe tbody tr th:only-of-type {\n",
       "        vertical-align: middle;\n",
       "    }\n",
       "\n",
       "    .dataframe tbody tr th {\n",
       "        vertical-align: top;\n",
       "    }\n",
       "\n",
       "    .dataframe thead th {\n",
       "        text-align: right;\n",
       "    }\n",
       "</style>\n",
       "<table border=\"1\" class=\"dataframe\">\n",
       "  <thead>\n",
       "    <tr style=\"text-align: right;\">\n",
       "      <th></th>\n",
       "      <th>Tajikistan</th>\n",
       "      <th>Turkmenistan</th>\n",
       "    </tr>\n",
       "  </thead>\n",
       "  <tbody>\n",
       "    <tr>\n",
       "      <th>2018</th>\n",
       "      <td>9.1</td>\n",
       "      <td>5.9</td>\n",
       "    </tr>\n",
       "    <tr>\n",
       "      <th>2020</th>\n",
       "      <td>9.5</td>\n",
       "      <td>6.0</td>\n",
       "    </tr>\n",
       "  </tbody>\n",
       "</table>\n",
       "</div>"
      ],
      "text/plain": [
       "      Tajikistan  Turkmenistan\n",
       "2018         9.1           5.9\n",
       "2020         9.5           6.0"
      ]
     },
     "execution_count": 44,
     "metadata": {},
     "output_type": "execute_result"
    }
   ],
   "source": [
    "df.loc[[2018,2020],['Tajikistan','Turkmenistan']]"
   ]
  },
  {
   "cell_type": "code",
   "execution_count": 46,
   "id": "7130b201",
   "metadata": {},
   "outputs": [
    {
     "data": {
      "text/html": [
       "<div>\n",
       "<style scoped>\n",
       "    .dataframe tbody tr th:only-of-type {\n",
       "        vertical-align: middle;\n",
       "    }\n",
       "\n",
       "    .dataframe tbody tr th {\n",
       "        vertical-align: top;\n",
       "    }\n",
       "\n",
       "    .dataframe thead th {\n",
       "        text-align: right;\n",
       "    }\n",
       "</style>\n",
       "<table border=\"1\" class=\"dataframe\">\n",
       "  <thead>\n",
       "    <tr style=\"text-align: right;\">\n",
       "      <th></th>\n",
       "      <th>Kazakhstan</th>\n",
       "      <th>Kyrgizstan</th>\n",
       "    </tr>\n",
       "  </thead>\n",
       "  <tbody>\n",
       "    <tr>\n",
       "      <th>2020</th>\n",
       "      <td>18.8</td>\n",
       "      <td>6.5</td>\n",
       "    </tr>\n",
       "    <tr>\n",
       "      <th>2016</th>\n",
       "      <td>17.8</td>\n",
       "      <td>6.1</td>\n",
       "    </tr>\n",
       "  </tbody>\n",
       "</table>\n",
       "</div>"
      ],
      "text/plain": [
       "      Kazakhstan  Kyrgizstan\n",
       "2020        18.8         6.5\n",
       "2016        17.8         6.1"
      ]
     },
     "execution_count": 46,
     "metadata": {},
     "output_type": "execute_result"
    }
   ],
   "source": [
    "df.iloc[[0,4],[1,3]]"
   ]
  },
  {
   "cell_type": "code",
   "execution_count": 47,
   "id": "23fba6e8",
   "metadata": {},
   "outputs": [
    {
     "data": {
      "text/html": [
       "<div>\n",
       "<style scoped>\n",
       "    .dataframe tbody tr th:only-of-type {\n",
       "        vertical-align: middle;\n",
       "    }\n",
       "\n",
       "    .dataframe tbody tr th {\n",
       "        vertical-align: top;\n",
       "    }\n",
       "\n",
       "    .dataframe thead th {\n",
       "        text-align: right;\n",
       "    }\n",
       "</style>\n",
       "<table border=\"1\" class=\"dataframe\">\n",
       "  <thead>\n",
       "    <tr style=\"text-align: right;\">\n",
       "      <th></th>\n",
       "      <th>Uzbekistan</th>\n",
       "      <th>Kazakhstan</th>\n",
       "      <th>Tajikistan</th>\n",
       "      <th>Kyrgizstan</th>\n",
       "      <th>Turkmenistan</th>\n",
       "    </tr>\n",
       "  </thead>\n",
       "  <tbody>\n",
       "    <tr>\n",
       "      <th>2020</th>\n",
       "      <td>33.5</td>\n",
       "      <td>18.8</td>\n",
       "      <td>9.5</td>\n",
       "      <td>6.5</td>\n",
       "      <td>6.0</td>\n",
       "    </tr>\n",
       "    <tr>\n",
       "      <th>2019</th>\n",
       "      <td>32.9</td>\n",
       "      <td>18.5</td>\n",
       "      <td>9.3</td>\n",
       "      <td>6.4</td>\n",
       "      <td>5.9</td>\n",
       "    </tr>\n",
       "    <tr>\n",
       "      <th>2018</th>\n",
       "      <td>32.5</td>\n",
       "      <td>18.3</td>\n",
       "      <td>9.1</td>\n",
       "      <td>6.3</td>\n",
       "      <td>5.9</td>\n",
       "    </tr>\n",
       "    <tr>\n",
       "      <th>2017</th>\n",
       "      <td>31.9</td>\n",
       "      <td>18.1</td>\n",
       "      <td>8.9</td>\n",
       "      <td>6.2</td>\n",
       "      <td>5.8</td>\n",
       "    </tr>\n",
       "    <tr>\n",
       "      <th>2016</th>\n",
       "      <td>31.4</td>\n",
       "      <td>17.8</td>\n",
       "      <td>8.7</td>\n",
       "      <td>6.1</td>\n",
       "      <td>5.6</td>\n",
       "    </tr>\n",
       "    <tr>\n",
       "      <th>2015</th>\n",
       "      <td>30.9</td>\n",
       "      <td>17.6</td>\n",
       "      <td>8.5</td>\n",
       "      <td>6.0</td>\n",
       "      <td>5.6</td>\n",
       "    </tr>\n",
       "  </tbody>\n",
       "</table>\n",
       "</div>"
      ],
      "text/plain": [
       "      Uzbekistan  Kazakhstan  Tajikistan  Kyrgizstan  Turkmenistan\n",
       "2020        33.5        18.8         9.5         6.5           6.0\n",
       "2019        32.9        18.5         9.3         6.4           5.9\n",
       "2018        32.5        18.3         9.1         6.3           5.9\n",
       "2017        31.9        18.1         8.9         6.2           5.8\n",
       "2016        31.4        17.8         8.7         6.1           5.6\n",
       "2015        30.9        17.6         8.5         6.0           5.6"
      ]
     },
     "execution_count": 47,
     "metadata": {},
     "output_type": "execute_result"
    }
   ],
   "source": [
    "df"
   ]
  },
  {
   "cell_type": "code",
   "execution_count": 48,
   "id": "4100bc55",
   "metadata": {},
   "outputs": [
    {
     "data": {
      "text/plain": [
       "np.float64(5.6)"
      ]
     },
     "execution_count": 48,
     "metadata": {},
     "output_type": "execute_result"
    }
   ],
   "source": [
    "df.at[2015,'Turkmenistan']"
   ]
  },
  {
   "cell_type": "code",
   "execution_count": 51,
   "id": "dad58f95",
   "metadata": {},
   "outputs": [
    {
     "data": {
      "text/plain": [
       "np.float64(6.0)"
      ]
     },
     "execution_count": 51,
     "metadata": {},
     "output_type": "execute_result"
    }
   ],
   "source": [
    "df.at[2020,'Turkmenistan']"
   ]
  },
  {
   "cell_type": "code",
   "execution_count": 52,
   "id": "1ccfe261",
   "metadata": {},
   "outputs": [
    {
     "data": {
      "text/plain": [
       "np.float64(0.40000000000000036)"
      ]
     },
     "execution_count": 52,
     "metadata": {},
     "output_type": "execute_result"
    }
   ],
   "source": [
    "df.at[2020,'Turkmenistan'] - df.at[2015,'Turkmenistan'] # farqi"
   ]
  },
  {
   "cell_type": "code",
   "execution_count": 54,
   "id": "7831fb8b",
   "metadata": {},
   "outputs": [
    {
     "data": {
      "text/html": [
       "<div>\n",
       "<style scoped>\n",
       "    .dataframe tbody tr th:only-of-type {\n",
       "        vertical-align: middle;\n",
       "    }\n",
       "\n",
       "    .dataframe tbody tr th {\n",
       "        vertical-align: top;\n",
       "    }\n",
       "\n",
       "    .dataframe thead th {\n",
       "        text-align: right;\n",
       "    }\n",
       "</style>\n",
       "<table border=\"1\" class=\"dataframe\">\n",
       "  <thead>\n",
       "    <tr style=\"text-align: right;\">\n",
       "      <th></th>\n",
       "      <th>Uzbekistan</th>\n",
       "      <th>Kazakhstan</th>\n",
       "      <th>Tajikistan</th>\n",
       "      <th>Kyrgizstan</th>\n",
       "      <th>Turkmenistan</th>\n",
       "    </tr>\n",
       "  </thead>\n",
       "  <tbody>\n",
       "    <tr>\n",
       "      <th>2020</th>\n",
       "      <td>33.5</td>\n",
       "      <td>18.8</td>\n",
       "      <td>9.5</td>\n",
       "      <td>6.5</td>\n",
       "      <td>6.0</td>\n",
       "    </tr>\n",
       "    <tr>\n",
       "      <th>2019</th>\n",
       "      <td>32.9</td>\n",
       "      <td>18.5</td>\n",
       "      <td>9.3</td>\n",
       "      <td>6.4</td>\n",
       "      <td>5.9</td>\n",
       "    </tr>\n",
       "    <tr>\n",
       "      <th>2018</th>\n",
       "      <td>32.5</td>\n",
       "      <td>18.3</td>\n",
       "      <td>9.1</td>\n",
       "      <td>6.3</td>\n",
       "      <td>5.9</td>\n",
       "    </tr>\n",
       "    <tr>\n",
       "      <th>2017</th>\n",
       "      <td>31.9</td>\n",
       "      <td>18.1</td>\n",
       "      <td>8.9</td>\n",
       "      <td>6.2</td>\n",
       "      <td>5.8</td>\n",
       "    </tr>\n",
       "    <tr>\n",
       "      <th>2016</th>\n",
       "      <td>31.4</td>\n",
       "      <td>17.8</td>\n",
       "      <td>8.7</td>\n",
       "      <td>6.1</td>\n",
       "      <td>5.6</td>\n",
       "    </tr>\n",
       "    <tr>\n",
       "      <th>2015</th>\n",
       "      <td>30.9</td>\n",
       "      <td>17.6</td>\n",
       "      <td>8.5</td>\n",
       "      <td>6.0</td>\n",
       "      <td>5.6</td>\n",
       "    </tr>\n",
       "  </tbody>\n",
       "</table>\n",
       "</div>"
      ],
      "text/plain": [
       "      Uzbekistan  Kazakhstan  Tajikistan  Kyrgizstan  Turkmenistan\n",
       "2020        33.5        18.8         9.5         6.5           6.0\n",
       "2019        32.9        18.5         9.3         6.4           5.9\n",
       "2018        32.5        18.3         9.1         6.3           5.9\n",
       "2017        31.9        18.1         8.9         6.2           5.8\n",
       "2016        31.4        17.8         8.7         6.1           5.6\n",
       "2015        30.9        17.6         8.5         6.0           5.6"
      ]
     },
     "execution_count": 54,
     "metadata": {},
     "output_type": "execute_result"
    }
   ],
   "source": [
    "df"
   ]
  },
  {
   "cell_type": "code",
   "execution_count": 56,
   "id": "63290237",
   "metadata": {},
   "outputs": [
    {
     "data": {
      "text/plain": [
       "np.float64(6.3)"
      ]
     },
     "execution_count": 56,
     "metadata": {},
     "output_type": "execute_result"
    }
   ],
   "source": [
    "df.iat[2,3]"
   ]
  },
  {
   "cell_type": "code",
   "execution_count": 57,
   "id": "f240d335",
   "metadata": {},
   "outputs": [
    {
     "data": {
      "text/html": [
       "<div>\n",
       "<style scoped>\n",
       "    .dataframe tbody tr th:only-of-type {\n",
       "        vertical-align: middle;\n",
       "    }\n",
       "\n",
       "    .dataframe tbody tr th {\n",
       "        vertical-align: top;\n",
       "    }\n",
       "\n",
       "    .dataframe thead th {\n",
       "        text-align: right;\n",
       "    }\n",
       "</style>\n",
       "<table border=\"1\" class=\"dataframe\">\n",
       "  <thead>\n",
       "    <tr style=\"text-align: right;\">\n",
       "      <th></th>\n",
       "      <th>Uzbekistan</th>\n",
       "      <th>Kazakhstan</th>\n",
       "      <th>Tajikistan</th>\n",
       "      <th>Kyrgizstan</th>\n",
       "      <th>Turkmenistan</th>\n",
       "    </tr>\n",
       "  </thead>\n",
       "  <tbody>\n",
       "    <tr>\n",
       "      <th>2020</th>\n",
       "      <td>33.5</td>\n",
       "      <td>18.8</td>\n",
       "      <td>9.5</td>\n",
       "      <td>6.5</td>\n",
       "      <td>6.0</td>\n",
       "    </tr>\n",
       "    <tr>\n",
       "      <th>2019</th>\n",
       "      <td>32.9</td>\n",
       "      <td>18.5</td>\n",
       "      <td>9.3</td>\n",
       "      <td>6.4</td>\n",
       "      <td>5.9</td>\n",
       "    </tr>\n",
       "    <tr>\n",
       "      <th>2018</th>\n",
       "      <td>32.5</td>\n",
       "      <td>18.3</td>\n",
       "      <td>9.1</td>\n",
       "      <td>6.3</td>\n",
       "      <td>5.9</td>\n",
       "    </tr>\n",
       "    <tr>\n",
       "      <th>2017</th>\n",
       "      <td>31.9</td>\n",
       "      <td>18.1</td>\n",
       "      <td>8.9</td>\n",
       "      <td>6.2</td>\n",
       "      <td>5.8</td>\n",
       "    </tr>\n",
       "    <tr>\n",
       "      <th>2016</th>\n",
       "      <td>31.4</td>\n",
       "      <td>17.8</td>\n",
       "      <td>8.7</td>\n",
       "      <td>6.1</td>\n",
       "      <td>5.6</td>\n",
       "    </tr>\n",
       "  </tbody>\n",
       "</table>\n",
       "</div>"
      ],
      "text/plain": [
       "      Uzbekistan  Kazakhstan  Tajikistan  Kyrgizstan  Turkmenistan\n",
       "2020        33.5        18.8         9.5         6.5           6.0\n",
       "2019        32.9        18.5         9.3         6.4           5.9\n",
       "2018        32.5        18.3         9.1         6.3           5.9\n",
       "2017        31.9        18.1         8.9         6.2           5.8\n",
       "2016        31.4        17.8         8.7         6.1           5.6"
      ]
     },
     "execution_count": 57,
     "metadata": {},
     "output_type": "execute_result"
    }
   ],
   "source": [
    "df.head()"
   ]
  },
  {
   "cell_type": "code",
   "execution_count": 62,
   "id": "8b86f739",
   "metadata": {},
   "outputs": [
    {
     "data": {
      "text/plain": [
       "[10, 11, 12, 13, 14, 15, 16, 17, 18, 19, 20]"
      ]
     },
     "execution_count": 62,
     "metadata": {},
     "output_type": "execute_result"
    }
   ],
   "source": [
    "nums = list(range(10,21))\n",
    "nums"
   ]
  },
  {
   "cell_type": "code",
   "execution_count": 63,
   "id": "2317a8fa",
   "metadata": {},
   "outputs": [
    {
     "data": {
      "text/plain": [
       "10"
      ]
     },
     "execution_count": 63,
     "metadata": {},
     "output_type": "execute_result"
    }
   ],
   "source": [
    "nums[0]"
   ]
  },
  {
   "cell_type": "code",
   "execution_count": 64,
   "id": "a5093c4d",
   "metadata": {},
   "outputs": [
    {
     "data": {
      "text/plain": [
       "12"
      ]
     },
     "execution_count": 64,
     "metadata": {},
     "output_type": "execute_result"
    }
   ],
   "source": [
    "nums[2]"
   ]
  },
  {
   "cell_type": "code",
   "execution_count": 65,
   "id": "6db51853",
   "metadata": {},
   "outputs": [
    {
     "data": {
      "text/plain": [
       "20"
      ]
     },
     "execution_count": 65,
     "metadata": {},
     "output_type": "execute_result"
    }
   ],
   "source": [
    "nums[-1]"
   ]
  },
  {
   "cell_type": "code",
   "execution_count": 66,
   "id": "0dcfa855",
   "metadata": {},
   "outputs": [
    {
     "data": {
      "text/plain": [
       "0    0.0\n",
       "1    1.0\n",
       "2    2.0\n",
       "3    3.0\n",
       "4    4.0\n",
       "5    5.0\n",
       "6    6.0\n",
       "7    7.0\n",
       "8    8.0\n",
       "9    9.0\n",
       "dtype: float64"
      ]
     },
     "execution_count": 66,
     "metadata": {},
     "output_type": "execute_result"
    }
   ],
   "source": [
    "obj = pd.Series(np.arange(10.))\n",
    "obj"
   ]
  },
  {
   "cell_type": "code",
   "execution_count": 67,
   "id": "f10c4f87",
   "metadata": {},
   "outputs": [
    {
     "data": {
      "text/plain": [
       "np.float64(0.0)"
      ]
     },
     "execution_count": 67,
     "metadata": {},
     "output_type": "execute_result"
    }
   ],
   "source": [
    "obj[0]"
   ]
  },
  {
   "cell_type": "code",
   "execution_count": 71,
   "id": "779b5b84",
   "metadata": {},
   "outputs": [
    {
     "ename": "KeyError",
     "evalue": "-1",
     "output_type": "error",
     "traceback": [
      "\u001b[31m---------------------------------------------------------------------------\u001b[39m",
      "\u001b[31mValueError\u001b[39m                                Traceback (most recent call last)",
      "\u001b[36mFile \u001b[39m\u001b[32mc:\\Users\\behru\\AppData\\Local\\Programs\\Python\\Python312\\Lib\\site-packages\\pandas\\core\\indexes\\range.py:413\u001b[39m, in \u001b[36mRangeIndex.get_loc\u001b[39m\u001b[34m(self, key)\u001b[39m\n\u001b[32m    412\u001b[39m \u001b[38;5;28;01mtry\u001b[39;00m:\n\u001b[32m--> \u001b[39m\u001b[32m413\u001b[39m     \u001b[38;5;28;01mreturn\u001b[39;00m \u001b[38;5;28;43mself\u001b[39;49m\u001b[43m.\u001b[49m\u001b[43m_range\u001b[49m\u001b[43m.\u001b[49m\u001b[43mindex\u001b[49m\u001b[43m(\u001b[49m\u001b[43mnew_key\u001b[49m\u001b[43m)\u001b[49m\n\u001b[32m    414\u001b[39m \u001b[38;5;28;01mexcept\u001b[39;00m \u001b[38;5;167;01mValueError\u001b[39;00m \u001b[38;5;28;01mas\u001b[39;00m err:\n",
      "\u001b[31mValueError\u001b[39m: -1 is not in range",
      "\nThe above exception was the direct cause of the following exception:\n",
      "\u001b[31mKeyError\u001b[39m                                  Traceback (most recent call last)",
      "\u001b[36mCell\u001b[39m\u001b[36m \u001b[39m\u001b[32mIn[71]\u001b[39m\u001b[32m, line 1\u001b[39m\n\u001b[32m----> \u001b[39m\u001b[32m1\u001b[39m \u001b[43mobj\u001b[49m\u001b[43m[\u001b[49m\u001b[43m-\u001b[49m\u001b[32;43m1\u001b[39;49m\u001b[43m]\u001b[49m \u001b[38;5;66;03m# -1 orqali murojat qib bo'lmaydi  \u001b[39;00m\n",
      "\u001b[36mFile \u001b[39m\u001b[32mc:\\Users\\behru\\AppData\\Local\\Programs\\Python\\Python312\\Lib\\site-packages\\pandas\\core\\series.py:1130\u001b[39m, in \u001b[36mSeries.__getitem__\u001b[39m\u001b[34m(self, key)\u001b[39m\n\u001b[32m   1127\u001b[39m     \u001b[38;5;28;01mreturn\u001b[39;00m \u001b[38;5;28mself\u001b[39m._values[key]\n\u001b[32m   1129\u001b[39m \u001b[38;5;28;01melif\u001b[39;00m key_is_scalar:\n\u001b[32m-> \u001b[39m\u001b[32m1130\u001b[39m     \u001b[38;5;28;01mreturn\u001b[39;00m \u001b[38;5;28;43mself\u001b[39;49m\u001b[43m.\u001b[49m\u001b[43m_get_value\u001b[49m\u001b[43m(\u001b[49m\u001b[43mkey\u001b[49m\u001b[43m)\u001b[49m\n\u001b[32m   1132\u001b[39m \u001b[38;5;66;03m# Convert generator to list before going through hashable part\u001b[39;00m\n\u001b[32m   1133\u001b[39m \u001b[38;5;66;03m# (We will iterate through the generator there to check for slices)\u001b[39;00m\n\u001b[32m   1134\u001b[39m \u001b[38;5;28;01mif\u001b[39;00m is_iterator(key):\n",
      "\u001b[36mFile \u001b[39m\u001b[32mc:\\Users\\behru\\AppData\\Local\\Programs\\Python\\Python312\\Lib\\site-packages\\pandas\\core\\series.py:1246\u001b[39m, in \u001b[36mSeries._get_value\u001b[39m\u001b[34m(self, label, takeable)\u001b[39m\n\u001b[32m   1243\u001b[39m     \u001b[38;5;28;01mreturn\u001b[39;00m \u001b[38;5;28mself\u001b[39m._values[label]\n\u001b[32m   1245\u001b[39m \u001b[38;5;66;03m# Similar to Index.get_value, but we do not fall back to positional\u001b[39;00m\n\u001b[32m-> \u001b[39m\u001b[32m1246\u001b[39m loc = \u001b[38;5;28;43mself\u001b[39;49m\u001b[43m.\u001b[49m\u001b[43mindex\u001b[49m\u001b[43m.\u001b[49m\u001b[43mget_loc\u001b[49m\u001b[43m(\u001b[49m\u001b[43mlabel\u001b[49m\u001b[43m)\u001b[49m\n\u001b[32m   1248\u001b[39m \u001b[38;5;28;01mif\u001b[39;00m is_integer(loc):\n\u001b[32m   1249\u001b[39m     \u001b[38;5;28;01mreturn\u001b[39;00m \u001b[38;5;28mself\u001b[39m._values[loc]\n",
      "\u001b[36mFile \u001b[39m\u001b[32mc:\\Users\\behru\\AppData\\Local\\Programs\\Python\\Python312\\Lib\\site-packages\\pandas\\core\\indexes\\range.py:415\u001b[39m, in \u001b[36mRangeIndex.get_loc\u001b[39m\u001b[34m(self, key)\u001b[39m\n\u001b[32m    413\u001b[39m         \u001b[38;5;28;01mreturn\u001b[39;00m \u001b[38;5;28mself\u001b[39m._range.index(new_key)\n\u001b[32m    414\u001b[39m     \u001b[38;5;28;01mexcept\u001b[39;00m \u001b[38;5;167;01mValueError\u001b[39;00m \u001b[38;5;28;01mas\u001b[39;00m err:\n\u001b[32m--> \u001b[39m\u001b[32m415\u001b[39m         \u001b[38;5;28;01mraise\u001b[39;00m \u001b[38;5;167;01mKeyError\u001b[39;00m(key) \u001b[38;5;28;01mfrom\u001b[39;00m\u001b[38;5;250m \u001b[39m\u001b[34;01merr\u001b[39;00m\n\u001b[32m    416\u001b[39m \u001b[38;5;28;01mif\u001b[39;00m \u001b[38;5;28misinstance\u001b[39m(key, Hashable):\n\u001b[32m    417\u001b[39m     \u001b[38;5;28;01mraise\u001b[39;00m \u001b[38;5;167;01mKeyError\u001b[39;00m(key)\n",
      "\u001b[31mKeyError\u001b[39m: -1"
     ]
    }
   ],
   "source": [
    "obj[-1] # -1 orqali murojat qib bo'lmaydi  "
   ]
  },
  {
   "cell_type": "code",
   "execution_count": 72,
   "id": "ae0c9b3a",
   "metadata": {},
   "outputs": [
    {
     "data": {
      "text/plain": [
       "a    0.0\n",
       "b    1.0\n",
       "c    2.0\n",
       "d    3.0\n",
       "e    4.0\n",
       "dtype: float64"
      ]
     },
     "execution_count": 72,
     "metadata": {},
     "output_type": "execute_result"
    }
   ],
   "source": [
    "ser = pd.Series(np.arange(5.),index=['a','b','c','d','e'])\n",
    "ser"
   ]
  },
  {
   "cell_type": "code",
   "execution_count": 77,
   "id": "e8382e9f",
   "metadata": {},
   "outputs": [
    {
     "data": {
      "text/plain": [
       "np.float64(4.0)"
      ]
     },
     "execution_count": 77,
     "metadata": {},
     "output_type": "execute_result"
    }
   ],
   "source": [
    "ser.iloc[-1]"
   ]
  },
  {
   "cell_type": "code",
   "execution_count": 1,
   "id": "2ef59ab1",
   "metadata": {},
   "outputs": [],
   "source": [
    "import numpy as np\n",
    "import pandas as pd"
   ]
  },
  {
   "cell_type": "code",
   "execution_count": 2,
   "id": "c2648db1",
   "metadata": {},
   "outputs": [],
   "source": [
    "s1 = pd.Series([7.3, -2.5, 3.4, 1.5], index=['a', 'c', 'd', 'e'])\n",
    "s2 = pd.Series([-2.1, 3.6, -1.5, 4, 3.1], index=['a', 'c', 'e', 'f', 'g'])"
   ]
  },
  {
   "cell_type": "code",
   "execution_count": 4,
   "id": "f1a7eb89",
   "metadata": {},
   "outputs": [
    {
     "name": "stdout",
     "output_type": "stream",
     "text": [
      "a    7.3\n",
      "c   -2.5\n",
      "d    3.4\n",
      "e    1.5\n",
      "dtype: float64\n",
      "_______________________\n",
      "a   -2.1\n",
      "c    3.6\n",
      "e   -1.5\n",
      "f    4.0\n",
      "g    3.1\n",
      "dtype: float64\n"
     ]
    }
   ],
   "source": [
    "print(s1)\n",
    "print(\"_______________________\")\n",
    "print(s2)"
   ]
  },
  {
   "cell_type": "code",
   "execution_count": 7,
   "id": "6c4ae5d7",
   "metadata": {},
   "outputs": [
    {
     "data": {
      "text/plain": [
       "a    5.2\n",
       "c    1.1\n",
       "d    NaN\n",
       "e    0.0\n",
       "f    NaN\n",
       "g    NaN\n",
       "dtype: float64"
      ]
     },
     "execution_count": 7,
     "metadata": {},
     "output_type": "execute_result"
    }
   ],
   "source": [
    "s1 + s2"
   ]
  },
  {
   "cell_type": "code",
   "execution_count": 9,
   "id": "61eb5bf3",
   "metadata": {},
   "outputs": [],
   "source": [
    "df1 = pd.DataFrame(np.arange(9.).reshape(3,3),columns=list('bcd'),index=[\"Olma\",\"Anor\",\"Uzum\"])\n",
    "df2 = pd.DataFrame(np.arange(12.).reshape(4,3),columns=list('abc'),index=['Olma','Anor','Qovun','Anjir'])"
   ]
  },
  {
   "cell_type": "code",
   "execution_count": 12,
   "id": "2b4db555",
   "metadata": {},
   "outputs": [
    {
     "data": {
      "text/html": [
       "<div>\n",
       "<style scoped>\n",
       "    .dataframe tbody tr th:only-of-type {\n",
       "        vertical-align: middle;\n",
       "    }\n",
       "\n",
       "    .dataframe tbody tr th {\n",
       "        vertical-align: top;\n",
       "    }\n",
       "\n",
       "    .dataframe thead th {\n",
       "        text-align: right;\n",
       "    }\n",
       "</style>\n",
       "<table border=\"1\" class=\"dataframe\">\n",
       "  <thead>\n",
       "    <tr style=\"text-align: right;\">\n",
       "      <th></th>\n",
       "      <th>b</th>\n",
       "      <th>c</th>\n",
       "      <th>d</th>\n",
       "    </tr>\n",
       "  </thead>\n",
       "  <tbody>\n",
       "    <tr>\n",
       "      <th>Olma</th>\n",
       "      <td>0.0</td>\n",
       "      <td>1.0</td>\n",
       "      <td>2.0</td>\n",
       "    </tr>\n",
       "    <tr>\n",
       "      <th>Anor</th>\n",
       "      <td>3.0</td>\n",
       "      <td>4.0</td>\n",
       "      <td>5.0</td>\n",
       "    </tr>\n",
       "    <tr>\n",
       "      <th>Uzum</th>\n",
       "      <td>6.0</td>\n",
       "      <td>7.0</td>\n",
       "      <td>8.0</td>\n",
       "    </tr>\n",
       "  </tbody>\n",
       "</table>\n",
       "</div>"
      ],
      "text/plain": [
       "        b    c    d\n",
       "Olma  0.0  1.0  2.0\n",
       "Anor  3.0  4.0  5.0\n",
       "Uzum  6.0  7.0  8.0"
      ]
     },
     "execution_count": 12,
     "metadata": {},
     "output_type": "execute_result"
    }
   ],
   "source": [
    "df1"
   ]
  },
  {
   "cell_type": "code",
   "execution_count": 13,
   "id": "b6db73a6",
   "metadata": {},
   "outputs": [
    {
     "data": {
      "text/html": [
       "<div>\n",
       "<style scoped>\n",
       "    .dataframe tbody tr th:only-of-type {\n",
       "        vertical-align: middle;\n",
       "    }\n",
       "\n",
       "    .dataframe tbody tr th {\n",
       "        vertical-align: top;\n",
       "    }\n",
       "\n",
       "    .dataframe thead th {\n",
       "        text-align: right;\n",
       "    }\n",
       "</style>\n",
       "<table border=\"1\" class=\"dataframe\">\n",
       "  <thead>\n",
       "    <tr style=\"text-align: right;\">\n",
       "      <th></th>\n",
       "      <th>a</th>\n",
       "      <th>b</th>\n",
       "      <th>c</th>\n",
       "    </tr>\n",
       "  </thead>\n",
       "  <tbody>\n",
       "    <tr>\n",
       "      <th>Olma</th>\n",
       "      <td>0.0</td>\n",
       "      <td>1.0</td>\n",
       "      <td>2.0</td>\n",
       "    </tr>\n",
       "    <tr>\n",
       "      <th>Anor</th>\n",
       "      <td>3.0</td>\n",
       "      <td>4.0</td>\n",
       "      <td>5.0</td>\n",
       "    </tr>\n",
       "    <tr>\n",
       "      <th>Qovun</th>\n",
       "      <td>6.0</td>\n",
       "      <td>7.0</td>\n",
       "      <td>8.0</td>\n",
       "    </tr>\n",
       "    <tr>\n",
       "      <th>Anjir</th>\n",
       "      <td>9.0</td>\n",
       "      <td>10.0</td>\n",
       "      <td>11.0</td>\n",
       "    </tr>\n",
       "  </tbody>\n",
       "</table>\n",
       "</div>"
      ],
      "text/plain": [
       "         a     b     c\n",
       "Olma   0.0   1.0   2.0\n",
       "Anor   3.0   4.0   5.0\n",
       "Qovun  6.0   7.0   8.0\n",
       "Anjir  9.0  10.0  11.0"
      ]
     },
     "execution_count": 13,
     "metadata": {},
     "output_type": "execute_result"
    }
   ],
   "source": [
    "df2"
   ]
  },
  {
   "cell_type": "code",
   "execution_count": 14,
   "id": "0354899c",
   "metadata": {},
   "outputs": [
    {
     "data": {
      "text/html": [
       "<div>\n",
       "<style scoped>\n",
       "    .dataframe tbody tr th:only-of-type {\n",
       "        vertical-align: middle;\n",
       "    }\n",
       "\n",
       "    .dataframe tbody tr th {\n",
       "        vertical-align: top;\n",
       "    }\n",
       "\n",
       "    .dataframe thead th {\n",
       "        text-align: right;\n",
       "    }\n",
       "</style>\n",
       "<table border=\"1\" class=\"dataframe\">\n",
       "  <thead>\n",
       "    <tr style=\"text-align: right;\">\n",
       "      <th></th>\n",
       "      <th>a</th>\n",
       "      <th>b</th>\n",
       "      <th>c</th>\n",
       "      <th>d</th>\n",
       "    </tr>\n",
       "  </thead>\n",
       "  <tbody>\n",
       "    <tr>\n",
       "      <th>Anjir</th>\n",
       "      <td>NaN</td>\n",
       "      <td>NaN</td>\n",
       "      <td>NaN</td>\n",
       "      <td>NaN</td>\n",
       "    </tr>\n",
       "    <tr>\n",
       "      <th>Anor</th>\n",
       "      <td>NaN</td>\n",
       "      <td>7.0</td>\n",
       "      <td>9.0</td>\n",
       "      <td>NaN</td>\n",
       "    </tr>\n",
       "    <tr>\n",
       "      <th>Olma</th>\n",
       "      <td>NaN</td>\n",
       "      <td>1.0</td>\n",
       "      <td>3.0</td>\n",
       "      <td>NaN</td>\n",
       "    </tr>\n",
       "    <tr>\n",
       "      <th>Qovun</th>\n",
       "      <td>NaN</td>\n",
       "      <td>NaN</td>\n",
       "      <td>NaN</td>\n",
       "      <td>NaN</td>\n",
       "    </tr>\n",
       "    <tr>\n",
       "      <th>Uzum</th>\n",
       "      <td>NaN</td>\n",
       "      <td>NaN</td>\n",
       "      <td>NaN</td>\n",
       "      <td>NaN</td>\n",
       "    </tr>\n",
       "  </tbody>\n",
       "</table>\n",
       "</div>"
      ],
      "text/plain": [
       "        a    b    c   d\n",
       "Anjir NaN  NaN  NaN NaN\n",
       "Anor  NaN  7.0  9.0 NaN\n",
       "Olma  NaN  1.0  3.0 NaN\n",
       "Qovun NaN  NaN  NaN NaN\n",
       "Uzum  NaN  NaN  NaN NaN"
      ]
     },
     "execution_count": 14,
     "metadata": {},
     "output_type": "execute_result"
    }
   ],
   "source": [
    "df1 + df2"
   ]
  },
  {
   "cell_type": "code",
   "execution_count": 16,
   "id": "1483da41",
   "metadata": {},
   "outputs": [
    {
     "data": {
      "text/html": [
       "<div>\n",
       "<style scoped>\n",
       "    .dataframe tbody tr th:only-of-type {\n",
       "        vertical-align: middle;\n",
       "    }\n",
       "\n",
       "    .dataframe tbody tr th {\n",
       "        vertical-align: top;\n",
       "    }\n",
       "\n",
       "    .dataframe thead th {\n",
       "        text-align: right;\n",
       "    }\n",
       "</style>\n",
       "<table border=\"1\" class=\"dataframe\">\n",
       "  <thead>\n",
       "    <tr style=\"text-align: right;\">\n",
       "      <th></th>\n",
       "      <th>a</th>\n",
       "      <th>b</th>\n",
       "      <th>c</th>\n",
       "      <th>d</th>\n",
       "    </tr>\n",
       "  </thead>\n",
       "  <tbody>\n",
       "    <tr>\n",
       "      <th>Anjir</th>\n",
       "      <td>9.0</td>\n",
       "      <td>10.0</td>\n",
       "      <td>11.0</td>\n",
       "      <td>NaN</td>\n",
       "    </tr>\n",
       "    <tr>\n",
       "      <th>Anor</th>\n",
       "      <td>3.0</td>\n",
       "      <td>7.0</td>\n",
       "      <td>9.0</td>\n",
       "      <td>5.0</td>\n",
       "    </tr>\n",
       "    <tr>\n",
       "      <th>Olma</th>\n",
       "      <td>0.0</td>\n",
       "      <td>1.0</td>\n",
       "      <td>3.0</td>\n",
       "      <td>2.0</td>\n",
       "    </tr>\n",
       "    <tr>\n",
       "      <th>Qovun</th>\n",
       "      <td>6.0</td>\n",
       "      <td>7.0</td>\n",
       "      <td>8.0</td>\n",
       "      <td>NaN</td>\n",
       "    </tr>\n",
       "    <tr>\n",
       "      <th>Uzum</th>\n",
       "      <td>NaN</td>\n",
       "      <td>6.0</td>\n",
       "      <td>7.0</td>\n",
       "      <td>8.0</td>\n",
       "    </tr>\n",
       "  </tbody>\n",
       "</table>\n",
       "</div>"
      ],
      "text/plain": [
       "         a     b     c    d\n",
       "Anjir  9.0  10.0  11.0  NaN\n",
       "Anor   3.0   7.0   9.0  5.0\n",
       "Olma   0.0   1.0   3.0  2.0\n",
       "Qovun  6.0   7.0   8.0  NaN\n",
       "Uzum   NaN   6.0   7.0  8.0"
      ]
     },
     "execution_count": 16,
     "metadata": {},
     "output_type": "execute_result"
    }
   ],
   "source": [
    "df1.add(df2,fill_value=0)"
   ]
  },
  {
   "cell_type": "code",
   "execution_count": 17,
   "id": "62083933",
   "metadata": {},
   "outputs": [
    {
     "data": {
      "text/html": [
       "<div>\n",
       "<style scoped>\n",
       "    .dataframe tbody tr th:only-of-type {\n",
       "        vertical-align: middle;\n",
       "    }\n",
       "\n",
       "    .dataframe tbody tr th {\n",
       "        vertical-align: top;\n",
       "    }\n",
       "\n",
       "    .dataframe thead th {\n",
       "        text-align: right;\n",
       "    }\n",
       "</style>\n",
       "<table border=\"1\" class=\"dataframe\">\n",
       "  <thead>\n",
       "    <tr style=\"text-align: right;\">\n",
       "      <th></th>\n",
       "      <th>a</th>\n",
       "      <th>b</th>\n",
       "      <th>c</th>\n",
       "      <th>d</th>\n",
       "    </tr>\n",
       "  </thead>\n",
       "  <tbody>\n",
       "    <tr>\n",
       "      <th>Anjir</th>\n",
       "      <td>9.0</td>\n",
       "      <td>10.0</td>\n",
       "      <td>11.0</td>\n",
       "      <td>NaN</td>\n",
       "    </tr>\n",
       "    <tr>\n",
       "      <th>Anor</th>\n",
       "      <td>3.0</td>\n",
       "      <td>1.0</td>\n",
       "      <td>1.0</td>\n",
       "      <td>-5.0</td>\n",
       "    </tr>\n",
       "    <tr>\n",
       "      <th>Olma</th>\n",
       "      <td>0.0</td>\n",
       "      <td>1.0</td>\n",
       "      <td>1.0</td>\n",
       "      <td>-2.0</td>\n",
       "    </tr>\n",
       "    <tr>\n",
       "      <th>Qovun</th>\n",
       "      <td>6.0</td>\n",
       "      <td>7.0</td>\n",
       "      <td>8.0</td>\n",
       "      <td>NaN</td>\n",
       "    </tr>\n",
       "    <tr>\n",
       "      <th>Uzum</th>\n",
       "      <td>NaN</td>\n",
       "      <td>-6.0</td>\n",
       "      <td>-7.0</td>\n",
       "      <td>-8.0</td>\n",
       "    </tr>\n",
       "  </tbody>\n",
       "</table>\n",
       "</div>"
      ],
      "text/plain": [
       "         a     b     c    d\n",
       "Anjir  9.0  10.0  11.0  NaN\n",
       "Anor   3.0   1.0   1.0 -5.0\n",
       "Olma   0.0   1.0   1.0 -2.0\n",
       "Qovun  6.0   7.0   8.0  NaN\n",
       "Uzum   NaN  -6.0  -7.0 -8.0"
      ]
     },
     "execution_count": 17,
     "metadata": {},
     "output_type": "execute_result"
    }
   ],
   "source": [
    "df2.sub(df1,fill_value=0)"
   ]
  },
  {
   "cell_type": "code",
   "execution_count": 18,
   "id": "ac5e3f1f",
   "metadata": {},
   "outputs": [
    {
     "data": {
      "text/html": [
       "<div>\n",
       "<style scoped>\n",
       "    .dataframe tbody tr th:only-of-type {\n",
       "        vertical-align: middle;\n",
       "    }\n",
       "\n",
       "    .dataframe tbody tr th {\n",
       "        vertical-align: top;\n",
       "    }\n",
       "\n",
       "    .dataframe thead th {\n",
       "        text-align: right;\n",
       "    }\n",
       "</style>\n",
       "<table border=\"1\" class=\"dataframe\">\n",
       "  <thead>\n",
       "    <tr style=\"text-align: right;\">\n",
       "      <th></th>\n",
       "      <th>a</th>\n",
       "      <th>b</th>\n",
       "      <th>c</th>\n",
       "      <th>d</th>\n",
       "    </tr>\n",
       "  </thead>\n",
       "  <tbody>\n",
       "    <tr>\n",
       "      <th>Anjir</th>\n",
       "      <td>-9.0</td>\n",
       "      <td>-10.0</td>\n",
       "      <td>-11.0</td>\n",
       "      <td>NaN</td>\n",
       "    </tr>\n",
       "    <tr>\n",
       "      <th>Anor</th>\n",
       "      <td>-3.0</td>\n",
       "      <td>-1.0</td>\n",
       "      <td>-1.0</td>\n",
       "      <td>5.0</td>\n",
       "    </tr>\n",
       "    <tr>\n",
       "      <th>Olma</th>\n",
       "      <td>0.0</td>\n",
       "      <td>-1.0</td>\n",
       "      <td>-1.0</td>\n",
       "      <td>2.0</td>\n",
       "    </tr>\n",
       "    <tr>\n",
       "      <th>Qovun</th>\n",
       "      <td>-6.0</td>\n",
       "      <td>-7.0</td>\n",
       "      <td>-8.0</td>\n",
       "      <td>NaN</td>\n",
       "    </tr>\n",
       "    <tr>\n",
       "      <th>Uzum</th>\n",
       "      <td>NaN</td>\n",
       "      <td>6.0</td>\n",
       "      <td>7.0</td>\n",
       "      <td>8.0</td>\n",
       "    </tr>\n",
       "  </tbody>\n",
       "</table>\n",
       "</div>"
      ],
      "text/plain": [
       "         a     b     c    d\n",
       "Anjir -9.0 -10.0 -11.0  NaN\n",
       "Anor  -3.0  -1.0  -1.0  5.0\n",
       "Olma   0.0  -1.0  -1.0  2.0\n",
       "Qovun -6.0  -7.0  -8.0  NaN\n",
       "Uzum   NaN   6.0   7.0  8.0"
      ]
     },
     "execution_count": 18,
     "metadata": {},
     "output_type": "execute_result"
    }
   ],
   "source": [
    "df1.sub(df2,fill_value=0)"
   ]
  },
  {
   "cell_type": "code",
   "execution_count": null,
   "id": "b6207176",
   "metadata": {},
   "outputs": [
    {
     "data": {
      "text/html": [
       "<div>\n",
       "<style scoped>\n",
       "    .dataframe tbody tr th:only-of-type {\n",
       "        vertical-align: middle;\n",
       "    }\n",
       "\n",
       "    .dataframe tbody tr th {\n",
       "        vertical-align: top;\n",
       "    }\n",
       "\n",
       "    .dataframe thead th {\n",
       "        text-align: right;\n",
       "    }\n",
       "</style>\n",
       "<table border=\"1\" class=\"dataframe\">\n",
       "  <thead>\n",
       "    <tr style=\"text-align: right;\">\n",
       "      <th></th>\n",
       "      <th>a</th>\n",
       "      <th>b</th>\n",
       "      <th>c</th>\n",
       "      <th>d</th>\n",
       "    </tr>\n",
       "  </thead>\n",
       "  <tbody>\n",
       "    <tr>\n",
       "      <th>Anjir</th>\n",
       "      <td>-9.0</td>\n",
       "      <td>-10.0</td>\n",
       "      <td>-11.0</td>\n",
       "      <td>NaN</td>\n",
       "    </tr>\n",
       "    <tr>\n",
       "      <th>Anor</th>\n",
       "      <td>-3.0</td>\n",
       "      <td>-1.0</td>\n",
       "      <td>-1.0</td>\n",
       "      <td>5.0</td>\n",
       "    </tr>\n",
       "    <tr>\n",
       "      <th>Olma</th>\n",
       "      <td>0.0</td>\n",
       "      <td>-1.0</td>\n",
       "      <td>-1.0</td>\n",
       "      <td>2.0</td>\n",
       "    </tr>\n",
       "    <tr>\n",
       "      <th>Qovun</th>\n",
       "      <td>-6.0</td>\n",
       "      <td>-7.0</td>\n",
       "      <td>-8.0</td>\n",
       "      <td>NaN</td>\n",
       "    </tr>\n",
       "    <tr>\n",
       "      <th>Uzum</th>\n",
       "      <td>NaN</td>\n",
       "      <td>6.0</td>\n",
       "      <td>7.0</td>\n",
       "      <td>8.0</td>\n",
       "    </tr>\n",
       "  </tbody>\n",
       "</table>\n",
       "</div>"
      ],
      "text/plain": [
       "         a     b     c    d\n",
       "Anjir -9.0 -10.0 -11.0  NaN\n",
       "Anor  -3.0  -1.0  -1.0  5.0\n",
       "Olma   0.0  -1.0  -1.0  2.0\n",
       "Qovun -6.0  -7.0  -8.0  NaN\n",
       "Uzum   NaN   6.0   7.0  8.0"
      ]
     },
     "execution_count": 20,
     "metadata": {},
     "output_type": "execute_result"
    }
   ],
   "source": [
    "df2.rsub(df1,fill_value=0)"
   ]
  },
  {
   "cell_type": "code",
   "execution_count": 21,
   "id": "e5059d37",
   "metadata": {},
   "outputs": [
    {
     "data": {
      "text/html": [
       "<div>\n",
       "<style scoped>\n",
       "    .dataframe tbody tr th:only-of-type {\n",
       "        vertical-align: middle;\n",
       "    }\n",
       "\n",
       "    .dataframe tbody tr th {\n",
       "        vertical-align: top;\n",
       "    }\n",
       "\n",
       "    .dataframe thead th {\n",
       "        text-align: right;\n",
       "    }\n",
       "</style>\n",
       "<table border=\"1\" class=\"dataframe\">\n",
       "  <thead>\n",
       "    <tr style=\"text-align: right;\">\n",
       "      <th></th>\n",
       "      <th>a</th>\n",
       "      <th>b</th>\n",
       "      <th>c</th>\n",
       "      <th>d</th>\n",
       "    </tr>\n",
       "  </thead>\n",
       "  <tbody>\n",
       "    <tr>\n",
       "      <th>Anjir</th>\n",
       "      <td>NaN</td>\n",
       "      <td>NaN</td>\n",
       "      <td>NaN</td>\n",
       "      <td>NaN</td>\n",
       "    </tr>\n",
       "    <tr>\n",
       "      <th>Anor</th>\n",
       "      <td>NaN</td>\n",
       "      <td>1.333333</td>\n",
       "      <td>1.25</td>\n",
       "      <td>NaN</td>\n",
       "    </tr>\n",
       "    <tr>\n",
       "      <th>Olma</th>\n",
       "      <td>NaN</td>\n",
       "      <td>inf</td>\n",
       "      <td>2.00</td>\n",
       "      <td>NaN</td>\n",
       "    </tr>\n",
       "    <tr>\n",
       "      <th>Qovun</th>\n",
       "      <td>NaN</td>\n",
       "      <td>NaN</td>\n",
       "      <td>NaN</td>\n",
       "      <td>NaN</td>\n",
       "    </tr>\n",
       "    <tr>\n",
       "      <th>Uzum</th>\n",
       "      <td>NaN</td>\n",
       "      <td>NaN</td>\n",
       "      <td>NaN</td>\n",
       "      <td>NaN</td>\n",
       "    </tr>\n",
       "  </tbody>\n",
       "</table>\n",
       "</div>"
      ],
      "text/plain": [
       "        a         b     c   d\n",
       "Anjir NaN       NaN   NaN NaN\n",
       "Anor  NaN  1.333333  1.25 NaN\n",
       "Olma  NaN       inf  2.00 NaN\n",
       "Qovun NaN       NaN   NaN NaN\n",
       "Uzum  NaN       NaN   NaN NaN"
      ]
     },
     "execution_count": 21,
     "metadata": {},
     "output_type": "execute_result"
    }
   ],
   "source": [
    "df2.div(df1)"
   ]
  },
  {
   "cell_type": "code",
   "execution_count": 22,
   "id": "20b9eda8",
   "metadata": {},
   "outputs": [
    {
     "data": {
      "text/html": [
       "<div>\n",
       "<style scoped>\n",
       "    .dataframe tbody tr th:only-of-type {\n",
       "        vertical-align: middle;\n",
       "    }\n",
       "\n",
       "    .dataframe tbody tr th {\n",
       "        vertical-align: top;\n",
       "    }\n",
       "\n",
       "    .dataframe thead th {\n",
       "        text-align: right;\n",
       "    }\n",
       "</style>\n",
       "<table border=\"1\" class=\"dataframe\">\n",
       "  <thead>\n",
       "    <tr style=\"text-align: right;\">\n",
       "      <th></th>\n",
       "      <th>a</th>\n",
       "      <th>b</th>\n",
       "      <th>c</th>\n",
       "      <th>d</th>\n",
       "    </tr>\n",
       "  </thead>\n",
       "  <tbody>\n",
       "    <tr>\n",
       "      <th>Anjir</th>\n",
       "      <td>NaN</td>\n",
       "      <td>NaN</td>\n",
       "      <td>NaN</td>\n",
       "      <td>NaN</td>\n",
       "    </tr>\n",
       "    <tr>\n",
       "      <th>Anor</th>\n",
       "      <td>NaN</td>\n",
       "      <td>1.333333</td>\n",
       "      <td>1.25</td>\n",
       "      <td>NaN</td>\n",
       "    </tr>\n",
       "    <tr>\n",
       "      <th>Olma</th>\n",
       "      <td>NaN</td>\n",
       "      <td>inf</td>\n",
       "      <td>2.00</td>\n",
       "      <td>NaN</td>\n",
       "    </tr>\n",
       "    <tr>\n",
       "      <th>Qovun</th>\n",
       "      <td>NaN</td>\n",
       "      <td>NaN</td>\n",
       "      <td>NaN</td>\n",
       "      <td>NaN</td>\n",
       "    </tr>\n",
       "    <tr>\n",
       "      <th>Uzum</th>\n",
       "      <td>NaN</td>\n",
       "      <td>NaN</td>\n",
       "      <td>NaN</td>\n",
       "      <td>NaN</td>\n",
       "    </tr>\n",
       "  </tbody>\n",
       "</table>\n",
       "</div>"
      ],
      "text/plain": [
       "        a         b     c   d\n",
       "Anjir NaN       NaN   NaN NaN\n",
       "Anor  NaN  1.333333  1.25 NaN\n",
       "Olma  NaN       inf  2.00 NaN\n",
       "Qovun NaN       NaN   NaN NaN\n",
       "Uzum  NaN       NaN   NaN NaN"
      ]
     },
     "execution_count": 22,
     "metadata": {},
     "output_type": "execute_result"
    }
   ],
   "source": [
    "df1.rdiv(df2)"
   ]
  },
  {
   "cell_type": "code",
   "execution_count": 23,
   "id": "bcdec71b",
   "metadata": {},
   "outputs": [],
   "source": [
    "df = pd.DataFrame(np.arange(1,13.).reshape(3,4),index=list('abc'),columns=[\"Olma\",\"Anor\",'Qovun','Anjir'])\n",
    "obj = pd.Series([1,1,2,2],index=df.columns)"
   ]
  },
  {
   "cell_type": "code",
   "execution_count": 24,
   "id": "387f63e2",
   "metadata": {},
   "outputs": [
    {
     "data": {
      "text/plain": [
       "Olma     1\n",
       "Anor     1\n",
       "Qovun    2\n",
       "Anjir    2\n",
       "dtype: int64"
      ]
     },
     "execution_count": 24,
     "metadata": {},
     "output_type": "execute_result"
    }
   ],
   "source": [
    "obj"
   ]
  },
  {
   "cell_type": "code",
   "execution_count": 25,
   "id": "a892d141",
   "metadata": {},
   "outputs": [
    {
     "data": {
      "text/html": [
       "<div>\n",
       "<style scoped>\n",
       "    .dataframe tbody tr th:only-of-type {\n",
       "        vertical-align: middle;\n",
       "    }\n",
       "\n",
       "    .dataframe tbody tr th {\n",
       "        vertical-align: top;\n",
       "    }\n",
       "\n",
       "    .dataframe thead th {\n",
       "        text-align: right;\n",
       "    }\n",
       "</style>\n",
       "<table border=\"1\" class=\"dataframe\">\n",
       "  <thead>\n",
       "    <tr style=\"text-align: right;\">\n",
       "      <th></th>\n",
       "      <th>Olma</th>\n",
       "      <th>Anor</th>\n",
       "      <th>Qovun</th>\n",
       "      <th>Anjir</th>\n",
       "    </tr>\n",
       "  </thead>\n",
       "  <tbody>\n",
       "    <tr>\n",
       "      <th>a</th>\n",
       "      <td>1.0</td>\n",
       "      <td>2.0</td>\n",
       "      <td>3.0</td>\n",
       "      <td>4.0</td>\n",
       "    </tr>\n",
       "    <tr>\n",
       "      <th>b</th>\n",
       "      <td>5.0</td>\n",
       "      <td>6.0</td>\n",
       "      <td>7.0</td>\n",
       "      <td>8.0</td>\n",
       "    </tr>\n",
       "    <tr>\n",
       "      <th>c</th>\n",
       "      <td>9.0</td>\n",
       "      <td>10.0</td>\n",
       "      <td>11.0</td>\n",
       "      <td>12.0</td>\n",
       "    </tr>\n",
       "  </tbody>\n",
       "</table>\n",
       "</div>"
      ],
      "text/plain": [
       "   Olma  Anor  Qovun  Anjir\n",
       "a   1.0   2.0    3.0    4.0\n",
       "b   5.0   6.0    7.0    8.0\n",
       "c   9.0  10.0   11.0   12.0"
      ]
     },
     "execution_count": 25,
     "metadata": {},
     "output_type": "execute_result"
    }
   ],
   "source": [
    "df"
   ]
  },
  {
   "cell_type": "code",
   "execution_count": 26,
   "id": "ad92f2b4",
   "metadata": {},
   "outputs": [
    {
     "data": {
      "text/html": [
       "<div>\n",
       "<style scoped>\n",
       "    .dataframe tbody tr th:only-of-type {\n",
       "        vertical-align: middle;\n",
       "    }\n",
       "\n",
       "    .dataframe tbody tr th {\n",
       "        vertical-align: top;\n",
       "    }\n",
       "\n",
       "    .dataframe thead th {\n",
       "        text-align: right;\n",
       "    }\n",
       "</style>\n",
       "<table border=\"1\" class=\"dataframe\">\n",
       "  <thead>\n",
       "    <tr style=\"text-align: right;\">\n",
       "      <th></th>\n",
       "      <th>Olma</th>\n",
       "      <th>Anor</th>\n",
       "      <th>Qovun</th>\n",
       "      <th>Anjir</th>\n",
       "    </tr>\n",
       "  </thead>\n",
       "  <tbody>\n",
       "    <tr>\n",
       "      <th>a</th>\n",
       "      <td>2.0</td>\n",
       "      <td>3.0</td>\n",
       "      <td>5.0</td>\n",
       "      <td>6.0</td>\n",
       "    </tr>\n",
       "    <tr>\n",
       "      <th>b</th>\n",
       "      <td>6.0</td>\n",
       "      <td>7.0</td>\n",
       "      <td>9.0</td>\n",
       "      <td>10.0</td>\n",
       "    </tr>\n",
       "    <tr>\n",
       "      <th>c</th>\n",
       "      <td>10.0</td>\n",
       "      <td>11.0</td>\n",
       "      <td>13.0</td>\n",
       "      <td>14.0</td>\n",
       "    </tr>\n",
       "  </tbody>\n",
       "</table>\n",
       "</div>"
      ],
      "text/plain": [
       "   Olma  Anor  Qovun  Anjir\n",
       "a   2.0   3.0    5.0    6.0\n",
       "b   6.0   7.0    9.0   10.0\n",
       "c  10.0  11.0   13.0   14.0"
      ]
     },
     "execution_count": 26,
     "metadata": {},
     "output_type": "execute_result"
    }
   ],
   "source": [
    "obj + df"
   ]
  },
  {
   "cell_type": "code",
   "execution_count": null,
   "id": "7e9bcf05",
   "metadata": {},
   "outputs": [
    {
     "data": {
      "text/plain": [
       "Olma     2\n",
       "Uzum     3\n",
       "Qovun    1\n",
       "dtype: int64"
      ]
     },
     "execution_count": 27,
     "metadata": {},
     "output_type": "execute_result"
    }
   ],
   "source": [
    "obj = pd.Series([2,3,1],index=['Olma','Uzum','Qovun'])\n",
    "obj"
   ]
  },
  {
   "cell_type": "code",
   "execution_count": 28,
   "id": "4ea6fbc9",
   "metadata": {},
   "outputs": [
    {
     "data": {
      "text/html": [
       "<div>\n",
       "<style scoped>\n",
       "    .dataframe tbody tr th:only-of-type {\n",
       "        vertical-align: middle;\n",
       "    }\n",
       "\n",
       "    .dataframe tbody tr th {\n",
       "        vertical-align: top;\n",
       "    }\n",
       "\n",
       "    .dataframe thead th {\n",
       "        text-align: right;\n",
       "    }\n",
       "</style>\n",
       "<table border=\"1\" class=\"dataframe\">\n",
       "  <thead>\n",
       "    <tr style=\"text-align: right;\">\n",
       "      <th></th>\n",
       "      <th>Anjir</th>\n",
       "      <th>Anor</th>\n",
       "      <th>Olma</th>\n",
       "      <th>Qovun</th>\n",
       "      <th>Uzum</th>\n",
       "    </tr>\n",
       "  </thead>\n",
       "  <tbody>\n",
       "    <tr>\n",
       "      <th>a</th>\n",
       "      <td>NaN</td>\n",
       "      <td>NaN</td>\n",
       "      <td>-1.0</td>\n",
       "      <td>2.0</td>\n",
       "      <td>NaN</td>\n",
       "    </tr>\n",
       "    <tr>\n",
       "      <th>b</th>\n",
       "      <td>NaN</td>\n",
       "      <td>NaN</td>\n",
       "      <td>3.0</td>\n",
       "      <td>6.0</td>\n",
       "      <td>NaN</td>\n",
       "    </tr>\n",
       "    <tr>\n",
       "      <th>c</th>\n",
       "      <td>NaN</td>\n",
       "      <td>NaN</td>\n",
       "      <td>7.0</td>\n",
       "      <td>10.0</td>\n",
       "      <td>NaN</td>\n",
       "    </tr>\n",
       "  </tbody>\n",
       "</table>\n",
       "</div>"
      ],
      "text/plain": [
       "   Anjir  Anor  Olma  Qovun  Uzum\n",
       "a    NaN   NaN  -1.0    2.0   NaN\n",
       "b    NaN   NaN   3.0    6.0   NaN\n",
       "c    NaN   NaN   7.0   10.0   NaN"
      ]
     },
     "execution_count": 28,
     "metadata": {},
     "output_type": "execute_result"
    }
   ],
   "source": [
    "df - obj"
   ]
  },
  {
   "cell_type": "code",
   "execution_count": 29,
   "id": "b34af2e9",
   "metadata": {},
   "outputs": [
    {
     "data": {
      "text/html": [
       "<div>\n",
       "<style scoped>\n",
       "    .dataframe tbody tr th:only-of-type {\n",
       "        vertical-align: middle;\n",
       "    }\n",
       "\n",
       "    .dataframe tbody tr th {\n",
       "        vertical-align: top;\n",
       "    }\n",
       "\n",
       "    .dataframe thead th {\n",
       "        text-align: right;\n",
       "    }\n",
       "</style>\n",
       "<table border=\"1\" class=\"dataframe\">\n",
       "  <thead>\n",
       "    <tr style=\"text-align: right;\">\n",
       "      <th></th>\n",
       "      <th>Anjir</th>\n",
       "      <th>Anor</th>\n",
       "      <th>Olma</th>\n",
       "      <th>Qovun</th>\n",
       "      <th>Uzum</th>\n",
       "    </tr>\n",
       "  </thead>\n",
       "  <tbody>\n",
       "    <tr>\n",
       "      <th>a</th>\n",
       "      <td>NaN</td>\n",
       "      <td>NaN</td>\n",
       "      <td>-1.0</td>\n",
       "      <td>2.0</td>\n",
       "      <td>NaN</td>\n",
       "    </tr>\n",
       "    <tr>\n",
       "      <th>b</th>\n",
       "      <td>NaN</td>\n",
       "      <td>NaN</td>\n",
       "      <td>3.0</td>\n",
       "      <td>6.0</td>\n",
       "      <td>NaN</td>\n",
       "    </tr>\n",
       "    <tr>\n",
       "      <th>c</th>\n",
       "      <td>NaN</td>\n",
       "      <td>NaN</td>\n",
       "      <td>7.0</td>\n",
       "      <td>10.0</td>\n",
       "      <td>NaN</td>\n",
       "    </tr>\n",
       "  </tbody>\n",
       "</table>\n",
       "</div>"
      ],
      "text/plain": [
       "   Anjir  Anor  Olma  Qovun  Uzum\n",
       "a    NaN   NaN  -1.0    2.0   NaN\n",
       "b    NaN   NaN   3.0    6.0   NaN\n",
       "c    NaN   NaN   7.0   10.0   NaN"
      ]
     },
     "execution_count": 29,
     "metadata": {},
     "output_type": "execute_result"
    }
   ],
   "source": [
    "df.sub(obj)"
   ]
  },
  {
   "cell_type": "code",
   "execution_count": 30,
   "id": "83b9d4df",
   "metadata": {},
   "outputs": [
    {
     "ename": "NotImplementedError",
     "evalue": "fill_value 0 not supported.",
     "output_type": "error",
     "traceback": [
      "\u001b[31m---------------------------------------------------------------------------\u001b[39m",
      "\u001b[31mNotImplementedError\u001b[39m                       Traceback (most recent call last)",
      "\u001b[32m~\\AppData\\Local\\Temp\\ipykernel_22536\\1125854592.py\u001b[39m in \u001b[36m?\u001b[39m\u001b[34m()\u001b[39m\n\u001b[32m----> \u001b[39m\u001b[32m1\u001b[39m df.sub(obj,fill_value=\u001b[32m0\u001b[39m)\n",
      "\u001b[32mc:\\Users\\behru\\AppData\\Local\\Programs\\Python\\Python312\\Lib\\site-packages\\pandas\\core\\frame.py\u001b[39m in \u001b[36m?\u001b[39m\u001b[34m(self, other, axis, level, fill_value)\u001b[39m\n\u001b[32m   8368\u001b[39m     @Appender(ops.make_flex_doc(\u001b[33m\"sub\"\u001b[39m, \u001b[33m\"dataframe\"\u001b[39m))\n\u001b[32m   8369\u001b[39m     def sub(\n\u001b[32m   8370\u001b[39m         self, other, axis: Axis = \u001b[33m\"columns\"\u001b[39m, level=\u001b[38;5;28;01mNone\u001b[39;00m, fill_value=\u001b[38;5;28;01mNone\u001b[39;00m\n\u001b[32m   8371\u001b[39m     ) -> DataFrame:\n\u001b[32m-> \u001b[39m\u001b[32m8372\u001b[39m         return self._flex_arith_method(\n\u001b[32m   8373\u001b[39m             other, operator.sub, level=level, fill_value=fill_value, axis=axis\n\u001b[32m   8374\u001b[39m         )\n",
      "\u001b[32mc:\\Users\\behru\\AppData\\Local\\Programs\\Python\\Python312\\Lib\\site-packages\\pandas\\core\\frame.py\u001b[39m in \u001b[36m?\u001b[39m\u001b[34m(self, other, op, axis, level, fill_value)\u001b[39m\n\u001b[32m   8264\u001b[39m \n\u001b[32m   8265\u001b[39m         \u001b[38;5;28;01mif\u001b[39;00m isinstance(other, Series) \u001b[38;5;28;01mand\u001b[39;00m fill_value \u001b[38;5;28;01mis\u001b[39;00m \u001b[38;5;28;01mnot\u001b[39;00m \u001b[38;5;28;01mNone\u001b[39;00m:\n\u001b[32m   8266\u001b[39m             \u001b[38;5;66;03m# TODO: We could allow this in cases where we end up going\u001b[39;00m\n\u001b[32m   8267\u001b[39m             \u001b[38;5;66;03m#  through the DataFrame path\u001b[39;00m\n\u001b[32m-> \u001b[39m\u001b[32m8268\u001b[39m             \u001b[38;5;28;01mraise\u001b[39;00m NotImplementedError(f\"fill_value {fill_value} not supported.\")\n\u001b[32m   8269\u001b[39m \n\u001b[32m   8270\u001b[39m         other = ops.maybe_prepare_scalar_for_op(other, self.shape)\n\u001b[32m   8271\u001b[39m         self, other = self._align_for_op(other, axis, flex=\u001b[38;5;28;01mTrue\u001b[39;00m, level=level)\n",
      "\u001b[31mNotImplementedError\u001b[39m: fill_value 0 not supported."
     ]
    }
   ],
   "source": [
    "df.sub(obj,fill_value=0)"
   ]
  },
  {
   "cell_type": "code",
   "execution_count": 31,
   "id": "83e8835d",
   "metadata": {},
   "outputs": [
    {
     "data": {
      "text/html": [
       "<div>\n",
       "<style scoped>\n",
       "    .dataframe tbody tr th:only-of-type {\n",
       "        vertical-align: middle;\n",
       "    }\n",
       "\n",
       "    .dataframe tbody tr th {\n",
       "        vertical-align: top;\n",
       "    }\n",
       "\n",
       "    .dataframe thead th {\n",
       "        text-align: right;\n",
       "    }\n",
       "</style>\n",
       "<table border=\"1\" class=\"dataframe\">\n",
       "  <thead>\n",
       "    <tr style=\"text-align: right;\">\n",
       "      <th></th>\n",
       "      <th>Olma</th>\n",
       "      <th>Anor</th>\n",
       "      <th>Qovun</th>\n",
       "      <th>Anjir</th>\n",
       "    </tr>\n",
       "  </thead>\n",
       "  <tbody>\n",
       "    <tr>\n",
       "      <th>a</th>\n",
       "      <td>1.0</td>\n",
       "      <td>2.0</td>\n",
       "      <td>3.0</td>\n",
       "      <td>4.0</td>\n",
       "    </tr>\n",
       "    <tr>\n",
       "      <th>b</th>\n",
       "      <td>5.0</td>\n",
       "      <td>6.0</td>\n",
       "      <td>7.0</td>\n",
       "      <td>8.0</td>\n",
       "    </tr>\n",
       "    <tr>\n",
       "      <th>c</th>\n",
       "      <td>9.0</td>\n",
       "      <td>10.0</td>\n",
       "      <td>11.0</td>\n",
       "      <td>12.0</td>\n",
       "    </tr>\n",
       "  </tbody>\n",
       "</table>\n",
       "</div>"
      ],
      "text/plain": [
       "   Olma  Anor  Qovun  Anjir\n",
       "a   1.0   2.0    3.0    4.0\n",
       "b   5.0   6.0    7.0    8.0\n",
       "c   9.0  10.0   11.0   12.0"
      ]
     },
     "execution_count": 31,
     "metadata": {},
     "output_type": "execute_result"
    }
   ],
   "source": [
    "df"
   ]
  },
  {
   "cell_type": "code",
   "execution_count": 33,
   "id": "aaa872ea",
   "metadata": {},
   "outputs": [
    {
     "data": {
      "text/plain": [
       "np.int64(2)"
      ]
     },
     "execution_count": 33,
     "metadata": {},
     "output_type": "execute_result"
    }
   ],
   "source": [
    "obj['Olma']"
   ]
  },
  {
   "cell_type": "code",
   "execution_count": 34,
   "id": "e1615cd2",
   "metadata": {},
   "outputs": [
    {
     "data": {
      "text/html": [
       "<div>\n",
       "<style scoped>\n",
       "    .dataframe tbody tr th:only-of-type {\n",
       "        vertical-align: middle;\n",
       "    }\n",
       "\n",
       "    .dataframe tbody tr th {\n",
       "        vertical-align: top;\n",
       "    }\n",
       "\n",
       "    .dataframe thead th {\n",
       "        text-align: right;\n",
       "    }\n",
       "</style>\n",
       "<table border=\"1\" class=\"dataframe\">\n",
       "  <thead>\n",
       "    <tr style=\"text-align: right;\">\n",
       "      <th></th>\n",
       "      <th>Olma</th>\n",
       "      <th>Anor</th>\n",
       "      <th>Qovun</th>\n",
       "      <th>Anjir</th>\n",
       "    </tr>\n",
       "  </thead>\n",
       "  <tbody>\n",
       "    <tr>\n",
       "      <th>a</th>\n",
       "      <td>3.0</td>\n",
       "      <td>4.0</td>\n",
       "      <td>5.0</td>\n",
       "      <td>6.0</td>\n",
       "    </tr>\n",
       "    <tr>\n",
       "      <th>b</th>\n",
       "      <td>7.0</td>\n",
       "      <td>8.0</td>\n",
       "      <td>9.0</td>\n",
       "      <td>10.0</td>\n",
       "    </tr>\n",
       "    <tr>\n",
       "      <th>c</th>\n",
       "      <td>11.0</td>\n",
       "      <td>12.0</td>\n",
       "      <td>13.0</td>\n",
       "      <td>14.0</td>\n",
       "    </tr>\n",
       "  </tbody>\n",
       "</table>\n",
       "</div>"
      ],
      "text/plain": [
       "   Olma  Anor  Qovun  Anjir\n",
       "a   3.0   4.0    5.0    6.0\n",
       "b   7.0   8.0    9.0   10.0\n",
       "c  11.0  12.0   13.0   14.0"
      ]
     },
     "execution_count": 34,
     "metadata": {},
     "output_type": "execute_result"
    }
   ],
   "source": [
    "df+obj['Olma']"
   ]
  },
  {
   "cell_type": "code",
   "execution_count": 35,
   "id": "700fae84",
   "metadata": {},
   "outputs": [
    {
     "data": {
      "text/html": [
       "<div>\n",
       "<style scoped>\n",
       "    .dataframe tbody tr th:only-of-type {\n",
       "        vertical-align: middle;\n",
       "    }\n",
       "\n",
       "    .dataframe tbody tr th {\n",
       "        vertical-align: top;\n",
       "    }\n",
       "\n",
       "    .dataframe thead th {\n",
       "        text-align: right;\n",
       "    }\n",
       "</style>\n",
       "<table border=\"1\" class=\"dataframe\">\n",
       "  <thead>\n",
       "    <tr style=\"text-align: right;\">\n",
       "      <th></th>\n",
       "      <th>Olma</th>\n",
       "      <th>Anor</th>\n",
       "      <th>Qovun</th>\n",
       "      <th>Anjir</th>\n",
       "    </tr>\n",
       "  </thead>\n",
       "  <tbody>\n",
       "    <tr>\n",
       "      <th>a</th>\n",
       "      <td>1.0</td>\n",
       "      <td>2.0</td>\n",
       "      <td>3.0</td>\n",
       "      <td>4.0</td>\n",
       "    </tr>\n",
       "    <tr>\n",
       "      <th>b</th>\n",
       "      <td>5.0</td>\n",
       "      <td>6.0</td>\n",
       "      <td>7.0</td>\n",
       "      <td>8.0</td>\n",
       "    </tr>\n",
       "    <tr>\n",
       "      <th>c</th>\n",
       "      <td>9.0</td>\n",
       "      <td>10.0</td>\n",
       "      <td>11.0</td>\n",
       "      <td>12.0</td>\n",
       "    </tr>\n",
       "  </tbody>\n",
       "</table>\n",
       "</div>"
      ],
      "text/plain": [
       "   Olma  Anor  Qovun  Anjir\n",
       "a   1.0   2.0    3.0    4.0\n",
       "b   5.0   6.0    7.0    8.0\n",
       "c   9.0  10.0   11.0   12.0"
      ]
     },
     "execution_count": 35,
     "metadata": {},
     "output_type": "execute_result"
    }
   ],
   "source": [
    "df"
   ]
  },
  {
   "cell_type": "code",
   "execution_count": 1,
   "id": "00bbf09e",
   "metadata": {},
   "outputs": [],
   "source": [
    "import pandas as pd\n",
    "import numpy as np"
   ]
  },
  {
   "cell_type": "code",
   "execution_count": 2,
   "id": "9cb9bc8c",
   "metadata": {},
   "outputs": [
    {
     "data": {
      "text/html": [
       "<div>\n",
       "<style scoped>\n",
       "    .dataframe tbody tr th:only-of-type {\n",
       "        vertical-align: middle;\n",
       "    }\n",
       "\n",
       "    .dataframe tbody tr th {\n",
       "        vertical-align: top;\n",
       "    }\n",
       "\n",
       "    .dataframe thead th {\n",
       "        text-align: right;\n",
       "    }\n",
       "</style>\n",
       "<table border=\"1\" class=\"dataframe\">\n",
       "  <thead>\n",
       "    <tr style=\"text-align: right;\">\n",
       "      <th></th>\n",
       "      <th>Olma</th>\n",
       "      <th>Anor</th>\n",
       "      <th>Qovun</th>\n",
       "      <th>Anjir</th>\n",
       "    </tr>\n",
       "  </thead>\n",
       "  <tbody>\n",
       "    <tr>\n",
       "      <th>a</th>\n",
       "      <td>0.927973</td>\n",
       "      <td>0.739747</td>\n",
       "      <td>0.433561</td>\n",
       "      <td>0.567479</td>\n",
       "    </tr>\n",
       "    <tr>\n",
       "      <th>b</th>\n",
       "      <td>0.086049</td>\n",
       "      <td>0.789003</td>\n",
       "      <td>0.608710</td>\n",
       "      <td>0.281919</td>\n",
       "    </tr>\n",
       "    <tr>\n",
       "      <th>c</th>\n",
       "      <td>0.420788</td>\n",
       "      <td>0.869630</td>\n",
       "      <td>0.196525</td>\n",
       "      <td>0.211403</td>\n",
       "    </tr>\n",
       "  </tbody>\n",
       "</table>\n",
       "</div>"
      ],
      "text/plain": [
       "       Olma      Anor     Qovun     Anjir\n",
       "a  0.927973  0.739747  0.433561  0.567479\n",
       "b  0.086049  0.789003  0.608710  0.281919\n",
       "c  0.420788  0.869630  0.196525  0.211403"
      ]
     },
     "execution_count": 2,
     "metadata": {},
     "output_type": "execute_result"
    }
   ],
   "source": [
    "df = pd.DataFrame(np.random.rand(3,4),index=list('abc'),columns=['Olma','Anor','Qovun','Anjir'])\n",
    "df"
   ]
  },
  {
   "cell_type": "code",
   "execution_count": 5,
   "id": "df14661d",
   "metadata": {},
   "outputs": [
    {
     "data": {
      "text/html": [
       "<div>\n",
       "<style scoped>\n",
       "    .dataframe tbody tr th:only-of-type {\n",
       "        vertical-align: middle;\n",
       "    }\n",
       "\n",
       "    .dataframe tbody tr th {\n",
       "        vertical-align: top;\n",
       "    }\n",
       "\n",
       "    .dataframe thead th {\n",
       "        text-align: right;\n",
       "    }\n",
       "</style>\n",
       "<table border=\"1\" class=\"dataframe\">\n",
       "  <thead>\n",
       "    <tr style=\"text-align: right;\">\n",
       "      <th></th>\n",
       "      <th>Olma</th>\n",
       "      <th>Anor</th>\n",
       "      <th>Qovun</th>\n",
       "      <th>Anjir</th>\n",
       "    </tr>\n",
       "  </thead>\n",
       "  <tbody>\n",
       "    <tr>\n",
       "      <th>a</th>\n",
       "      <td>0.927973</td>\n",
       "      <td>0.739747</td>\n",
       "      <td>0.433561</td>\n",
       "      <td>0.567479</td>\n",
       "    </tr>\n",
       "    <tr>\n",
       "      <th>b</th>\n",
       "      <td>0.086049</td>\n",
       "      <td>0.789003</td>\n",
       "      <td>0.608710</td>\n",
       "      <td>0.281919</td>\n",
       "    </tr>\n",
       "    <tr>\n",
       "      <th>c</th>\n",
       "      <td>0.420788</td>\n",
       "      <td>0.869630</td>\n",
       "      <td>0.196525</td>\n",
       "      <td>0.211403</td>\n",
       "    </tr>\n",
       "  </tbody>\n",
       "</table>\n",
       "</div>"
      ],
      "text/plain": [
       "       Olma      Anor     Qovun     Anjir\n",
       "a  0.927973  0.739747  0.433561  0.567479\n",
       "b  0.086049  0.789003  0.608710  0.281919\n",
       "c  0.420788  0.869630  0.196525  0.211403"
      ]
     },
     "execution_count": 5,
     "metadata": {},
     "output_type": "execute_result"
    }
   ],
   "source": [
    "np.abs(df)"
   ]
  },
  {
   "cell_type": "code",
   "execution_count": 6,
   "id": "fd8b9655",
   "metadata": {},
   "outputs": [
    {
     "data": {
      "text/html": [
       "<div>\n",
       "<style scoped>\n",
       "    .dataframe tbody tr th:only-of-type {\n",
       "        vertical-align: middle;\n",
       "    }\n",
       "\n",
       "    .dataframe tbody tr th {\n",
       "        vertical-align: top;\n",
       "    }\n",
       "\n",
       "    .dataframe thead th {\n",
       "        text-align: right;\n",
       "    }\n",
       "</style>\n",
       "<table border=\"1\" class=\"dataframe\">\n",
       "  <thead>\n",
       "    <tr style=\"text-align: right;\">\n",
       "      <th></th>\n",
       "      <th>Olma</th>\n",
       "      <th>Anor</th>\n",
       "      <th>Qovun</th>\n",
       "      <th>Anjir</th>\n",
       "    </tr>\n",
       "  </thead>\n",
       "  <tbody>\n",
       "    <tr>\n",
       "      <th>a</th>\n",
       "      <td>1.0</td>\n",
       "      <td>1.0</td>\n",
       "      <td>0.0</td>\n",
       "      <td>1.0</td>\n",
       "    </tr>\n",
       "    <tr>\n",
       "      <th>b</th>\n",
       "      <td>0.0</td>\n",
       "      <td>1.0</td>\n",
       "      <td>1.0</td>\n",
       "      <td>0.0</td>\n",
       "    </tr>\n",
       "    <tr>\n",
       "      <th>c</th>\n",
       "      <td>0.0</td>\n",
       "      <td>1.0</td>\n",
       "      <td>0.0</td>\n",
       "      <td>0.0</td>\n",
       "    </tr>\n",
       "  </tbody>\n",
       "</table>\n",
       "</div>"
      ],
      "text/plain": [
       "   Olma  Anor  Qovun  Anjir\n",
       "a   1.0   1.0    0.0    1.0\n",
       "b   0.0   1.0    1.0    0.0\n",
       "c   0.0   1.0    0.0    0.0"
      ]
     },
     "execution_count": 6,
     "metadata": {},
     "output_type": "execute_result"
    }
   ],
   "source": [
    "np.round(df)"
   ]
  },
  {
   "cell_type": "code",
   "execution_count": 7,
   "id": "ec1ee7cd",
   "metadata": {},
   "outputs": [
    {
     "data": {
      "text/html": [
       "<div>\n",
       "<style scoped>\n",
       "    .dataframe tbody tr th:only-of-type {\n",
       "        vertical-align: middle;\n",
       "    }\n",
       "\n",
       "    .dataframe tbody tr th {\n",
       "        vertical-align: top;\n",
       "    }\n",
       "\n",
       "    .dataframe thead th {\n",
       "        text-align: right;\n",
       "    }\n",
       "</style>\n",
       "<table border=\"1\" class=\"dataframe\">\n",
       "  <thead>\n",
       "    <tr style=\"text-align: right;\">\n",
       "      <th></th>\n",
       "      <th>Olma</th>\n",
       "      <th>Anor</th>\n",
       "      <th>Qovun</th>\n",
       "      <th>Anjir</th>\n",
       "    </tr>\n",
       "  </thead>\n",
       "  <tbody>\n",
       "    <tr>\n",
       "      <th>a</th>\n",
       "      <td>0.927973</td>\n",
       "      <td>0.739747</td>\n",
       "      <td>0.433561</td>\n",
       "      <td>0.567479</td>\n",
       "    </tr>\n",
       "    <tr>\n",
       "      <th>b</th>\n",
       "      <td>0.086049</td>\n",
       "      <td>0.789003</td>\n",
       "      <td>0.608710</td>\n",
       "      <td>0.281919</td>\n",
       "    </tr>\n",
       "    <tr>\n",
       "      <th>c</th>\n",
       "      <td>0.420788</td>\n",
       "      <td>0.869630</td>\n",
       "      <td>0.196525</td>\n",
       "      <td>0.211403</td>\n",
       "    </tr>\n",
       "  </tbody>\n",
       "</table>\n",
       "</div>"
      ],
      "text/plain": [
       "       Olma      Anor     Qovun     Anjir\n",
       "a  0.927973  0.739747  0.433561  0.567479\n",
       "b  0.086049  0.789003  0.608710  0.281919\n",
       "c  0.420788  0.869630  0.196525  0.211403"
      ]
     },
     "execution_count": 7,
     "metadata": {},
     "output_type": "execute_result"
    }
   ],
   "source": [
    "df"
   ]
  },
  {
   "cell_type": "code",
   "execution_count": 8,
   "id": "0017d887",
   "metadata": {},
   "outputs": [
    {
     "data": {
      "text/plain": [
       "Olma     0.478270\n",
       "Anor     0.799460\n",
       "Qovun    0.412932\n",
       "Anjir    0.353600\n",
       "dtype: float64"
      ]
     },
     "execution_count": 8,
     "metadata": {},
     "output_type": "execute_result"
    }
   ],
   "source": [
    "df.mean()"
   ]
  },
  {
   "cell_type": "code",
   "execution_count": 9,
   "id": "7bd03f10",
   "metadata": {},
   "outputs": [
    {
     "data": {
      "text/plain": [
       "a    0.667190\n",
       "b    0.441420\n",
       "c    0.424587\n",
       "dtype: float64"
      ]
     },
     "execution_count": 9,
     "metadata": {},
     "output_type": "execute_result"
    }
   ],
   "source": [
    "df.mean(axis=1)"
   ]
  },
  {
   "cell_type": "code",
   "execution_count": 10,
   "id": "1765abd0",
   "metadata": {},
   "outputs": [
    {
     "data": {
      "text/html": [
       "<div>\n",
       "<style scoped>\n",
       "    .dataframe tbody tr th:only-of-type {\n",
       "        vertical-align: middle;\n",
       "    }\n",
       "\n",
       "    .dataframe tbody tr th {\n",
       "        vertical-align: top;\n",
       "    }\n",
       "\n",
       "    .dataframe thead th {\n",
       "        text-align: right;\n",
       "    }\n",
       "</style>\n",
       "<table border=\"1\" class=\"dataframe\">\n",
       "  <thead>\n",
       "    <tr style=\"text-align: right;\">\n",
       "      <th></th>\n",
       "      <th>Olma</th>\n",
       "      <th>Anor</th>\n",
       "      <th>Qovun</th>\n",
       "      <th>Anjir</th>\n",
       "    </tr>\n",
       "  </thead>\n",
       "  <tbody>\n",
       "    <tr>\n",
       "      <th>a</th>\n",
       "      <td>0.927973</td>\n",
       "      <td>0.739747</td>\n",
       "      <td>0.433561</td>\n",
       "      <td>0.567479</td>\n",
       "    </tr>\n",
       "    <tr>\n",
       "      <th>b</th>\n",
       "      <td>0.086049</td>\n",
       "      <td>0.789003</td>\n",
       "      <td>0.608710</td>\n",
       "      <td>0.281919</td>\n",
       "    </tr>\n",
       "    <tr>\n",
       "      <th>c</th>\n",
       "      <td>0.420788</td>\n",
       "      <td>0.869630</td>\n",
       "      <td>0.196525</td>\n",
       "      <td>0.211403</td>\n",
       "    </tr>\n",
       "  </tbody>\n",
       "</table>\n",
       "</div>"
      ],
      "text/plain": [
       "       Olma      Anor     Qovun     Anjir\n",
       "a  0.927973  0.739747  0.433561  0.567479\n",
       "b  0.086049  0.789003  0.608710  0.281919\n",
       "c  0.420788  0.869630  0.196525  0.211403"
      ]
     },
     "execution_count": 10,
     "metadata": {},
     "output_type": "execute_result"
    }
   ],
   "source": [
    "df.apply(np.abs)"
   ]
  },
  {
   "cell_type": "code",
   "execution_count": 11,
   "id": "32b92eb5",
   "metadata": {},
   "outputs": [
    {
     "data": {
      "text/plain": [
       "Olma     1.434810\n",
       "Anor     2.398381\n",
       "Qovun    1.238796\n",
       "Anjir    1.060801\n",
       "dtype: float64"
      ]
     },
     "execution_count": 11,
     "metadata": {},
     "output_type": "execute_result"
    }
   ],
   "source": [
    "df.apply(sum)"
   ]
  },
  {
   "cell_type": "code",
   "execution_count": 13,
   "id": "b0323b33",
   "metadata": {},
   "outputs": [
    {
     "data": {
      "text/plain": [
       "a    2.668760\n",
       "b    1.765681\n",
       "c    1.698347\n",
       "dtype: float64"
      ]
     },
     "execution_count": 13,
     "metadata": {},
     "output_type": "execute_result"
    }
   ],
   "source": [
    "df.apply(sum,axis=1)"
   ]
  },
  {
   "cell_type": "code",
   "execution_count": 14,
   "id": "0a56162d",
   "metadata": {},
   "outputs": [],
   "source": [
    "f = lambda x: x.max() - x.min()"
   ]
  },
  {
   "cell_type": "code",
   "execution_count": 15,
   "id": "92146336",
   "metadata": {},
   "outputs": [
    {
     "data": {
      "text/plain": [
       "Olma     0.841924\n",
       "Anor     0.129883\n",
       "Qovun    0.412184\n",
       "Anjir    0.356076\n",
       "dtype: float64"
      ]
     },
     "execution_count": 15,
     "metadata": {},
     "output_type": "execute_result"
    }
   ],
   "source": [
    "df.apply(f)"
   ]
  },
  {
   "cell_type": "code",
   "execution_count": 16,
   "id": "dff0a328",
   "metadata": {},
   "outputs": [
    {
     "data": {
      "text/plain": [
       "Olma     0.841924\n",
       "Anor     0.129883\n",
       "Qovun    0.412184\n",
       "Anjir    0.356076\n",
       "dtype: float64"
      ]
     },
     "execution_count": 16,
     "metadata": {},
     "output_type": "execute_result"
    }
   ],
   "source": [
    "df.apply(lambda x:x.max() - x.min())"
   ]
  },
  {
   "cell_type": "code",
   "execution_count": 18,
   "id": "4a0a0c40",
   "metadata": {},
   "outputs": [],
   "source": [
    "def foo(x):\n",
    "    return pd.Series([x.min(),x.max()],index=['min','max'])"
   ]
  },
  {
   "cell_type": "code",
   "execution_count": null,
   "id": "e91e680c",
   "metadata": {},
   "outputs": [
    {
     "data": {
      "text/html": [
       "<div>\n",
       "<style scoped>\n",
       "    .dataframe tbody tr th:only-of-type {\n",
       "        vertical-align: middle;\n",
       "    }\n",
       "\n",
       "    .dataframe tbody tr th {\n",
       "        vertical-align: top;\n",
       "    }\n",
       "\n",
       "    .dataframe thead th {\n",
       "        text-align: right;\n",
       "    }\n",
       "</style>\n",
       "<table border=\"1\" class=\"dataframe\">\n",
       "  <thead>\n",
       "    <tr style=\"text-align: right;\">\n",
       "      <th></th>\n",
       "      <th>Olma</th>\n",
       "      <th>Anor</th>\n",
       "      <th>Qovun</th>\n",
       "      <th>Anjir</th>\n",
       "    </tr>\n",
       "  </thead>\n",
       "  <tbody>\n",
       "    <tr>\n",
       "      <th>min</th>\n",
       "      <td>0.086049</td>\n",
       "      <td>0.739747</td>\n",
       "      <td>0.196525</td>\n",
       "      <td>0.211403</td>\n",
       "    </tr>\n",
       "    <tr>\n",
       "      <th>max</th>\n",
       "      <td>0.927973</td>\n",
       "      <td>0.869630</td>\n",
       "      <td>0.608710</td>\n",
       "      <td>0.567479</td>\n",
       "    </tr>\n",
       "  </tbody>\n",
       "</table>\n",
       "</div>"
      ],
      "text/plain": [
       "         Olma      Anor     Qovun     Anjir\n",
       "min  0.086049  0.739747  0.196525  0.211403\n",
       "max  0.927973  0.869630  0.608710  0.567479"
      ]
     },
     "execution_count": 19,
     "metadata": {},
     "output_type": "execute_result"
    }
   ],
   "source": [
    "df.apply(foo)"
   ]
  },
  {
   "cell_type": "code",
   "execution_count": 20,
   "id": "6674cc8e",
   "metadata": {},
   "outputs": [
    {
     "data": {
      "text/html": [
       "<div>\n",
       "<style scoped>\n",
       "    .dataframe tbody tr th:only-of-type {\n",
       "        vertical-align: middle;\n",
       "    }\n",
       "\n",
       "    .dataframe tbody tr th {\n",
       "        vertical-align: top;\n",
       "    }\n",
       "\n",
       "    .dataframe thead th {\n",
       "        text-align: right;\n",
       "    }\n",
       "</style>\n",
       "<table border=\"1\" class=\"dataframe\">\n",
       "  <thead>\n",
       "    <tr style=\"text-align: right;\">\n",
       "      <th></th>\n",
       "      <th>Olma</th>\n",
       "      <th>Anor</th>\n",
       "      <th>Qovun</th>\n",
       "      <th>Anjir</th>\n",
       "    </tr>\n",
       "  </thead>\n",
       "  <tbody>\n",
       "    <tr>\n",
       "      <th>a</th>\n",
       "      <td>0.927973</td>\n",
       "      <td>0.739747</td>\n",
       "      <td>0.433561</td>\n",
       "      <td>0.567479</td>\n",
       "    </tr>\n",
       "    <tr>\n",
       "      <th>b</th>\n",
       "      <td>0.086049</td>\n",
       "      <td>0.789003</td>\n",
       "      <td>0.608710</td>\n",
       "      <td>0.281919</td>\n",
       "    </tr>\n",
       "    <tr>\n",
       "      <th>c</th>\n",
       "      <td>0.420788</td>\n",
       "      <td>0.869630</td>\n",
       "      <td>0.196525</td>\n",
       "      <td>0.211403</td>\n",
       "    </tr>\n",
       "  </tbody>\n",
       "</table>\n",
       "</div>"
      ],
      "text/plain": [
       "       Olma      Anor     Qovun     Anjir\n",
       "a  0.927973  0.739747  0.433561  0.567479\n",
       "b  0.086049  0.789003  0.608710  0.281919\n",
       "c  0.420788  0.869630  0.196525  0.211403"
      ]
     },
     "execution_count": 20,
     "metadata": {},
     "output_type": "execute_result"
    }
   ],
   "source": [
    "df"
   ]
  },
  {
   "cell_type": "code",
   "execution_count": 21,
   "id": "f246d105",
   "metadata": {},
   "outputs": [
    {
     "data": {
      "text/html": [
       "<div>\n",
       "<style scoped>\n",
       "    .dataframe tbody tr th:only-of-type {\n",
       "        vertical-align: middle;\n",
       "    }\n",
       "\n",
       "    .dataframe tbody tr th {\n",
       "        vertical-align: top;\n",
       "    }\n",
       "\n",
       "    .dataframe thead th {\n",
       "        text-align: right;\n",
       "    }\n",
       "</style>\n",
       "<table border=\"1\" class=\"dataframe\">\n",
       "  <thead>\n",
       "    <tr style=\"text-align: right;\">\n",
       "      <th></th>\n",
       "      <th>Olma</th>\n",
       "      <th>Anor</th>\n",
       "      <th>Qovun</th>\n",
       "      <th>Anjir</th>\n",
       "    </tr>\n",
       "  </thead>\n",
       "  <tbody>\n",
       "    <tr>\n",
       "      <th>a</th>\n",
       "      <td>1</td>\n",
       "      <td>2</td>\n",
       "      <td>3</td>\n",
       "      <td>4</td>\n",
       "    </tr>\n",
       "    <tr>\n",
       "      <th>b</th>\n",
       "      <td>5</td>\n",
       "      <td>6</td>\n",
       "      <td>7</td>\n",
       "      <td>8</td>\n",
       "    </tr>\n",
       "    <tr>\n",
       "      <th>c</th>\n",
       "      <td>9</td>\n",
       "      <td>10</td>\n",
       "      <td>11</td>\n",
       "      <td>12</td>\n",
       "    </tr>\n",
       "  </tbody>\n",
       "</table>\n",
       "</div>"
      ],
      "text/plain": [
       "   Olma  Anor  Qovun  Anjir\n",
       "a     1     2      3      4\n",
       "b     5     6      7      8\n",
       "c     9    10     11     12"
      ]
     },
     "execution_count": 21,
     "metadata": {},
     "output_type": "execute_result"
    }
   ],
   "source": [
    "df = pd.DataFrame(np.arange(1,13).reshape(3,4),index=list('abc'),columns=['Olma','Anor','Qovun','Anjir'])\n",
    "df"
   ]
  },
  {
   "cell_type": "code",
   "execution_count": 22,
   "id": "4cae9b3a",
   "metadata": {},
   "outputs": [
    {
     "name": "stderr",
     "output_type": "stream",
     "text": [
      "C:\\Users\\behru\\AppData\\Local\\Temp\\ipykernel_21392\\3315716669.py:1: FutureWarning: DataFrame.applymap has been deprecated. Use DataFrame.map instead.\n",
      "  df.applymap(lambda x: x * x)\n"
     ]
    },
    {
     "data": {
      "text/html": [
       "<div>\n",
       "<style scoped>\n",
       "    .dataframe tbody tr th:only-of-type {\n",
       "        vertical-align: middle;\n",
       "    }\n",
       "\n",
       "    .dataframe tbody tr th {\n",
       "        vertical-align: top;\n",
       "    }\n",
       "\n",
       "    .dataframe thead th {\n",
       "        text-align: right;\n",
       "    }\n",
       "</style>\n",
       "<table border=\"1\" class=\"dataframe\">\n",
       "  <thead>\n",
       "    <tr style=\"text-align: right;\">\n",
       "      <th></th>\n",
       "      <th>Olma</th>\n",
       "      <th>Anor</th>\n",
       "      <th>Qovun</th>\n",
       "      <th>Anjir</th>\n",
       "    </tr>\n",
       "  </thead>\n",
       "  <tbody>\n",
       "    <tr>\n",
       "      <th>a</th>\n",
       "      <td>1</td>\n",
       "      <td>4</td>\n",
       "      <td>9</td>\n",
       "      <td>16</td>\n",
       "    </tr>\n",
       "    <tr>\n",
       "      <th>b</th>\n",
       "      <td>25</td>\n",
       "      <td>36</td>\n",
       "      <td>49</td>\n",
       "      <td>64</td>\n",
       "    </tr>\n",
       "    <tr>\n",
       "      <th>c</th>\n",
       "      <td>81</td>\n",
       "      <td>100</td>\n",
       "      <td>121</td>\n",
       "      <td>144</td>\n",
       "    </tr>\n",
       "  </tbody>\n",
       "</table>\n",
       "</div>"
      ],
      "text/plain": [
       "   Olma  Anor  Qovun  Anjir\n",
       "a     1     4      9     16\n",
       "b    25    36     49     64\n",
       "c    81   100    121    144"
      ]
     },
     "execution_count": 22,
     "metadata": {},
     "output_type": "execute_result"
    }
   ],
   "source": [
    "df.applymap(lambda x: x * x)"
   ]
  },
  {
   "cell_type": "code",
   "execution_count": 23,
   "id": "db98e8c1",
   "metadata": {},
   "outputs": [],
   "source": [
    "obj = pd.Series(range(4),index=['d','a','b','c'])"
   ]
  },
  {
   "cell_type": "code",
   "execution_count": 24,
   "id": "f753f01d",
   "metadata": {},
   "outputs": [
    {
     "data": {
      "text/plain": [
       "d    0\n",
       "a    1\n",
       "b    2\n",
       "c    3\n",
       "dtype: int64"
      ]
     },
     "execution_count": 24,
     "metadata": {},
     "output_type": "execute_result"
    }
   ],
   "source": [
    "obj"
   ]
  },
  {
   "cell_type": "code",
   "execution_count": 25,
   "id": "2a454e25",
   "metadata": {},
   "outputs": [
    {
     "data": {
      "text/plain": [
       "a    1\n",
       "b    2\n",
       "c    3\n",
       "d    0\n",
       "dtype: int64"
      ]
     },
     "execution_count": 25,
     "metadata": {},
     "output_type": "execute_result"
    }
   ],
   "source": [
    "obj.sort_index()"
   ]
  },
  {
   "cell_type": "code",
   "execution_count": 26,
   "id": "90500a7f",
   "metadata": {},
   "outputs": [
    {
     "data": {
      "text/plain": [
       "d    0\n",
       "a    1\n",
       "b    2\n",
       "c    3\n",
       "dtype: int64"
      ]
     },
     "execution_count": 26,
     "metadata": {},
     "output_type": "execute_result"
    }
   ],
   "source": [
    "obj.sort_values()"
   ]
  },
  {
   "cell_type": "code",
   "execution_count": 33,
   "id": "1de1f268",
   "metadata": {},
   "outputs": [
    {
     "data": {
      "text/html": [
       "<div>\n",
       "<style scoped>\n",
       "    .dataframe tbody tr th:only-of-type {\n",
       "        vertical-align: middle;\n",
       "    }\n",
       "\n",
       "    .dataframe tbody tr th {\n",
       "        vertical-align: top;\n",
       "    }\n",
       "\n",
       "    .dataframe thead th {\n",
       "        text-align: right;\n",
       "    }\n",
       "</style>\n",
       "<table border=\"1\" class=\"dataframe\">\n",
       "  <thead>\n",
       "    <tr style=\"text-align: right;\">\n",
       "      <th></th>\n",
       "      <th>price</th>\n",
       "      <th>brand</th>\n",
       "      <th>model</th>\n",
       "      <th>year</th>\n",
       "      <th>title_status</th>\n",
       "      <th>mileage</th>\n",
       "      <th>color</th>\n",
       "      <th>vin</th>\n",
       "      <th>lot</th>\n",
       "      <th>state</th>\n",
       "      <th>country</th>\n",
       "      <th>condition</th>\n",
       "    </tr>\n",
       "  </thead>\n",
       "  <tbody>\n",
       "    <tr>\n",
       "      <th>0</th>\n",
       "      <td>6300</td>\n",
       "      <td>toyota</td>\n",
       "      <td>cruiser</td>\n",
       "      <td>2008</td>\n",
       "      <td>clean vehicle</td>\n",
       "      <td>274117</td>\n",
       "      <td>black</td>\n",
       "      <td>jtezu11f88k007763</td>\n",
       "      <td>159348797</td>\n",
       "      <td>new jersey</td>\n",
       "      <td>usa</td>\n",
       "      <td>10 days left</td>\n",
       "    </tr>\n",
       "    <tr>\n",
       "      <th>1</th>\n",
       "      <td>2899</td>\n",
       "      <td>ford</td>\n",
       "      <td>se</td>\n",
       "      <td>2011</td>\n",
       "      <td>clean vehicle</td>\n",
       "      <td>190552</td>\n",
       "      <td>silver</td>\n",
       "      <td>2fmdk3gc4bbb02217</td>\n",
       "      <td>166951262</td>\n",
       "      <td>tennessee</td>\n",
       "      <td>usa</td>\n",
       "      <td>6 days left</td>\n",
       "    </tr>\n",
       "    <tr>\n",
       "      <th>2</th>\n",
       "      <td>5350</td>\n",
       "      <td>dodge</td>\n",
       "      <td>mpv</td>\n",
       "      <td>2018</td>\n",
       "      <td>clean vehicle</td>\n",
       "      <td>39590</td>\n",
       "      <td>silver</td>\n",
       "      <td>3c4pdcgg5jt346413</td>\n",
       "      <td>167655728</td>\n",
       "      <td>georgia</td>\n",
       "      <td>usa</td>\n",
       "      <td>2 days left</td>\n",
       "    </tr>\n",
       "    <tr>\n",
       "      <th>3</th>\n",
       "      <td>25000</td>\n",
       "      <td>ford</td>\n",
       "      <td>door</td>\n",
       "      <td>2014</td>\n",
       "      <td>clean vehicle</td>\n",
       "      <td>64146</td>\n",
       "      <td>blue</td>\n",
       "      <td>1ftfw1et4efc23745</td>\n",
       "      <td>167753855</td>\n",
       "      <td>virginia</td>\n",
       "      <td>usa</td>\n",
       "      <td>22 hours left</td>\n",
       "    </tr>\n",
       "    <tr>\n",
       "      <th>4</th>\n",
       "      <td>27700</td>\n",
       "      <td>chevrolet</td>\n",
       "      <td>1500</td>\n",
       "      <td>2018</td>\n",
       "      <td>clean vehicle</td>\n",
       "      <td>6654</td>\n",
       "      <td>red</td>\n",
       "      <td>3gcpcrec2jg473991</td>\n",
       "      <td>167763266</td>\n",
       "      <td>florida</td>\n",
       "      <td>usa</td>\n",
       "      <td>22 hours left</td>\n",
       "    </tr>\n",
       "  </tbody>\n",
       "</table>\n",
       "</div>"
      ],
      "text/plain": [
       "   price      brand    model  year   title_status  mileage   color  \\\n",
       "0   6300     toyota  cruiser  2008  clean vehicle   274117   black   \n",
       "1   2899       ford       se  2011  clean vehicle   190552  silver   \n",
       "2   5350      dodge      mpv  2018  clean vehicle    39590  silver   \n",
       "3  25000       ford     door  2014  clean vehicle    64146    blue   \n",
       "4  27700  chevrolet     1500  2018  clean vehicle     6654     red   \n",
       "\n",
       "                   vin        lot       state country      condition  \n",
       "0    jtezu11f88k007763  159348797  new jersey     usa   10 days left  \n",
       "1    2fmdk3gc4bbb02217  166951262   tennessee     usa    6 days left  \n",
       "2    3c4pdcgg5jt346413  167655728     georgia     usa    2 days left  \n",
       "3    1ftfw1et4efc23745  167753855    virginia     usa  22 hours left  \n",
       "4    3gcpcrec2jg473991  167763266     florida     usa  22 hours left  "
      ]
     },
     "execution_count": 33,
     "metadata": {},
     "output_type": "execute_result"
    }
   ],
   "source": [
    "url = 'https://raw.githubusercontent.com/anvarnarz/praktikum_datasets/main/usa_cars.csv'\n",
    "df = pd.read_csv(url, index_col=0)\n",
    "df.head()"
   ]
  },
  {
   "cell_type": "code",
   "execution_count": 35,
   "id": "622bfb21",
   "metadata": {},
   "outputs": [
    {
     "data": {
      "text/plain": [
       "(2499, 12)"
      ]
     },
     "execution_count": 35,
     "metadata": {},
     "output_type": "execute_result"
    }
   ],
   "source": [
    "df.shape"
   ]
  },
  {
   "cell_type": "code",
   "execution_count": 36,
   "id": "f0f867ac",
   "metadata": {},
   "outputs": [
    {
     "data": {
      "text/plain": [
       "29988"
      ]
     },
     "execution_count": 36,
     "metadata": {},
     "output_type": "execute_result"
    }
   ],
   "source": [
    "df.size"
   ]
  },
  {
   "cell_type": "code",
   "execution_count": 37,
   "id": "e693b66f",
   "metadata": {},
   "outputs": [
    {
     "data": {
      "text/html": [
       "<div>\n",
       "<style scoped>\n",
       "    .dataframe tbody tr th:only-of-type {\n",
       "        vertical-align: middle;\n",
       "    }\n",
       "\n",
       "    .dataframe tbody tr th {\n",
       "        vertical-align: top;\n",
       "    }\n",
       "\n",
       "    .dataframe thead th {\n",
       "        text-align: right;\n",
       "    }\n",
       "</style>\n",
       "<table border=\"1\" class=\"dataframe\">\n",
       "  <thead>\n",
       "    <tr style=\"text-align: right;\">\n",
       "      <th></th>\n",
       "      <th>price</th>\n",
       "      <th>brand</th>\n",
       "      <th>model</th>\n",
       "      <th>year</th>\n",
       "      <th>title_status</th>\n",
       "      <th>mileage</th>\n",
       "      <th>color</th>\n",
       "      <th>vin</th>\n",
       "      <th>lot</th>\n",
       "      <th>state</th>\n",
       "      <th>country</th>\n",
       "      <th>condition</th>\n",
       "    </tr>\n",
       "  </thead>\n",
       "  <tbody>\n",
       "    <tr>\n",
       "      <th>0</th>\n",
       "      <td>6300</td>\n",
       "      <td>toyota</td>\n",
       "      <td>cruiser</td>\n",
       "      <td>2008</td>\n",
       "      <td>clean vehicle</td>\n",
       "      <td>274117</td>\n",
       "      <td>black</td>\n",
       "      <td>jtezu11f88k007763</td>\n",
       "      <td>159348797</td>\n",
       "      <td>new jersey</td>\n",
       "      <td>usa</td>\n",
       "      <td>10 days left</td>\n",
       "    </tr>\n",
       "    <tr>\n",
       "      <th>1</th>\n",
       "      <td>2899</td>\n",
       "      <td>ford</td>\n",
       "      <td>se</td>\n",
       "      <td>2011</td>\n",
       "      <td>clean vehicle</td>\n",
       "      <td>190552</td>\n",
       "      <td>silver</td>\n",
       "      <td>2fmdk3gc4bbb02217</td>\n",
       "      <td>166951262</td>\n",
       "      <td>tennessee</td>\n",
       "      <td>usa</td>\n",
       "      <td>6 days left</td>\n",
       "    </tr>\n",
       "    <tr>\n",
       "      <th>2</th>\n",
       "      <td>5350</td>\n",
       "      <td>dodge</td>\n",
       "      <td>mpv</td>\n",
       "      <td>2018</td>\n",
       "      <td>clean vehicle</td>\n",
       "      <td>39590</td>\n",
       "      <td>silver</td>\n",
       "      <td>3c4pdcgg5jt346413</td>\n",
       "      <td>167655728</td>\n",
       "      <td>georgia</td>\n",
       "      <td>usa</td>\n",
       "      <td>2 days left</td>\n",
       "    </tr>\n",
       "    <tr>\n",
       "      <th>3</th>\n",
       "      <td>25000</td>\n",
       "      <td>ford</td>\n",
       "      <td>door</td>\n",
       "      <td>2014</td>\n",
       "      <td>clean vehicle</td>\n",
       "      <td>64146</td>\n",
       "      <td>blue</td>\n",
       "      <td>1ftfw1et4efc23745</td>\n",
       "      <td>167753855</td>\n",
       "      <td>virginia</td>\n",
       "      <td>usa</td>\n",
       "      <td>22 hours left</td>\n",
       "    </tr>\n",
       "    <tr>\n",
       "      <th>4</th>\n",
       "      <td>27700</td>\n",
       "      <td>chevrolet</td>\n",
       "      <td>1500</td>\n",
       "      <td>2018</td>\n",
       "      <td>clean vehicle</td>\n",
       "      <td>6654</td>\n",
       "      <td>red</td>\n",
       "      <td>3gcpcrec2jg473991</td>\n",
       "      <td>167763266</td>\n",
       "      <td>florida</td>\n",
       "      <td>usa</td>\n",
       "      <td>22 hours left</td>\n",
       "    </tr>\n",
       "    <tr>\n",
       "      <th>...</th>\n",
       "      <td>...</td>\n",
       "      <td>...</td>\n",
       "      <td>...</td>\n",
       "      <td>...</td>\n",
       "      <td>...</td>\n",
       "      <td>...</td>\n",
       "      <td>...</td>\n",
       "      <td>...</td>\n",
       "      <td>...</td>\n",
       "      <td>...</td>\n",
       "      <td>...</td>\n",
       "      <td>...</td>\n",
       "    </tr>\n",
       "    <tr>\n",
       "      <th>2494</th>\n",
       "      <td>7800</td>\n",
       "      <td>nissan</td>\n",
       "      <td>versa</td>\n",
       "      <td>2019</td>\n",
       "      <td>clean vehicle</td>\n",
       "      <td>23609</td>\n",
       "      <td>red</td>\n",
       "      <td>3n1cn7ap9kl880319</td>\n",
       "      <td>167722715</td>\n",
       "      <td>california</td>\n",
       "      <td>usa</td>\n",
       "      <td>1 days left</td>\n",
       "    </tr>\n",
       "    <tr>\n",
       "      <th>2495</th>\n",
       "      <td>9200</td>\n",
       "      <td>nissan</td>\n",
       "      <td>versa</td>\n",
       "      <td>2018</td>\n",
       "      <td>clean vehicle</td>\n",
       "      <td>34553</td>\n",
       "      <td>silver</td>\n",
       "      <td>3n1cn7ap5jl884088</td>\n",
       "      <td>167762225</td>\n",
       "      <td>florida</td>\n",
       "      <td>usa</td>\n",
       "      <td>21 hours left</td>\n",
       "    </tr>\n",
       "    <tr>\n",
       "      <th>2496</th>\n",
       "      <td>9200</td>\n",
       "      <td>nissan</td>\n",
       "      <td>versa</td>\n",
       "      <td>2018</td>\n",
       "      <td>clean vehicle</td>\n",
       "      <td>31594</td>\n",
       "      <td>silver</td>\n",
       "      <td>3n1cn7ap9jl884191</td>\n",
       "      <td>167762226</td>\n",
       "      <td>florida</td>\n",
       "      <td>usa</td>\n",
       "      <td>21 hours left</td>\n",
       "    </tr>\n",
       "    <tr>\n",
       "      <th>2497</th>\n",
       "      <td>9200</td>\n",
       "      <td>nissan</td>\n",
       "      <td>versa</td>\n",
       "      <td>2018</td>\n",
       "      <td>clean vehicle</td>\n",
       "      <td>32557</td>\n",
       "      <td>black</td>\n",
       "      <td>3n1cn7ap3jl883263</td>\n",
       "      <td>167762227</td>\n",
       "      <td>florida</td>\n",
       "      <td>usa</td>\n",
       "      <td>2 days left</td>\n",
       "    </tr>\n",
       "    <tr>\n",
       "      <th>2498</th>\n",
       "      <td>9200</td>\n",
       "      <td>nissan</td>\n",
       "      <td>versa</td>\n",
       "      <td>2018</td>\n",
       "      <td>clean vehicle</td>\n",
       "      <td>31371</td>\n",
       "      <td>silver</td>\n",
       "      <td>3n1cn7ap4jl884311</td>\n",
       "      <td>167762228</td>\n",
       "      <td>florida</td>\n",
       "      <td>usa</td>\n",
       "      <td>21 hours left</td>\n",
       "    </tr>\n",
       "  </tbody>\n",
       "</table>\n",
       "<p>2499 rows × 12 columns</p>\n",
       "</div>"
      ],
      "text/plain": [
       "      price      brand    model  year   title_status  mileage   color  \\\n",
       "0      6300     toyota  cruiser  2008  clean vehicle   274117   black   \n",
       "1      2899       ford       se  2011  clean vehicle   190552  silver   \n",
       "2      5350      dodge      mpv  2018  clean vehicle    39590  silver   \n",
       "3     25000       ford     door  2014  clean vehicle    64146    blue   \n",
       "4     27700  chevrolet     1500  2018  clean vehicle     6654     red   \n",
       "...     ...        ...      ...   ...            ...      ...     ...   \n",
       "2494   7800     nissan    versa  2019  clean vehicle    23609     red   \n",
       "2495   9200     nissan    versa  2018  clean vehicle    34553  silver   \n",
       "2496   9200     nissan    versa  2018  clean vehicle    31594  silver   \n",
       "2497   9200     nissan    versa  2018  clean vehicle    32557   black   \n",
       "2498   9200     nissan    versa  2018  clean vehicle    31371  silver   \n",
       "\n",
       "                      vin        lot       state country      condition  \n",
       "0       jtezu11f88k007763  159348797  new jersey     usa   10 days left  \n",
       "1       2fmdk3gc4bbb02217  166951262   tennessee     usa    6 days left  \n",
       "2       3c4pdcgg5jt346413  167655728     georgia     usa    2 days left  \n",
       "3       1ftfw1et4efc23745  167753855    virginia     usa  22 hours left  \n",
       "4       3gcpcrec2jg473991  167763266     florida     usa  22 hours left  \n",
       "...                   ...        ...         ...     ...            ...  \n",
       "2494    3n1cn7ap9kl880319  167722715  california     usa    1 days left  \n",
       "2495    3n1cn7ap5jl884088  167762225     florida     usa  21 hours left  \n",
       "2496    3n1cn7ap9jl884191  167762226     florida     usa  21 hours left  \n",
       "2497    3n1cn7ap3jl883263  167762227     florida     usa    2 days left  \n",
       "2498    3n1cn7ap4jl884311  167762228     florida     usa  21 hours left  \n",
       "\n",
       "[2499 rows x 12 columns]"
      ]
     },
     "execution_count": 37,
     "metadata": {},
     "output_type": "execute_result"
    }
   ],
   "source": [
    "df.sort_index()"
   ]
  },
  {
   "cell_type": "code",
   "execution_count": 39,
   "id": "439e7e94",
   "metadata": {},
   "outputs": [],
   "source": [
    "df.sort_index(axis='columns',inplace=True)"
   ]
  },
  {
   "cell_type": "code",
   "execution_count": 41,
   "id": "d73362f2",
   "metadata": {},
   "outputs": [
    {
     "data": {
      "text/html": [
       "<div>\n",
       "<style scoped>\n",
       "    .dataframe tbody tr th:only-of-type {\n",
       "        vertical-align: middle;\n",
       "    }\n",
       "\n",
       "    .dataframe tbody tr th {\n",
       "        vertical-align: top;\n",
       "    }\n",
       "\n",
       "    .dataframe thead th {\n",
       "        text-align: right;\n",
       "    }\n",
       "</style>\n",
       "<table border=\"1\" class=\"dataframe\">\n",
       "  <thead>\n",
       "    <tr style=\"text-align: right;\">\n",
       "      <th></th>\n",
       "      <th>brand</th>\n",
       "      <th>color</th>\n",
       "      <th>condition</th>\n",
       "      <th>country</th>\n",
       "      <th>lot</th>\n",
       "      <th>mileage</th>\n",
       "      <th>model</th>\n",
       "      <th>price</th>\n",
       "      <th>state</th>\n",
       "      <th>title_status</th>\n",
       "      <th>vin</th>\n",
       "      <th>year</th>\n",
       "    </tr>\n",
       "  </thead>\n",
       "  <tbody>\n",
       "    <tr>\n",
       "      <th>0</th>\n",
       "      <td>toyota</td>\n",
       "      <td>black</td>\n",
       "      <td>10 days left</td>\n",
       "      <td>usa</td>\n",
       "      <td>159348797</td>\n",
       "      <td>274117</td>\n",
       "      <td>cruiser</td>\n",
       "      <td>6300</td>\n",
       "      <td>new jersey</td>\n",
       "      <td>clean vehicle</td>\n",
       "      <td>jtezu11f88k007763</td>\n",
       "      <td>2008</td>\n",
       "    </tr>\n",
       "    <tr>\n",
       "      <th>1</th>\n",
       "      <td>ford</td>\n",
       "      <td>silver</td>\n",
       "      <td>6 days left</td>\n",
       "      <td>usa</td>\n",
       "      <td>166951262</td>\n",
       "      <td>190552</td>\n",
       "      <td>se</td>\n",
       "      <td>2899</td>\n",
       "      <td>tennessee</td>\n",
       "      <td>clean vehicle</td>\n",
       "      <td>2fmdk3gc4bbb02217</td>\n",
       "      <td>2011</td>\n",
       "    </tr>\n",
       "    <tr>\n",
       "      <th>2</th>\n",
       "      <td>dodge</td>\n",
       "      <td>silver</td>\n",
       "      <td>2 days left</td>\n",
       "      <td>usa</td>\n",
       "      <td>167655728</td>\n",
       "      <td>39590</td>\n",
       "      <td>mpv</td>\n",
       "      <td>5350</td>\n",
       "      <td>georgia</td>\n",
       "      <td>clean vehicle</td>\n",
       "      <td>3c4pdcgg5jt346413</td>\n",
       "      <td>2018</td>\n",
       "    </tr>\n",
       "    <tr>\n",
       "      <th>3</th>\n",
       "      <td>ford</td>\n",
       "      <td>blue</td>\n",
       "      <td>22 hours left</td>\n",
       "      <td>usa</td>\n",
       "      <td>167753855</td>\n",
       "      <td>64146</td>\n",
       "      <td>door</td>\n",
       "      <td>25000</td>\n",
       "      <td>virginia</td>\n",
       "      <td>clean vehicle</td>\n",
       "      <td>1ftfw1et4efc23745</td>\n",
       "      <td>2014</td>\n",
       "    </tr>\n",
       "    <tr>\n",
       "      <th>4</th>\n",
       "      <td>chevrolet</td>\n",
       "      <td>red</td>\n",
       "      <td>22 hours left</td>\n",
       "      <td>usa</td>\n",
       "      <td>167763266</td>\n",
       "      <td>6654</td>\n",
       "      <td>1500</td>\n",
       "      <td>27700</td>\n",
       "      <td>florida</td>\n",
       "      <td>clean vehicle</td>\n",
       "      <td>3gcpcrec2jg473991</td>\n",
       "      <td>2018</td>\n",
       "    </tr>\n",
       "  </tbody>\n",
       "</table>\n",
       "</div>"
      ],
      "text/plain": [
       "       brand   color      condition country        lot  mileage    model  \\\n",
       "0     toyota   black   10 days left     usa  159348797   274117  cruiser   \n",
       "1       ford  silver    6 days left     usa  166951262   190552       se   \n",
       "2      dodge  silver    2 days left     usa  167655728    39590      mpv   \n",
       "3       ford    blue  22 hours left     usa  167753855    64146     door   \n",
       "4  chevrolet     red  22 hours left     usa  167763266     6654     1500   \n",
       "\n",
       "   price       state   title_status                  vin  year  \n",
       "0   6300  new jersey  clean vehicle    jtezu11f88k007763  2008  \n",
       "1   2899   tennessee  clean vehicle    2fmdk3gc4bbb02217  2011  \n",
       "2   5350     georgia  clean vehicle    3c4pdcgg5jt346413  2018  \n",
       "3  25000    virginia  clean vehicle    1ftfw1et4efc23745  2014  \n",
       "4  27700     florida  clean vehicle    3gcpcrec2jg473991  2018  "
      ]
     },
     "execution_count": 41,
     "metadata": {},
     "output_type": "execute_result"
    }
   ],
   "source": [
    "df.head()"
   ]
  },
  {
   "cell_type": "code",
   "execution_count": null,
   "id": "d3dbcb8f",
   "metadata": {},
   "outputs": [
    {
     "data": {
      "text/html": [
       "<div>\n",
       "<style scoped>\n",
       "    .dataframe tbody tr th:only-of-type {\n",
       "        vertical-align: middle;\n",
       "    }\n",
       "\n",
       "    .dataframe tbody tr th {\n",
       "        vertical-align: top;\n",
       "    }\n",
       "\n",
       "    .dataframe thead th {\n",
       "        text-align: right;\n",
       "    }\n",
       "</style>\n",
       "<table border=\"1\" class=\"dataframe\">\n",
       "  <thead>\n",
       "    <tr style=\"text-align: right;\">\n",
       "      <th></th>\n",
       "      <th>year</th>\n",
       "      <th>vin</th>\n",
       "      <th>title_status</th>\n",
       "      <th>state</th>\n",
       "      <th>price</th>\n",
       "      <th>model</th>\n",
       "      <th>mileage</th>\n",
       "      <th>lot</th>\n",
       "      <th>country</th>\n",
       "      <th>condition</th>\n",
       "      <th>color</th>\n",
       "      <th>brand</th>\n",
       "    </tr>\n",
       "  </thead>\n",
       "  <tbody>\n",
       "    <tr>\n",
       "      <th>0</th>\n",
       "      <td>2008</td>\n",
       "      <td>jtezu11f88k007763</td>\n",
       "      <td>clean vehicle</td>\n",
       "      <td>new jersey</td>\n",
       "      <td>6300</td>\n",
       "      <td>cruiser</td>\n",
       "      <td>274117</td>\n",
       "      <td>159348797</td>\n",
       "      <td>usa</td>\n",
       "      <td>10 days left</td>\n",
       "      <td>black</td>\n",
       "      <td>toyota</td>\n",
       "    </tr>\n",
       "    <tr>\n",
       "      <th>1</th>\n",
       "      <td>2011</td>\n",
       "      <td>2fmdk3gc4bbb02217</td>\n",
       "      <td>clean vehicle</td>\n",
       "      <td>tennessee</td>\n",
       "      <td>2899</td>\n",
       "      <td>se</td>\n",
       "      <td>190552</td>\n",
       "      <td>166951262</td>\n",
       "      <td>usa</td>\n",
       "      <td>6 days left</td>\n",
       "      <td>silver</td>\n",
       "      <td>ford</td>\n",
       "    </tr>\n",
       "    <tr>\n",
       "      <th>2</th>\n",
       "      <td>2018</td>\n",
       "      <td>3c4pdcgg5jt346413</td>\n",
       "      <td>clean vehicle</td>\n",
       "      <td>georgia</td>\n",
       "      <td>5350</td>\n",
       "      <td>mpv</td>\n",
       "      <td>39590</td>\n",
       "      <td>167655728</td>\n",
       "      <td>usa</td>\n",
       "      <td>2 days left</td>\n",
       "      <td>silver</td>\n",
       "      <td>dodge</td>\n",
       "    </tr>\n",
       "    <tr>\n",
       "      <th>3</th>\n",
       "      <td>2014</td>\n",
       "      <td>1ftfw1et4efc23745</td>\n",
       "      <td>clean vehicle</td>\n",
       "      <td>virginia</td>\n",
       "      <td>25000</td>\n",
       "      <td>door</td>\n",
       "      <td>64146</td>\n",
       "      <td>167753855</td>\n",
       "      <td>usa</td>\n",
       "      <td>22 hours left</td>\n",
       "      <td>blue</td>\n",
       "      <td>ford</td>\n",
       "    </tr>\n",
       "    <tr>\n",
       "      <th>4</th>\n",
       "      <td>2018</td>\n",
       "      <td>3gcpcrec2jg473991</td>\n",
       "      <td>clean vehicle</td>\n",
       "      <td>florida</td>\n",
       "      <td>27700</td>\n",
       "      <td>1500</td>\n",
       "      <td>6654</td>\n",
       "      <td>167763266</td>\n",
       "      <td>usa</td>\n",
       "      <td>22 hours left</td>\n",
       "      <td>red</td>\n",
       "      <td>chevrolet</td>\n",
       "    </tr>\n",
       "    <tr>\n",
       "      <th>...</th>\n",
       "      <td>...</td>\n",
       "      <td>...</td>\n",
       "      <td>...</td>\n",
       "      <td>...</td>\n",
       "      <td>...</td>\n",
       "      <td>...</td>\n",
       "      <td>...</td>\n",
       "      <td>...</td>\n",
       "      <td>...</td>\n",
       "      <td>...</td>\n",
       "      <td>...</td>\n",
       "      <td>...</td>\n",
       "    </tr>\n",
       "    <tr>\n",
       "      <th>2494</th>\n",
       "      <td>2019</td>\n",
       "      <td>3n1cn7ap9kl880319</td>\n",
       "      <td>clean vehicle</td>\n",
       "      <td>california</td>\n",
       "      <td>7800</td>\n",
       "      <td>versa</td>\n",
       "      <td>23609</td>\n",
       "      <td>167722715</td>\n",
       "      <td>usa</td>\n",
       "      <td>1 days left</td>\n",
       "      <td>red</td>\n",
       "      <td>nissan</td>\n",
       "    </tr>\n",
       "    <tr>\n",
       "      <th>2495</th>\n",
       "      <td>2018</td>\n",
       "      <td>3n1cn7ap5jl884088</td>\n",
       "      <td>clean vehicle</td>\n",
       "      <td>florida</td>\n",
       "      <td>9200</td>\n",
       "      <td>versa</td>\n",
       "      <td>34553</td>\n",
       "      <td>167762225</td>\n",
       "      <td>usa</td>\n",
       "      <td>21 hours left</td>\n",
       "      <td>silver</td>\n",
       "      <td>nissan</td>\n",
       "    </tr>\n",
       "    <tr>\n",
       "      <th>2496</th>\n",
       "      <td>2018</td>\n",
       "      <td>3n1cn7ap9jl884191</td>\n",
       "      <td>clean vehicle</td>\n",
       "      <td>florida</td>\n",
       "      <td>9200</td>\n",
       "      <td>versa</td>\n",
       "      <td>31594</td>\n",
       "      <td>167762226</td>\n",
       "      <td>usa</td>\n",
       "      <td>21 hours left</td>\n",
       "      <td>silver</td>\n",
       "      <td>nissan</td>\n",
       "    </tr>\n",
       "    <tr>\n",
       "      <th>2497</th>\n",
       "      <td>2018</td>\n",
       "      <td>3n1cn7ap3jl883263</td>\n",
       "      <td>clean vehicle</td>\n",
       "      <td>florida</td>\n",
       "      <td>9200</td>\n",
       "      <td>versa</td>\n",
       "      <td>32557</td>\n",
       "      <td>167762227</td>\n",
       "      <td>usa</td>\n",
       "      <td>2 days left</td>\n",
       "      <td>black</td>\n",
       "      <td>nissan</td>\n",
       "    </tr>\n",
       "    <tr>\n",
       "      <th>2498</th>\n",
       "      <td>2018</td>\n",
       "      <td>3n1cn7ap4jl884311</td>\n",
       "      <td>clean vehicle</td>\n",
       "      <td>florida</td>\n",
       "      <td>9200</td>\n",
       "      <td>versa</td>\n",
       "      <td>31371</td>\n",
       "      <td>167762228</td>\n",
       "      <td>usa</td>\n",
       "      <td>21 hours left</td>\n",
       "      <td>silver</td>\n",
       "      <td>nissan</td>\n",
       "    </tr>\n",
       "  </tbody>\n",
       "</table>\n",
       "<p>2499 rows × 12 columns</p>\n",
       "</div>"
      ],
      "text/plain": [
       "      year                  vin   title_status       state  price    model  \\\n",
       "0     2008    jtezu11f88k007763  clean vehicle  new jersey   6300  cruiser   \n",
       "1     2011    2fmdk3gc4bbb02217  clean vehicle   tennessee   2899       se   \n",
       "2     2018    3c4pdcgg5jt346413  clean vehicle     georgia   5350      mpv   \n",
       "3     2014    1ftfw1et4efc23745  clean vehicle    virginia  25000     door   \n",
       "4     2018    3gcpcrec2jg473991  clean vehicle     florida  27700     1500   \n",
       "...    ...                  ...            ...         ...    ...      ...   \n",
       "2494  2019    3n1cn7ap9kl880319  clean vehicle  california   7800    versa   \n",
       "2495  2018    3n1cn7ap5jl884088  clean vehicle     florida   9200    versa   \n",
       "2496  2018    3n1cn7ap9jl884191  clean vehicle     florida   9200    versa   \n",
       "2497  2018    3n1cn7ap3jl883263  clean vehicle     florida   9200    versa   \n",
       "2498  2018    3n1cn7ap4jl884311  clean vehicle     florida   9200    versa   \n",
       "\n",
       "      mileage        lot country      condition   color      brand  \n",
       "0      274117  159348797     usa   10 days left   black     toyota  \n",
       "1      190552  166951262     usa    6 days left  silver       ford  \n",
       "2       39590  167655728     usa    2 days left  silver      dodge  \n",
       "3       64146  167753855     usa  22 hours left    blue       ford  \n",
       "4        6654  167763266     usa  22 hours left     red  chevrolet  \n",
       "...       ...        ...     ...            ...     ...        ...  \n",
       "2494    23609  167722715     usa    1 days left     red     nissan  \n",
       "2495    34553  167762225     usa  21 hours left  silver     nissan  \n",
       "2496    31594  167762226     usa  21 hours left  silver     nissan  \n",
       "2497    32557  167762227     usa    2 days left   black     nissan  \n",
       "2498    31371  167762228     usa  21 hours left  silver     nissan  \n",
       "\n",
       "[2499 rows x 12 columns]"
      ]
     },
     "execution_count": 43,
     "metadata": {},
     "output_type": "execute_result"
    }
   ],
   "source": [
    "df.sort_index(axis=1,ascending=False)"
   ]
  },
  {
   "cell_type": "code",
   "execution_count": 45,
   "id": "9a697cc6",
   "metadata": {},
   "outputs": [
    {
     "data": {
      "text/html": [
       "<div>\n",
       "<style scoped>\n",
       "    .dataframe tbody tr th:only-of-type {\n",
       "        vertical-align: middle;\n",
       "    }\n",
       "\n",
       "    .dataframe tbody tr th {\n",
       "        vertical-align: top;\n",
       "    }\n",
       "\n",
       "    .dataframe thead th {\n",
       "        text-align: right;\n",
       "    }\n",
       "</style>\n",
       "<table border=\"1\" class=\"dataframe\">\n",
       "  <thead>\n",
       "    <tr style=\"text-align: right;\">\n",
       "      <th></th>\n",
       "      <th>brand</th>\n",
       "      <th>color</th>\n",
       "      <th>condition</th>\n",
       "      <th>country</th>\n",
       "      <th>lot</th>\n",
       "      <th>mileage</th>\n",
       "      <th>model</th>\n",
       "      <th>price</th>\n",
       "      <th>state</th>\n",
       "      <th>title_status</th>\n",
       "      <th>vin</th>\n",
       "      <th>year</th>\n",
       "    </tr>\n",
       "  </thead>\n",
       "  <tbody>\n",
       "    <tr>\n",
       "      <th>502</th>\n",
       "      <td>mercedes-benz</td>\n",
       "      <td>silver</td>\n",
       "      <td>2 days left</td>\n",
       "      <td>usa</td>\n",
       "      <td>167607883</td>\n",
       "      <td>25302</td>\n",
       "      <td>sl-class</td>\n",
       "      <td>84900</td>\n",
       "      <td>florida</td>\n",
       "      <td>clean vehicle</td>\n",
       "      <td>wddjk7ea3hf044968</td>\n",
       "      <td>2017</td>\n",
       "    </tr>\n",
       "    <tr>\n",
       "      <th>1340</th>\n",
       "      <td>ford</td>\n",
       "      <td>no_color</td>\n",
       "      <td>2 days left</td>\n",
       "      <td>usa</td>\n",
       "      <td>167780682</td>\n",
       "      <td>10536</td>\n",
       "      <td>drw</td>\n",
       "      <td>74000</td>\n",
       "      <td>illinois</td>\n",
       "      <td>clean vehicle</td>\n",
       "      <td>1ft8w4dt6ked32656</td>\n",
       "      <td>2019</td>\n",
       "    </tr>\n",
       "    <tr>\n",
       "      <th>1336</th>\n",
       "      <td>ford</td>\n",
       "      <td>no_color</td>\n",
       "      <td>2 days left</td>\n",
       "      <td>usa</td>\n",
       "      <td>167780680</td>\n",
       "      <td>9643</td>\n",
       "      <td>drw</td>\n",
       "      <td>70000</td>\n",
       "      <td>illinois</td>\n",
       "      <td>clean vehicle</td>\n",
       "      <td>1ft8w3dt3kee48276</td>\n",
       "      <td>2019</td>\n",
       "    </tr>\n",
       "    <tr>\n",
       "      <th>277</th>\n",
       "      <td>dodge</td>\n",
       "      <td>blue</td>\n",
       "      <td>21 hours left</td>\n",
       "      <td>usa</td>\n",
       "      <td>167759490</td>\n",
       "      <td>10944</td>\n",
       "      <td>challenger</td>\n",
       "      <td>67000</td>\n",
       "      <td>ohio</td>\n",
       "      <td>clean vehicle</td>\n",
       "      <td>2c3cdzl97kh518237</td>\n",
       "      <td>2019</td>\n",
       "    </tr>\n",
       "    <tr>\n",
       "      <th>1215</th>\n",
       "      <td>ford</td>\n",
       "      <td>black</td>\n",
       "      <td>21 hours left</td>\n",
       "      <td>usa</td>\n",
       "      <td>167718954</td>\n",
       "      <td>6500</td>\n",
       "      <td>srw</td>\n",
       "      <td>65500</td>\n",
       "      <td>indiana</td>\n",
       "      <td>clean vehicle</td>\n",
       "      <td>1ft7w2bt0kec44818</td>\n",
       "      <td>2019</td>\n",
       "    </tr>\n",
       "    <tr>\n",
       "      <th>...</th>\n",
       "      <td>...</td>\n",
       "      <td>...</td>\n",
       "      <td>...</td>\n",
       "      <td>...</td>\n",
       "      <td>...</td>\n",
       "      <td>...</td>\n",
       "      <td>...</td>\n",
       "      <td>...</td>\n",
       "      <td>...</td>\n",
       "      <td>...</td>\n",
       "      <td>...</td>\n",
       "      <td>...</td>\n",
       "    </tr>\n",
       "    <tr>\n",
       "      <th>318</th>\n",
       "      <td>chevrolet</td>\n",
       "      <td>black</td>\n",
       "      <td>18 hours left</td>\n",
       "      <td>usa</td>\n",
       "      <td>167418694</td>\n",
       "      <td>117059</td>\n",
       "      <td>door</td>\n",
       "      <td>0</td>\n",
       "      <td>colorado</td>\n",
       "      <td>salvage insurance</td>\n",
       "      <td>kl1td66e39b645208</td>\n",
       "      <td>2009</td>\n",
       "    </tr>\n",
       "    <tr>\n",
       "      <th>305</th>\n",
       "      <td>ford</td>\n",
       "      <td>gold</td>\n",
       "      <td>8 days left</td>\n",
       "      <td>usa</td>\n",
       "      <td>167610324</td>\n",
       "      <td>246065</td>\n",
       "      <td>door</td>\n",
       "      <td>0</td>\n",
       "      <td>kansas</td>\n",
       "      <td>salvage insurance</td>\n",
       "      <td>1fafp55u03a242094</td>\n",
       "      <td>2003</td>\n",
       "    </tr>\n",
       "    <tr>\n",
       "      <th>510</th>\n",
       "      <td>ford</td>\n",
       "      <td>silver</td>\n",
       "      <td>17 hours left</td>\n",
       "      <td>usa</td>\n",
       "      <td>167357806</td>\n",
       "      <td>86841</td>\n",
       "      <td>door</td>\n",
       "      <td>0</td>\n",
       "      <td>oklahoma</td>\n",
       "      <td>salvage insurance</td>\n",
       "      <td>3fahp0ga3ar366961</td>\n",
       "      <td>2010</td>\n",
       "    </tr>\n",
       "    <tr>\n",
       "      <th>522</th>\n",
       "      <td>ford</td>\n",
       "      <td>red</td>\n",
       "      <td>17 hours left</td>\n",
       "      <td>usa</td>\n",
       "      <td>167357813</td>\n",
       "      <td>145483</td>\n",
       "      <td>door</td>\n",
       "      <td>0</td>\n",
       "      <td>oklahoma</td>\n",
       "      <td>salvage insurance</td>\n",
       "      <td>1fmcu03128kc80487</td>\n",
       "      <td>2008</td>\n",
       "    </tr>\n",
       "    <tr>\n",
       "      <th>144</th>\n",
       "      <td>dodge</td>\n",
       "      <td>silver</td>\n",
       "      <td>2 days left</td>\n",
       "      <td>usa</td>\n",
       "      <td>167756167</td>\n",
       "      <td>123660</td>\n",
       "      <td>door</td>\n",
       "      <td>0</td>\n",
       "      <td>utah</td>\n",
       "      <td>salvage insurance</td>\n",
       "      <td>1c3cdzab0en111068</td>\n",
       "      <td>2014</td>\n",
       "    </tr>\n",
       "  </tbody>\n",
       "</table>\n",
       "<p>2499 rows × 12 columns</p>\n",
       "</div>"
      ],
      "text/plain": [
       "              brand     color      condition country        lot  mileage  \\\n",
       "502   mercedes-benz    silver    2 days left     usa  167607883    25302   \n",
       "1340           ford  no_color    2 days left     usa  167780682    10536   \n",
       "1336           ford  no_color    2 days left     usa  167780680     9643   \n",
       "277           dodge      blue  21 hours left     usa  167759490    10944   \n",
       "1215           ford     black  21 hours left     usa  167718954     6500   \n",
       "...             ...       ...            ...     ...        ...      ...   \n",
       "318       chevrolet     black  18 hours left     usa  167418694   117059   \n",
       "305            ford      gold    8 days left     usa  167610324   246065   \n",
       "510            ford    silver  17 hours left     usa  167357806    86841   \n",
       "522            ford       red  17 hours left     usa  167357813   145483   \n",
       "144           dodge    silver    2 days left     usa  167756167   123660   \n",
       "\n",
       "           model  price     state       title_status                  vin  \\\n",
       "502     sl-class  84900   florida      clean vehicle    wddjk7ea3hf044968   \n",
       "1340         drw  74000  illinois      clean vehicle    1ft8w4dt6ked32656   \n",
       "1336         drw  70000  illinois      clean vehicle    1ft8w3dt3kee48276   \n",
       "277   challenger  67000      ohio      clean vehicle    2c3cdzl97kh518237   \n",
       "1215         srw  65500   indiana      clean vehicle    1ft7w2bt0kec44818   \n",
       "...          ...    ...       ...                ...                  ...   \n",
       "318         door      0  colorado  salvage insurance    kl1td66e39b645208   \n",
       "305         door      0    kansas  salvage insurance    1fafp55u03a242094   \n",
       "510         door      0  oklahoma  salvage insurance    3fahp0ga3ar366961   \n",
       "522         door      0  oklahoma  salvage insurance    1fmcu03128kc80487   \n",
       "144         door      0      utah  salvage insurance    1c3cdzab0en111068   \n",
       "\n",
       "      year  \n",
       "502   2017  \n",
       "1340  2019  \n",
       "1336  2019  \n",
       "277   2019  \n",
       "1215  2019  \n",
       "...    ...  \n",
       "318   2009  \n",
       "305   2003  \n",
       "510   2010  \n",
       "522   2008  \n",
       "144   2014  \n",
       "\n",
       "[2499 rows x 12 columns]"
      ]
     },
     "execution_count": 45,
     "metadata": {},
     "output_type": "execute_result"
    }
   ],
   "source": [
    "df.sort_values(by='price',ascending=False) # narxi bo'yicha tartiblash"
   ]
  },
  {
   "cell_type": "code",
   "execution_count": 46,
   "id": "e305f3a7",
   "metadata": {},
   "outputs": [
    {
     "data": {
      "text/html": [
       "<div>\n",
       "<style scoped>\n",
       "    .dataframe tbody tr th:only-of-type {\n",
       "        vertical-align: middle;\n",
       "    }\n",
       "\n",
       "    .dataframe tbody tr th {\n",
       "        vertical-align: top;\n",
       "    }\n",
       "\n",
       "    .dataframe thead th {\n",
       "        text-align: right;\n",
       "    }\n",
       "</style>\n",
       "<table border=\"1\" class=\"dataframe\">\n",
       "  <thead>\n",
       "    <tr style=\"text-align: right;\">\n",
       "      <th></th>\n",
       "      <th>brand</th>\n",
       "      <th>color</th>\n",
       "      <th>condition</th>\n",
       "      <th>country</th>\n",
       "      <th>lot</th>\n",
       "      <th>mileage</th>\n",
       "      <th>model</th>\n",
       "      <th>price</th>\n",
       "      <th>state</th>\n",
       "      <th>title_status</th>\n",
       "      <th>vin</th>\n",
       "      <th>year</th>\n",
       "    </tr>\n",
       "  </thead>\n",
       "  <tbody>\n",
       "    <tr>\n",
       "      <th>502</th>\n",
       "      <td>mercedes-benz</td>\n",
       "      <td>silver</td>\n",
       "      <td>2 days left</td>\n",
       "      <td>usa</td>\n",
       "      <td>167607883</td>\n",
       "      <td>25302</td>\n",
       "      <td>sl-class</td>\n",
       "      <td>84900</td>\n",
       "      <td>florida</td>\n",
       "      <td>clean vehicle</td>\n",
       "      <td>wddjk7ea3hf044968</td>\n",
       "      <td>2017</td>\n",
       "    </tr>\n",
       "    <tr>\n",
       "      <th>1340</th>\n",
       "      <td>ford</td>\n",
       "      <td>no_color</td>\n",
       "      <td>2 days left</td>\n",
       "      <td>usa</td>\n",
       "      <td>167780682</td>\n",
       "      <td>10536</td>\n",
       "      <td>drw</td>\n",
       "      <td>74000</td>\n",
       "      <td>illinois</td>\n",
       "      <td>clean vehicle</td>\n",
       "      <td>1ft8w4dt6ked32656</td>\n",
       "      <td>2019</td>\n",
       "    </tr>\n",
       "    <tr>\n",
       "      <th>1336</th>\n",
       "      <td>ford</td>\n",
       "      <td>no_color</td>\n",
       "      <td>2 days left</td>\n",
       "      <td>usa</td>\n",
       "      <td>167780680</td>\n",
       "      <td>9643</td>\n",
       "      <td>drw</td>\n",
       "      <td>70000</td>\n",
       "      <td>illinois</td>\n",
       "      <td>clean vehicle</td>\n",
       "      <td>1ft8w3dt3kee48276</td>\n",
       "      <td>2019</td>\n",
       "    </tr>\n",
       "    <tr>\n",
       "      <th>277</th>\n",
       "      <td>dodge</td>\n",
       "      <td>blue</td>\n",
       "      <td>21 hours left</td>\n",
       "      <td>usa</td>\n",
       "      <td>167759490</td>\n",
       "      <td>10944</td>\n",
       "      <td>challenger</td>\n",
       "      <td>67000</td>\n",
       "      <td>ohio</td>\n",
       "      <td>clean vehicle</td>\n",
       "      <td>2c3cdzl97kh518237</td>\n",
       "      <td>2019</td>\n",
       "    </tr>\n",
       "    <tr>\n",
       "      <th>1215</th>\n",
       "      <td>ford</td>\n",
       "      <td>black</td>\n",
       "      <td>21 hours left</td>\n",
       "      <td>usa</td>\n",
       "      <td>167718954</td>\n",
       "      <td>6500</td>\n",
       "      <td>srw</td>\n",
       "      <td>65500</td>\n",
       "      <td>indiana</td>\n",
       "      <td>clean vehicle</td>\n",
       "      <td>1ft7w2bt0kec44818</td>\n",
       "      <td>2019</td>\n",
       "    </tr>\n",
       "    <tr>\n",
       "      <th>...</th>\n",
       "      <td>...</td>\n",
       "      <td>...</td>\n",
       "      <td>...</td>\n",
       "      <td>...</td>\n",
       "      <td>...</td>\n",
       "      <td>...</td>\n",
       "      <td>...</td>\n",
       "      <td>...</td>\n",
       "      <td>...</td>\n",
       "      <td>...</td>\n",
       "      <td>...</td>\n",
       "      <td>...</td>\n",
       "    </tr>\n",
       "    <tr>\n",
       "      <th>196</th>\n",
       "      <td>ford</td>\n",
       "      <td>white</td>\n",
       "      <td>2 days left</td>\n",
       "      <td>usa</td>\n",
       "      <td>167656523</td>\n",
       "      <td>76858</td>\n",
       "      <td>mpv</td>\n",
       "      <td>0</td>\n",
       "      <td>texas</td>\n",
       "      <td>clean vehicle</td>\n",
       "      <td>1fbax2cv0hkb32599</td>\n",
       "      <td>2017</td>\n",
       "    </tr>\n",
       "    <tr>\n",
       "      <th>349</th>\n",
       "      <td>heartland</td>\n",
       "      <td>white</td>\n",
       "      <td>7 days left</td>\n",
       "      <td>usa</td>\n",
       "      <td>167266321</td>\n",
       "      <td>1</td>\n",
       "      <td>sundance</td>\n",
       "      <td>0</td>\n",
       "      <td>pennsylvania</td>\n",
       "      <td>clean vehicle</td>\n",
       "      <td>5sfgf29269e031344</td>\n",
       "      <td>2009</td>\n",
       "    </tr>\n",
       "    <tr>\n",
       "      <th>309</th>\n",
       "      <td>chevrolet</td>\n",
       "      <td>maroon</td>\n",
       "      <td>18 hours left</td>\n",
       "      <td>usa</td>\n",
       "      <td>167418651</td>\n",
       "      <td>0</td>\n",
       "      <td>door</td>\n",
       "      <td>0</td>\n",
       "      <td>wyoming</td>\n",
       "      <td>salvage insurance</td>\n",
       "      <td>3gnek12t74g240524</td>\n",
       "      <td>2004</td>\n",
       "    </tr>\n",
       "    <tr>\n",
       "      <th>322</th>\n",
       "      <td>ford</td>\n",
       "      <td>green</td>\n",
       "      <td>19 hours left</td>\n",
       "      <td>usa</td>\n",
       "      <td>167359174</td>\n",
       "      <td>0</td>\n",
       "      <td>chassis</td>\n",
       "      <td>0</td>\n",
       "      <td>california</td>\n",
       "      <td>salvage insurance</td>\n",
       "      <td>1fdee14n7rha47894</td>\n",
       "      <td>1994</td>\n",
       "    </tr>\n",
       "    <tr>\n",
       "      <th>545</th>\n",
       "      <td>gmc</td>\n",
       "      <td>light blue</td>\n",
       "      <td>18 hours left</td>\n",
       "      <td>usa</td>\n",
       "      <td>167358601</td>\n",
       "      <td>0</td>\n",
       "      <td>door</td>\n",
       "      <td>0</td>\n",
       "      <td>colorado</td>\n",
       "      <td>salvage insurance</td>\n",
       "      <td>1gkfk16k5pj701631</td>\n",
       "      <td>1993</td>\n",
       "    </tr>\n",
       "  </tbody>\n",
       "</table>\n",
       "<p>2499 rows × 12 columns</p>\n",
       "</div>"
      ],
      "text/plain": [
       "              brand       color      condition country        lot  mileage  \\\n",
       "502   mercedes-benz      silver    2 days left     usa  167607883    25302   \n",
       "1340           ford    no_color    2 days left     usa  167780682    10536   \n",
       "1336           ford    no_color    2 days left     usa  167780680     9643   \n",
       "277           dodge        blue  21 hours left     usa  167759490    10944   \n",
       "1215           ford       black  21 hours left     usa  167718954     6500   \n",
       "...             ...         ...            ...     ...        ...      ...   \n",
       "196            ford       white    2 days left     usa  167656523    76858   \n",
       "349       heartland       white    7 days left     usa  167266321        1   \n",
       "309       chevrolet      maroon  18 hours left     usa  167418651        0   \n",
       "322            ford       green  19 hours left     usa  167359174        0   \n",
       "545             gmc  light blue  18 hours left     usa  167358601        0   \n",
       "\n",
       "           model  price         state       title_status                  vin  \\\n",
       "502     sl-class  84900       florida      clean vehicle    wddjk7ea3hf044968   \n",
       "1340         drw  74000      illinois      clean vehicle    1ft8w4dt6ked32656   \n",
       "1336         drw  70000      illinois      clean vehicle    1ft8w3dt3kee48276   \n",
       "277   challenger  67000          ohio      clean vehicle    2c3cdzl97kh518237   \n",
       "1215         srw  65500       indiana      clean vehicle    1ft7w2bt0kec44818   \n",
       "...          ...    ...           ...                ...                  ...   \n",
       "196          mpv      0         texas      clean vehicle    1fbax2cv0hkb32599   \n",
       "349     sundance      0  pennsylvania      clean vehicle    5sfgf29269e031344   \n",
       "309         door      0       wyoming  salvage insurance    3gnek12t74g240524   \n",
       "322      chassis      0    california  salvage insurance    1fdee14n7rha47894   \n",
       "545         door      0      colorado  salvage insurance    1gkfk16k5pj701631   \n",
       "\n",
       "      year  \n",
       "502   2017  \n",
       "1340  2019  \n",
       "1336  2019  \n",
       "277   2019  \n",
       "1215  2019  \n",
       "...    ...  \n",
       "196   2017  \n",
       "349   2009  \n",
       "309   2004  \n",
       "322   1994  \n",
       "545   1993  \n",
       "\n",
       "[2499 rows x 12 columns]"
      ]
     },
     "execution_count": 46,
     "metadata": {},
     "output_type": "execute_result"
    }
   ],
   "source": [
    "df.sort_values(by=['price','mileage'],ascending=False)"
   ]
  },
  {
   "cell_type": "code",
   "execution_count": 52,
   "id": "46c95950",
   "metadata": {},
   "outputs": [
    {
     "data": {
      "text/html": [
       "<div>\n",
       "<style scoped>\n",
       "    .dataframe tbody tr th:only-of-type {\n",
       "        vertical-align: middle;\n",
       "    }\n",
       "\n",
       "    .dataframe tbody tr th {\n",
       "        vertical-align: top;\n",
       "    }\n",
       "\n",
       "    .dataframe thead th {\n",
       "        text-align: right;\n",
       "    }\n",
       "</style>\n",
       "<table border=\"1\" class=\"dataframe\">\n",
       "  <thead>\n",
       "    <tr style=\"text-align: right;\">\n",
       "      <th></th>\n",
       "      <th>brand</th>\n",
       "      <th>color</th>\n",
       "      <th>condition</th>\n",
       "      <th>country</th>\n",
       "      <th>lot</th>\n",
       "      <th>mileage</th>\n",
       "      <th>model</th>\n",
       "      <th>price</th>\n",
       "      <th>state</th>\n",
       "      <th>title_status</th>\n",
       "      <th>vin</th>\n",
       "      <th>year</th>\n",
       "    </tr>\n",
       "  </thead>\n",
       "  <tbody>\n",
       "    <tr>\n",
       "      <th>32</th>\n",
       "      <td>chevrolet</td>\n",
       "      <td>red</td>\n",
       "      <td>22 hours left</td>\n",
       "      <td>usa</td>\n",
       "      <td>167763370</td>\n",
       "      <td>46226</td>\n",
       "      <td>camaro</td>\n",
       "      <td>29800</td>\n",
       "      <td>pennsylvania</td>\n",
       "      <td>clean vehicle</td>\n",
       "      <td>1q87t3n166389</td>\n",
       "      <td>1973</td>\n",
       "    </tr>\n",
       "    <tr>\n",
       "      <th>405</th>\n",
       "      <td>ford</td>\n",
       "      <td>white</td>\n",
       "      <td>17 hours left</td>\n",
       "      <td>usa</td>\n",
       "      <td>167611661</td>\n",
       "      <td>41577</td>\n",
       "      <td>door</td>\n",
       "      <td>25</td>\n",
       "      <td>arkansas</td>\n",
       "      <td>salvage insurance</td>\n",
       "      <td>2ftcf15y9eca14589</td>\n",
       "      <td>1984</td>\n",
       "    </tr>\n",
       "    <tr>\n",
       "      <th>545</th>\n",
       "      <td>gmc</td>\n",
       "      <td>light blue</td>\n",
       "      <td>18 hours left</td>\n",
       "      <td>usa</td>\n",
       "      <td>167358601</td>\n",
       "      <td>0</td>\n",
       "      <td>door</td>\n",
       "      <td>0</td>\n",
       "      <td>colorado</td>\n",
       "      <td>salvage insurance</td>\n",
       "      <td>1gkfk16k5pj701631</td>\n",
       "      <td>1993</td>\n",
       "    </tr>\n",
       "    <tr>\n",
       "      <th>322</th>\n",
       "      <td>ford</td>\n",
       "      <td>green</td>\n",
       "      <td>19 hours left</td>\n",
       "      <td>usa</td>\n",
       "      <td>167359174</td>\n",
       "      <td>0</td>\n",
       "      <td>chassis</td>\n",
       "      <td>0</td>\n",
       "      <td>california</td>\n",
       "      <td>salvage insurance</td>\n",
       "      <td>1fdee14n7rha47894</td>\n",
       "      <td>1994</td>\n",
       "    </tr>\n",
       "    <tr>\n",
       "      <th>362</th>\n",
       "      <td>ford</td>\n",
       "      <td>white</td>\n",
       "      <td>2 days left</td>\n",
       "      <td>usa</td>\n",
       "      <td>167361489</td>\n",
       "      <td>206162</td>\n",
       "      <td>pickup</td>\n",
       "      <td>25</td>\n",
       "      <td>georgia</td>\n",
       "      <td>salvage insurance</td>\n",
       "      <td>1ftdf15y2rnb12612</td>\n",
       "      <td>1994</td>\n",
       "    </tr>\n",
       "  </tbody>\n",
       "</table>\n",
       "</div>"
      ],
      "text/plain": [
       "         brand       color      condition country        lot  mileage  \\\n",
       "32   chevrolet         red  22 hours left     usa  167763370    46226   \n",
       "405       ford       white  17 hours left     usa  167611661    41577   \n",
       "545        gmc  light blue  18 hours left     usa  167358601        0   \n",
       "322       ford       green  19 hours left     usa  167359174        0   \n",
       "362       ford       white    2 days left     usa  167361489   206162   \n",
       "\n",
       "       model  price         state       title_status                  vin  \\\n",
       "32    camaro  29800  pennsylvania      clean vehicle        1q87t3n166389   \n",
       "405     door     25      arkansas  salvage insurance    2ftcf15y9eca14589   \n",
       "545     door      0      colorado  salvage insurance    1gkfk16k5pj701631   \n",
       "322  chassis      0    california  salvage insurance    1fdee14n7rha47894   \n",
       "362   pickup     25       georgia  salvage insurance    1ftdf15y2rnb12612   \n",
       "\n",
       "     year  \n",
       "32   1973  \n",
       "405  1984  \n",
       "545  1993  \n",
       "322  1994  \n",
       "362  1994  "
      ]
     },
     "execution_count": 52,
     "metadata": {},
     "output_type": "execute_result"
    }
   ],
   "source": [
    "df.sort_values(by='year').head()"
   ]
  },
  {
   "cell_type": "code",
   "execution_count": 51,
   "id": "d870a2a0",
   "metadata": {},
   "outputs": [
    {
     "data": {
      "text/html": [
       "<div>\n",
       "<style scoped>\n",
       "    .dataframe tbody tr th:only-of-type {\n",
       "        vertical-align: middle;\n",
       "    }\n",
       "\n",
       "    .dataframe tbody tr th {\n",
       "        vertical-align: top;\n",
       "    }\n",
       "\n",
       "    .dataframe thead th {\n",
       "        text-align: right;\n",
       "    }\n",
       "</style>\n",
       "<table border=\"1\" class=\"dataframe\">\n",
       "  <thead>\n",
       "    <tr style=\"text-align: right;\">\n",
       "      <th></th>\n",
       "      <th>brand</th>\n",
       "      <th>color</th>\n",
       "      <th>condition</th>\n",
       "      <th>country</th>\n",
       "      <th>lot</th>\n",
       "      <th>mileage</th>\n",
       "      <th>model</th>\n",
       "      <th>price</th>\n",
       "      <th>state</th>\n",
       "      <th>title_status</th>\n",
       "      <th>vin</th>\n",
       "      <th>year</th>\n",
       "    </tr>\n",
       "  </thead>\n",
       "  <tbody>\n",
       "    <tr>\n",
       "      <th>2343</th>\n",
       "      <td>nissan</td>\n",
       "      <td>black</td>\n",
       "      <td>14 hours left</td>\n",
       "      <td>usa</td>\n",
       "      <td>167614836</td>\n",
       "      <td>15931</td>\n",
       "      <td>rogue</td>\n",
       "      <td>19700</td>\n",
       "      <td>minnesota</td>\n",
       "      <td>clean vehicle</td>\n",
       "      <td>knmat2mv1lp508342</td>\n",
       "      <td>2020</td>\n",
       "    </tr>\n",
       "    <tr>\n",
       "      <th>210</th>\n",
       "      <td>chevrolet</td>\n",
       "      <td>green</td>\n",
       "      <td>3 days left</td>\n",
       "      <td>usa</td>\n",
       "      <td>167765992</td>\n",
       "      <td>13826</td>\n",
       "      <td>camaro</td>\n",
       "      <td>22500</td>\n",
       "      <td>georgia</td>\n",
       "      <td>clean vehicle</td>\n",
       "      <td>1g1fb1rx6l0109117</td>\n",
       "      <td>2020</td>\n",
       "    </tr>\n",
       "    <tr>\n",
       "      <th>2305</th>\n",
       "      <td>nissan</td>\n",
       "      <td>gray</td>\n",
       "      <td>2 days left</td>\n",
       "      <td>usa</td>\n",
       "      <td>167743353</td>\n",
       "      <td>15387</td>\n",
       "      <td>rogue</td>\n",
       "      <td>14700</td>\n",
       "      <td>pennsylvania</td>\n",
       "      <td>clean vehicle</td>\n",
       "      <td>knmat2mv5lp500471</td>\n",
       "      <td>2020</td>\n",
       "    </tr>\n",
       "    <tr>\n",
       "      <th>2306</th>\n",
       "      <td>nissan</td>\n",
       "      <td>black</td>\n",
       "      <td>7 hours left</td>\n",
       "      <td>usa</td>\n",
       "      <td>167129224</td>\n",
       "      <td>264</td>\n",
       "      <td>cargo</td>\n",
       "      <td>19000</td>\n",
       "      <td>california</td>\n",
       "      <td>clean vehicle</td>\n",
       "      <td>3n6cm0kn9lk693851</td>\n",
       "      <td>2020</td>\n",
       "    </tr>\n",
       "    <tr>\n",
       "      <th>2321</th>\n",
       "      <td>nissan</td>\n",
       "      <td>blue</td>\n",
       "      <td>2 days left</td>\n",
       "      <td>usa</td>\n",
       "      <td>167656206</td>\n",
       "      <td>11583</td>\n",
       "      <td>rogue</td>\n",
       "      <td>12000</td>\n",
       "      <td>ohio</td>\n",
       "      <td>clean vehicle</td>\n",
       "      <td>jn8at2mv7lw102351</td>\n",
       "      <td>2020</td>\n",
       "    </tr>\n",
       "  </tbody>\n",
       "</table>\n",
       "</div>"
      ],
      "text/plain": [
       "          brand  color      condition country        lot  mileage   model  \\\n",
       "2343     nissan  black  14 hours left     usa  167614836    15931   rogue   \n",
       "210   chevrolet  green    3 days left     usa  167765992    13826  camaro   \n",
       "2305     nissan   gray    2 days left     usa  167743353    15387   rogue   \n",
       "2306     nissan  black   7 hours left     usa  167129224      264   cargo   \n",
       "2321     nissan   blue    2 days left     usa  167656206    11583   rogue   \n",
       "\n",
       "      price         state   title_status                  vin  year  \n",
       "2343  19700     minnesota  clean vehicle    knmat2mv1lp508342  2020  \n",
       "210   22500       georgia  clean vehicle    1g1fb1rx6l0109117  2020  \n",
       "2305  14700  pennsylvania  clean vehicle    knmat2mv5lp500471  2020  \n",
       "2306  19000    california  clean vehicle    3n6cm0kn9lk693851  2020  \n",
       "2321  12000          ohio  clean vehicle    jn8at2mv7lw102351  2020  "
      ]
     },
     "execution_count": 51,
     "metadata": {},
     "output_type": "execute_result"
    }
   ],
   "source": [
    "df.sort_values(by='year',ascending=False).head()"
   ]
  },
  {
   "cell_type": "code",
   "execution_count": 57,
   "id": "3a5f39d2",
   "metadata": {},
   "outputs": [
    {
     "data": {
      "text/html": [
       "<div>\n",
       "<style scoped>\n",
       "    .dataframe tbody tr th:only-of-type {\n",
       "        vertical-align: middle;\n",
       "    }\n",
       "\n",
       "    .dataframe tbody tr th {\n",
       "        vertical-align: top;\n",
       "    }\n",
       "\n",
       "    .dataframe thead th {\n",
       "        text-align: right;\n",
       "    }\n",
       "</style>\n",
       "<table border=\"1\" class=\"dataframe\">\n",
       "  <thead>\n",
       "    <tr style=\"text-align: right;\">\n",
       "      <th></th>\n",
       "      <th>brand</th>\n",
       "      <th>color</th>\n",
       "      <th>condition</th>\n",
       "      <th>country</th>\n",
       "      <th>lot</th>\n",
       "      <th>mileage</th>\n",
       "      <th>model</th>\n",
       "      <th>price</th>\n",
       "      <th>state</th>\n",
       "      <th>title_status</th>\n",
       "      <th>vin</th>\n",
       "      <th>year</th>\n",
       "      <th>rating</th>\n",
       "    </tr>\n",
       "  </thead>\n",
       "  <tbody>\n",
       "    <tr>\n",
       "      <th>0</th>\n",
       "      <td>toyota</td>\n",
       "      <td>black</td>\n",
       "      <td>10 days left</td>\n",
       "      <td>usa</td>\n",
       "      <td>159348797</td>\n",
       "      <td>274117</td>\n",
       "      <td>cruiser</td>\n",
       "      <td>6300</td>\n",
       "      <td>new jersey</td>\n",
       "      <td>clean vehicle</td>\n",
       "      <td>jtezu11f88k007763</td>\n",
       "      <td>2008</td>\n",
       "      <td>380.0</td>\n",
       "    </tr>\n",
       "    <tr>\n",
       "      <th>1</th>\n",
       "      <td>ford</td>\n",
       "      <td>silver</td>\n",
       "      <td>6 days left</td>\n",
       "      <td>usa</td>\n",
       "      <td>166951262</td>\n",
       "      <td>190552</td>\n",
       "      <td>se</td>\n",
       "      <td>2899</td>\n",
       "      <td>tennessee</td>\n",
       "      <td>clean vehicle</td>\n",
       "      <td>2fmdk3gc4bbb02217</td>\n",
       "      <td>2011</td>\n",
       "      <td>156.0</td>\n",
       "    </tr>\n",
       "    <tr>\n",
       "      <th>2</th>\n",
       "      <td>dodge</td>\n",
       "      <td>silver</td>\n",
       "      <td>2 days left</td>\n",
       "      <td>usa</td>\n",
       "      <td>167655728</td>\n",
       "      <td>39590</td>\n",
       "      <td>mpv</td>\n",
       "      <td>5350</td>\n",
       "      <td>georgia</td>\n",
       "      <td>clean vehicle</td>\n",
       "      <td>3c4pdcgg5jt346413</td>\n",
       "      <td>2018</td>\n",
       "      <td>326.0</td>\n",
       "    </tr>\n",
       "    <tr>\n",
       "      <th>3</th>\n",
       "      <td>ford</td>\n",
       "      <td>blue</td>\n",
       "      <td>22 hours left</td>\n",
       "      <td>usa</td>\n",
       "      <td>167753855</td>\n",
       "      <td>64146</td>\n",
       "      <td>door</td>\n",
       "      <td>25000</td>\n",
       "      <td>virginia</td>\n",
       "      <td>clean vehicle</td>\n",
       "      <td>1ftfw1et4efc23745</td>\n",
       "      <td>2014</td>\n",
       "      <td>1824.0</td>\n",
       "    </tr>\n",
       "    <tr>\n",
       "      <th>4</th>\n",
       "      <td>chevrolet</td>\n",
       "      <td>red</td>\n",
       "      <td>22 hours left</td>\n",
       "      <td>usa</td>\n",
       "      <td>167763266</td>\n",
       "      <td>6654</td>\n",
       "      <td>1500</td>\n",
       "      <td>27700</td>\n",
       "      <td>florida</td>\n",
       "      <td>clean vehicle</td>\n",
       "      <td>3gcpcrec2jg473991</td>\n",
       "      <td>2018</td>\n",
       "      <td>2004.0</td>\n",
       "    </tr>\n",
       "    <tr>\n",
       "      <th>...</th>\n",
       "      <td>...</td>\n",
       "      <td>...</td>\n",
       "      <td>...</td>\n",
       "      <td>...</td>\n",
       "      <td>...</td>\n",
       "      <td>...</td>\n",
       "      <td>...</td>\n",
       "      <td>...</td>\n",
       "      <td>...</td>\n",
       "      <td>...</td>\n",
       "      <td>...</td>\n",
       "      <td>...</td>\n",
       "      <td>...</td>\n",
       "    </tr>\n",
       "    <tr>\n",
       "      <th>2494</th>\n",
       "      <td>nissan</td>\n",
       "      <td>red</td>\n",
       "      <td>1 days left</td>\n",
       "      <td>usa</td>\n",
       "      <td>167722715</td>\n",
       "      <td>23609</td>\n",
       "      <td>versa</td>\n",
       "      <td>7800</td>\n",
       "      <td>california</td>\n",
       "      <td>clean vehicle</td>\n",
       "      <td>3n1cn7ap9kl880319</td>\n",
       "      <td>2019</td>\n",
       "      <td>475.0</td>\n",
       "    </tr>\n",
       "    <tr>\n",
       "      <th>2495</th>\n",
       "      <td>nissan</td>\n",
       "      <td>silver</td>\n",
       "      <td>21 hours left</td>\n",
       "      <td>usa</td>\n",
       "      <td>167762225</td>\n",
       "      <td>34553</td>\n",
       "      <td>versa</td>\n",
       "      <td>9200</td>\n",
       "      <td>florida</td>\n",
       "      <td>clean vehicle</td>\n",
       "      <td>3n1cn7ap5jl884088</td>\n",
       "      <td>2018</td>\n",
       "      <td>567.0</td>\n",
       "    </tr>\n",
       "    <tr>\n",
       "      <th>2496</th>\n",
       "      <td>nissan</td>\n",
       "      <td>silver</td>\n",
       "      <td>21 hours left</td>\n",
       "      <td>usa</td>\n",
       "      <td>167762226</td>\n",
       "      <td>31594</td>\n",
       "      <td>versa</td>\n",
       "      <td>9200</td>\n",
       "      <td>florida</td>\n",
       "      <td>clean vehicle</td>\n",
       "      <td>3n1cn7ap9jl884191</td>\n",
       "      <td>2018</td>\n",
       "      <td>567.0</td>\n",
       "    </tr>\n",
       "    <tr>\n",
       "      <th>2497</th>\n",
       "      <td>nissan</td>\n",
       "      <td>black</td>\n",
       "      <td>2 days left</td>\n",
       "      <td>usa</td>\n",
       "      <td>167762227</td>\n",
       "      <td>32557</td>\n",
       "      <td>versa</td>\n",
       "      <td>9200</td>\n",
       "      <td>florida</td>\n",
       "      <td>clean vehicle</td>\n",
       "      <td>3n1cn7ap3jl883263</td>\n",
       "      <td>2018</td>\n",
       "      <td>567.0</td>\n",
       "    </tr>\n",
       "    <tr>\n",
       "      <th>2498</th>\n",
       "      <td>nissan</td>\n",
       "      <td>silver</td>\n",
       "      <td>21 hours left</td>\n",
       "      <td>usa</td>\n",
       "      <td>167762228</td>\n",
       "      <td>31371</td>\n",
       "      <td>versa</td>\n",
       "      <td>9200</td>\n",
       "      <td>florida</td>\n",
       "      <td>clean vehicle</td>\n",
       "      <td>3n1cn7ap4jl884311</td>\n",
       "      <td>2018</td>\n",
       "      <td>567.0</td>\n",
       "    </tr>\n",
       "  </tbody>\n",
       "</table>\n",
       "<p>2499 rows × 13 columns</p>\n",
       "</div>"
      ],
      "text/plain": [
       "          brand   color      condition country        lot  mileage    model  \\\n",
       "0        toyota   black   10 days left     usa  159348797   274117  cruiser   \n",
       "1          ford  silver    6 days left     usa  166951262   190552       se   \n",
       "2         dodge  silver    2 days left     usa  167655728    39590      mpv   \n",
       "3          ford    blue  22 hours left     usa  167753855    64146     door   \n",
       "4     chevrolet     red  22 hours left     usa  167763266     6654     1500   \n",
       "...         ...     ...            ...     ...        ...      ...      ...   \n",
       "2494     nissan     red    1 days left     usa  167722715    23609    versa   \n",
       "2495     nissan  silver  21 hours left     usa  167762225    34553    versa   \n",
       "2496     nissan  silver  21 hours left     usa  167762226    31594    versa   \n",
       "2497     nissan   black    2 days left     usa  167762227    32557    versa   \n",
       "2498     nissan  silver  21 hours left     usa  167762228    31371    versa   \n",
       "\n",
       "      price       state   title_status                  vin  year  rating  \n",
       "0      6300  new jersey  clean vehicle    jtezu11f88k007763  2008   380.0  \n",
       "1      2899   tennessee  clean vehicle    2fmdk3gc4bbb02217  2011   156.0  \n",
       "2      5350     georgia  clean vehicle    3c4pdcgg5jt346413  2018   326.0  \n",
       "3     25000    virginia  clean vehicle    1ftfw1et4efc23745  2014  1824.0  \n",
       "4     27700     florida  clean vehicle    3gcpcrec2jg473991  2018  2004.0  \n",
       "...     ...         ...            ...                  ...   ...     ...  \n",
       "2494   7800  california  clean vehicle    3n1cn7ap9kl880319  2019   475.0  \n",
       "2495   9200     florida  clean vehicle    3n1cn7ap5jl884088  2018   567.0  \n",
       "2496   9200     florida  clean vehicle    3n1cn7ap9jl884191  2018   567.0  \n",
       "2497   9200     florida  clean vehicle    3n1cn7ap3jl883263  2018   567.0  \n",
       "2498   9200     florida  clean vehicle    3n1cn7ap4jl884311  2018   567.0  \n",
       "\n",
       "[2499 rows x 13 columns]"
      ]
     },
     "execution_count": 57,
     "metadata": {},
     "output_type": "execute_result"
    }
   ],
   "source": [
    "df['rating'] = df['price'].rank(method='min')\n",
    "df"
   ]
  },
  {
   "cell_type": "code",
   "execution_count": 58,
   "id": "31da1fb0",
   "metadata": {},
   "outputs": [
    {
     "data": {
      "text/html": [
       "<div>\n",
       "<style scoped>\n",
       "    .dataframe tbody tr th:only-of-type {\n",
       "        vertical-align: middle;\n",
       "    }\n",
       "\n",
       "    .dataframe tbody tr th {\n",
       "        vertical-align: top;\n",
       "    }\n",
       "\n",
       "    .dataframe thead th {\n",
       "        text-align: right;\n",
       "    }\n",
       "</style>\n",
       "<table border=\"1\" class=\"dataframe\">\n",
       "  <thead>\n",
       "    <tr style=\"text-align: right;\">\n",
       "      <th></th>\n",
       "      <th>brand</th>\n",
       "      <th>color</th>\n",
       "      <th>condition</th>\n",
       "      <th>country</th>\n",
       "      <th>lot</th>\n",
       "      <th>mileage</th>\n",
       "      <th>model</th>\n",
       "      <th>price</th>\n",
       "      <th>state</th>\n",
       "      <th>title_status</th>\n",
       "      <th>vin</th>\n",
       "      <th>year</th>\n",
       "      <th>rating</th>\n",
       "    </tr>\n",
       "  </thead>\n",
       "  <tbody>\n",
       "    <tr>\n",
       "      <th>455</th>\n",
       "      <td>chevrolet</td>\n",
       "      <td>silver</td>\n",
       "      <td>17 hours left</td>\n",
       "      <td>usa</td>\n",
       "      <td>167650486</td>\n",
       "      <td>268040</td>\n",
       "      <td>door</td>\n",
       "      <td>0</td>\n",
       "      <td>texas</td>\n",
       "      <td>salvage insurance</td>\n",
       "      <td>1g1zt53f46f254868</td>\n",
       "      <td>2006</td>\n",
       "      <td>1.0</td>\n",
       "    </tr>\n",
       "    <tr>\n",
       "      <th>421</th>\n",
       "      <td>bmw</td>\n",
       "      <td>gray</td>\n",
       "      <td>2 days left</td>\n",
       "      <td>usa</td>\n",
       "      <td>167425906</td>\n",
       "      <td>216657</td>\n",
       "      <td>door</td>\n",
       "      <td>0</td>\n",
       "      <td>utah</td>\n",
       "      <td>salvage insurance</td>\n",
       "      <td>wbaam3346yfp77118</td>\n",
       "      <td>2000</td>\n",
       "      <td>1.0</td>\n",
       "    </tr>\n",
       "    <tr>\n",
       "      <th>420</th>\n",
       "      <td>audi</td>\n",
       "      <td>black</td>\n",
       "      <td>19 hours left</td>\n",
       "      <td>usa</td>\n",
       "      <td>167419563</td>\n",
       "      <td>181896</td>\n",
       "      <td>door</td>\n",
       "      <td>0</td>\n",
       "      <td>california</td>\n",
       "      <td>salvage insurance</td>\n",
       "      <td>waudg74f05n113751</td>\n",
       "      <td>2005</td>\n",
       "      <td>1.0</td>\n",
       "    </tr>\n",
       "    <tr>\n",
       "      <th>419</th>\n",
       "      <td>kia</td>\n",
       "      <td>silver</td>\n",
       "      <td>16 hours left</td>\n",
       "      <td>usa</td>\n",
       "      <td>167247592</td>\n",
       "      <td>148463</td>\n",
       "      <td>wagon</td>\n",
       "      <td>0</td>\n",
       "      <td>indiana</td>\n",
       "      <td>salvage insurance</td>\n",
       "      <td>knafg525787197602</td>\n",
       "      <td>2008</td>\n",
       "      <td>1.0</td>\n",
       "    </tr>\n",
       "    <tr>\n",
       "      <th>293</th>\n",
       "      <td>chevrolet</td>\n",
       "      <td>gray</td>\n",
       "      <td>17 hours left</td>\n",
       "      <td>usa</td>\n",
       "      <td>167417659</td>\n",
       "      <td>258631</td>\n",
       "      <td>pickup</td>\n",
       "      <td>0</td>\n",
       "      <td>texas</td>\n",
       "      <td>salvage insurance</td>\n",
       "      <td>1gccs1445wk226994</td>\n",
       "      <td>1998</td>\n",
       "      <td>1.0</td>\n",
       "    </tr>\n",
       "    <tr>\n",
       "      <th>...</th>\n",
       "      <td>...</td>\n",
       "      <td>...</td>\n",
       "      <td>...</td>\n",
       "      <td>...</td>\n",
       "      <td>...</td>\n",
       "      <td>...</td>\n",
       "      <td>...</td>\n",
       "      <td>...</td>\n",
       "      <td>...</td>\n",
       "      <td>...</td>\n",
       "      <td>...</td>\n",
       "      <td>...</td>\n",
       "      <td>...</td>\n",
       "    </tr>\n",
       "    <tr>\n",
       "      <th>1215</th>\n",
       "      <td>ford</td>\n",
       "      <td>black</td>\n",
       "      <td>21 hours left</td>\n",
       "      <td>usa</td>\n",
       "      <td>167718954</td>\n",
       "      <td>6500</td>\n",
       "      <td>srw</td>\n",
       "      <td>65500</td>\n",
       "      <td>indiana</td>\n",
       "      <td>clean vehicle</td>\n",
       "      <td>1ft7w2bt0kec44818</td>\n",
       "      <td>2019</td>\n",
       "      <td>2495.0</td>\n",
       "    </tr>\n",
       "    <tr>\n",
       "      <th>277</th>\n",
       "      <td>dodge</td>\n",
       "      <td>blue</td>\n",
       "      <td>21 hours left</td>\n",
       "      <td>usa</td>\n",
       "      <td>167759490</td>\n",
       "      <td>10944</td>\n",
       "      <td>challenger</td>\n",
       "      <td>67000</td>\n",
       "      <td>ohio</td>\n",
       "      <td>clean vehicle</td>\n",
       "      <td>2c3cdzl97kh518237</td>\n",
       "      <td>2019</td>\n",
       "      <td>2496.0</td>\n",
       "    </tr>\n",
       "    <tr>\n",
       "      <th>1336</th>\n",
       "      <td>ford</td>\n",
       "      <td>no_color</td>\n",
       "      <td>2 days left</td>\n",
       "      <td>usa</td>\n",
       "      <td>167780680</td>\n",
       "      <td>9643</td>\n",
       "      <td>drw</td>\n",
       "      <td>70000</td>\n",
       "      <td>illinois</td>\n",
       "      <td>clean vehicle</td>\n",
       "      <td>1ft8w3dt3kee48276</td>\n",
       "      <td>2019</td>\n",
       "      <td>2497.0</td>\n",
       "    </tr>\n",
       "    <tr>\n",
       "      <th>1340</th>\n",
       "      <td>ford</td>\n",
       "      <td>no_color</td>\n",
       "      <td>2 days left</td>\n",
       "      <td>usa</td>\n",
       "      <td>167780682</td>\n",
       "      <td>10536</td>\n",
       "      <td>drw</td>\n",
       "      <td>74000</td>\n",
       "      <td>illinois</td>\n",
       "      <td>clean vehicle</td>\n",
       "      <td>1ft8w4dt6ked32656</td>\n",
       "      <td>2019</td>\n",
       "      <td>2498.0</td>\n",
       "    </tr>\n",
       "    <tr>\n",
       "      <th>502</th>\n",
       "      <td>mercedes-benz</td>\n",
       "      <td>silver</td>\n",
       "      <td>2 days left</td>\n",
       "      <td>usa</td>\n",
       "      <td>167607883</td>\n",
       "      <td>25302</td>\n",
       "      <td>sl-class</td>\n",
       "      <td>84900</td>\n",
       "      <td>florida</td>\n",
       "      <td>clean vehicle</td>\n",
       "      <td>wddjk7ea3hf044968</td>\n",
       "      <td>2017</td>\n",
       "      <td>2499.0</td>\n",
       "    </tr>\n",
       "  </tbody>\n",
       "</table>\n",
       "<p>2499 rows × 13 columns</p>\n",
       "</div>"
      ],
      "text/plain": [
       "              brand     color      condition country        lot  mileage  \\\n",
       "455       chevrolet    silver  17 hours left     usa  167650486   268040   \n",
       "421             bmw      gray    2 days left     usa  167425906   216657   \n",
       "420            audi     black  19 hours left     usa  167419563   181896   \n",
       "419             kia    silver  16 hours left     usa  167247592   148463   \n",
       "293       chevrolet      gray  17 hours left     usa  167417659   258631   \n",
       "...             ...       ...            ...     ...        ...      ...   \n",
       "1215           ford     black  21 hours left     usa  167718954     6500   \n",
       "277           dodge      blue  21 hours left     usa  167759490    10944   \n",
       "1336           ford  no_color    2 days left     usa  167780680     9643   \n",
       "1340           ford  no_color    2 days left     usa  167780682    10536   \n",
       "502   mercedes-benz    silver    2 days left     usa  167607883    25302   \n",
       "\n",
       "           model  price       state       title_status                  vin  \\\n",
       "455         door      0       texas  salvage insurance    1g1zt53f46f254868   \n",
       "421         door      0        utah  salvage insurance    wbaam3346yfp77118   \n",
       "420         door      0  california  salvage insurance    waudg74f05n113751   \n",
       "419        wagon      0     indiana  salvage insurance    knafg525787197602   \n",
       "293       pickup      0       texas  salvage insurance    1gccs1445wk226994   \n",
       "...          ...    ...         ...                ...                  ...   \n",
       "1215         srw  65500     indiana      clean vehicle    1ft7w2bt0kec44818   \n",
       "277   challenger  67000        ohio      clean vehicle    2c3cdzl97kh518237   \n",
       "1336         drw  70000    illinois      clean vehicle    1ft8w3dt3kee48276   \n",
       "1340         drw  74000    illinois      clean vehicle    1ft8w4dt6ked32656   \n",
       "502     sl-class  84900     florida      clean vehicle    wddjk7ea3hf044968   \n",
       "\n",
       "      year  rating  \n",
       "455   2006     1.0  \n",
       "421   2000     1.0  \n",
       "420   2005     1.0  \n",
       "419   2008     1.0  \n",
       "293   1998     1.0  \n",
       "...    ...     ...  \n",
       "1215  2019  2495.0  \n",
       "277   2019  2496.0  \n",
       "1336  2019  2497.0  \n",
       "1340  2019  2498.0  \n",
       "502   2017  2499.0  \n",
       "\n",
       "[2499 rows x 13 columns]"
      ]
     },
     "execution_count": 58,
     "metadata": {},
     "output_type": "execute_result"
    }
   ],
   "source": [
    "df.sort_values('price')"
   ]
  },
  {
   "cell_type": "code",
   "execution_count": 59,
   "id": "a1761e7a",
   "metadata": {},
   "outputs": [],
   "source": [
    "df['rating_run'] = df['mileage'].rank(method='average')"
   ]
  },
  {
   "cell_type": "code",
   "execution_count": 61,
   "id": "37f1e429",
   "metadata": {},
   "outputs": [
    {
     "data": {
      "text/html": [
       "<div>\n",
       "<style scoped>\n",
       "    .dataframe tbody tr th:only-of-type {\n",
       "        vertical-align: middle;\n",
       "    }\n",
       "\n",
       "    .dataframe tbody tr th {\n",
       "        vertical-align: top;\n",
       "    }\n",
       "\n",
       "    .dataframe thead th {\n",
       "        text-align: right;\n",
       "    }\n",
       "</style>\n",
       "<table border=\"1\" class=\"dataframe\">\n",
       "  <thead>\n",
       "    <tr style=\"text-align: right;\">\n",
       "      <th></th>\n",
       "      <th>brand</th>\n",
       "      <th>color</th>\n",
       "      <th>condition</th>\n",
       "      <th>country</th>\n",
       "      <th>lot</th>\n",
       "      <th>mileage</th>\n",
       "      <th>model</th>\n",
       "      <th>price</th>\n",
       "      <th>state</th>\n",
       "      <th>title_status</th>\n",
       "      <th>vin</th>\n",
       "      <th>year</th>\n",
       "      <th>rating</th>\n",
       "      <th>rating_run</th>\n",
       "    </tr>\n",
       "  </thead>\n",
       "  <tbody>\n",
       "    <tr>\n",
       "      <th>545</th>\n",
       "      <td>gmc</td>\n",
       "      <td>light blue</td>\n",
       "      <td>18 hours left</td>\n",
       "      <td>usa</td>\n",
       "      <td>167358601</td>\n",
       "      <td>0</td>\n",
       "      <td>door</td>\n",
       "      <td>0</td>\n",
       "      <td>colorado</td>\n",
       "      <td>salvage insurance</td>\n",
       "      <td>1gkfk16k5pj701631</td>\n",
       "      <td>1993</td>\n",
       "      <td>1.0</td>\n",
       "      <td>3.5</td>\n",
       "    </tr>\n",
       "    <tr>\n",
       "      <th>1236</th>\n",
       "      <td>ford</td>\n",
       "      <td>no_color</td>\n",
       "      <td>2 days left</td>\n",
       "      <td>usa</td>\n",
       "      <td>167773673</td>\n",
       "      <td>0</td>\n",
       "      <td>door</td>\n",
       "      <td>4200</td>\n",
       "      <td>pennsylvania</td>\n",
       "      <td>clean vehicle</td>\n",
       "      <td>1fadp3j23dl155179</td>\n",
       "      <td>2013</td>\n",
       "      <td>258.0</td>\n",
       "      <td>3.5</td>\n",
       "    </tr>\n",
       "    <tr>\n",
       "      <th>309</th>\n",
       "      <td>chevrolet</td>\n",
       "      <td>maroon</td>\n",
       "      <td>18 hours left</td>\n",
       "      <td>usa</td>\n",
       "      <td>167418651</td>\n",
       "      <td>0</td>\n",
       "      <td>door</td>\n",
       "      <td>0</td>\n",
       "      <td>wyoming</td>\n",
       "      <td>salvage insurance</td>\n",
       "      <td>3gnek12t74g240524</td>\n",
       "      <td>2004</td>\n",
       "      <td>1.0</td>\n",
       "      <td>3.5</td>\n",
       "    </tr>\n",
       "    <tr>\n",
       "      <th>322</th>\n",
       "      <td>ford</td>\n",
       "      <td>green</td>\n",
       "      <td>19 hours left</td>\n",
       "      <td>usa</td>\n",
       "      <td>167359174</td>\n",
       "      <td>0</td>\n",
       "      <td>chassis</td>\n",
       "      <td>0</td>\n",
       "      <td>california</td>\n",
       "      <td>salvage insurance</td>\n",
       "      <td>1fdee14n7rha47894</td>\n",
       "      <td>1994</td>\n",
       "      <td>1.0</td>\n",
       "      <td>3.5</td>\n",
       "    </tr>\n",
       "    <tr>\n",
       "      <th>504</th>\n",
       "      <td>peterbilt</td>\n",
       "      <td>blue</td>\n",
       "      <td>17 hours left</td>\n",
       "      <td>usa</td>\n",
       "      <td>167529787</td>\n",
       "      <td>0</td>\n",
       "      <td>truck</td>\n",
       "      <td>100</td>\n",
       "      <td>florida</td>\n",
       "      <td>salvage insurance</td>\n",
       "      <td>1xp4d49x1cd144875</td>\n",
       "      <td>2012</td>\n",
       "      <td>67.0</td>\n",
       "      <td>3.5</td>\n",
       "    </tr>\n",
       "  </tbody>\n",
       "</table>\n",
       "</div>"
      ],
      "text/plain": [
       "          brand       color      condition country        lot  mileage  \\\n",
       "545         gmc  light blue  18 hours left     usa  167358601        0   \n",
       "1236       ford    no_color    2 days left     usa  167773673        0   \n",
       "309   chevrolet      maroon  18 hours left     usa  167418651        0   \n",
       "322        ford       green  19 hours left     usa  167359174        0   \n",
       "504   peterbilt        blue  17 hours left     usa  167529787        0   \n",
       "\n",
       "        model  price         state       title_status                  vin  \\\n",
       "545      door      0      colorado  salvage insurance    1gkfk16k5pj701631   \n",
       "1236     door   4200  pennsylvania      clean vehicle    1fadp3j23dl155179   \n",
       "309      door      0       wyoming  salvage insurance    3gnek12t74g240524   \n",
       "322   chassis      0    california  salvage insurance    1fdee14n7rha47894   \n",
       "504     truck    100       florida  salvage insurance    1xp4d49x1cd144875   \n",
       "\n",
       "      year  rating  rating_run  \n",
       "545   1993     1.0         3.5  \n",
       "1236  2013   258.0         3.5  \n",
       "309   2004     1.0         3.5  \n",
       "322   1994     1.0         3.5  \n",
       "504   2012    67.0         3.5  "
      ]
     },
     "execution_count": 61,
     "metadata": {},
     "output_type": "execute_result"
    }
   ],
   "source": [
    "df.sort_values('mileage').head()"
   ]
  },
  {
   "cell_type": "code",
   "execution_count": 65,
   "id": "5fddf1d6",
   "metadata": {},
   "outputs": [
    {
     "data": {
      "text/html": [
       "<div>\n",
       "<style scoped>\n",
       "    .dataframe tbody tr th:only-of-type {\n",
       "        vertical-align: middle;\n",
       "    }\n",
       "\n",
       "    .dataframe tbody tr th {\n",
       "        vertical-align: top;\n",
       "    }\n",
       "\n",
       "    .dataframe thead th {\n",
       "        text-align: right;\n",
       "    }\n",
       "</style>\n",
       "<table border=\"1\" class=\"dataframe\">\n",
       "  <thead>\n",
       "    <tr style=\"text-align: right;\">\n",
       "      <th></th>\n",
       "      <th>maydoni</th>\n",
       "      <th>aholisi</th>\n",
       "    </tr>\n",
       "    <tr>\n",
       "      <th>Boʻlinishi</th>\n",
       "      <th></th>\n",
       "      <th></th>\n",
       "    </tr>\n",
       "  </thead>\n",
       "  <tbody>\n",
       "    <tr>\n",
       "      <th>Andijon viloyati</th>\n",
       "      <td>4200.0</td>\n",
       "      <td>1899000.0</td>\n",
       "    </tr>\n",
       "    <tr>\n",
       "      <th>Buxoro viloyati</th>\n",
       "      <td>39400.0</td>\n",
       "      <td>1384700.0</td>\n",
       "    </tr>\n",
       "    <tr>\n",
       "      <th>Fargʻona viloyati</th>\n",
       "      <td>6800.0</td>\n",
       "      <td>2597000.0</td>\n",
       "    </tr>\n",
       "    <tr>\n",
       "      <th>Jizzax viloyati</th>\n",
       "      <td>20500.0</td>\n",
       "      <td>910500.0</td>\n",
       "    </tr>\n",
       "    <tr>\n",
       "      <th>Xorazm viloyati</th>\n",
       "      <td>6300.0</td>\n",
       "      <td>1200000.0</td>\n",
       "    </tr>\n",
       "    <tr>\n",
       "      <th>Namangan viloyati</th>\n",
       "      <td>7900.0</td>\n",
       "      <td>1862000.0</td>\n",
       "    </tr>\n",
       "    <tr>\n",
       "      <th>Navoiy viloyati</th>\n",
       "      <td>110800.0</td>\n",
       "      <td>767500.0</td>\n",
       "    </tr>\n",
       "    <tr>\n",
       "      <th>Qashqadaryo viloyati</th>\n",
       "      <td>28400.0</td>\n",
       "      <td>2029000.0</td>\n",
       "    </tr>\n",
       "    <tr>\n",
       "      <th>Qoraqalpogʻiston Respublikasi</th>\n",
       "      <td>160000.0</td>\n",
       "      <td>1200000.0</td>\n",
       "    </tr>\n",
       "    <tr>\n",
       "      <th>Samarqand viloyati</th>\n",
       "      <td>16400.0</td>\n",
       "      <td>2322000.0</td>\n",
       "    </tr>\n",
       "    <tr>\n",
       "      <th>Sirdaryo viloyati</th>\n",
       "      <td>5100.0</td>\n",
       "      <td>648100.0</td>\n",
       "    </tr>\n",
       "    <tr>\n",
       "      <th>Surxondaryo viloyati</th>\n",
       "      <td>20800.0</td>\n",
       "      <td>1676000.0</td>\n",
       "    </tr>\n",
       "    <tr>\n",
       "      <th>Toshkent viloyati</th>\n",
       "      <td>15300.0</td>\n",
       "      <td>4450000.0</td>\n",
       "    </tr>\n",
       "  </tbody>\n",
       "</table>\n",
       "</div>"
      ],
      "text/plain": [
       "                                maydoni    aholisi\n",
       "Boʻlinishi                                        \n",
       "Andijon viloyati                 4200.0  1899000.0\n",
       "Buxoro viloyati                 39400.0  1384700.0\n",
       "Fargʻona viloyati                6800.0  2597000.0\n",
       "Jizzax viloyati                 20500.0   910500.0\n",
       "Xorazm viloyati                  6300.0  1200000.0\n",
       "Namangan viloyati                7900.0  1862000.0\n",
       "Navoiy viloyati                110800.0   767500.0\n",
       "Qashqadaryo viloyati            28400.0  2029000.0\n",
       "Qoraqalpogʻiston Respublikasi  160000.0  1200000.0\n",
       "Samarqand viloyati              16400.0  2322000.0\n",
       "Sirdaryo viloyati                5100.0   648100.0\n",
       "Surxondaryo viloyati            20800.0  1676000.0\n",
       "Toshkent viloyati               15300.0  4450000.0"
      ]
     },
     "execution_count": 65,
     "metadata": {},
     "output_type": "execute_result"
    }
   ],
   "source": [
    "df = pd.read_csv('https://raw.githubusercontent.com/anvarnarz/praktikum_datasets/main/uzbekistan.csv',index_col=0)\n",
    "df.columns = ['maydoni','aholisi']\n",
    "df"
   ]
  },
  {
   "cell_type": "code",
   "execution_count": 66,
   "id": "df55c5df",
   "metadata": {},
   "outputs": [
    {
     "data": {
      "text/plain": [
       "maydoni      441900.0\n",
       "aholisi    22945800.0\n",
       "dtype: float64"
      ]
     },
     "execution_count": 66,
     "metadata": {},
     "output_type": "execute_result"
    }
   ],
   "source": [
    "df.sum()"
   ]
  },
  {
   "cell_type": "code",
   "execution_count": 67,
   "id": "c78b90fe",
   "metadata": {},
   "outputs": [
    {
     "data": {
      "text/html": [
       "<div>\n",
       "<style scoped>\n",
       "    .dataframe tbody tr th:only-of-type {\n",
       "        vertical-align: middle;\n",
       "    }\n",
       "\n",
       "    .dataframe tbody tr th {\n",
       "        vertical-align: top;\n",
       "    }\n",
       "\n",
       "    .dataframe thead th {\n",
       "        text-align: right;\n",
       "    }\n",
       "</style>\n",
       "<table border=\"1\" class=\"dataframe\">\n",
       "  <thead>\n",
       "    <tr style=\"text-align: right;\">\n",
       "      <th></th>\n",
       "      <th>2020</th>\n",
       "      <th>2021</th>\n",
       "    </tr>\n",
       "  </thead>\n",
       "  <tbody>\n",
       "    <tr>\n",
       "      <th>Labo</th>\n",
       "      <td>4521</td>\n",
       "      <td>7542</td>\n",
       "    </tr>\n",
       "    <tr>\n",
       "      <th>Damas</th>\n",
       "      <td>30889</td>\n",
       "      <td>33682</td>\n",
       "    </tr>\n",
       "    <tr>\n",
       "      <th>Spark</th>\n",
       "      <td>16370</td>\n",
       "      <td>6485</td>\n",
       "    </tr>\n",
       "    <tr>\n",
       "      <th>Nexia</th>\n",
       "      <td>41663</td>\n",
       "      <td>14442</td>\n",
       "    </tr>\n",
       "    <tr>\n",
       "      <th>Cobalt</th>\n",
       "      <td>44901</td>\n",
       "      <td>36317</td>\n",
       "    </tr>\n",
       "  </tbody>\n",
       "</table>\n",
       "</div>"
      ],
      "text/plain": [
       "         2020   2021\n",
       "Labo     4521   7542\n",
       "Damas   30889  33682\n",
       "Spark   16370   6485\n",
       "Nexia   41663  14442\n",
       "Cobalt  44901  36317"
      ]
     },
     "execution_count": 67,
     "metadata": {},
     "output_type": "execute_result"
    }
   ],
   "source": [
    "df2 = pd.read_csv(\"https://raw.githubusercontent.com/anvarnarz/praktikum_datasets/main/gm_sales.csv\", index_col=0)\n",
    "df2.head()"
   ]
  },
  {
   "cell_type": "code",
   "execution_count": 68,
   "id": "56a1f896",
   "metadata": {},
   "outputs": [
    {
     "data": {
      "text/plain": [
       "2020    168712\n",
       "2021    124734\n",
       "dtype: int64"
      ]
     },
     "execution_count": 68,
     "metadata": {},
     "output_type": "execute_result"
    }
   ],
   "source": [
    "df2.sum()"
   ]
  },
  {
   "cell_type": "code",
   "execution_count": 70,
   "id": "56013986",
   "metadata": {},
   "outputs": [
    {
     "data": {
      "text/plain": [
       "Labo      12063\n",
       "Damas     64571\n",
       "Spark     22855\n",
       "Nexia     56105\n",
       "Cobalt    81218\n",
       "Gentra    56634\n",
       "dtype: int64"
      ]
     },
     "execution_count": 70,
     "metadata": {},
     "output_type": "execute_result"
    }
   ],
   "source": [
    "df2.sum(axis='columns')"
   ]
  },
  {
   "cell_type": "code",
   "execution_count": 71,
   "id": "0711d1b6",
   "metadata": {},
   "outputs": [
    {
     "data": {
      "text/plain": [
       "Labo       6031.5\n",
       "Damas     32285.5\n",
       "Spark     11427.5\n",
       "Nexia     28052.5\n",
       "Cobalt    40609.0\n",
       "Gentra    28317.0\n",
       "dtype: float64"
      ]
     },
     "execution_count": 71,
     "metadata": {},
     "output_type": "execute_result"
    }
   ],
   "source": [
    "df2.mean(axis=1)"
   ]
  },
  {
   "cell_type": "code",
   "execution_count": 72,
   "id": "8bfafc67",
   "metadata": {},
   "outputs": [
    {
     "data": {
      "text/html": [
       "<div>\n",
       "<style scoped>\n",
       "    .dataframe tbody tr th:only-of-type {\n",
       "        vertical-align: middle;\n",
       "    }\n",
       "\n",
       "    .dataframe tbody tr th {\n",
       "        vertical-align: top;\n",
       "    }\n",
       "\n",
       "    .dataframe thead th {\n",
       "        text-align: right;\n",
       "    }\n",
       "</style>\n",
       "<table border=\"1\" class=\"dataframe\">\n",
       "  <thead>\n",
       "    <tr style=\"text-align: right;\">\n",
       "      <th></th>\n",
       "      <th>maydoni</th>\n",
       "      <th>aholisi</th>\n",
       "    </tr>\n",
       "    <tr>\n",
       "      <th>Boʻlinishi</th>\n",
       "      <th></th>\n",
       "      <th></th>\n",
       "    </tr>\n",
       "  </thead>\n",
       "  <tbody>\n",
       "    <tr>\n",
       "      <th>Andijon viloyati</th>\n",
       "      <td>4200.0</td>\n",
       "      <td>1899000.0</td>\n",
       "    </tr>\n",
       "    <tr>\n",
       "      <th>Buxoro viloyati</th>\n",
       "      <td>39400.0</td>\n",
       "      <td>1384700.0</td>\n",
       "    </tr>\n",
       "    <tr>\n",
       "      <th>Fargʻona viloyati</th>\n",
       "      <td>6800.0</td>\n",
       "      <td>2597000.0</td>\n",
       "    </tr>\n",
       "    <tr>\n",
       "      <th>Jizzax viloyati</th>\n",
       "      <td>20500.0</td>\n",
       "      <td>910500.0</td>\n",
       "    </tr>\n",
       "    <tr>\n",
       "      <th>Xorazm viloyati</th>\n",
       "      <td>6300.0</td>\n",
       "      <td>1200000.0</td>\n",
       "    </tr>\n",
       "    <tr>\n",
       "      <th>Namangan viloyati</th>\n",
       "      <td>7900.0</td>\n",
       "      <td>1862000.0</td>\n",
       "    </tr>\n",
       "    <tr>\n",
       "      <th>Navoiy viloyati</th>\n",
       "      <td>110800.0</td>\n",
       "      <td>767500.0</td>\n",
       "    </tr>\n",
       "    <tr>\n",
       "      <th>Qashqadaryo viloyati</th>\n",
       "      <td>28400.0</td>\n",
       "      <td>2029000.0</td>\n",
       "    </tr>\n",
       "    <tr>\n",
       "      <th>Qoraqalpogʻiston Respublikasi</th>\n",
       "      <td>160000.0</td>\n",
       "      <td>1200000.0</td>\n",
       "    </tr>\n",
       "    <tr>\n",
       "      <th>Samarqand viloyati</th>\n",
       "      <td>16400.0</td>\n",
       "      <td>2322000.0</td>\n",
       "    </tr>\n",
       "    <tr>\n",
       "      <th>Sirdaryo viloyati</th>\n",
       "      <td>5100.0</td>\n",
       "      <td>648100.0</td>\n",
       "    </tr>\n",
       "    <tr>\n",
       "      <th>Surxondaryo viloyati</th>\n",
       "      <td>20800.0</td>\n",
       "      <td>1676000.0</td>\n",
       "    </tr>\n",
       "    <tr>\n",
       "      <th>Toshkent viloyati</th>\n",
       "      <td>15300.0</td>\n",
       "      <td>4450000.0</td>\n",
       "    </tr>\n",
       "  </tbody>\n",
       "</table>\n",
       "</div>"
      ],
      "text/plain": [
       "                                maydoni    aholisi\n",
       "Boʻlinishi                                        \n",
       "Andijon viloyati                 4200.0  1899000.0\n",
       "Buxoro viloyati                 39400.0  1384700.0\n",
       "Fargʻona viloyati                6800.0  2597000.0\n",
       "Jizzax viloyati                 20500.0   910500.0\n",
       "Xorazm viloyati                  6300.0  1200000.0\n",
       "Namangan viloyati                7900.0  1862000.0\n",
       "Navoiy viloyati                110800.0   767500.0\n",
       "Qashqadaryo viloyati            28400.0  2029000.0\n",
       "Qoraqalpogʻiston Respublikasi  160000.0  1200000.0\n",
       "Samarqand viloyati              16400.0  2322000.0\n",
       "Sirdaryo viloyati                5100.0   648100.0\n",
       "Surxondaryo viloyati            20800.0  1676000.0\n",
       "Toshkent viloyati               15300.0  4450000.0"
      ]
     },
     "execution_count": 72,
     "metadata": {},
     "output_type": "execute_result"
    }
   ],
   "source": [
    "df"
   ]
  },
  {
   "cell_type": "code",
   "execution_count": 73,
   "id": "907a515a",
   "metadata": {},
   "outputs": [
    {
     "data": {
      "text/plain": [
       "maydoni    3.399231e+04\n",
       "aholisi    1.765062e+06\n",
       "dtype: float64"
      ]
     },
     "execution_count": 73,
     "metadata": {},
     "output_type": "execute_result"
    }
   ],
   "source": [
    "df.mean()"
   ]
  },
  {
   "cell_type": "code",
   "execution_count": 75,
   "id": "9678ac7b",
   "metadata": {},
   "outputs": [
    {
     "data": {
      "text/plain": [
       "maydoni      441900.0\n",
       "aholisi    22945800.0\n",
       "dtype: float64"
      ]
     },
     "execution_count": 75,
     "metadata": {},
     "output_type": "execute_result"
    }
   ],
   "source": [
    "df.sum()"
   ]
  },
  {
   "cell_type": "code",
   "execution_count": 76,
   "id": "d0557c2a",
   "metadata": {},
   "outputs": [
    {
     "data": {
      "text/plain": [
       "maydoni    1.538590e+55\n",
       "aholisi    2.913892e+80\n",
       "dtype: float64"
      ]
     },
     "execution_count": 76,
     "metadata": {},
     "output_type": "execute_result"
    }
   ],
   "source": [
    "df.prod()"
   ]
  },
  {
   "cell_type": "code",
   "execution_count": 77,
   "id": "39c0be4c",
   "metadata": {},
   "outputs": [
    {
     "data": {
      "text/html": [
       "<div>\n",
       "<style scoped>\n",
       "    .dataframe tbody tr th:only-of-type {\n",
       "        vertical-align: middle;\n",
       "    }\n",
       "\n",
       "    .dataframe tbody tr th {\n",
       "        vertical-align: top;\n",
       "    }\n",
       "\n",
       "    .dataframe thead th {\n",
       "        text-align: right;\n",
       "    }\n",
       "</style>\n",
       "<table border=\"1\" class=\"dataframe\">\n",
       "  <thead>\n",
       "    <tr style=\"text-align: right;\">\n",
       "      <th></th>\n",
       "      <th>maydoni</th>\n",
       "      <th>aholisi</th>\n",
       "    </tr>\n",
       "    <tr>\n",
       "      <th>Boʻlinishi</th>\n",
       "      <th></th>\n",
       "      <th></th>\n",
       "    </tr>\n",
       "  </thead>\n",
       "  <tbody>\n",
       "    <tr>\n",
       "      <th>Andijon viloyati</th>\n",
       "      <td>4200.0</td>\n",
       "      <td>1899000.0</td>\n",
       "    </tr>\n",
       "    <tr>\n",
       "      <th>Buxoro viloyati</th>\n",
       "      <td>39400.0</td>\n",
       "      <td>1384700.0</td>\n",
       "    </tr>\n",
       "    <tr>\n",
       "      <th>Fargʻona viloyati</th>\n",
       "      <td>6800.0</td>\n",
       "      <td>2597000.0</td>\n",
       "    </tr>\n",
       "    <tr>\n",
       "      <th>Jizzax viloyati</th>\n",
       "      <td>20500.0</td>\n",
       "      <td>910500.0</td>\n",
       "    </tr>\n",
       "    <tr>\n",
       "      <th>Xorazm viloyati</th>\n",
       "      <td>6300.0</td>\n",
       "      <td>1200000.0</td>\n",
       "    </tr>\n",
       "    <tr>\n",
       "      <th>Namangan viloyati</th>\n",
       "      <td>7900.0</td>\n",
       "      <td>1862000.0</td>\n",
       "    </tr>\n",
       "    <tr>\n",
       "      <th>Navoiy viloyati</th>\n",
       "      <td>110800.0</td>\n",
       "      <td>767500.0</td>\n",
       "    </tr>\n",
       "    <tr>\n",
       "      <th>Qashqadaryo viloyati</th>\n",
       "      <td>28400.0</td>\n",
       "      <td>2029000.0</td>\n",
       "    </tr>\n",
       "    <tr>\n",
       "      <th>Qoraqalpogʻiston Respublikasi</th>\n",
       "      <td>160000.0</td>\n",
       "      <td>1200000.0</td>\n",
       "    </tr>\n",
       "    <tr>\n",
       "      <th>Samarqand viloyati</th>\n",
       "      <td>16400.0</td>\n",
       "      <td>2322000.0</td>\n",
       "    </tr>\n",
       "    <tr>\n",
       "      <th>Sirdaryo viloyati</th>\n",
       "      <td>5100.0</td>\n",
       "      <td>648100.0</td>\n",
       "    </tr>\n",
       "    <tr>\n",
       "      <th>Surxondaryo viloyati</th>\n",
       "      <td>20800.0</td>\n",
       "      <td>1676000.0</td>\n",
       "    </tr>\n",
       "    <tr>\n",
       "      <th>Toshkent viloyati</th>\n",
       "      <td>15300.0</td>\n",
       "      <td>4450000.0</td>\n",
       "    </tr>\n",
       "  </tbody>\n",
       "</table>\n",
       "</div>"
      ],
      "text/plain": [
       "                                maydoni    aholisi\n",
       "Boʻlinishi                                        \n",
       "Andijon viloyati                 4200.0  1899000.0\n",
       "Buxoro viloyati                 39400.0  1384700.0\n",
       "Fargʻona viloyati                6800.0  2597000.0\n",
       "Jizzax viloyati                 20500.0   910500.0\n",
       "Xorazm viloyati                  6300.0  1200000.0\n",
       "Namangan viloyati                7900.0  1862000.0\n",
       "Navoiy viloyati                110800.0   767500.0\n",
       "Qashqadaryo viloyati            28400.0  2029000.0\n",
       "Qoraqalpogʻiston Respublikasi  160000.0  1200000.0\n",
       "Samarqand viloyati              16400.0  2322000.0\n",
       "Sirdaryo viloyati                5100.0   648100.0\n",
       "Surxondaryo viloyati            20800.0  1676000.0\n",
       "Toshkent viloyati               15300.0  4450000.0"
      ]
     },
     "execution_count": 77,
     "metadata": {},
     "output_type": "execute_result"
    }
   ],
   "source": [
    "df"
   ]
  },
  {
   "cell_type": "code",
   "execution_count": 78,
   "id": "c024d9bb",
   "metadata": {},
   "outputs": [
    {
     "data": {
      "text/plain": [
       "maydoni     Andijon viloyati\n",
       "aholisi    Sirdaryo viloyati\n",
       "dtype: object"
      ]
     },
     "execution_count": 78,
     "metadata": {},
     "output_type": "execute_result"
    }
   ],
   "source": [
    "df.idxmin()"
   ]
  },
  {
   "cell_type": "code",
   "execution_count": 79,
   "id": "664f3763",
   "metadata": {},
   "outputs": [
    {
     "data": {
      "text/plain": [
       "maydoni    Qoraqalpogʻiston Respublikasi\n",
       "aholisi                Toshkent viloyati\n",
       "dtype: object"
      ]
     },
     "execution_count": 79,
     "metadata": {},
     "output_type": "execute_result"
    }
   ],
   "source": [
    "df.idxmax()"
   ]
  },
  {
   "cell_type": "code",
   "execution_count": 82,
   "id": "22233d37",
   "metadata": {},
   "outputs": [
    {
     "data": {
      "text/plain": [
       "'Sirdaryo viloyati'"
      ]
     },
     "execution_count": 82,
     "metadata": {},
     "output_type": "execute_result"
    }
   ],
   "source": [
    "df['aholisi'].idxmin()"
   ]
  },
  {
   "cell_type": "code",
   "execution_count": 83,
   "id": "0c72be87",
   "metadata": {},
   "outputs": [
    {
     "data": {
      "text/plain": [
       "np.int64(12)"
      ]
     },
     "execution_count": 83,
     "metadata": {},
     "output_type": "execute_result"
    }
   ],
   "source": [
    "df['aholisi'].argmax()"
   ]
  },
  {
   "cell_type": "code",
   "execution_count": 84,
   "id": "88c9a05f",
   "metadata": {},
   "outputs": [
    {
     "data": {
      "text/plain": [
       "maydoni      15300.0\n",
       "aholisi    4450000.0\n",
       "Name: Toshkent viloyati, dtype: float64"
      ]
     },
     "execution_count": 84,
     "metadata": {},
     "output_type": "execute_result"
    }
   ],
   "source": [
    "df.iloc[12]"
   ]
  },
  {
   "cell_type": "code",
   "execution_count": 4,
   "id": "174fa597",
   "metadata": {},
   "outputs": [],
   "source": [
    "import numpy as np\n",
    "import pandas as pd"
   ]
  },
  {
   "cell_type": "code",
   "execution_count": 9,
   "id": "1413218b",
   "metadata": {},
   "outputs": [
    {
     "data": {
      "text/html": [
       "<div>\n",
       "<style scoped>\n",
       "    .dataframe tbody tr th:only-of-type {\n",
       "        vertical-align: middle;\n",
       "    }\n",
       "\n",
       "    .dataframe tbody tr th {\n",
       "        vertical-align: top;\n",
       "    }\n",
       "\n",
       "    .dataframe thead th {\n",
       "        text-align: right;\n",
       "    }\n",
       "</style>\n",
       "<table border=\"1\" class=\"dataframe\">\n",
       "  <thead>\n",
       "    <tr style=\"text-align: right;\">\n",
       "      <th></th>\n",
       "      <th>maydoni</th>\n",
       "      <th>aholis</th>\n",
       "    </tr>\n",
       "    <tr>\n",
       "      <th>Boʻlinishi</th>\n",
       "      <th></th>\n",
       "      <th></th>\n",
       "    </tr>\n",
       "  </thead>\n",
       "  <tbody>\n",
       "    <tr>\n",
       "      <th>Andijon viloyati</th>\n",
       "      <td>4200.0</td>\n",
       "      <td>1899000.0</td>\n",
       "    </tr>\n",
       "    <tr>\n",
       "      <th>Buxoro viloyati</th>\n",
       "      <td>39400.0</td>\n",
       "      <td>1384700.0</td>\n",
       "    </tr>\n",
       "    <tr>\n",
       "      <th>Fargʻona viloyati</th>\n",
       "      <td>6800.0</td>\n",
       "      <td>2597000.0</td>\n",
       "    </tr>\n",
       "    <tr>\n",
       "      <th>Jizzax viloyati</th>\n",
       "      <td>20500.0</td>\n",
       "      <td>910500.0</td>\n",
       "    </tr>\n",
       "    <tr>\n",
       "      <th>Xorazm viloyati</th>\n",
       "      <td>6300.0</td>\n",
       "      <td>1200000.0</td>\n",
       "    </tr>\n",
       "    <tr>\n",
       "      <th>Namangan viloyati</th>\n",
       "      <td>7900.0</td>\n",
       "      <td>1862000.0</td>\n",
       "    </tr>\n",
       "    <tr>\n",
       "      <th>Navoiy viloyati</th>\n",
       "      <td>110800.0</td>\n",
       "      <td>767500.0</td>\n",
       "    </tr>\n",
       "    <tr>\n",
       "      <th>Qashqadaryo viloyati</th>\n",
       "      <td>28400.0</td>\n",
       "      <td>2029000.0</td>\n",
       "    </tr>\n",
       "    <tr>\n",
       "      <th>Qoraqalpogʻiston Respublikasi</th>\n",
       "      <td>160000.0</td>\n",
       "      <td>1200000.0</td>\n",
       "    </tr>\n",
       "    <tr>\n",
       "      <th>Samarqand viloyati</th>\n",
       "      <td>16400.0</td>\n",
       "      <td>2322000.0</td>\n",
       "    </tr>\n",
       "    <tr>\n",
       "      <th>Sirdaryo viloyati</th>\n",
       "      <td>5100.0</td>\n",
       "      <td>648100.0</td>\n",
       "    </tr>\n",
       "    <tr>\n",
       "      <th>Surxondaryo viloyati</th>\n",
       "      <td>20800.0</td>\n",
       "      <td>1676000.0</td>\n",
       "    </tr>\n",
       "    <tr>\n",
       "      <th>Toshkent viloyati</th>\n",
       "      <td>15300.0</td>\n",
       "      <td>4450000.0</td>\n",
       "    </tr>\n",
       "  </tbody>\n",
       "</table>\n",
       "</div>"
      ],
      "text/plain": [
       "                                maydoni     aholis\n",
       "Boʻlinishi                                        \n",
       "Andijon viloyati                 4200.0  1899000.0\n",
       "Buxoro viloyati                 39400.0  1384700.0\n",
       "Fargʻona viloyati                6800.0  2597000.0\n",
       "Jizzax viloyati                 20500.0   910500.0\n",
       "Xorazm viloyati                  6300.0  1200000.0\n",
       "Namangan viloyati                7900.0  1862000.0\n",
       "Navoiy viloyati                110800.0   767500.0\n",
       "Qashqadaryo viloyati            28400.0  2029000.0\n",
       "Qoraqalpogʻiston Respublikasi  160000.0  1200000.0\n",
       "Samarqand viloyati              16400.0  2322000.0\n",
       "Sirdaryo viloyati                5100.0   648100.0\n",
       "Surxondaryo viloyati            20800.0  1676000.0\n",
       "Toshkent viloyati               15300.0  4450000.0"
      ]
     },
     "execution_count": 9,
     "metadata": {},
     "output_type": "execute_result"
    }
   ],
   "source": [
    "df = pd.read_csv('https://raw.githubusercontent.com/anvarnarz/praktikum_datasets/main/uzbekistan.csv',index_col=0)\n",
    "df.columns = ['maydoni','aholis']\n",
    "df"
   ]
  },
  {
   "cell_type": "code",
   "execution_count": 12,
   "id": "46609979",
   "metadata": {},
   "outputs": [
    {
     "data": {
      "text/plain": [
       "maydoni      441900.0\n",
       "aholis     22945800.0\n",
       "dtype: float64"
      ]
     },
     "execution_count": 12,
     "metadata": {},
     "output_type": "execute_result"
    }
   ],
   "source": [
    "df.sum()"
   ]
  },
  {
   "cell_type": "code",
   "execution_count": 13,
   "id": "ce6898bd",
   "metadata": {},
   "outputs": [
    {
     "data": {
      "text/plain": [
       "maydoni    3.399231e+04\n",
       "aholis     1.765062e+06\n",
       "dtype: float64"
      ]
     },
     "execution_count": 13,
     "metadata": {},
     "output_type": "execute_result"
    }
   ],
   "source": [
    "df.mean()"
   ]
  },
  {
   "cell_type": "code",
   "execution_count": 14,
   "id": "d0bbb3f5",
   "metadata": {},
   "outputs": [
    {
     "data": {
      "text/html": [
       "<div>\n",
       "<style scoped>\n",
       "    .dataframe tbody tr th:only-of-type {\n",
       "        vertical-align: middle;\n",
       "    }\n",
       "\n",
       "    .dataframe tbody tr th {\n",
       "        vertical-align: top;\n",
       "    }\n",
       "\n",
       "    .dataframe thead th {\n",
       "        text-align: right;\n",
       "    }\n",
       "</style>\n",
       "<table border=\"1\" class=\"dataframe\">\n",
       "  <thead>\n",
       "    <tr style=\"text-align: right;\">\n",
       "      <th></th>\n",
       "      <th>2020</th>\n",
       "      <th>2021</th>\n",
       "    </tr>\n",
       "  </thead>\n",
       "  <tbody>\n",
       "    <tr>\n",
       "      <th>Labo</th>\n",
       "      <td>4521</td>\n",
       "      <td>7542</td>\n",
       "    </tr>\n",
       "    <tr>\n",
       "      <th>Damas</th>\n",
       "      <td>30889</td>\n",
       "      <td>33682</td>\n",
       "    </tr>\n",
       "    <tr>\n",
       "      <th>Spark</th>\n",
       "      <td>16370</td>\n",
       "      <td>6485</td>\n",
       "    </tr>\n",
       "    <tr>\n",
       "      <th>Nexia</th>\n",
       "      <td>41663</td>\n",
       "      <td>14442</td>\n",
       "    </tr>\n",
       "    <tr>\n",
       "      <th>Cobalt</th>\n",
       "      <td>44901</td>\n",
       "      <td>36317</td>\n",
       "    </tr>\n",
       "  </tbody>\n",
       "</table>\n",
       "</div>"
      ],
      "text/plain": [
       "         2020   2021\n",
       "Labo     4521   7542\n",
       "Damas   30889  33682\n",
       "Spark   16370   6485\n",
       "Nexia   41663  14442\n",
       "Cobalt  44901  36317"
      ]
     },
     "execution_count": 14,
     "metadata": {},
     "output_type": "execute_result"
    }
   ],
   "source": [
    "df2 = pd.read_csv(\"https://raw.githubusercontent.com/anvarnarz/praktikum_datasets/main/gm_sales.csv\",index_col=0)\n",
    "df2.head()"
   ]
  },
  {
   "cell_type": "code",
   "execution_count": 17,
   "id": "b46547a9",
   "metadata": {},
   "outputs": [
    {
     "data": {
      "text/plain": [
       "2020    168712\n",
       "2021    124734\n",
       "dtype: int64"
      ]
     },
     "execution_count": 17,
     "metadata": {},
     "output_type": "execute_result"
    }
   ],
   "source": [
    "df2.sum()"
   ]
  },
  {
   "cell_type": "code",
   "execution_count": 19,
   "id": "0c3bbbaf",
   "metadata": {},
   "outputs": [
    {
     "data": {
      "text/plain": [
       "Labo      12063\n",
       "Damas     64571\n",
       "Spark     22855\n",
       "Nexia     56105\n",
       "Cobalt    81218\n",
       "Gentra    56634\n",
       "dtype: int64"
      ]
     },
     "execution_count": 19,
     "metadata": {},
     "output_type": "execute_result"
    }
   ],
   "source": [
    "df2.sum(axis='columns')"
   ]
  },
  {
   "cell_type": "code",
   "execution_count": 21,
   "id": "f0798e25",
   "metadata": {},
   "outputs": [
    {
     "data": {
      "text/plain": [
       "Labo       6031.5\n",
       "Damas     32285.5\n",
       "Spark     11427.5\n",
       "Nexia     28052.5\n",
       "Cobalt    40609.0\n",
       "Gentra    28317.0\n",
       "dtype: float64"
      ]
     },
     "execution_count": 21,
     "metadata": {},
     "output_type": "execute_result"
    }
   ],
   "source": [
    "df2.mean(axis=1)"
   ]
  },
  {
   "cell_type": "code",
   "execution_count": 22,
   "id": "14ed663d",
   "metadata": {},
   "outputs": [
    {
     "data": {
      "text/html": [
       "<div>\n",
       "<style scoped>\n",
       "    .dataframe tbody tr th:only-of-type {\n",
       "        vertical-align: middle;\n",
       "    }\n",
       "\n",
       "    .dataframe tbody tr th {\n",
       "        vertical-align: top;\n",
       "    }\n",
       "\n",
       "    .dataframe thead th {\n",
       "        text-align: right;\n",
       "    }\n",
       "</style>\n",
       "<table border=\"1\" class=\"dataframe\">\n",
       "  <thead>\n",
       "    <tr style=\"text-align: right;\">\n",
       "      <th></th>\n",
       "      <th>maydoni</th>\n",
       "      <th>aholis</th>\n",
       "    </tr>\n",
       "    <tr>\n",
       "      <th>Boʻlinishi</th>\n",
       "      <th></th>\n",
       "      <th></th>\n",
       "    </tr>\n",
       "  </thead>\n",
       "  <tbody>\n",
       "    <tr>\n",
       "      <th>Andijon viloyati</th>\n",
       "      <td>4200.0</td>\n",
       "      <td>1899000.0</td>\n",
       "    </tr>\n",
       "    <tr>\n",
       "      <th>Buxoro viloyati</th>\n",
       "      <td>39400.0</td>\n",
       "      <td>1384700.0</td>\n",
       "    </tr>\n",
       "    <tr>\n",
       "      <th>Fargʻona viloyati</th>\n",
       "      <td>6800.0</td>\n",
       "      <td>2597000.0</td>\n",
       "    </tr>\n",
       "    <tr>\n",
       "      <th>Jizzax viloyati</th>\n",
       "      <td>20500.0</td>\n",
       "      <td>910500.0</td>\n",
       "    </tr>\n",
       "    <tr>\n",
       "      <th>Xorazm viloyati</th>\n",
       "      <td>6300.0</td>\n",
       "      <td>1200000.0</td>\n",
       "    </tr>\n",
       "    <tr>\n",
       "      <th>Namangan viloyati</th>\n",
       "      <td>7900.0</td>\n",
       "      <td>1862000.0</td>\n",
       "    </tr>\n",
       "    <tr>\n",
       "      <th>Navoiy viloyati</th>\n",
       "      <td>110800.0</td>\n",
       "      <td>767500.0</td>\n",
       "    </tr>\n",
       "    <tr>\n",
       "      <th>Qashqadaryo viloyati</th>\n",
       "      <td>28400.0</td>\n",
       "      <td>2029000.0</td>\n",
       "    </tr>\n",
       "    <tr>\n",
       "      <th>Qoraqalpogʻiston Respublikasi</th>\n",
       "      <td>160000.0</td>\n",
       "      <td>1200000.0</td>\n",
       "    </tr>\n",
       "    <tr>\n",
       "      <th>Samarqand viloyati</th>\n",
       "      <td>16400.0</td>\n",
       "      <td>2322000.0</td>\n",
       "    </tr>\n",
       "    <tr>\n",
       "      <th>Sirdaryo viloyati</th>\n",
       "      <td>5100.0</td>\n",
       "      <td>648100.0</td>\n",
       "    </tr>\n",
       "    <tr>\n",
       "      <th>Surxondaryo viloyati</th>\n",
       "      <td>20800.0</td>\n",
       "      <td>1676000.0</td>\n",
       "    </tr>\n",
       "    <tr>\n",
       "      <th>Toshkent viloyati</th>\n",
       "      <td>15300.0</td>\n",
       "      <td>4450000.0</td>\n",
       "    </tr>\n",
       "  </tbody>\n",
       "</table>\n",
       "</div>"
      ],
      "text/plain": [
       "                                maydoni     aholis\n",
       "Boʻlinishi                                        \n",
       "Andijon viloyati                 4200.0  1899000.0\n",
       "Buxoro viloyati                 39400.0  1384700.0\n",
       "Fargʻona viloyati                6800.0  2597000.0\n",
       "Jizzax viloyati                 20500.0   910500.0\n",
       "Xorazm viloyati                  6300.0  1200000.0\n",
       "Namangan viloyati                7900.0  1862000.0\n",
       "Navoiy viloyati                110800.0   767500.0\n",
       "Qashqadaryo viloyati            28400.0  2029000.0\n",
       "Qoraqalpogʻiston Respublikasi  160000.0  1200000.0\n",
       "Samarqand viloyati              16400.0  2322000.0\n",
       "Sirdaryo viloyati                5100.0   648100.0\n",
       "Surxondaryo viloyati            20800.0  1676000.0\n",
       "Toshkent viloyati               15300.0  4450000.0"
      ]
     },
     "execution_count": 22,
     "metadata": {},
     "output_type": "execute_result"
    }
   ],
   "source": [
    "df"
   ]
  },
  {
   "cell_type": "code",
   "execution_count": 23,
   "id": "dd42b3fc",
   "metadata": {},
   "outputs": [
    {
     "data": {
      "text/plain": [
       "maydoni    3.399231e+04\n",
       "aholis     1.765062e+06\n",
       "dtype: float64"
      ]
     },
     "execution_count": 23,
     "metadata": {},
     "output_type": "execute_result"
    }
   ],
   "source": [
    "df.mean()"
   ]
  },
  {
   "cell_type": "code",
   "execution_count": 24,
   "id": "80e5cd65",
   "metadata": {},
   "outputs": [
    {
     "data": {
      "text/plain": [
       "2020    168712\n",
       "2021    124734\n",
       "dtype: int64"
      ]
     },
     "execution_count": 24,
     "metadata": {},
     "output_type": "execute_result"
    }
   ],
   "source": [
    "df2.sum()"
   ]
  },
  {
   "cell_type": "code",
   "execution_count": 25,
   "id": "a7a9b276",
   "metadata": {},
   "outputs": [
    {
     "data": {
      "text/plain": [
       "maydoni    1.538590e+55\n",
       "aholis     2.913892e+80\n",
       "dtype: float64"
      ]
     },
     "execution_count": 25,
     "metadata": {},
     "output_type": "execute_result"
    }
   ],
   "source": [
    "df.prod()"
   ]
  },
  {
   "cell_type": "code",
   "execution_count": 26,
   "id": "019ddb8f",
   "metadata": {},
   "outputs": [
    {
     "data": {
      "text/plain": [
       "maydoni    4.722490e+04\n",
       "aholis     1.003012e+06\n",
       "dtype: float64"
      ]
     },
     "execution_count": 26,
     "metadata": {},
     "output_type": "execute_result"
    }
   ],
   "source": [
    "df.std()"
   ]
  },
  {
   "cell_type": "code",
   "execution_count": 28,
   "id": "226f930f",
   "metadata": {},
   "outputs": [
    {
     "data": {
      "text/html": [
       "<div>\n",
       "<style scoped>\n",
       "    .dataframe tbody tr th:only-of-type {\n",
       "        vertical-align: middle;\n",
       "    }\n",
       "\n",
       "    .dataframe tbody tr th {\n",
       "        vertical-align: top;\n",
       "    }\n",
       "\n",
       "    .dataframe thead th {\n",
       "        text-align: right;\n",
       "    }\n",
       "</style>\n",
       "<table border=\"1\" class=\"dataframe\">\n",
       "  <thead>\n",
       "    <tr style=\"text-align: right;\">\n",
       "      <th></th>\n",
       "      <th>maydoni</th>\n",
       "      <th>aholis</th>\n",
       "    </tr>\n",
       "    <tr>\n",
       "      <th>Boʻlinishi</th>\n",
       "      <th></th>\n",
       "      <th></th>\n",
       "    </tr>\n",
       "  </thead>\n",
       "  <tbody>\n",
       "    <tr>\n",
       "      <th>Andijon viloyati</th>\n",
       "      <td>4200.0</td>\n",
       "      <td>1899000.0</td>\n",
       "    </tr>\n",
       "    <tr>\n",
       "      <th>Buxoro viloyati</th>\n",
       "      <td>39400.0</td>\n",
       "      <td>1384700.0</td>\n",
       "    </tr>\n",
       "    <tr>\n",
       "      <th>Fargʻona viloyati</th>\n",
       "      <td>6800.0</td>\n",
       "      <td>2597000.0</td>\n",
       "    </tr>\n",
       "    <tr>\n",
       "      <th>Jizzax viloyati</th>\n",
       "      <td>20500.0</td>\n",
       "      <td>910500.0</td>\n",
       "    </tr>\n",
       "    <tr>\n",
       "      <th>Xorazm viloyati</th>\n",
       "      <td>6300.0</td>\n",
       "      <td>1200000.0</td>\n",
       "    </tr>\n",
       "    <tr>\n",
       "      <th>Namangan viloyati</th>\n",
       "      <td>7900.0</td>\n",
       "      <td>1862000.0</td>\n",
       "    </tr>\n",
       "    <tr>\n",
       "      <th>Navoiy viloyati</th>\n",
       "      <td>110800.0</td>\n",
       "      <td>767500.0</td>\n",
       "    </tr>\n",
       "    <tr>\n",
       "      <th>Qashqadaryo viloyati</th>\n",
       "      <td>28400.0</td>\n",
       "      <td>2029000.0</td>\n",
       "    </tr>\n",
       "    <tr>\n",
       "      <th>Qoraqalpogʻiston Respublikasi</th>\n",
       "      <td>160000.0</td>\n",
       "      <td>1200000.0</td>\n",
       "    </tr>\n",
       "    <tr>\n",
       "      <th>Samarqand viloyati</th>\n",
       "      <td>16400.0</td>\n",
       "      <td>2322000.0</td>\n",
       "    </tr>\n",
       "    <tr>\n",
       "      <th>Sirdaryo viloyati</th>\n",
       "      <td>5100.0</td>\n",
       "      <td>648100.0</td>\n",
       "    </tr>\n",
       "    <tr>\n",
       "      <th>Surxondaryo viloyati</th>\n",
       "      <td>20800.0</td>\n",
       "      <td>1676000.0</td>\n",
       "    </tr>\n",
       "    <tr>\n",
       "      <th>Toshkent viloyati</th>\n",
       "      <td>15300.0</td>\n",
       "      <td>4450000.0</td>\n",
       "    </tr>\n",
       "  </tbody>\n",
       "</table>\n",
       "</div>"
      ],
      "text/plain": [
       "                                maydoni     aholis\n",
       "Boʻlinishi                                        \n",
       "Andijon viloyati                 4200.0  1899000.0\n",
       "Buxoro viloyati                 39400.0  1384700.0\n",
       "Fargʻona viloyati                6800.0  2597000.0\n",
       "Jizzax viloyati                 20500.0   910500.0\n",
       "Xorazm viloyati                  6300.0  1200000.0\n",
       "Namangan viloyati                7900.0  1862000.0\n",
       "Navoiy viloyati                110800.0   767500.0\n",
       "Qashqadaryo viloyati            28400.0  2029000.0\n",
       "Qoraqalpogʻiston Respublikasi  160000.0  1200000.0\n",
       "Samarqand viloyati              16400.0  2322000.0\n",
       "Sirdaryo viloyati                5100.0   648100.0\n",
       "Surxondaryo viloyati            20800.0  1676000.0\n",
       "Toshkent viloyati               15300.0  4450000.0"
      ]
     },
     "execution_count": 28,
     "metadata": {},
     "output_type": "execute_result"
    }
   ],
   "source": [
    "df"
   ]
  },
  {
   "cell_type": "code",
   "execution_count": 29,
   "id": "ab16319e",
   "metadata": {},
   "outputs": [
    {
     "data": {
      "text/plain": [
       "maydoni     Andijon viloyati\n",
       "aholis     Sirdaryo viloyati\n",
       "dtype: object"
      ]
     },
     "execution_count": 29,
     "metadata": {},
     "output_type": "execute_result"
    }
   ],
   "source": [
    "df.idxmin()"
   ]
  },
  {
   "cell_type": "code",
   "execution_count": 30,
   "id": "a98a5367",
   "metadata": {},
   "outputs": [
    {
     "data": {
      "text/plain": [
       "maydoni    Qoraqalpogʻiston Respublikasi\n",
       "aholis                 Toshkent viloyati\n",
       "dtype: object"
      ]
     },
     "execution_count": 30,
     "metadata": {},
     "output_type": "execute_result"
    }
   ],
   "source": [
    "df.idxmax()"
   ]
  },
  {
   "cell_type": "code",
   "execution_count": 31,
   "id": "37344426",
   "metadata": {},
   "outputs": [
    {
     "data": {
      "text/plain": [
       "'Qoraqalpogʻiston Respublikasi'"
      ]
     },
     "execution_count": 31,
     "metadata": {},
     "output_type": "execute_result"
    }
   ],
   "source": [
    "df['maydoni'].idxmax()"
   ]
  },
  {
   "cell_type": "code",
   "execution_count": 32,
   "id": "0f64f834",
   "metadata": {},
   "outputs": [
    {
     "data": {
      "text/plain": [
       "'Andijon viloyati'"
      ]
     },
     "execution_count": 32,
     "metadata": {},
     "output_type": "execute_result"
    }
   ],
   "source": [
    "df['maydoni'].idxmin()"
   ]
  },
  {
   "cell_type": "code",
   "execution_count": 33,
   "id": "bea2ad7a",
   "metadata": {},
   "outputs": [
    {
     "data": {
      "text/plain": [
       "'Toshkent viloyati'"
      ]
     },
     "execution_count": 33,
     "metadata": {},
     "output_type": "execute_result"
    }
   ],
   "source": [
    "df['aholis'].idxmax()"
   ]
  },
  {
   "cell_type": "code",
   "execution_count": 34,
   "id": "61753ac3",
   "metadata": {},
   "outputs": [
    {
     "data": {
      "text/plain": [
       "'Sirdaryo viloyati'"
      ]
     },
     "execution_count": 34,
     "metadata": {},
     "output_type": "execute_result"
    }
   ],
   "source": [
    "df['aholis'].idxmin()"
   ]
  },
  {
   "cell_type": "code",
   "execution_count": 35,
   "id": "4f4850b3",
   "metadata": {},
   "outputs": [
    {
     "data": {
      "text/plain": [
       "np.int64(10)"
      ]
     },
     "execution_count": 35,
     "metadata": {},
     "output_type": "execute_result"
    }
   ],
   "source": [
    "df['aholis'].argmin()"
   ]
  },
  {
   "cell_type": "code",
   "execution_count": 36,
   "id": "fdfb470c",
   "metadata": {},
   "outputs": [
    {
     "data": {
      "text/plain": [
       "maydoni      5100.0\n",
       "aholis     648100.0\n",
       "Name: Sirdaryo viloyati, dtype: float64"
      ]
     },
     "execution_count": 36,
     "metadata": {},
     "output_type": "execute_result"
    }
   ],
   "source": [
    "df.iloc[10]"
   ]
  },
  {
   "cell_type": "code",
   "execution_count": 37,
   "id": "89c06f4b",
   "metadata": {},
   "outputs": [
    {
     "data": {
      "text/plain": [
       "np.int64(12)"
      ]
     },
     "execution_count": 37,
     "metadata": {},
     "output_type": "execute_result"
    }
   ],
   "source": [
    "df['aholis'].argmax()"
   ]
  },
  {
   "cell_type": "code",
   "execution_count": 38,
   "id": "57b12220",
   "metadata": {},
   "outputs": [
    {
     "data": {
      "text/plain": [
       "maydoni      15300.0\n",
       "aholis     4450000.0\n",
       "Name: Toshkent viloyati, dtype: float64"
      ]
     },
     "execution_count": 38,
     "metadata": {},
     "output_type": "execute_result"
    }
   ],
   "source": [
    "df.iloc[12]"
   ]
  },
  {
   "cell_type": "code",
   "execution_count": 39,
   "id": "dbec7a15",
   "metadata": {},
   "outputs": [
    {
     "data": {
      "text/plain": [
       "np.int64(8)"
      ]
     },
     "execution_count": 39,
     "metadata": {},
     "output_type": "execute_result"
    }
   ],
   "source": [
    "df['maydoni'].argmax()"
   ]
  },
  {
   "cell_type": "code",
   "execution_count": 41,
   "id": "ca61be6c",
   "metadata": {},
   "outputs": [
    {
     "data": {
      "text/plain": [
       "maydoni     160000.0\n",
       "aholis     1200000.0\n",
       "Name: Qoraqalpogʻiston Respublikasi, dtype: float64"
      ]
     },
     "execution_count": 41,
     "metadata": {},
     "output_type": "execute_result"
    }
   ],
   "source": [
    "df.iloc[8]"
   ]
  },
  {
   "cell_type": "code",
   "execution_count": 42,
   "id": "b5ca4754",
   "metadata": {},
   "outputs": [
    {
     "data": {
      "text/plain": [
       "np.int64(0)"
      ]
     },
     "execution_count": 42,
     "metadata": {},
     "output_type": "execute_result"
    }
   ],
   "source": [
    "df['maydoni'].argmin()"
   ]
  },
  {
   "cell_type": "code",
   "execution_count": 44,
   "id": "2104f21d",
   "metadata": {},
   "outputs": [
    {
     "data": {
      "text/plain": [
       "maydoni       4200.0\n",
       "aholis     1899000.0\n",
       "Name: Andijon viloyati, dtype: float64"
      ]
     },
     "execution_count": 44,
     "metadata": {},
     "output_type": "execute_result"
    }
   ],
   "source": [
    "df.iloc[0]"
   ]
  },
  {
   "cell_type": "code",
   "execution_count": 48,
   "id": "bfaba5e2",
   "metadata": {},
   "outputs": [
    {
     "data": {
      "text/html": [
       "<div>\n",
       "<style scoped>\n",
       "    .dataframe tbody tr th:only-of-type {\n",
       "        vertical-align: middle;\n",
       "    }\n",
       "\n",
       "    .dataframe tbody tr th {\n",
       "        vertical-align: top;\n",
       "    }\n",
       "\n",
       "    .dataframe thead th {\n",
       "        text-align: right;\n",
       "    }\n",
       "</style>\n",
       "<table border=\"1\" class=\"dataframe\">\n",
       "  <thead>\n",
       "    <tr style=\"text-align: right;\">\n",
       "      <th></th>\n",
       "      <th>model</th>\n",
       "      <th>year</th>\n",
       "      <th>price</th>\n",
       "      <th>transmission</th>\n",
       "      <th>mileage</th>\n",
       "      <th>fuelType</th>\n",
       "      <th>tax</th>\n",
       "      <th>mpg</th>\n",
       "      <th>engineSize</th>\n",
       "    </tr>\n",
       "  </thead>\n",
       "  <tbody>\n",
       "    <tr>\n",
       "      <th>0</th>\n",
       "      <td>SLK</td>\n",
       "      <td>2005</td>\n",
       "      <td>5200</td>\n",
       "      <td>Automatic</td>\n",
       "      <td>63000</td>\n",
       "      <td>Petrol</td>\n",
       "      <td>325</td>\n",
       "      <td>32.1</td>\n",
       "      <td>1.8</td>\n",
       "    </tr>\n",
       "    <tr>\n",
       "      <th>1</th>\n",
       "      <td>S Class</td>\n",
       "      <td>2017</td>\n",
       "      <td>34948</td>\n",
       "      <td>Automatic</td>\n",
       "      <td>27000</td>\n",
       "      <td>Hybrid</td>\n",
       "      <td>20</td>\n",
       "      <td>61.4</td>\n",
       "      <td>2.1</td>\n",
       "    </tr>\n",
       "    <tr>\n",
       "      <th>2</th>\n",
       "      <td>SL CLASS</td>\n",
       "      <td>2016</td>\n",
       "      <td>49948</td>\n",
       "      <td>Automatic</td>\n",
       "      <td>6200</td>\n",
       "      <td>Petrol</td>\n",
       "      <td>555</td>\n",
       "      <td>28.0</td>\n",
       "      <td>5.5</td>\n",
       "    </tr>\n",
       "    <tr>\n",
       "      <th>3</th>\n",
       "      <td>G Class</td>\n",
       "      <td>2016</td>\n",
       "      <td>61948</td>\n",
       "      <td>Automatic</td>\n",
       "      <td>16000</td>\n",
       "      <td>Petrol</td>\n",
       "      <td>325</td>\n",
       "      <td>30.4</td>\n",
       "      <td>4.0</td>\n",
       "    </tr>\n",
       "    <tr>\n",
       "      <th>4</th>\n",
       "      <td>G Class</td>\n",
       "      <td>2016</td>\n",
       "      <td>73948</td>\n",
       "      <td>Automatic</td>\n",
       "      <td>4000</td>\n",
       "      <td>Petrol</td>\n",
       "      <td>325</td>\n",
       "      <td>30.1</td>\n",
       "      <td>4.0</td>\n",
       "    </tr>\n",
       "  </tbody>\n",
       "</table>\n",
       "</div>"
      ],
      "text/plain": [
       "       model  year  price transmission  mileage fuelType  tax   mpg  \\\n",
       "0        SLK  2005   5200    Automatic    63000   Petrol  325  32.1   \n",
       "1    S Class  2017  34948    Automatic    27000   Hybrid   20  61.4   \n",
       "2   SL CLASS  2016  49948    Automatic     6200   Petrol  555  28.0   \n",
       "3    G Class  2016  61948    Automatic    16000   Petrol  325  30.4   \n",
       "4    G Class  2016  73948    Automatic     4000   Petrol  325  30.1   \n",
       "\n",
       "   engineSize  \n",
       "0         1.8  \n",
       "1         2.1  \n",
       "2         5.5  \n",
       "3         4.0  \n",
       "4         4.0  "
      ]
     },
     "execution_count": 48,
     "metadata": {},
     "output_type": "execute_result"
    }
   ],
   "source": [
    "df = pd.read_csv('https://raw.githubusercontent.com/anvarnarz/praktikum_datasets/main/merc.csv')\n",
    "df.head()"
   ]
  },
  {
   "cell_type": "code",
   "execution_count": 50,
   "id": "68395c8d",
   "metadata": {},
   "outputs": [
    {
     "data": {
      "text/plain": [
       "(13119, 9)"
      ]
     },
     "execution_count": 50,
     "metadata": {},
     "output_type": "execute_result"
    }
   ],
   "source": [
    "df.shape"
   ]
  },
  {
   "cell_type": "code",
   "execution_count": 51,
   "id": "73fe3cc5",
   "metadata": {},
   "outputs": [
    {
     "data": {
      "text/html": [
       "<div>\n",
       "<style scoped>\n",
       "    .dataframe tbody tr th:only-of-type {\n",
       "        vertical-align: middle;\n",
       "    }\n",
       "\n",
       "    .dataframe tbody tr th {\n",
       "        vertical-align: top;\n",
       "    }\n",
       "\n",
       "    .dataframe thead th {\n",
       "        text-align: right;\n",
       "    }\n",
       "</style>\n",
       "<table border=\"1\" class=\"dataframe\">\n",
       "  <thead>\n",
       "    <tr style=\"text-align: right;\">\n",
       "      <th></th>\n",
       "      <th>model</th>\n",
       "      <th>year</th>\n",
       "      <th>price</th>\n",
       "      <th>transmission</th>\n",
       "      <th>mileage</th>\n",
       "      <th>fuelType</th>\n",
       "      <th>tax</th>\n",
       "      <th>mpg</th>\n",
       "      <th>engineSize</th>\n",
       "    </tr>\n",
       "  </thead>\n",
       "  <tbody>\n",
       "    <tr>\n",
       "      <th>13114</th>\n",
       "      <td>C Class</td>\n",
       "      <td>2020</td>\n",
       "      <td>35999</td>\n",
       "      <td>Automatic</td>\n",
       "      <td>500</td>\n",
       "      <td>Diesel</td>\n",
       "      <td>145</td>\n",
       "      <td>55.4</td>\n",
       "      <td>2.0</td>\n",
       "    </tr>\n",
       "    <tr>\n",
       "      <th>13115</th>\n",
       "      <td>B Class</td>\n",
       "      <td>2020</td>\n",
       "      <td>24699</td>\n",
       "      <td>Automatic</td>\n",
       "      <td>2500</td>\n",
       "      <td>Diesel</td>\n",
       "      <td>145</td>\n",
       "      <td>55.4</td>\n",
       "      <td>2.0</td>\n",
       "    </tr>\n",
       "    <tr>\n",
       "      <th>13116</th>\n",
       "      <td>GLC Class</td>\n",
       "      <td>2019</td>\n",
       "      <td>30999</td>\n",
       "      <td>Automatic</td>\n",
       "      <td>11612</td>\n",
       "      <td>Diesel</td>\n",
       "      <td>145</td>\n",
       "      <td>41.5</td>\n",
       "      <td>2.1</td>\n",
       "    </tr>\n",
       "    <tr>\n",
       "      <th>13117</th>\n",
       "      <td>CLS Class</td>\n",
       "      <td>2019</td>\n",
       "      <td>37990</td>\n",
       "      <td>Automatic</td>\n",
       "      <td>2426</td>\n",
       "      <td>Diesel</td>\n",
       "      <td>145</td>\n",
       "      <td>45.6</td>\n",
       "      <td>2.0</td>\n",
       "    </tr>\n",
       "    <tr>\n",
       "      <th>13118</th>\n",
       "      <td>S Class</td>\n",
       "      <td>2019</td>\n",
       "      <td>54999</td>\n",
       "      <td>Automatic</td>\n",
       "      <td>2075</td>\n",
       "      <td>Diesel</td>\n",
       "      <td>145</td>\n",
       "      <td>52.3</td>\n",
       "      <td>2.9</td>\n",
       "    </tr>\n",
       "  </tbody>\n",
       "</table>\n",
       "</div>"
      ],
      "text/plain": [
       "            model  year  price transmission  mileage fuelType  tax   mpg  \\\n",
       "13114     C Class  2020  35999    Automatic      500   Diesel  145  55.4   \n",
       "13115     B Class  2020  24699    Automatic     2500   Diesel  145  55.4   \n",
       "13116   GLC Class  2019  30999    Automatic    11612   Diesel  145  41.5   \n",
       "13117   CLS Class  2019  37990    Automatic     2426   Diesel  145  45.6   \n",
       "13118     S Class  2019  54999    Automatic     2075   Diesel  145  52.3   \n",
       "\n",
       "       engineSize  \n",
       "13114         2.0  \n",
       "13115         2.0  \n",
       "13116         2.1  \n",
       "13117         2.0  \n",
       "13118         2.9  "
      ]
     },
     "execution_count": 51,
     "metadata": {},
     "output_type": "execute_result"
    }
   ],
   "source": [
    "df.tail()"
   ]
  },
  {
   "cell_type": "code",
   "execution_count": 54,
   "id": "9b1c0184",
   "metadata": {},
   "outputs": [
    {
     "data": {
      "text/html": [
       "<div>\n",
       "<style scoped>\n",
       "    .dataframe tbody tr th:only-of-type {\n",
       "        vertical-align: middle;\n",
       "    }\n",
       "\n",
       "    .dataframe tbody tr th {\n",
       "        vertical-align: top;\n",
       "    }\n",
       "\n",
       "    .dataframe thead th {\n",
       "        text-align: right;\n",
       "    }\n",
       "</style>\n",
       "<table border=\"1\" class=\"dataframe\">\n",
       "  <thead>\n",
       "    <tr style=\"text-align: right;\">\n",
       "      <th></th>\n",
       "      <th>model</th>\n",
       "      <th>year</th>\n",
       "      <th>price</th>\n",
       "      <th>transmission</th>\n",
       "      <th>mileage</th>\n",
       "      <th>fuelType</th>\n",
       "      <th>tax</th>\n",
       "      <th>mpg</th>\n",
       "      <th>engineSize</th>\n",
       "    </tr>\n",
       "  </thead>\n",
       "  <tbody>\n",
       "    <tr>\n",
       "      <th>7023</th>\n",
       "      <td>CL Class</td>\n",
       "      <td>2019</td>\n",
       "      <td>25199</td>\n",
       "      <td>Semi-Auto</td>\n",
       "      <td>6354</td>\n",
       "      <td>Petrol</td>\n",
       "      <td>145</td>\n",
       "      <td>44.1</td>\n",
       "      <td>1.6</td>\n",
       "    </tr>\n",
       "    <tr>\n",
       "      <th>224</th>\n",
       "      <td>A Class</td>\n",
       "      <td>2017</td>\n",
       "      <td>18298</td>\n",
       "      <td>Semi-Auto</td>\n",
       "      <td>7919</td>\n",
       "      <td>Diesel</td>\n",
       "      <td>145</td>\n",
       "      <td>68.9</td>\n",
       "      <td>2.1</td>\n",
       "    </tr>\n",
       "    <tr>\n",
       "      <th>278</th>\n",
       "      <td>GLE Class</td>\n",
       "      <td>2017</td>\n",
       "      <td>30298</td>\n",
       "      <td>Semi-Auto</td>\n",
       "      <td>14786</td>\n",
       "      <td>Diesel</td>\n",
       "      <td>200</td>\n",
       "      <td>47.9</td>\n",
       "      <td>2.1</td>\n",
       "    </tr>\n",
       "    <tr>\n",
       "      <th>10015</th>\n",
       "      <td>C Class</td>\n",
       "      <td>2015</td>\n",
       "      <td>15800</td>\n",
       "      <td>Automatic</td>\n",
       "      <td>46959</td>\n",
       "      <td>Hybrid</td>\n",
       "      <td>0</td>\n",
       "      <td>76.4</td>\n",
       "      <td>2.1</td>\n",
       "    </tr>\n",
       "    <tr>\n",
       "      <th>3396</th>\n",
       "      <td>A Class</td>\n",
       "      <td>2016</td>\n",
       "      <td>11999</td>\n",
       "      <td>Semi-Auto</td>\n",
       "      <td>51831</td>\n",
       "      <td>Petrol</td>\n",
       "      <td>125</td>\n",
       "      <td>53.3</td>\n",
       "      <td>1.6</td>\n",
       "    </tr>\n",
       "  </tbody>\n",
       "</table>\n",
       "</div>"
      ],
      "text/plain": [
       "            model  year  price transmission  mileage fuelType  tax   mpg  \\\n",
       "7023     CL Class  2019  25199    Semi-Auto     6354   Petrol  145  44.1   \n",
       "224       A Class  2017  18298    Semi-Auto     7919   Diesel  145  68.9   \n",
       "278     GLE Class  2017  30298    Semi-Auto    14786   Diesel  200  47.9   \n",
       "10015     C Class  2015  15800    Automatic    46959   Hybrid    0  76.4   \n",
       "3396      A Class  2016  11999    Semi-Auto    51831   Petrol  125  53.3   \n",
       "\n",
       "       engineSize  \n",
       "7023          1.6  \n",
       "224           2.1  \n",
       "278           2.1  \n",
       "10015         2.1  \n",
       "3396          1.6  "
      ]
     },
     "execution_count": 54,
     "metadata": {},
     "output_type": "execute_result"
    }
   ],
   "source": [
    "df.sample(5)"
   ]
  },
  {
   "cell_type": "code",
   "execution_count": 55,
   "id": "75164ed2",
   "metadata": {},
   "outputs": [
    {
     "name": "stdout",
     "output_type": "stream",
     "text": [
      "<class 'pandas.core.frame.DataFrame'>\n",
      "RangeIndex: 13119 entries, 0 to 13118\n",
      "Data columns (total 9 columns):\n",
      " #   Column        Non-Null Count  Dtype  \n",
      "---  ------        --------------  -----  \n",
      " 0   model         13119 non-null  object \n",
      " 1   year          13119 non-null  int64  \n",
      " 2   price         13119 non-null  int64  \n",
      " 3   transmission  13119 non-null  object \n",
      " 4   mileage       13119 non-null  int64  \n",
      " 5   fuelType      13119 non-null  object \n",
      " 6   tax           13119 non-null  int64  \n",
      " 7   mpg           13119 non-null  float64\n",
      " 8   engineSize    13119 non-null  float64\n",
      "dtypes: float64(2), int64(4), object(3)\n",
      "memory usage: 922.6+ KB\n"
     ]
    }
   ],
   "source": [
    "df.info()"
   ]
  },
  {
   "cell_type": "code",
   "execution_count": 56,
   "id": "29979d70",
   "metadata": {},
   "outputs": [
    {
     "data": {
      "text/html": [
       "<div>\n",
       "<style scoped>\n",
       "    .dataframe tbody tr th:only-of-type {\n",
       "        vertical-align: middle;\n",
       "    }\n",
       "\n",
       "    .dataframe tbody tr th {\n",
       "        vertical-align: top;\n",
       "    }\n",
       "\n",
       "    .dataframe thead th {\n",
       "        text-align: right;\n",
       "    }\n",
       "</style>\n",
       "<table border=\"1\" class=\"dataframe\">\n",
       "  <thead>\n",
       "    <tr style=\"text-align: right;\">\n",
       "      <th></th>\n",
       "      <th>year</th>\n",
       "      <th>price</th>\n",
       "      <th>mileage</th>\n",
       "      <th>tax</th>\n",
       "      <th>mpg</th>\n",
       "      <th>engineSize</th>\n",
       "    </tr>\n",
       "  </thead>\n",
       "  <tbody>\n",
       "    <tr>\n",
       "      <th>count</th>\n",
       "      <td>13119.000000</td>\n",
       "      <td>13119.000000</td>\n",
       "      <td>13119.000000</td>\n",
       "      <td>13119.000000</td>\n",
       "      <td>13119.000000</td>\n",
       "      <td>13119.000000</td>\n",
       "    </tr>\n",
       "    <tr>\n",
       "      <th>mean</th>\n",
       "      <td>2017.296288</td>\n",
       "      <td>24698.596920</td>\n",
       "      <td>21949.559037</td>\n",
       "      <td>129.972178</td>\n",
       "      <td>55.155843</td>\n",
       "      <td>2.071530</td>\n",
       "    </tr>\n",
       "    <tr>\n",
       "      <th>std</th>\n",
       "      <td>2.224709</td>\n",
       "      <td>11842.675542</td>\n",
       "      <td>21176.512267</td>\n",
       "      <td>65.260286</td>\n",
       "      <td>15.220082</td>\n",
       "      <td>0.572426</td>\n",
       "    </tr>\n",
       "    <tr>\n",
       "      <th>min</th>\n",
       "      <td>1970.000000</td>\n",
       "      <td>650.000000</td>\n",
       "      <td>1.000000</td>\n",
       "      <td>0.000000</td>\n",
       "      <td>1.100000</td>\n",
       "      <td>0.000000</td>\n",
       "    </tr>\n",
       "    <tr>\n",
       "      <th>25%</th>\n",
       "      <td>2016.000000</td>\n",
       "      <td>17450.000000</td>\n",
       "      <td>6097.500000</td>\n",
       "      <td>125.000000</td>\n",
       "      <td>45.600000</td>\n",
       "      <td>1.800000</td>\n",
       "    </tr>\n",
       "    <tr>\n",
       "      <th>50%</th>\n",
       "      <td>2018.000000</td>\n",
       "      <td>22480.000000</td>\n",
       "      <td>15189.000000</td>\n",
       "      <td>145.000000</td>\n",
       "      <td>56.500000</td>\n",
       "      <td>2.000000</td>\n",
       "    </tr>\n",
       "    <tr>\n",
       "      <th>75%</th>\n",
       "      <td>2019.000000</td>\n",
       "      <td>28980.000000</td>\n",
       "      <td>31779.500000</td>\n",
       "      <td>145.000000</td>\n",
       "      <td>64.200000</td>\n",
       "      <td>2.100000</td>\n",
       "    </tr>\n",
       "    <tr>\n",
       "      <th>max</th>\n",
       "      <td>2020.000000</td>\n",
       "      <td>159999.000000</td>\n",
       "      <td>259000.000000</td>\n",
       "      <td>580.000000</td>\n",
       "      <td>217.300000</td>\n",
       "      <td>6.200000</td>\n",
       "    </tr>\n",
       "  </tbody>\n",
       "</table>\n",
       "</div>"
      ],
      "text/plain": [
       "               year          price        mileage           tax           mpg  \\\n",
       "count  13119.000000   13119.000000   13119.000000  13119.000000  13119.000000   \n",
       "mean    2017.296288   24698.596920   21949.559037    129.972178     55.155843   \n",
       "std        2.224709   11842.675542   21176.512267     65.260286     15.220082   \n",
       "min     1970.000000     650.000000       1.000000      0.000000      1.100000   \n",
       "25%     2016.000000   17450.000000    6097.500000    125.000000     45.600000   \n",
       "50%     2018.000000   22480.000000   15189.000000    145.000000     56.500000   \n",
       "75%     2019.000000   28980.000000   31779.500000    145.000000     64.200000   \n",
       "max     2020.000000  159999.000000  259000.000000    580.000000    217.300000   \n",
       "\n",
       "         engineSize  \n",
       "count  13119.000000  \n",
       "mean       2.071530  \n",
       "std        0.572426  \n",
       "min        0.000000  \n",
       "25%        1.800000  \n",
       "50%        2.000000  \n",
       "75%        2.100000  \n",
       "max        6.200000  "
      ]
     },
     "execution_count": 56,
     "metadata": {},
     "output_type": "execute_result"
    }
   ],
   "source": [
    "df.describe()"
   ]
  },
  {
   "cell_type": "code",
   "execution_count": 59,
   "id": "68fa3c4a",
   "metadata": {},
   "outputs": [
    {
     "data": {
      "text/html": [
       "<div>\n",
       "<style scoped>\n",
       "    .dataframe tbody tr th:only-of-type {\n",
       "        vertical-align: middle;\n",
       "    }\n",
       "\n",
       "    .dataframe tbody tr th {\n",
       "        vertical-align: top;\n",
       "    }\n",
       "\n",
       "    .dataframe thead th {\n",
       "        text-align: right;\n",
       "    }\n",
       "</style>\n",
       "<table border=\"1\" class=\"dataframe\">\n",
       "  <thead>\n",
       "    <tr style=\"text-align: right;\">\n",
       "      <th></th>\n",
       "      <th>model</th>\n",
       "      <th>year</th>\n",
       "      <th>price</th>\n",
       "      <th>transmission</th>\n",
       "      <th>mileage</th>\n",
       "      <th>fuelType</th>\n",
       "      <th>tax</th>\n",
       "      <th>mpg</th>\n",
       "      <th>engineSize</th>\n",
       "    </tr>\n",
       "  </thead>\n",
       "  <tbody>\n",
       "    <tr>\n",
       "      <th>0</th>\n",
       "      <td>SLK</td>\n",
       "      <td>2005</td>\n",
       "      <td>5200</td>\n",
       "      <td>Automatic</td>\n",
       "      <td>63000</td>\n",
       "      <td>Petrol</td>\n",
       "      <td>325</td>\n",
       "      <td>32.1</td>\n",
       "      <td>1.8</td>\n",
       "    </tr>\n",
       "    <tr>\n",
       "      <th>1</th>\n",
       "      <td>S Class</td>\n",
       "      <td>2017</td>\n",
       "      <td>34948</td>\n",
       "      <td>Automatic</td>\n",
       "      <td>27000</td>\n",
       "      <td>Hybrid</td>\n",
       "      <td>20</td>\n",
       "      <td>61.4</td>\n",
       "      <td>2.1</td>\n",
       "    </tr>\n",
       "    <tr>\n",
       "      <th>2</th>\n",
       "      <td>SL CLASS</td>\n",
       "      <td>2016</td>\n",
       "      <td>49948</td>\n",
       "      <td>Automatic</td>\n",
       "      <td>6200</td>\n",
       "      <td>Petrol</td>\n",
       "      <td>555</td>\n",
       "      <td>28.0</td>\n",
       "      <td>5.5</td>\n",
       "    </tr>\n",
       "    <tr>\n",
       "      <th>3</th>\n",
       "      <td>G Class</td>\n",
       "      <td>2016</td>\n",
       "      <td>61948</td>\n",
       "      <td>Automatic</td>\n",
       "      <td>16000</td>\n",
       "      <td>Petrol</td>\n",
       "      <td>325</td>\n",
       "      <td>30.4</td>\n",
       "      <td>4.0</td>\n",
       "    </tr>\n",
       "    <tr>\n",
       "      <th>4</th>\n",
       "      <td>G Class</td>\n",
       "      <td>2016</td>\n",
       "      <td>73948</td>\n",
       "      <td>Automatic</td>\n",
       "      <td>4000</td>\n",
       "      <td>Petrol</td>\n",
       "      <td>325</td>\n",
       "      <td>30.1</td>\n",
       "      <td>4.0</td>\n",
       "    </tr>\n",
       "  </tbody>\n",
       "</table>\n",
       "</div>"
      ],
      "text/plain": [
       "       model  year  price transmission  mileage fuelType  tax   mpg  \\\n",
       "0        SLK  2005   5200    Automatic    63000   Petrol  325  32.1   \n",
       "1    S Class  2017  34948    Automatic    27000   Hybrid   20  61.4   \n",
       "2   SL CLASS  2016  49948    Automatic     6200   Petrol  555  28.0   \n",
       "3    G Class  2016  61948    Automatic    16000   Petrol  325  30.4   \n",
       "4    G Class  2016  73948    Automatic     4000   Petrol  325  30.1   \n",
       "\n",
       "   engineSize  \n",
       "0         1.8  \n",
       "1         2.1  \n",
       "2         5.5  \n",
       "3         4.0  \n",
       "4         4.0  "
      ]
     },
     "execution_count": 59,
     "metadata": {},
     "output_type": "execute_result"
    }
   ],
   "source": [
    "df.head()"
   ]
  },
  {
   "cell_type": "code",
   "execution_count": 65,
   "id": "0f13449f",
   "metadata": {},
   "outputs": [
    {
     "name": "stdout",
     "output_type": "stream",
     "text": [
      "Axes(0.125,0.11;0.775x0.77)\n"
     ]
    },
    {
     "data": {
      "image/png": "[encoded data removed]",
      "text/plain": [
       "<Figure size 640x480 with 1 Axes>"
      ]
     },
     "metadata": {},
     "output_type": "display_data"
    }
   ],
   "source": [
    "print(df['price'].plot.hist(bins = 30))"
   ]
  },
  {
   "cell_type": "code",
   "execution_count": 66,
   "id": "4699f58f",
   "metadata": {},
   "outputs": [
    {
     "name": "stdout",
     "output_type": "stream",
     "text": [
      "Axes(0.125,0.11;0.775x0.77)\n"
     ]
    },
    {
     "data": {
      "image/png": "[encoded data removed]",
      "text/plain": [
       "<Figure size 640x480 with 1 Axes>"
      ]
     },
     "metadata": {},
     "output_type": "display_data"
    }
   ],
   "source": [
    "print(df['year'].plot.hist(bins=30))"
   ]
  },
  {
   "cell_type": "code",
   "execution_count": 68,
   "id": "56446086",
   "metadata": {},
   "outputs": [
    {
     "data": {
      "text/html": [
       "<div>\n",
       "<style scoped>\n",
       "    .dataframe tbody tr th:only-of-type {\n",
       "        vertical-align: middle;\n",
       "    }\n",
       "\n",
       "    .dataframe tbody tr th {\n",
       "        vertical-align: top;\n",
       "    }\n",
       "\n",
       "    .dataframe thead th {\n",
       "        text-align: right;\n",
       "    }\n",
       "</style>\n",
       "<table border=\"1\" class=\"dataframe\">\n",
       "  <thead>\n",
       "    <tr style=\"text-align: right;\">\n",
       "      <th></th>\n",
       "      <th>model</th>\n",
       "      <th>year</th>\n",
       "      <th>price</th>\n",
       "      <th>transmission</th>\n",
       "      <th>mileage</th>\n",
       "      <th>fuelType</th>\n",
       "      <th>tax</th>\n",
       "      <th>mpg</th>\n",
       "      <th>engineSize</th>\n",
       "    </tr>\n",
       "  </thead>\n",
       "  <tbody>\n",
       "    <tr>\n",
       "      <th>0</th>\n",
       "      <td>SLK</td>\n",
       "      <td>2005</td>\n",
       "      <td>5200</td>\n",
       "      <td>Automatic</td>\n",
       "      <td>63000</td>\n",
       "      <td>Petrol</td>\n",
       "      <td>325</td>\n",
       "      <td>32.1</td>\n",
       "      <td>1.8</td>\n",
       "    </tr>\n",
       "    <tr>\n",
       "      <th>1</th>\n",
       "      <td>S Class</td>\n",
       "      <td>2017</td>\n",
       "      <td>34948</td>\n",
       "      <td>Automatic</td>\n",
       "      <td>27000</td>\n",
       "      <td>Hybrid</td>\n",
       "      <td>20</td>\n",
       "      <td>61.4</td>\n",
       "      <td>2.1</td>\n",
       "    </tr>\n",
       "    <tr>\n",
       "      <th>2</th>\n",
       "      <td>SL CLASS</td>\n",
       "      <td>2016</td>\n",
       "      <td>49948</td>\n",
       "      <td>Automatic</td>\n",
       "      <td>6200</td>\n",
       "      <td>Petrol</td>\n",
       "      <td>555</td>\n",
       "      <td>28.0</td>\n",
       "      <td>5.5</td>\n",
       "    </tr>\n",
       "    <tr>\n",
       "      <th>3</th>\n",
       "      <td>G Class</td>\n",
       "      <td>2016</td>\n",
       "      <td>61948</td>\n",
       "      <td>Automatic</td>\n",
       "      <td>16000</td>\n",
       "      <td>Petrol</td>\n",
       "      <td>325</td>\n",
       "      <td>30.4</td>\n",
       "      <td>4.0</td>\n",
       "    </tr>\n",
       "    <tr>\n",
       "      <th>4</th>\n",
       "      <td>G Class</td>\n",
       "      <td>2016</td>\n",
       "      <td>73948</td>\n",
       "      <td>Automatic</td>\n",
       "      <td>4000</td>\n",
       "      <td>Petrol</td>\n",
       "      <td>325</td>\n",
       "      <td>30.1</td>\n",
       "      <td>4.0</td>\n",
       "    </tr>\n",
       "    <tr>\n",
       "      <th>...</th>\n",
       "      <td>...</td>\n",
       "      <td>...</td>\n",
       "      <td>...</td>\n",
       "      <td>...</td>\n",
       "      <td>...</td>\n",
       "      <td>...</td>\n",
       "      <td>...</td>\n",
       "      <td>...</td>\n",
       "      <td>...</td>\n",
       "    </tr>\n",
       "    <tr>\n",
       "      <th>13114</th>\n",
       "      <td>C Class</td>\n",
       "      <td>2020</td>\n",
       "      <td>35999</td>\n",
       "      <td>Automatic</td>\n",
       "      <td>500</td>\n",
       "      <td>Diesel</td>\n",
       "      <td>145</td>\n",
       "      <td>55.4</td>\n",
       "      <td>2.0</td>\n",
       "    </tr>\n",
       "    <tr>\n",
       "      <th>13115</th>\n",
       "      <td>B Class</td>\n",
       "      <td>2020</td>\n",
       "      <td>24699</td>\n",
       "      <td>Automatic</td>\n",
       "      <td>2500</td>\n",
       "      <td>Diesel</td>\n",
       "      <td>145</td>\n",
       "      <td>55.4</td>\n",
       "      <td>2.0</td>\n",
       "    </tr>\n",
       "    <tr>\n",
       "      <th>13116</th>\n",
       "      <td>GLC Class</td>\n",
       "      <td>2019</td>\n",
       "      <td>30999</td>\n",
       "      <td>Automatic</td>\n",
       "      <td>11612</td>\n",
       "      <td>Diesel</td>\n",
       "      <td>145</td>\n",
       "      <td>41.5</td>\n",
       "      <td>2.1</td>\n",
       "    </tr>\n",
       "    <tr>\n",
       "      <th>13117</th>\n",
       "      <td>CLS Class</td>\n",
       "      <td>2019</td>\n",
       "      <td>37990</td>\n",
       "      <td>Automatic</td>\n",
       "      <td>2426</td>\n",
       "      <td>Diesel</td>\n",
       "      <td>145</td>\n",
       "      <td>45.6</td>\n",
       "      <td>2.0</td>\n",
       "    </tr>\n",
       "    <tr>\n",
       "      <th>13118</th>\n",
       "      <td>S Class</td>\n",
       "      <td>2019</td>\n",
       "      <td>54999</td>\n",
       "      <td>Automatic</td>\n",
       "      <td>2075</td>\n",
       "      <td>Diesel</td>\n",
       "      <td>145</td>\n",
       "      <td>52.3</td>\n",
       "      <td>2.9</td>\n",
       "    </tr>\n",
       "  </tbody>\n",
       "</table>\n",
       "<p>13119 rows × 9 columns</p>\n",
       "</div>"
      ],
      "text/plain": [
       "            model  year  price transmission  mileage fuelType  tax   mpg  \\\n",
       "0             SLK  2005   5200    Automatic    63000   Petrol  325  32.1   \n",
       "1         S Class  2017  34948    Automatic    27000   Hybrid   20  61.4   \n",
       "2        SL CLASS  2016  49948    Automatic     6200   Petrol  555  28.0   \n",
       "3         G Class  2016  61948    Automatic    16000   Petrol  325  30.4   \n",
       "4         G Class  2016  73948    Automatic     4000   Petrol  325  30.1   \n",
       "...           ...   ...    ...          ...      ...      ...  ...   ...   \n",
       "13114     C Class  2020  35999    Automatic      500   Diesel  145  55.4   \n",
       "13115     B Class  2020  24699    Automatic     2500   Diesel  145  55.4   \n",
       "13116   GLC Class  2019  30999    Automatic    11612   Diesel  145  41.5   \n",
       "13117   CLS Class  2019  37990    Automatic     2426   Diesel  145  45.6   \n",
       "13118     S Class  2019  54999    Automatic     2075   Diesel  145  52.3   \n",
       "\n",
       "       engineSize  \n",
       "0             1.8  \n",
       "1             2.1  \n",
       "2             5.5  \n",
       "3             4.0  \n",
       "4             4.0  \n",
       "...           ...  \n",
       "13114         2.0  \n",
       "13115         2.0  \n",
       "13116         2.1  \n",
       "13117         2.0  \n",
       "13118         2.9  \n",
       "\n",
       "[13119 rows x 9 columns]"
      ]
     },
     "execution_count": 68,
     "metadata": {},
     "output_type": "execute_result"
    }
   ],
   "source": [
    "df"
   ]
  },
  {
   "cell_type": "code",
   "execution_count": null,
   "id": "e7fa78a3",
   "metadata": {},
   "outputs": [],
   "source": [
    "data = {\n",
    "    'age':[10,20,30,40,50,60],\n",
    "    'year':[2010,2000,1990,1980,1970,1960]\n",
    "}\n",
    "\n",
    "obj = pd.DataFrame(data)"
   ]
  },
  {
   "cell_type": "code",
   "execution_count": 71,
   "id": "61c91211",
   "metadata": {},
   "outputs": [
    {
     "data": {
      "text/html": [
       "<div>\n",
       "<style scoped>\n",
       "    .dataframe tbody tr th:only-of-type {\n",
       "        vertical-align: middle;\n",
       "    }\n",
       "\n",
       "    .dataframe tbody tr th {\n",
       "        vertical-align: top;\n",
       "    }\n",
       "\n",
       "    .dataframe thead th {\n",
       "        text-align: right;\n",
       "    }\n",
       "</style>\n",
       "<table border=\"1\" class=\"dataframe\">\n",
       "  <thead>\n",
       "    <tr style=\"text-align: right;\">\n",
       "      <th></th>\n",
       "      <th>age</th>\n",
       "      <th>year</th>\n",
       "    </tr>\n",
       "  </thead>\n",
       "  <tbody>\n",
       "    <tr>\n",
       "      <th>0</th>\n",
       "      <td>10</td>\n",
       "      <td>2010</td>\n",
       "    </tr>\n",
       "    <tr>\n",
       "      <th>1</th>\n",
       "      <td>20</td>\n",
       "      <td>2000</td>\n",
       "    </tr>\n",
       "    <tr>\n",
       "      <th>2</th>\n",
       "      <td>30</td>\n",
       "      <td>1990</td>\n",
       "    </tr>\n",
       "    <tr>\n",
       "      <th>3</th>\n",
       "      <td>40</td>\n",
       "      <td>1980</td>\n",
       "    </tr>\n",
       "    <tr>\n",
       "      <th>4</th>\n",
       "      <td>50</td>\n",
       "      <td>1970</td>\n",
       "    </tr>\n",
       "    <tr>\n",
       "      <th>5</th>\n",
       "      <td>60</td>\n",
       "      <td>1960</td>\n",
       "    </tr>\n",
       "  </tbody>\n",
       "</table>\n",
       "</div>"
      ],
      "text/plain": [
       "   age  year\n",
       "0   10  2010\n",
       "1   20  2000\n",
       "2   30  1990\n",
       "3   40  1980\n",
       "4   50  1970\n",
       "5   60  1960"
      ]
     },
     "execution_count": 71,
     "metadata": {},
     "output_type": "execute_result"
    }
   ],
   "source": [
    "obj"
   ]
  },
  {
   "cell_type": "code",
   "execution_count": 73,
   "id": "5dc807c4",
   "metadata": {},
   "outputs": [
    {
     "data": {
      "text/plain": [
       "np.float64(-0.9999999999999998)"
      ]
     },
     "execution_count": 73,
     "metadata": {},
     "output_type": "execute_result"
    }
   ],
   "source": [
    "obj['age'].corr(obj['year'])"
   ]
  },
  {
   "cell_type": "code",
   "execution_count": 74,
   "id": "98e4c968",
   "metadata": {},
   "outputs": [
    {
     "data": {
      "text/html": [
       "<div>\n",
       "<style scoped>\n",
       "    .dataframe tbody tr th:only-of-type {\n",
       "        vertical-align: middle;\n",
       "    }\n",
       "\n",
       "    .dataframe tbody tr th {\n",
       "        vertical-align: top;\n",
       "    }\n",
       "\n",
       "    .dataframe thead th {\n",
       "        text-align: right;\n",
       "    }\n",
       "</style>\n",
       "<table border=\"1\" class=\"dataframe\">\n",
       "  <thead>\n",
       "    <tr style=\"text-align: right;\">\n",
       "      <th></th>\n",
       "      <th>model</th>\n",
       "      <th>year</th>\n",
       "      <th>price</th>\n",
       "      <th>transmission</th>\n",
       "      <th>mileage</th>\n",
       "      <th>fuelType</th>\n",
       "      <th>tax</th>\n",
       "      <th>mpg</th>\n",
       "      <th>engineSize</th>\n",
       "    </tr>\n",
       "  </thead>\n",
       "  <tbody>\n",
       "    <tr>\n",
       "      <th>0</th>\n",
       "      <td>SLK</td>\n",
       "      <td>2005</td>\n",
       "      <td>5200</td>\n",
       "      <td>Automatic</td>\n",
       "      <td>63000</td>\n",
       "      <td>Petrol</td>\n",
       "      <td>325</td>\n",
       "      <td>32.1</td>\n",
       "      <td>1.8</td>\n",
       "    </tr>\n",
       "    <tr>\n",
       "      <th>1</th>\n",
       "      <td>S Class</td>\n",
       "      <td>2017</td>\n",
       "      <td>34948</td>\n",
       "      <td>Automatic</td>\n",
       "      <td>27000</td>\n",
       "      <td>Hybrid</td>\n",
       "      <td>20</td>\n",
       "      <td>61.4</td>\n",
       "      <td>2.1</td>\n",
       "    </tr>\n",
       "    <tr>\n",
       "      <th>2</th>\n",
       "      <td>SL CLASS</td>\n",
       "      <td>2016</td>\n",
       "      <td>49948</td>\n",
       "      <td>Automatic</td>\n",
       "      <td>6200</td>\n",
       "      <td>Petrol</td>\n",
       "      <td>555</td>\n",
       "      <td>28.0</td>\n",
       "      <td>5.5</td>\n",
       "    </tr>\n",
       "    <tr>\n",
       "      <th>3</th>\n",
       "      <td>G Class</td>\n",
       "      <td>2016</td>\n",
       "      <td>61948</td>\n",
       "      <td>Automatic</td>\n",
       "      <td>16000</td>\n",
       "      <td>Petrol</td>\n",
       "      <td>325</td>\n",
       "      <td>30.4</td>\n",
       "      <td>4.0</td>\n",
       "    </tr>\n",
       "    <tr>\n",
       "      <th>4</th>\n",
       "      <td>G Class</td>\n",
       "      <td>2016</td>\n",
       "      <td>73948</td>\n",
       "      <td>Automatic</td>\n",
       "      <td>4000</td>\n",
       "      <td>Petrol</td>\n",
       "      <td>325</td>\n",
       "      <td>30.1</td>\n",
       "      <td>4.0</td>\n",
       "    </tr>\n",
       "    <tr>\n",
       "      <th>...</th>\n",
       "      <td>...</td>\n",
       "      <td>...</td>\n",
       "      <td>...</td>\n",
       "      <td>...</td>\n",
       "      <td>...</td>\n",
       "      <td>...</td>\n",
       "      <td>...</td>\n",
       "      <td>...</td>\n",
       "      <td>...</td>\n",
       "    </tr>\n",
       "    <tr>\n",
       "      <th>13114</th>\n",
       "      <td>C Class</td>\n",
       "      <td>2020</td>\n",
       "      <td>35999</td>\n",
       "      <td>Automatic</td>\n",
       "      <td>500</td>\n",
       "      <td>Diesel</td>\n",
       "      <td>145</td>\n",
       "      <td>55.4</td>\n",
       "      <td>2.0</td>\n",
       "    </tr>\n",
       "    <tr>\n",
       "      <th>13115</th>\n",
       "      <td>B Class</td>\n",
       "      <td>2020</td>\n",
       "      <td>24699</td>\n",
       "      <td>Automatic</td>\n",
       "      <td>2500</td>\n",
       "      <td>Diesel</td>\n",
       "      <td>145</td>\n",
       "      <td>55.4</td>\n",
       "      <td>2.0</td>\n",
       "    </tr>\n",
       "    <tr>\n",
       "      <th>13116</th>\n",
       "      <td>GLC Class</td>\n",
       "      <td>2019</td>\n",
       "      <td>30999</td>\n",
       "      <td>Automatic</td>\n",
       "      <td>11612</td>\n",
       "      <td>Diesel</td>\n",
       "      <td>145</td>\n",
       "      <td>41.5</td>\n",
       "      <td>2.1</td>\n",
       "    </tr>\n",
       "    <tr>\n",
       "      <th>13117</th>\n",
       "      <td>CLS Class</td>\n",
       "      <td>2019</td>\n",
       "      <td>37990</td>\n",
       "      <td>Automatic</td>\n",
       "      <td>2426</td>\n",
       "      <td>Diesel</td>\n",
       "      <td>145</td>\n",
       "      <td>45.6</td>\n",
       "      <td>2.0</td>\n",
       "    </tr>\n",
       "    <tr>\n",
       "      <th>13118</th>\n",
       "      <td>S Class</td>\n",
       "      <td>2019</td>\n",
       "      <td>54999</td>\n",
       "      <td>Automatic</td>\n",
       "      <td>2075</td>\n",
       "      <td>Diesel</td>\n",
       "      <td>145</td>\n",
       "      <td>52.3</td>\n",
       "      <td>2.9</td>\n",
       "    </tr>\n",
       "  </tbody>\n",
       "</table>\n",
       "<p>13119 rows × 9 columns</p>\n",
       "</div>"
      ],
      "text/plain": [
       "            model  year  price transmission  mileage fuelType  tax   mpg  \\\n",
       "0             SLK  2005   5200    Automatic    63000   Petrol  325  32.1   \n",
       "1         S Class  2017  34948    Automatic    27000   Hybrid   20  61.4   \n",
       "2        SL CLASS  2016  49948    Automatic     6200   Petrol  555  28.0   \n",
       "3         G Class  2016  61948    Automatic    16000   Petrol  325  30.4   \n",
       "4         G Class  2016  73948    Automatic     4000   Petrol  325  30.1   \n",
       "...           ...   ...    ...          ...      ...      ...  ...   ...   \n",
       "13114     C Class  2020  35999    Automatic      500   Diesel  145  55.4   \n",
       "13115     B Class  2020  24699    Automatic     2500   Diesel  145  55.4   \n",
       "13116   GLC Class  2019  30999    Automatic    11612   Diesel  145  41.5   \n",
       "13117   CLS Class  2019  37990    Automatic     2426   Diesel  145  45.6   \n",
       "13118     S Class  2019  54999    Automatic     2075   Diesel  145  52.3   \n",
       "\n",
       "       engineSize  \n",
       "0             1.8  \n",
       "1             2.1  \n",
       "2             5.5  \n",
       "3             4.0  \n",
       "4             4.0  \n",
       "...           ...  \n",
       "13114         2.0  \n",
       "13115         2.0  \n",
       "13116         2.1  \n",
       "13117         2.0  \n",
       "13118         2.9  \n",
       "\n",
       "[13119 rows x 9 columns]"
      ]
     },
     "execution_count": 74,
     "metadata": {},
     "output_type": "execute_result"
    }
   ],
   "source": [
    "df"
   ]
  },
  {
   "cell_type": "code",
   "execution_count": 75,
   "id": "4fd8632e",
   "metadata": {},
   "outputs": [
    {
     "data": {
      "text/plain": [
       "np.float64(-0.7380268515364223)"
      ]
     },
     "execution_count": 75,
     "metadata": {},
     "output_type": "execute_result"
    }
   ],
   "source": [
    "df['year'].corr(df['mileage'])"
   ]
  },
  {
   "cell_type": "code",
   "execution_count": 77,
   "id": "38929dad",
   "metadata": {},
   "outputs": [
    {
     "data": {
      "text/plain": [
       "np.float64(-0.5372141241046463)"
      ]
     },
     "execution_count": 77,
     "metadata": {},
     "output_type": "execute_result"
    }
   ],
   "source": [
    "df['price'].corr(df['mileage'])"
   ]
  },
  {
   "cell_type": "code",
   "execution_count": 78,
   "id": "60f30709",
   "metadata": {},
   "outputs": [
    {
     "data": {
      "text/plain": [
       "np.float64(0.5161257786169431)"
      ]
     },
     "execution_count": 78,
     "metadata": {},
     "output_type": "execute_result"
    }
   ],
   "source": [
    "df['price'].corr(df['engineSize'])"
   ]
  },
  {
   "cell_type": "code",
   "execution_count": 86,
   "id": "0af88a5c",
   "metadata": {},
   "outputs": [
    {
     "data": {
      "text/html": [
       "<div>\n",
       "<style scoped>\n",
       "    .dataframe tbody tr th:only-of-type {\n",
       "        vertical-align: middle;\n",
       "    }\n",
       "\n",
       "    .dataframe tbody tr th {\n",
       "        vertical-align: top;\n",
       "    }\n",
       "\n",
       "    .dataframe thead th {\n",
       "        text-align: right;\n",
       "    }\n",
       "</style>\n",
       "<table border=\"1\" class=\"dataframe\">\n",
       "  <thead>\n",
       "    <tr style=\"text-align: right;\">\n",
       "      <th></th>\n",
       "      <th>year</th>\n",
       "      <th>price</th>\n",
       "      <th>mileage</th>\n",
       "      <th>tax</th>\n",
       "      <th>mpg</th>\n",
       "      <th>engineSize</th>\n",
       "    </tr>\n",
       "  </thead>\n",
       "  <tbody>\n",
       "    <tr>\n",
       "      <th>year</th>\n",
       "      <td>1.000000</td>\n",
       "      <td>0.520712</td>\n",
       "      <td>-0.738027</td>\n",
       "      <td>0.012480</td>\n",
       "      <td>-0.094626</td>\n",
       "      <td>-0.142147</td>\n",
       "    </tr>\n",
       "    <tr>\n",
       "      <th>price</th>\n",
       "      <td>0.520712</td>\n",
       "      <td>1.000000</td>\n",
       "      <td>-0.537214</td>\n",
       "      <td>0.268717</td>\n",
       "      <td>-0.438445</td>\n",
       "      <td>0.516126</td>\n",
       "    </tr>\n",
       "    <tr>\n",
       "      <th>mileage</th>\n",
       "      <td>-0.738027</td>\n",
       "      <td>-0.537214</td>\n",
       "      <td>1.000000</td>\n",
       "      <td>-0.160223</td>\n",
       "      <td>0.202850</td>\n",
       "      <td>0.063652</td>\n",
       "    </tr>\n",
       "    <tr>\n",
       "      <th>tax</th>\n",
       "      <td>0.012480</td>\n",
       "      <td>0.268717</td>\n",
       "      <td>-0.160223</td>\n",
       "      <td>1.000000</td>\n",
       "      <td>-0.513742</td>\n",
       "      <td>0.338341</td>\n",
       "    </tr>\n",
       "    <tr>\n",
       "      <th>mpg</th>\n",
       "      <td>-0.094626</td>\n",
       "      <td>-0.438445</td>\n",
       "      <td>0.202850</td>\n",
       "      <td>-0.513742</td>\n",
       "      <td>1.000000</td>\n",
       "      <td>-0.339862</td>\n",
       "    </tr>\n",
       "    <tr>\n",
       "      <th>engineSize</th>\n",
       "      <td>-0.142147</td>\n",
       "      <td>0.516126</td>\n",
       "      <td>0.063652</td>\n",
       "      <td>0.338341</td>\n",
       "      <td>-0.339862</td>\n",
       "      <td>1.000000</td>\n",
       "    </tr>\n",
       "  </tbody>\n",
       "</table>\n",
       "</div>"
      ],
      "text/plain": [
       "                year     price   mileage       tax       mpg  engineSize\n",
       "year        1.000000  0.520712 -0.738027  0.012480 -0.094626   -0.142147\n",
       "price       0.520712  1.000000 -0.537214  0.268717 -0.438445    0.516126\n",
       "mileage    -0.738027 -0.537214  1.000000 -0.160223  0.202850    0.063652\n",
       "tax         0.012480  0.268717 -0.160223  1.000000 -0.513742    0.338341\n",
       "mpg        -0.094626 -0.438445  0.202850 -0.513742  1.000000   -0.339862\n",
       "engineSize -0.142147  0.516126  0.063652  0.338341 -0.339862    1.000000"
      ]
     },
     "execution_count": 86,
     "metadata": {},
     "output_type": "execute_result"
    }
   ],
   "source": [
    "df.corr(numeric_only=True)"
   ]
  },
  {
   "cell_type": "code",
   "execution_count": 88,
   "id": "ac1969ec",
   "metadata": {},
   "outputs": [
    {
     "data": {
      "text/plain": [
       "year          0.520712\n",
       "price         1.000000\n",
       "mileage      -0.537214\n",
       "tax           0.268717\n",
       "mpg          -0.438445\n",
       "engineSize    0.516126\n",
       "dtype: float64"
      ]
     },
     "execution_count": 88,
     "metadata": {},
     "output_type": "execute_result"
    }
   ],
   "source": [
    "df.corrwith(df['price'],numeric_only=True)"
   ]
  },
  {
   "cell_type": "code",
   "execution_count": 89,
   "id": "072ada95",
   "metadata": {},
   "outputs": [
    {
     "data": {
      "text/html": [
       "<div>\n",
       "<style scoped>\n",
       "    .dataframe tbody tr th:only-of-type {\n",
       "        vertical-align: middle;\n",
       "    }\n",
       "\n",
       "    .dataframe tbody tr th {\n",
       "        vertical-align: top;\n",
       "    }\n",
       "\n",
       "    .dataframe thead th {\n",
       "        text-align: right;\n",
       "    }\n",
       "</style>\n",
       "<table border=\"1\" class=\"dataframe\">\n",
       "  <thead>\n",
       "    <tr style=\"text-align: right;\">\n",
       "      <th></th>\n",
       "      <th>model</th>\n",
       "      <th>year</th>\n",
       "      <th>price</th>\n",
       "      <th>transmission</th>\n",
       "      <th>mileage</th>\n",
       "      <th>fuelType</th>\n",
       "      <th>tax</th>\n",
       "      <th>mpg</th>\n",
       "      <th>engineSize</th>\n",
       "    </tr>\n",
       "  </thead>\n",
       "  <tbody>\n",
       "    <tr>\n",
       "      <th>0</th>\n",
       "      <td>SLK</td>\n",
       "      <td>2005</td>\n",
       "      <td>5200</td>\n",
       "      <td>Automatic</td>\n",
       "      <td>63000</td>\n",
       "      <td>Petrol</td>\n",
       "      <td>325</td>\n",
       "      <td>32.1</td>\n",
       "      <td>1.8</td>\n",
       "    </tr>\n",
       "    <tr>\n",
       "      <th>1</th>\n",
       "      <td>S Class</td>\n",
       "      <td>2017</td>\n",
       "      <td>34948</td>\n",
       "      <td>Automatic</td>\n",
       "      <td>27000</td>\n",
       "      <td>Hybrid</td>\n",
       "      <td>20</td>\n",
       "      <td>61.4</td>\n",
       "      <td>2.1</td>\n",
       "    </tr>\n",
       "    <tr>\n",
       "      <th>2</th>\n",
       "      <td>SL CLASS</td>\n",
       "      <td>2016</td>\n",
       "      <td>49948</td>\n",
       "      <td>Automatic</td>\n",
       "      <td>6200</td>\n",
       "      <td>Petrol</td>\n",
       "      <td>555</td>\n",
       "      <td>28.0</td>\n",
       "      <td>5.5</td>\n",
       "    </tr>\n",
       "    <tr>\n",
       "      <th>3</th>\n",
       "      <td>G Class</td>\n",
       "      <td>2016</td>\n",
       "      <td>61948</td>\n",
       "      <td>Automatic</td>\n",
       "      <td>16000</td>\n",
       "      <td>Petrol</td>\n",
       "      <td>325</td>\n",
       "      <td>30.4</td>\n",
       "      <td>4.0</td>\n",
       "    </tr>\n",
       "    <tr>\n",
       "      <th>4</th>\n",
       "      <td>G Class</td>\n",
       "      <td>2016</td>\n",
       "      <td>73948</td>\n",
       "      <td>Automatic</td>\n",
       "      <td>4000</td>\n",
       "      <td>Petrol</td>\n",
       "      <td>325</td>\n",
       "      <td>30.1</td>\n",
       "      <td>4.0</td>\n",
       "    </tr>\n",
       "    <tr>\n",
       "      <th>...</th>\n",
       "      <td>...</td>\n",
       "      <td>...</td>\n",
       "      <td>...</td>\n",
       "      <td>...</td>\n",
       "      <td>...</td>\n",
       "      <td>...</td>\n",
       "      <td>...</td>\n",
       "      <td>...</td>\n",
       "      <td>...</td>\n",
       "    </tr>\n",
       "    <tr>\n",
       "      <th>13114</th>\n",
       "      <td>C Class</td>\n",
       "      <td>2020</td>\n",
       "      <td>35999</td>\n",
       "      <td>Automatic</td>\n",
       "      <td>500</td>\n",
       "      <td>Diesel</td>\n",
       "      <td>145</td>\n",
       "      <td>55.4</td>\n",
       "      <td>2.0</td>\n",
       "    </tr>\n",
       "    <tr>\n",
       "      <th>13115</th>\n",
       "      <td>B Class</td>\n",
       "      <td>2020</td>\n",
       "      <td>24699</td>\n",
       "      <td>Automatic</td>\n",
       "      <td>2500</td>\n",
       "      <td>Diesel</td>\n",
       "      <td>145</td>\n",
       "      <td>55.4</td>\n",
       "      <td>2.0</td>\n",
       "    </tr>\n",
       "    <tr>\n",
       "      <th>13116</th>\n",
       "      <td>GLC Class</td>\n",
       "      <td>2019</td>\n",
       "      <td>30999</td>\n",
       "      <td>Automatic</td>\n",
       "      <td>11612</td>\n",
       "      <td>Diesel</td>\n",
       "      <td>145</td>\n",
       "      <td>41.5</td>\n",
       "      <td>2.1</td>\n",
       "    </tr>\n",
       "    <tr>\n",
       "      <th>13117</th>\n",
       "      <td>CLS Class</td>\n",
       "      <td>2019</td>\n",
       "      <td>37990</td>\n",
       "      <td>Automatic</td>\n",
       "      <td>2426</td>\n",
       "      <td>Diesel</td>\n",
       "      <td>145</td>\n",
       "      <td>45.6</td>\n",
       "      <td>2.0</td>\n",
       "    </tr>\n",
       "    <tr>\n",
       "      <th>13118</th>\n",
       "      <td>S Class</td>\n",
       "      <td>2019</td>\n",
       "      <td>54999</td>\n",
       "      <td>Automatic</td>\n",
       "      <td>2075</td>\n",
       "      <td>Diesel</td>\n",
       "      <td>145</td>\n",
       "      <td>52.3</td>\n",
       "      <td>2.9</td>\n",
       "    </tr>\n",
       "  </tbody>\n",
       "</table>\n",
       "<p>13119 rows × 9 columns</p>\n",
       "</div>"
      ],
      "text/plain": [
       "            model  year  price transmission  mileage fuelType  tax   mpg  \\\n",
       "0             SLK  2005   5200    Automatic    63000   Petrol  325  32.1   \n",
       "1         S Class  2017  34948    Automatic    27000   Hybrid   20  61.4   \n",
       "2        SL CLASS  2016  49948    Automatic     6200   Petrol  555  28.0   \n",
       "3         G Class  2016  61948    Automatic    16000   Petrol  325  30.4   \n",
       "4         G Class  2016  73948    Automatic     4000   Petrol  325  30.1   \n",
       "...           ...   ...    ...          ...      ...      ...  ...   ...   \n",
       "13114     C Class  2020  35999    Automatic      500   Diesel  145  55.4   \n",
       "13115     B Class  2020  24699    Automatic     2500   Diesel  145  55.4   \n",
       "13116   GLC Class  2019  30999    Automatic    11612   Diesel  145  41.5   \n",
       "13117   CLS Class  2019  37990    Automatic     2426   Diesel  145  45.6   \n",
       "13118     S Class  2019  54999    Automatic     2075   Diesel  145  52.3   \n",
       "\n",
       "       engineSize  \n",
       "0             1.8  \n",
       "1             2.1  \n",
       "2             5.5  \n",
       "3             4.0  \n",
       "4             4.0  \n",
       "...           ...  \n",
       "13114         2.0  \n",
       "13115         2.0  \n",
       "13116         2.1  \n",
       "13117         2.0  \n",
       "13118         2.9  \n",
       "\n",
       "[13119 rows x 9 columns]"
      ]
     },
     "execution_count": 89,
     "metadata": {},
     "output_type": "execute_result"
    }
   ],
   "source": [
    "df"
   ]
  },
  {
   "cell_type": "code",
   "execution_count": 90,
   "id": "39313ae7",
   "metadata": {},
   "outputs": [
    {
     "data": {
      "text/plain": [
       "array([' A Class', ' B Class', ' C Class', ' CL Class', ' CLA Class',\n",
       "       ' CLC Class', ' CLK', ' CLS Class', ' E Class', ' G Class',\n",
       "       ' GL Class', ' GLA Class', ' GLB Class', ' GLC Class',\n",
       "       ' GLE Class', ' GLS Class', ' M Class', ' R Class', ' S Class',\n",
       "       ' SL CLASS', ' SLK', ' V Class', ' X-CLASS', '180', '200', '220',\n",
       "       '230'], dtype=object)"
      ]
     },
     "execution_count": 90,
     "metadata": {},
     "output_type": "execute_result"
    }
   ],
   "source": [
    "models = df['model'].unique()\n",
    "models.sort()\n",
    "models"
   ]
  },
  {
   "cell_type": "code",
   "execution_count": 94,
   "id": "e4358ca3",
   "metadata": {},
   "outputs": [
    {
     "data": {
      "text/plain": [
       "array([1970, 1997, 1998, 1999, 2000, 2001, 2002, 2003, 2004, 2005, 2006,\n",
       "       2007, 2008, 2009, 2010, 2011, 2012, 2013, 2014, 2015, 2016, 2017,\n",
       "       2018, 2019, 2020])"
      ]
     },
     "execution_count": 94,
     "metadata": {},
     "output_type": "execute_result"
    }
   ],
   "source": [
    "year = df['year'].unique()\n",
    "year.sort()\n",
    "year"
   ]
  },
  {
   "cell_type": "code",
   "execution_count": 95,
   "id": "726a1d79",
   "metadata": {},
   "outputs": [
    {
     "data": {
      "text/plain": [
       "array(['Petrol', 'Hybrid', 'Diesel', 'Other'], dtype=object)"
      ]
     },
     "execution_count": 95,
     "metadata": {},
     "output_type": "execute_result"
    }
   ],
   "source": [
    "df['fuelType'].unique()"
   ]
  },
  {
   "cell_type": "code",
   "execution_count": 96,
   "id": "7315000f",
   "metadata": {},
   "outputs": [
    {
     "data": {
      "text/plain": [
       "model\n",
       " C Class      3747\n",
       " A Class      2561\n",
       " E Class      1953\n",
       " GLC Class     960\n",
       " GLA Class     847\n",
       " B Class       591\n",
       " CL Class      511\n",
       " GLE Class     461\n",
       " SL CLASS      260\n",
       " CLS Class     237\n",
       " V Class       207\n",
       " S Class       197\n",
       " GL Class      121\n",
       " SLK            95\n",
       " CLA Class      86\n",
       " X-CLASS        82\n",
       " M Class        79\n",
       " GLS Class      74\n",
       " GLB Class      19\n",
       " G Class        15\n",
       " CLK             7\n",
       " CLC Class       3\n",
       " R Class         2\n",
       "180              1\n",
       "230              1\n",
       "220              1\n",
       "200              1\n",
       "Name: count, dtype: int64"
      ]
     },
     "execution_count": 96,
     "metadata": {},
     "output_type": "execute_result"
    }
   ],
   "source": [
    "df['model'].value_counts()"
   ]
  },
  {
   "cell_type": "code",
   "execution_count": 97,
   "id": "267b44a4",
   "metadata": {},
   "outputs": [
    {
     "data": {
      "text/plain": [
       "transmission\n",
       "Semi-Auto    6848\n",
       "Automatic    4825\n",
       "Manual       1444\n",
       "Other           2\n",
       "Name: count, dtype: int64"
      ]
     },
     "execution_count": 97,
     "metadata": {},
     "output_type": "execute_result"
    }
   ],
   "source": [
    "df['transmission'].value_counts()"
   ]
  },
  {
   "cell_type": "code",
   "execution_count": 98,
   "id": "bdf9c615",
   "metadata": {},
   "outputs": [
    {
     "data": {
      "text/plain": [
       "array([' SLK', ' S Class', ' SL CLASS', ' G Class', ' GLE Class',\n",
       "       ' GLA Class', ' A Class', ' B Class', ' GLC Class', ' C Class',\n",
       "       ' E Class', ' GL Class', ' CLS Class', ' CLC Class', ' CLA Class',\n",
       "       ' V Class', ' M Class', ' CL Class', ' GLS Class', ' GLB Class',\n",
       "       ' X-CLASS', '180', ' CLK', ' R Class', '230', '220', '200'],\n",
       "      dtype=object)"
      ]
     },
     "execution_count": 98,
     "metadata": {},
     "output_type": "execute_result"
    }
   ],
   "source": [
    "df['model'].unique()"
   ]
  },
  {
   "cell_type": "code",
   "execution_count": 101,
   "id": "ff91f3c5",
   "metadata": {},
   "outputs": [
    {
     "data": {
      "text/plain": [
       "0         True\n",
       "1        False\n",
       "2        False\n",
       "3        False\n",
       "4        False\n",
       "         ...  \n",
       "13114    False\n",
       "13115     True\n",
       "13116    False\n",
       "13117    False\n",
       "13118    False\n",
       "Name: model, Length: 13119, dtype: bool"
      ]
     },
     "execution_count": 101,
     "metadata": {},
     "output_type": "execute_result"
    }
   ],
   "source": [
    "models = [' SLK',' B Class']\n",
    "filter = df['model'].isin(models)\n",
    "filter"
   ]
  },
  {
   "cell_type": "code",
   "execution_count": 105,
   "id": "2773d3fb",
   "metadata": {},
   "outputs": [
    {
     "data": {
      "text/html": [
       "<div>\n",
       "<style scoped>\n",
       "    .dataframe tbody tr th:only-of-type {\n",
       "        vertical-align: middle;\n",
       "    }\n",
       "\n",
       "    .dataframe tbody tr th {\n",
       "        vertical-align: top;\n",
       "    }\n",
       "\n",
       "    .dataframe thead th {\n",
       "        text-align: right;\n",
       "    }\n",
       "</style>\n",
       "<table border=\"1\" class=\"dataframe\">\n",
       "  <thead>\n",
       "    <tr style=\"text-align: right;\">\n",
       "      <th></th>\n",
       "      <th>model</th>\n",
       "      <th>year</th>\n",
       "      <th>price</th>\n",
       "      <th>transmission</th>\n",
       "      <th>mileage</th>\n",
       "      <th>fuelType</th>\n",
       "      <th>tax</th>\n",
       "      <th>mpg</th>\n",
       "      <th>engineSize</th>\n",
       "    </tr>\n",
       "  </thead>\n",
       "  <tbody>\n",
       "    <tr>\n",
       "      <th>0</th>\n",
       "      <td>SLK</td>\n",
       "      <td>2005</td>\n",
       "      <td>5200</td>\n",
       "      <td>Automatic</td>\n",
       "      <td>63000</td>\n",
       "      <td>Petrol</td>\n",
       "      <td>325</td>\n",
       "      <td>32.1</td>\n",
       "      <td>1.8</td>\n",
       "    </tr>\n",
       "    <tr>\n",
       "      <th>12</th>\n",
       "      <td>B Class</td>\n",
       "      <td>2019</td>\n",
       "      <td>23750</td>\n",
       "      <td>Automatic</td>\n",
       "      <td>278</td>\n",
       "      <td>Diesel</td>\n",
       "      <td>145</td>\n",
       "      <td>55.4</td>\n",
       "      <td>2.0</td>\n",
       "    </tr>\n",
       "    <tr>\n",
       "      <th>15</th>\n",
       "      <td>B Class</td>\n",
       "      <td>2017</td>\n",
       "      <td>15890</td>\n",
       "      <td>Automatic</td>\n",
       "      <td>24841</td>\n",
       "      <td>Diesel</td>\n",
       "      <td>150</td>\n",
       "      <td>68.9</td>\n",
       "      <td>1.5</td>\n",
       "    </tr>\n",
       "    <tr>\n",
       "      <th>18</th>\n",
       "      <td>B Class</td>\n",
       "      <td>2017</td>\n",
       "      <td>17513</td>\n",
       "      <td>Automatic</td>\n",
       "      <td>14128</td>\n",
       "      <td>Diesel</td>\n",
       "      <td>150</td>\n",
       "      <td>68.9</td>\n",
       "      <td>2.1</td>\n",
       "    </tr>\n",
       "    <tr>\n",
       "      <th>40</th>\n",
       "      <td>SLK</td>\n",
       "      <td>2014</td>\n",
       "      <td>15990</td>\n",
       "      <td>Automatic</td>\n",
       "      <td>43955</td>\n",
       "      <td>Petrol</td>\n",
       "      <td>205</td>\n",
       "      <td>43.5</td>\n",
       "      <td>1.8</td>\n",
       "    </tr>\n",
       "    <tr>\n",
       "      <th>...</th>\n",
       "      <td>...</td>\n",
       "      <td>...</td>\n",
       "      <td>...</td>\n",
       "      <td>...</td>\n",
       "      <td>...</td>\n",
       "      <td>...</td>\n",
       "      <td>...</td>\n",
       "      <td>...</td>\n",
       "      <td>...</td>\n",
       "    </tr>\n",
       "    <tr>\n",
       "      <th>13033</th>\n",
       "      <td>B Class</td>\n",
       "      <td>2016</td>\n",
       "      <td>14599</td>\n",
       "      <td>Automatic</td>\n",
       "      <td>28156</td>\n",
       "      <td>Diesel</td>\n",
       "      <td>20</td>\n",
       "      <td>68.9</td>\n",
       "      <td>2.1</td>\n",
       "    </tr>\n",
       "    <tr>\n",
       "      <th>13073</th>\n",
       "      <td>B Class</td>\n",
       "      <td>2019</td>\n",
       "      <td>19350</td>\n",
       "      <td>Automatic</td>\n",
       "      <td>13674</td>\n",
       "      <td>Petrol</td>\n",
       "      <td>145</td>\n",
       "      <td>45.6</td>\n",
       "      <td>1.3</td>\n",
       "    </tr>\n",
       "    <tr>\n",
       "      <th>13108</th>\n",
       "      <td>SLK</td>\n",
       "      <td>2016</td>\n",
       "      <td>17499</td>\n",
       "      <td>Automatic</td>\n",
       "      <td>30128</td>\n",
       "      <td>Diesel</td>\n",
       "      <td>30</td>\n",
       "      <td>70.6</td>\n",
       "      <td>2.1</td>\n",
       "    </tr>\n",
       "    <tr>\n",
       "      <th>13111</th>\n",
       "      <td>B Class</td>\n",
       "      <td>2019</td>\n",
       "      <td>19344</td>\n",
       "      <td>Automatic</td>\n",
       "      <td>15257</td>\n",
       "      <td>Petrol</td>\n",
       "      <td>145</td>\n",
       "      <td>45.6</td>\n",
       "      <td>1.3</td>\n",
       "    </tr>\n",
       "    <tr>\n",
       "      <th>13115</th>\n",
       "      <td>B Class</td>\n",
       "      <td>2020</td>\n",
       "      <td>24699</td>\n",
       "      <td>Automatic</td>\n",
       "      <td>2500</td>\n",
       "      <td>Diesel</td>\n",
       "      <td>145</td>\n",
       "      <td>55.4</td>\n",
       "      <td>2.0</td>\n",
       "    </tr>\n",
       "  </tbody>\n",
       "</table>\n",
       "<p>686 rows × 9 columns</p>\n",
       "</div>"
      ],
      "text/plain": [
       "          model  year  price transmission  mileage fuelType  tax   mpg  \\\n",
       "0           SLK  2005   5200    Automatic    63000   Petrol  325  32.1   \n",
       "12      B Class  2019  23750    Automatic      278   Diesel  145  55.4   \n",
       "15      B Class  2017  15890    Automatic    24841   Diesel  150  68.9   \n",
       "18      B Class  2017  17513    Automatic    14128   Diesel  150  68.9   \n",
       "40          SLK  2014  15990    Automatic    43955   Petrol  205  43.5   \n",
       "...         ...   ...    ...          ...      ...      ...  ...   ...   \n",
       "13033   B Class  2016  14599    Automatic    28156   Diesel   20  68.9   \n",
       "13073   B Class  2019  19350    Automatic    13674   Petrol  145  45.6   \n",
       "13108       SLK  2016  17499    Automatic    30128   Diesel   30  70.6   \n",
       "13111   B Class  2019  19344    Automatic    15257   Petrol  145  45.6   \n",
       "13115   B Class  2020  24699    Automatic     2500   Diesel  145  55.4   \n",
       "\n",
       "       engineSize  \n",
       "0             1.8  \n",
       "12            2.0  \n",
       "15            1.5  \n",
       "18            2.1  \n",
       "40            1.8  \n",
       "...           ...  \n",
       "13033         2.1  \n",
       "13073         1.3  \n",
       "13108         2.1  \n",
       "13111         1.3  \n",
       "13115         2.0  \n",
       "\n",
       "[686 rows x 9 columns]"
      ]
     },
     "execution_count": 105,
     "metadata": {},
     "output_type": "execute_result"
    }
   ],
   "source": [
    "df2 = df[filter]\n",
    "df2"
   ]
  },
  {
   "cell_type": "code",
   "execution_count": 110,
   "id": "25239bf8",
   "metadata": {},
   "outputs": [
    {
     "data": {
      "text/html": [
       "<div>\n",
       "<style scoped>\n",
       "    .dataframe tbody tr th:only-of-type {\n",
       "        vertical-align: middle;\n",
       "    }\n",
       "\n",
       "    .dataframe tbody tr th {\n",
       "        vertical-align: top;\n",
       "    }\n",
       "\n",
       "    .dataframe thead th {\n",
       "        text-align: right;\n",
       "    }\n",
       "</style>\n",
       "<table border=\"1\" class=\"dataframe\">\n",
       "  <thead>\n",
       "    <tr style=\"text-align: right;\">\n",
       "      <th></th>\n",
       "      <th>model</th>\n",
       "      <th>year</th>\n",
       "      <th>price</th>\n",
       "      <th>transmission</th>\n",
       "      <th>mileage</th>\n",
       "      <th>fuelType</th>\n",
       "      <th>tax</th>\n",
       "      <th>mpg</th>\n",
       "      <th>engineSize</th>\n",
       "    </tr>\n",
       "  </thead>\n",
       "  <tbody>\n",
       "    <tr>\n",
       "      <th>0</th>\n",
       "      <td>SLK</td>\n",
       "      <td>2005</td>\n",
       "      <td>5200</td>\n",
       "      <td>Automatic</td>\n",
       "      <td>63000</td>\n",
       "      <td>Petrol</td>\n",
       "      <td>325</td>\n",
       "      <td>32.1</td>\n",
       "      <td>1.8</td>\n",
       "    </tr>\n",
       "    <tr>\n",
       "      <th>2</th>\n",
       "      <td>SL CLASS</td>\n",
       "      <td>2016</td>\n",
       "      <td>49948</td>\n",
       "      <td>Automatic</td>\n",
       "      <td>6200</td>\n",
       "      <td>Petrol</td>\n",
       "      <td>555</td>\n",
       "      <td>28.0</td>\n",
       "      <td>5.5</td>\n",
       "    </tr>\n",
       "    <tr>\n",
       "      <th>3</th>\n",
       "      <td>G Class</td>\n",
       "      <td>2016</td>\n",
       "      <td>61948</td>\n",
       "      <td>Automatic</td>\n",
       "      <td>16000</td>\n",
       "      <td>Petrol</td>\n",
       "      <td>325</td>\n",
       "      <td>30.4</td>\n",
       "      <td>4.0</td>\n",
       "    </tr>\n",
       "    <tr>\n",
       "      <th>4</th>\n",
       "      <td>G Class</td>\n",
       "      <td>2016</td>\n",
       "      <td>73948</td>\n",
       "      <td>Automatic</td>\n",
       "      <td>4000</td>\n",
       "      <td>Petrol</td>\n",
       "      <td>325</td>\n",
       "      <td>30.1</td>\n",
       "      <td>4.0</td>\n",
       "    </tr>\n",
       "    <tr>\n",
       "      <th>5</th>\n",
       "      <td>SL CLASS</td>\n",
       "      <td>2011</td>\n",
       "      <td>149948</td>\n",
       "      <td>Automatic</td>\n",
       "      <td>3000</td>\n",
       "      <td>Petrol</td>\n",
       "      <td>570</td>\n",
       "      <td>21.4</td>\n",
       "      <td>6.2</td>\n",
       "    </tr>\n",
       "    <tr>\n",
       "      <th>...</th>\n",
       "      <td>...</td>\n",
       "      <td>...</td>\n",
       "      <td>...</td>\n",
       "      <td>...</td>\n",
       "      <td>...</td>\n",
       "      <td>...</td>\n",
       "      <td>...</td>\n",
       "      <td>...</td>\n",
       "      <td>...</td>\n",
       "    </tr>\n",
       "    <tr>\n",
       "      <th>13114</th>\n",
       "      <td>C Class</td>\n",
       "      <td>2020</td>\n",
       "      <td>35999</td>\n",
       "      <td>Automatic</td>\n",
       "      <td>500</td>\n",
       "      <td>Diesel</td>\n",
       "      <td>145</td>\n",
       "      <td>55.4</td>\n",
       "      <td>2.0</td>\n",
       "    </tr>\n",
       "    <tr>\n",
       "      <th>13115</th>\n",
       "      <td>B Class</td>\n",
       "      <td>2020</td>\n",
       "      <td>24699</td>\n",
       "      <td>Automatic</td>\n",
       "      <td>2500</td>\n",
       "      <td>Diesel</td>\n",
       "      <td>145</td>\n",
       "      <td>55.4</td>\n",
       "      <td>2.0</td>\n",
       "    </tr>\n",
       "    <tr>\n",
       "      <th>13116</th>\n",
       "      <td>GLC Class</td>\n",
       "      <td>2019</td>\n",
       "      <td>30999</td>\n",
       "      <td>Automatic</td>\n",
       "      <td>11612</td>\n",
       "      <td>Diesel</td>\n",
       "      <td>145</td>\n",
       "      <td>41.5</td>\n",
       "      <td>2.1</td>\n",
       "    </tr>\n",
       "    <tr>\n",
       "      <th>13117</th>\n",
       "      <td>CLS Class</td>\n",
       "      <td>2019</td>\n",
       "      <td>37990</td>\n",
       "      <td>Automatic</td>\n",
       "      <td>2426</td>\n",
       "      <td>Diesel</td>\n",
       "      <td>145</td>\n",
       "      <td>45.6</td>\n",
       "      <td>2.0</td>\n",
       "    </tr>\n",
       "    <tr>\n",
       "      <th>13118</th>\n",
       "      <td>S Class</td>\n",
       "      <td>2019</td>\n",
       "      <td>54999</td>\n",
       "      <td>Automatic</td>\n",
       "      <td>2075</td>\n",
       "      <td>Diesel</td>\n",
       "      <td>145</td>\n",
       "      <td>52.3</td>\n",
       "      <td>2.9</td>\n",
       "    </tr>\n",
       "  </tbody>\n",
       "</table>\n",
       "<p>12939 rows × 9 columns</p>\n",
       "</div>"
      ],
      "text/plain": [
       "            model  year   price transmission  mileage fuelType  tax   mpg  \\\n",
       "0             SLK  2005    5200    Automatic    63000   Petrol  325  32.1   \n",
       "2        SL CLASS  2016   49948    Automatic     6200   Petrol  555  28.0   \n",
       "3         G Class  2016   61948    Automatic    16000   Petrol  325  30.4   \n",
       "4         G Class  2016   73948    Automatic     4000   Petrol  325  30.1   \n",
       "5        SL CLASS  2011  149948    Automatic     3000   Petrol  570  21.4   \n",
       "...           ...   ...     ...          ...      ...      ...  ...   ...   \n",
       "13114     C Class  2020   35999    Automatic      500   Diesel  145  55.4   \n",
       "13115     B Class  2020   24699    Automatic     2500   Diesel  145  55.4   \n",
       "13116   GLC Class  2019   30999    Automatic    11612   Diesel  145  41.5   \n",
       "13117   CLS Class  2019   37990    Automatic     2426   Diesel  145  45.6   \n",
       "13118     S Class  2019   54999    Automatic     2075   Diesel  145  52.3   \n",
       "\n",
       "       engineSize  \n",
       "0             1.8  \n",
       "2             5.5  \n",
       "3             4.0  \n",
       "4             4.0  \n",
       "5             6.2  \n",
       "...           ...  \n",
       "13114         2.0  \n",
       "13115         2.0  \n",
       "13116         2.1  \n",
       "13117         2.0  \n",
       "13118         2.9  \n",
       "\n",
       "[12939 rows x 9 columns]"
      ]
     },
     "execution_count": 110,
     "metadata": {},
     "output_type": "execute_result"
    }
   ],
   "source": [
    "filter = df['fuelType'].isin(['Diesel','Petrol'])\n",
    "df[filter]"
   ]
  },
  {
   "cell_type": "code",
   "execution_count": 118,
   "id": "9575a156",
   "metadata": {},
   "outputs": [
    {
     "data": {
      "text/html": [
       "<div>\n",
       "<style scoped>\n",
       "    .dataframe tbody tr th:only-of-type {\n",
       "        vertical-align: middle;\n",
       "    }\n",
       "\n",
       "    .dataframe tbody tr th {\n",
       "        vertical-align: top;\n",
       "    }\n",
       "\n",
       "    .dataframe thead th {\n",
       "        text-align: right;\n",
       "    }\n",
       "</style>\n",
       "<table border=\"1\" class=\"dataframe\">\n",
       "  <thead>\n",
       "    <tr style=\"text-align: right;\">\n",
       "      <th></th>\n",
       "      <th>model</th>\n",
       "      <th>year</th>\n",
       "      <th>price</th>\n",
       "      <th>transmission</th>\n",
       "      <th>mileage</th>\n",
       "      <th>fuelType</th>\n",
       "      <th>tax</th>\n",
       "      <th>mpg</th>\n",
       "      <th>engineSize</th>\n",
       "    </tr>\n",
       "  </thead>\n",
       "  <tbody>\n",
       "    <tr>\n",
       "      <th>86</th>\n",
       "      <td>A Class</td>\n",
       "      <td>2018</td>\n",
       "      <td>18220</td>\n",
       "      <td>Automatic</td>\n",
       "      <td>10361</td>\n",
       "      <td>Diesel</td>\n",
       "      <td>145</td>\n",
       "      <td>68.9</td>\n",
       "      <td>1.5</td>\n",
       "    </tr>\n",
       "    <tr>\n",
       "      <th>89</th>\n",
       "      <td>A Class</td>\n",
       "      <td>2019</td>\n",
       "      <td>18118</td>\n",
       "      <td>Automatic</td>\n",
       "      <td>15561</td>\n",
       "      <td>Diesel</td>\n",
       "      <td>145</td>\n",
       "      <td>68.9</td>\n",
       "      <td>1.5</td>\n",
       "    </tr>\n",
       "    <tr>\n",
       "      <th>90</th>\n",
       "      <td>A Class</td>\n",
       "      <td>2019</td>\n",
       "      <td>17990</td>\n",
       "      <td>Automatic</td>\n",
       "      <td>14783</td>\n",
       "      <td>Diesel</td>\n",
       "      <td>145</td>\n",
       "      <td>65.7</td>\n",
       "      <td>1.5</td>\n",
       "    </tr>\n",
       "    <tr>\n",
       "      <th>92</th>\n",
       "      <td>A Class</td>\n",
       "      <td>2018</td>\n",
       "      <td>18888</td>\n",
       "      <td>Automatic</td>\n",
       "      <td>11565</td>\n",
       "      <td>Diesel</td>\n",
       "      <td>145</td>\n",
       "      <td>67.3</td>\n",
       "      <td>1.5</td>\n",
       "    </tr>\n",
       "    <tr>\n",
       "      <th>93</th>\n",
       "      <td>A Class</td>\n",
       "      <td>2019</td>\n",
       "      <td>19840</td>\n",
       "      <td>Automatic</td>\n",
       "      <td>6781</td>\n",
       "      <td>Petrol</td>\n",
       "      <td>145</td>\n",
       "      <td>28.5</td>\n",
       "      <td>1.3</td>\n",
       "    </tr>\n",
       "    <tr>\n",
       "      <th>...</th>\n",
       "      <td>...</td>\n",
       "      <td>...</td>\n",
       "      <td>...</td>\n",
       "      <td>...</td>\n",
       "      <td>...</td>\n",
       "      <td>...</td>\n",
       "      <td>...</td>\n",
       "      <td>...</td>\n",
       "      <td>...</td>\n",
       "    </tr>\n",
       "    <tr>\n",
       "      <th>13000</th>\n",
       "      <td>A Class</td>\n",
       "      <td>2018</td>\n",
       "      <td>16500</td>\n",
       "      <td>Semi-Auto</td>\n",
       "      <td>14289</td>\n",
       "      <td>Petrol</td>\n",
       "      <td>150</td>\n",
       "      <td>49.6</td>\n",
       "      <td>1.6</td>\n",
       "    </tr>\n",
       "    <tr>\n",
       "      <th>13013</th>\n",
       "      <td>B Class</td>\n",
       "      <td>2018</td>\n",
       "      <td>17995</td>\n",
       "      <td>Automatic</td>\n",
       "      <td>6025</td>\n",
       "      <td>Diesel</td>\n",
       "      <td>145</td>\n",
       "      <td>68.9</td>\n",
       "      <td>2.1</td>\n",
       "    </tr>\n",
       "    <tr>\n",
       "      <th>13018</th>\n",
       "      <td>A Class</td>\n",
       "      <td>2018</td>\n",
       "      <td>17600</td>\n",
       "      <td>Automatic</td>\n",
       "      <td>15893</td>\n",
       "      <td>Petrol</td>\n",
       "      <td>145</td>\n",
       "      <td>52.3</td>\n",
       "      <td>1.6</td>\n",
       "    </tr>\n",
       "    <tr>\n",
       "      <th>13073</th>\n",
       "      <td>B Class</td>\n",
       "      <td>2019</td>\n",
       "      <td>19350</td>\n",
       "      <td>Automatic</td>\n",
       "      <td>13674</td>\n",
       "      <td>Petrol</td>\n",
       "      <td>145</td>\n",
       "      <td>45.6</td>\n",
       "      <td>1.3</td>\n",
       "    </tr>\n",
       "    <tr>\n",
       "      <th>13111</th>\n",
       "      <td>B Class</td>\n",
       "      <td>2019</td>\n",
       "      <td>19344</td>\n",
       "      <td>Automatic</td>\n",
       "      <td>15257</td>\n",
       "      <td>Petrol</td>\n",
       "      <td>145</td>\n",
       "      <td>45.6</td>\n",
       "      <td>1.3</td>\n",
       "    </tr>\n",
       "  </tbody>\n",
       "</table>\n",
       "<p>687 rows × 9 columns</p>\n",
       "</div>"
      ],
      "text/plain": [
       "          model  year  price transmission  mileage fuelType  tax   mpg  \\\n",
       "86      A Class  2018  18220    Automatic    10361   Diesel  145  68.9   \n",
       "89      A Class  2019  18118    Automatic    15561   Diesel  145  68.9   \n",
       "90      A Class  2019  17990    Automatic    14783   Diesel  145  65.7   \n",
       "92      A Class  2018  18888    Automatic    11565   Diesel  145  67.3   \n",
       "93      A Class  2019  19840    Automatic     6781   Petrol  145  28.5   \n",
       "...         ...   ...    ...          ...      ...      ...  ...   ...   \n",
       "13000   A Class  2018  16500    Semi-Auto    14289   Petrol  150  49.6   \n",
       "13013   B Class  2018  17995    Automatic     6025   Diesel  145  68.9   \n",
       "13018   A Class  2018  17600    Automatic    15893   Petrol  145  52.3   \n",
       "13073   B Class  2019  19350    Automatic    13674   Petrol  145  45.6   \n",
       "13111   B Class  2019  19344    Automatic    15257   Petrol  145  45.6   \n",
       "\n",
       "       engineSize  \n",
       "86            1.5  \n",
       "89            1.5  \n",
       "90            1.5  \n",
       "92            1.5  \n",
       "93            1.3  \n",
       "...           ...  \n",
       "13000         1.6  \n",
       "13013         2.1  \n",
       "13018         1.6  \n",
       "13073         1.3  \n",
       "13111         1.3  \n",
       "\n",
       "[687 rows x 9 columns]"
      ]
     },
     "execution_count": 118,
     "metadata": {},
     "output_type": "execute_result"
    }
   ],
   "source": [
    "df3 = df[(df.year >= 2018) & (df.price<20_000) & (df.mileage < 30_000)]\n",
    "df3"
   ]
  },
  {
   "cell_type": "code",
   "execution_count": 121,
   "id": "7f338b93",
   "metadata": {},
   "outputs": [
    {
     "data": {
      "text/html": [
       "<div>\n",
       "<style scoped>\n",
       "    .dataframe tbody tr th:only-of-type {\n",
       "        vertical-align: middle;\n",
       "    }\n",
       "\n",
       "    .dataframe tbody tr th {\n",
       "        vertical-align: top;\n",
       "    }\n",
       "\n",
       "    .dataframe thead th {\n",
       "        text-align: right;\n",
       "    }\n",
       "</style>\n",
       "<table border=\"1\" class=\"dataframe\">\n",
       "  <thead>\n",
       "    <tr style=\"text-align: right;\">\n",
       "      <th></th>\n",
       "      <th>model</th>\n",
       "      <th>year</th>\n",
       "      <th>price</th>\n",
       "      <th>transmission</th>\n",
       "      <th>mileage</th>\n",
       "      <th>fuelType</th>\n",
       "      <th>tax</th>\n",
       "      <th>mpg</th>\n",
       "      <th>engineSize</th>\n",
       "    </tr>\n",
       "  </thead>\n",
       "  <tbody>\n",
       "    <tr>\n",
       "      <th>0</th>\n",
       "      <td>SLK</td>\n",
       "      <td>2005</td>\n",
       "      <td>5200</td>\n",
       "      <td>Automatic</td>\n",
       "      <td>63000</td>\n",
       "      <td>Petrol</td>\n",
       "      <td>325</td>\n",
       "      <td>32.1</td>\n",
       "      <td>1.8</td>\n",
       "    </tr>\n",
       "    <tr>\n",
       "      <th>1</th>\n",
       "      <td>S Class</td>\n",
       "      <td>2017</td>\n",
       "      <td>34948</td>\n",
       "      <td>Automatic</td>\n",
       "      <td>27000</td>\n",
       "      <td>Hybrid</td>\n",
       "      <td>20</td>\n",
       "      <td>61.4</td>\n",
       "      <td>2.1</td>\n",
       "    </tr>\n",
       "    <tr>\n",
       "      <th>2</th>\n",
       "      <td>SL CLASS</td>\n",
       "      <td>2016</td>\n",
       "      <td>49948</td>\n",
       "      <td>Automatic</td>\n",
       "      <td>6200</td>\n",
       "      <td>Petrol</td>\n",
       "      <td>555</td>\n",
       "      <td>28.0</td>\n",
       "      <td>5.5</td>\n",
       "    </tr>\n",
       "    <tr>\n",
       "      <th>3</th>\n",
       "      <td>G Class</td>\n",
       "      <td>2016</td>\n",
       "      <td>61948</td>\n",
       "      <td>Automatic</td>\n",
       "      <td>16000</td>\n",
       "      <td>Petrol</td>\n",
       "      <td>325</td>\n",
       "      <td>30.4</td>\n",
       "      <td>4.0</td>\n",
       "    </tr>\n",
       "    <tr>\n",
       "      <th>4</th>\n",
       "      <td>G Class</td>\n",
       "      <td>2016</td>\n",
       "      <td>73948</td>\n",
       "      <td>Automatic</td>\n",
       "      <td>4000</td>\n",
       "      <td>Petrol</td>\n",
       "      <td>325</td>\n",
       "      <td>30.1</td>\n",
       "      <td>4.0</td>\n",
       "    </tr>\n",
       "    <tr>\n",
       "      <th>...</th>\n",
       "      <td>...</td>\n",
       "      <td>...</td>\n",
       "      <td>...</td>\n",
       "      <td>...</td>\n",
       "      <td>...</td>\n",
       "      <td>...</td>\n",
       "      <td>...</td>\n",
       "      <td>...</td>\n",
       "      <td>...</td>\n",
       "    </tr>\n",
       "    <tr>\n",
       "      <th>13114</th>\n",
       "      <td>C Class</td>\n",
       "      <td>2020</td>\n",
       "      <td>35999</td>\n",
       "      <td>Automatic</td>\n",
       "      <td>500</td>\n",
       "      <td>Diesel</td>\n",
       "      <td>145</td>\n",
       "      <td>55.4</td>\n",
       "      <td>2.0</td>\n",
       "    </tr>\n",
       "    <tr>\n",
       "      <th>13115</th>\n",
       "      <td>B Class</td>\n",
       "      <td>2020</td>\n",
       "      <td>24699</td>\n",
       "      <td>Automatic</td>\n",
       "      <td>2500</td>\n",
       "      <td>Diesel</td>\n",
       "      <td>145</td>\n",
       "      <td>55.4</td>\n",
       "      <td>2.0</td>\n",
       "    </tr>\n",
       "    <tr>\n",
       "      <th>13116</th>\n",
       "      <td>GLC Class</td>\n",
       "      <td>2019</td>\n",
       "      <td>30999</td>\n",
       "      <td>Automatic</td>\n",
       "      <td>11612</td>\n",
       "      <td>Diesel</td>\n",
       "      <td>145</td>\n",
       "      <td>41.5</td>\n",
       "      <td>2.1</td>\n",
       "    </tr>\n",
       "    <tr>\n",
       "      <th>13117</th>\n",
       "      <td>CLS Class</td>\n",
       "      <td>2019</td>\n",
       "      <td>37990</td>\n",
       "      <td>Automatic</td>\n",
       "      <td>2426</td>\n",
       "      <td>Diesel</td>\n",
       "      <td>145</td>\n",
       "      <td>45.6</td>\n",
       "      <td>2.0</td>\n",
       "    </tr>\n",
       "    <tr>\n",
       "      <th>13118</th>\n",
       "      <td>S Class</td>\n",
       "      <td>2019</td>\n",
       "      <td>54999</td>\n",
       "      <td>Automatic</td>\n",
       "      <td>2075</td>\n",
       "      <td>Diesel</td>\n",
       "      <td>145</td>\n",
       "      <td>52.3</td>\n",
       "      <td>2.9</td>\n",
       "    </tr>\n",
       "  </tbody>\n",
       "</table>\n",
       "<p>4825 rows × 9 columns</p>\n",
       "</div>"
      ],
      "text/plain": [
       "            model  year  price transmission  mileage fuelType  tax   mpg  \\\n",
       "0             SLK  2005   5200    Automatic    63000   Petrol  325  32.1   \n",
       "1         S Class  2017  34948    Automatic    27000   Hybrid   20  61.4   \n",
       "2        SL CLASS  2016  49948    Automatic     6200   Petrol  555  28.0   \n",
       "3         G Class  2016  61948    Automatic    16000   Petrol  325  30.4   \n",
       "4         G Class  2016  73948    Automatic     4000   Petrol  325  30.1   \n",
       "...           ...   ...    ...          ...      ...      ...  ...   ...   \n",
       "13114     C Class  2020  35999    Automatic      500   Diesel  145  55.4   \n",
       "13115     B Class  2020  24699    Automatic     2500   Diesel  145  55.4   \n",
       "13116   GLC Class  2019  30999    Automatic    11612   Diesel  145  41.5   \n",
       "13117   CLS Class  2019  37990    Automatic     2426   Diesel  145  45.6   \n",
       "13118     S Class  2019  54999    Automatic     2075   Diesel  145  52.3   \n",
       "\n",
       "       engineSize  \n",
       "0             1.8  \n",
       "1             2.1  \n",
       "2             5.5  \n",
       "3             4.0  \n",
       "4             4.0  \n",
       "...           ...  \n",
       "13114         2.0  \n",
       "13115         2.0  \n",
       "13116         2.1  \n",
       "13117         2.0  \n",
       "13118         2.9  \n",
       "\n",
       "[4825 rows x 9 columns]"
      ]
     },
     "execution_count": 121,
     "metadata": {},
     "output_type": "execute_result"
    }
   ],
   "source": [
    "df[df.transmission == 'Automatic']"
   ]
  },
  {
   "cell_type": "code",
   "execution_count": null,
   "id": "941f5045",
   "metadata": {},
   "outputs": [],
   "source": []
  }
 ],
 "metadata": {
  "kernelspec": {
   "display_name": "Python 3",
   "language": "python",
   "name": "python3"
  },
  "language_info": {
   "codemirror_mode": {
    "name": "ipython",
    "version": 3
   },
   "file_extension": ".py",
   "mimetype": "text/x-python",
   "name": "python",
   "nbconvert_exporter": "python",
   "pygments_lexer": "ipython3",
   "version": "3.12.10"
  }
 },
 "nbformat": 4,
 "nbformat_minor": 5
}
