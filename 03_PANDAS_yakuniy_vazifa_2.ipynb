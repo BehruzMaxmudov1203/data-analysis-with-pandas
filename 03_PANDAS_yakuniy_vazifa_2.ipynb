{
  "cells": [
    {
      "cell_type": "markdown",
      "id": "55ee427a",
      "metadata": {
        "id": "55ee427a",
        "nbgrader": {
          "grade": false,
          "grade_id": "cell-7c18a5620a3693dd",
          "locked": true,
          "schema_version": 3,
          "solution": false,
          "task": false
        }
      },
      "source": [
        "# Ma'lumotlar tahlili. Pandas kutubxonasi.\n",
        "\n",
        "### PANDAS. Yakuniy vazifa. **2-Qism**"
      ]
    },
    {
      "cell_type": "markdown",
      "id": "a3382e79",
      "metadata": {
        "id": "a3382e79",
        "nbgrader": {
          "grade": false,
          "grade_id": "cell-d9d85beb7be29b95",
          "locked": true,
          "schema_version": 3,
          "solution": false,
          "task": false
        }
      },
      "source": [
        "## Dataset\n",
        "#### Ushbu vazifada biz turli davlatlarning turli yillarda elektr tokini qanday manbaalardan olganini ko'rsatuvchi jadval bilan ishlaymiz.\n",
        "Jadval ustunlari ko'mir, gaz, gidro va boshqa manbaalardan ko'rsatilgan yilda qancha __terravat/soat__ energiya olinganini ko'rsatadi."
      ]
    },
    {
      "cell_type": "code",
      "execution_count": 1,
      "id": "778cb7a4",
      "metadata": {
        "id": "778cb7a4",
        "nbgrader": {
          "grade": false,
          "grade_id": "cell-188a84060ed5be1a",
          "locked": true,
          "schema_version": 3,
          "solution": false,
          "task": false
        }
      },
      "outputs": [],
      "source": [
        "import pandas as pd\n",
        "import numpy as np"
      ]
    },
    {
      "cell_type": "code",
      "execution_count": null,
      "id": "81d96d9e",
      "metadata": {
        "colab": {
          "base_uri": "https://localhost:8080/",
          "height": 204
        },
        "id": "81d96d9e",
        "nbgrader": {
          "grade": false,
          "grade_id": "cell-9ef8511fb2888be3",
          "locked": true,
          "schema_version": 3,
          "solution": false,
          "task": false
        },
        "outputId": "9e0eb10c-b584-4b1c-ef14-cd401e0b4042"
      },
      "outputs": [
        {
          "data": {
            "text/html": [
              "<div>\n",
              "<style scoped>\n",
              "    .dataframe tbody tr th:only-of-type {\n",
              "        vertical-align: middle;\n",
              "    }\n",
              "\n",
              "    .dataframe tbody tr th {\n",
              "        vertical-align: top;\n",
              "    }\n",
              "\n",
              "    .dataframe thead th {\n",
              "        text-align: right;\n",
              "    }\n",
              "</style>\n",
              "<table border=\"1\" class=\"dataframe\">\n",
              "  <thead>\n",
              "    <tr style=\"text-align: right;\">\n",
              "      <th></th>\n",
              "      <th>davlat</th>\n",
              "      <th>kod</th>\n",
              "      <th>yil</th>\n",
              "      <th>komir</th>\n",
              "      <th>gaz</th>\n",
              "      <th>gidro</th>\n",
              "      <th>yangilanuvchi</th>\n",
              "      <th>quyosh</th>\n",
              "      <th>neft</th>\n",
              "      <th>shamol</th>\n",
              "      <th>atom</th>\n",
              "    </tr>\n",
              "  </thead>\n",
              "  <tbody>\n",
              "    <tr>\n",
              "      <th>0</th>\n",
              "      <td>Afghanistan</td>\n",
              "      <td>AFG</td>\n",
              "      <td>2000</td>\n",
              "      <td>0.0</td>\n",
              "      <td>0.155</td>\n",
              "      <td>0.312</td>\n",
              "      <td>0.0</td>\n",
              "      <td>0.0</td>\n",
              "      <td>0.0</td>\n",
              "      <td>0.0</td>\n",
              "      <td>0.0</td>\n",
              "    </tr>\n",
              "    <tr>\n",
              "      <th>1</th>\n",
              "      <td>Afghanistan</td>\n",
              "      <td>AFG</td>\n",
              "      <td>2001</td>\n",
              "      <td>0.0</td>\n",
              "      <td>0.094</td>\n",
              "      <td>0.498</td>\n",
              "      <td>0.0</td>\n",
              "      <td>0.0</td>\n",
              "      <td>0.0</td>\n",
              "      <td>0.0</td>\n",
              "      <td>0.0</td>\n",
              "    </tr>\n",
              "    <tr>\n",
              "      <th>2</th>\n",
              "      <td>Afghanistan</td>\n",
              "      <td>AFG</td>\n",
              "      <td>2002</td>\n",
              "      <td>0.0</td>\n",
              "      <td>0.132</td>\n",
              "      <td>0.555</td>\n",
              "      <td>0.0</td>\n",
              "      <td>0.0</td>\n",
              "      <td>0.0</td>\n",
              "      <td>0.0</td>\n",
              "      <td>0.0</td>\n",
              "    </tr>\n",
              "    <tr>\n",
              "      <th>3</th>\n",
              "      <td>Afghanistan</td>\n",
              "      <td>AFG</td>\n",
              "      <td>2003</td>\n",
              "      <td>0.0</td>\n",
              "      <td>0.309</td>\n",
              "      <td>0.630</td>\n",
              "      <td>0.0</td>\n",
              "      <td>0.0</td>\n",
              "      <td>0.0</td>\n",
              "      <td>0.0</td>\n",
              "      <td>0.0</td>\n",
              "    </tr>\n",
              "    <tr>\n",
              "      <th>4</th>\n",
              "      <td>Afghanistan</td>\n",
              "      <td>AFG</td>\n",
              "      <td>2004</td>\n",
              "      <td>0.0</td>\n",
              "      <td>0.329</td>\n",
              "      <td>0.565</td>\n",
              "      <td>0.0</td>\n",
              "      <td>0.0</td>\n",
              "      <td>0.0</td>\n",
              "      <td>0.0</td>\n",
              "      <td>0.0</td>\n",
              "    </tr>\n",
              "  </tbody>\n",
              "</table>\n",
              "</div>"
            ],
            "text/plain": [
              "        davlat  kod   yil  komir    gaz  gidro  yangilanuvchi  quyosh  neft  \\\n",
              "0  Afghanistan  AFG  2000    0.0  0.155  0.312            0.0     0.0   0.0   \n",
              "1  Afghanistan  AFG  2001    0.0  0.094  0.498            0.0     0.0   0.0   \n",
              "2  Afghanistan  AFG  2002    0.0  0.132  0.555            0.0     0.0   0.0   \n",
              "3  Afghanistan  AFG  2003    0.0  0.309  0.630            0.0     0.0   0.0   \n",
              "4  Afghanistan  AFG  2004    0.0  0.329  0.565            0.0     0.0   0.0   \n",
              "\n",
              "   shamol  atom  \n",
              "0     0.0   0.0  \n",
              "1     0.0   0.0  \n",
              "2     0.0   0.0  \n",
              "3     0.0   0.0  \n",
              "4     0.0   0.0  "
            ]
          },
          "execution_count": 2,
          "metadata": {},
          "output_type": "execute_result"
        }
      ],
      "source": [
        "df = pd.read_csv(\"https://raw.githubusercontent.com/anvarnarz/praktikum_datasets/main/Electricity_Production_By_Source.csv\")\n",
        "df.columns = ['davlat','kod','yil','komir','gaz','gidro','yangilanuvchi','quyosh','neft','shamol','atom']\n",
        "df.head()"
      ]
    },
    {
      "cell_type": "markdown",
      "id": "y3vYa8VGlmUa",
      "metadata": {
        "id": "y3vYa8VGlmUa"
      },
      "source": [
        "### 1-VAZIFA. DF hajmini chiqaring"
      ]
    },
    {
      "cell_type": "code",
      "execution_count": 5,
      "id": "88903798",
      "metadata": {
        "id": "88903798",
        "nbgrader": {
          "grade": false,
          "grade_id": "cell-327bf8fd29747b3c",
          "locked": false,
          "schema_version": 3,
          "solution": true,
          "task": false
        }
      },
      "outputs": [
        {
          "data": {
            "text/plain": [
              "68651"
            ]
          },
          "execution_count": 5,
          "metadata": {},
          "output_type": "execute_result"
        }
      ],
      "source": [
        "# JAVOBNI SHUYERGA YOZING\n",
        "df.size"
      ]
    },
    {
      "cell_type": "markdown",
      "id": "QmX4iTLSl4sI",
      "metadata": {
        "id": "QmX4iTLSl4sI"
      },
      "source": [
        "### 2-VAZIFA. Jadvalda mavjud davlatlar ro'yxatini alohida chiqaring"
      ]
    },
    {
      "cell_type": "code",
      "execution_count": 8,
      "id": "wvIouZCpl4Wk",
      "metadata": {
        "id": "wvIouZCpl4Wk"
      },
      "outputs": [
        {
          "data": {
            "text/html": [
              "<div>\n",
              "<style scoped>\n",
              "    .dataframe tbody tr th:only-of-type {\n",
              "        vertical-align: middle;\n",
              "    }\n",
              "\n",
              "    .dataframe tbody tr th {\n",
              "        vertical-align: top;\n",
              "    }\n",
              "\n",
              "    .dataframe thead th {\n",
              "        text-align: right;\n",
              "    }\n",
              "</style>\n",
              "<table border=\"1\" class=\"dataframe\">\n",
              "  <thead>\n",
              "    <tr style=\"text-align: right;\">\n",
              "      <th></th>\n",
              "      <th>davlat</th>\n",
              "    </tr>\n",
              "  </thead>\n",
              "  <tbody>\n",
              "    <tr>\n",
              "      <th>0</th>\n",
              "      <td>Afghanistan</td>\n",
              "    </tr>\n",
              "    <tr>\n",
              "      <th>1</th>\n",
              "      <td>Afghanistan</td>\n",
              "    </tr>\n",
              "    <tr>\n",
              "      <th>2</th>\n",
              "      <td>Afghanistan</td>\n",
              "    </tr>\n",
              "    <tr>\n",
              "      <th>3</th>\n",
              "      <td>Afghanistan</td>\n",
              "    </tr>\n",
              "    <tr>\n",
              "      <th>4</th>\n",
              "      <td>Afghanistan</td>\n",
              "    </tr>\n",
              "  </tbody>\n",
              "</table>\n",
              "</div>"
            ],
            "text/plain": [
              "        davlat\n",
              "0  Afghanistan\n",
              "1  Afghanistan\n",
              "2  Afghanistan\n",
              "3  Afghanistan\n",
              "4  Afghanistan"
            ]
          },
          "execution_count": 8,
          "metadata": {},
          "output_type": "execute_result"
        }
      ],
      "source": [
        "# JAVOBNI SHUYERGA YOZING\n",
        "new_df = df[['davlat']]\n",
        "new_df.head()"
      ]
    },
    {
      "cell_type": "markdown",
      "id": "juvJkfLamTdp",
      "metadata": {
        "id": "juvJkfLamTdp"
      },
      "source": [
        "### 3-VAZIFA. DF dan faqat AQSh (`United States`) uchun ma'lumotlarni ajratib oling va yangi `dfus` nomli o'zgaruvchiga saqlang"
      ]
    },
    {
      "cell_type": "code",
      "execution_count": 12,
      "id": "fg1psVqImcO_",
      "metadata": {
        "id": "fg1psVqImcO_"
      },
      "outputs": [
        {
          "data": {
            "text/html": [
              "<div>\n",
              "<style scoped>\n",
              "    .dataframe tbody tr th:only-of-type {\n",
              "        vertical-align: middle;\n",
              "    }\n",
              "\n",
              "    .dataframe tbody tr th {\n",
              "        vertical-align: top;\n",
              "    }\n",
              "\n",
              "    .dataframe thead th {\n",
              "        text-align: right;\n",
              "    }\n",
              "</style>\n",
              "<table border=\"1\" class=\"dataframe\">\n",
              "  <thead>\n",
              "    <tr style=\"text-align: right;\">\n",
              "      <th></th>\n",
              "      <th>davlat</th>\n",
              "      <th>kod</th>\n",
              "      <th>yil</th>\n",
              "      <th>komir</th>\n",
              "      <th>gaz</th>\n",
              "      <th>gidro</th>\n",
              "      <th>yangilanuvchi</th>\n",
              "      <th>quyosh</th>\n",
              "      <th>neft</th>\n",
              "      <th>shamol</th>\n",
              "      <th>atom</th>\n",
              "    </tr>\n",
              "  </thead>\n",
              "  <tbody>\n",
              "    <tr>\n",
              "      <th>5887</th>\n",
              "      <td>United States</td>\n",
              "      <td>USA</td>\n",
              "      <td>1985</td>\n",
              "      <td>1507.664651</td>\n",
              "      <td>313.920392</td>\n",
              "      <td>287.182362</td>\n",
              "      <td>36.392894</td>\n",
              "      <td>0.010737</td>\n",
              "      <td>107.744380</td>\n",
              "      <td>0.005820</td>\n",
              "      <td>403.884976</td>\n",
              "    </tr>\n",
              "    <tr>\n",
              "      <th>5888</th>\n",
              "      <td>United States</td>\n",
              "      <td>USA</td>\n",
              "      <td>1986</td>\n",
              "      <td>1490.141346</td>\n",
              "      <td>267.213369</td>\n",
              "      <td>296.974969</td>\n",
              "      <td>38.701672</td>\n",
              "      <td>0.014174</td>\n",
              "      <td>146.865448</td>\n",
              "      <td>0.004231</td>\n",
              "      <td>435.829540</td>\n",
              "    </tr>\n",
              "    <tr>\n",
              "      <th>5889</th>\n",
              "      <td>United States</td>\n",
              "      <td>USA</td>\n",
              "      <td>1987</td>\n",
              "      <td>1573.958375</td>\n",
              "      <td>293.140648</td>\n",
              "      <td>255.410195</td>\n",
              "      <td>42.665433</td>\n",
              "      <td>0.010603</td>\n",
              "      <td>127.411367</td>\n",
              "      <td>0.003577</td>\n",
              "      <td>479.231981</td>\n",
              "    </tr>\n",
              "    <tr>\n",
              "      <th>5890</th>\n",
              "      <td>United States</td>\n",
              "      <td>USA</td>\n",
              "      <td>1988</td>\n",
              "      <td>1656.615886</td>\n",
              "      <td>271.828714</td>\n",
              "      <td>228.384649</td>\n",
              "      <td>42.394061</td>\n",
              "      <td>0.009186</td>\n",
              "      <td>160.107055</td>\n",
              "      <td>0.000880</td>\n",
              "      <td>554.708470</td>\n",
              "    </tr>\n",
              "    <tr>\n",
              "      <th>5891</th>\n",
              "      <td>United States</td>\n",
              "      <td>USA</td>\n",
              "      <td>1989</td>\n",
              "      <td>1711.442534</td>\n",
              "      <td>379.170824</td>\n",
              "      <td>274.724178</td>\n",
              "      <td>48.854268</td>\n",
              "      <td>0.253132</td>\n",
              "      <td>176.729591</td>\n",
              "      <td>2.133377</td>\n",
              "      <td>557.215492</td>\n",
              "    </tr>\n",
              "  </tbody>\n",
              "</table>\n",
              "</div>"
            ],
            "text/plain": [
              "             davlat  kod   yil        komir         gaz       gidro  \\\n",
              "5887  United States  USA  1985  1507.664651  313.920392  287.182362   \n",
              "5888  United States  USA  1986  1490.141346  267.213369  296.974969   \n",
              "5889  United States  USA  1987  1573.958375  293.140648  255.410195   \n",
              "5890  United States  USA  1988  1656.615886  271.828714  228.384649   \n",
              "5891  United States  USA  1989  1711.442534  379.170824  274.724178   \n",
              "\n",
              "      yangilanuvchi    quyosh        neft    shamol        atom  \n",
              "5887      36.392894  0.010737  107.744380  0.005820  403.884976  \n",
              "5888      38.701672  0.014174  146.865448  0.004231  435.829540  \n",
              "5889      42.665433  0.010603  127.411367  0.003577  479.231981  \n",
              "5890      42.394061  0.009186  160.107055  0.000880  554.708470  \n",
              "5891      48.854268  0.253132  176.729591  2.133377  557.215492  "
            ]
          },
          "execution_count": 12,
          "metadata": {},
          "output_type": "execute_result"
        }
      ],
      "source": [
        "# JAVOBNI SHUYERGA YOZING\n",
        "dfus = df[df['davlat'] == 'United States']\n",
        "dfus.head()"
      ]
    },
    {
      "cell_type": "code",
      "execution_count": null,
      "id": "grTQ-4nkmmUY",
      "metadata": {
        "cellView": "form",
        "colab": {
          "base_uri": "https://localhost:8080/",
          "height": 235
        },
        "id": "grTQ-4nkmmUY",
        "outputId": "bbe05b5b-a707-4c8b-c8d5-17b78a267c4b"
      },
      "outputs": [
        {
          "data": {
            "text/html": [
              "<div>\n",
              "<style scoped>\n",
              "    .dataframe tbody tr th:only-of-type {\n",
              "        vertical-align: middle;\n",
              "    }\n",
              "\n",
              "    .dataframe tbody tr th {\n",
              "        vertical-align: top;\n",
              "    }\n",
              "\n",
              "    .dataframe thead th {\n",
              "        text-align: right;\n",
              "    }\n",
              "</style>\n",
              "<table border=\"1\" class=\"dataframe\">\n",
              "  <thead>\n",
              "    <tr style=\"text-align: right;\">\n",
              "      <th></th>\n",
              "      <th>davlat</th>\n",
              "      <th>kod</th>\n",
              "      <th>yil</th>\n",
              "      <th>komir</th>\n",
              "      <th>gaz</th>\n",
              "      <th>gidro</th>\n",
              "      <th>yangilanuvchi</th>\n",
              "      <th>quyosh</th>\n",
              "      <th>neft</th>\n",
              "      <th>shamol</th>\n",
              "      <th>atom</th>\n",
              "    </tr>\n",
              "  </thead>\n",
              "  <tbody>\n",
              "    <tr>\n",
              "      <th>5887</th>\n",
              "      <td>United States</td>\n",
              "      <td>USA</td>\n",
              "      <td>1985</td>\n",
              "      <td>1507.664651</td>\n",
              "      <td>313.920392</td>\n",
              "      <td>287.182362</td>\n",
              "      <td>36.392894</td>\n",
              "      <td>0.010737</td>\n",
              "      <td>107.744380</td>\n",
              "      <td>0.005820</td>\n",
              "      <td>403.884976</td>\n",
              "    </tr>\n",
              "    <tr>\n",
              "      <th>5888</th>\n",
              "      <td>United States</td>\n",
              "      <td>USA</td>\n",
              "      <td>1986</td>\n",
              "      <td>1490.141346</td>\n",
              "      <td>267.213369</td>\n",
              "      <td>296.974969</td>\n",
              "      <td>38.701672</td>\n",
              "      <td>0.014174</td>\n",
              "      <td>146.865448</td>\n",
              "      <td>0.004231</td>\n",
              "      <td>435.829540</td>\n",
              "    </tr>\n",
              "    <tr>\n",
              "      <th>5889</th>\n",
              "      <td>United States</td>\n",
              "      <td>USA</td>\n",
              "      <td>1987</td>\n",
              "      <td>1573.958375</td>\n",
              "      <td>293.140648</td>\n",
              "      <td>255.410195</td>\n",
              "      <td>42.665433</td>\n",
              "      <td>0.010603</td>\n",
              "      <td>127.411367</td>\n",
              "      <td>0.003577</td>\n",
              "      <td>479.231981</td>\n",
              "    </tr>\n",
              "    <tr>\n",
              "      <th>5890</th>\n",
              "      <td>United States</td>\n",
              "      <td>USA</td>\n",
              "      <td>1988</td>\n",
              "      <td>1656.615886</td>\n",
              "      <td>271.828714</td>\n",
              "      <td>228.384649</td>\n",
              "      <td>42.394061</td>\n",
              "      <td>0.009186</td>\n",
              "      <td>160.107055</td>\n",
              "      <td>0.000880</td>\n",
              "      <td>554.708470</td>\n",
              "    </tr>\n",
              "    <tr>\n",
              "      <th>5891</th>\n",
              "      <td>United States</td>\n",
              "      <td>USA</td>\n",
              "      <td>1989</td>\n",
              "      <td>1711.442534</td>\n",
              "      <td>379.170824</td>\n",
              "      <td>274.724178</td>\n",
              "      <td>48.854268</td>\n",
              "      <td>0.253132</td>\n",
              "      <td>176.729591</td>\n",
              "      <td>2.133377</td>\n",
              "      <td>557.215492</td>\n",
              "    </tr>\n",
              "    <tr>\n",
              "      <th>5892</th>\n",
              "      <td>United States</td>\n",
              "      <td>USA</td>\n",
              "      <td>1990</td>\n",
              "      <td>1725.155171</td>\n",
              "      <td>400.822746</td>\n",
              "      <td>292.280914</td>\n",
              "      <td>57.459315</td>\n",
              "      <td>0.370795</td>\n",
              "      <td>135.978712</td>\n",
              "      <td>2.816768</td>\n",
              "      <td>607.222819</td>\n",
              "    </tr>\n",
              "  </tbody>\n",
              "</table>\n",
              "</div>"
            ],
            "text/plain": [
              "             davlat  kod   yil  ...        neft    shamol        atom\n",
              "5887  United States  USA  1985  ...  107.744380  0.005820  403.884976\n",
              "5888  United States  USA  1986  ...  146.865448  0.004231  435.829540\n",
              "5889  United States  USA  1987  ...  127.411367  0.003577  479.231981\n",
              "5890  United States  USA  1988  ...  160.107055  0.000880  554.708470\n",
              "5891  United States  USA  1989  ...  176.729591  2.133377  557.215492\n",
              "5892  United States  USA  1990  ...  135.978712  2.816768  607.222819\n",
              "\n",
              "[6 rows x 11 columns]"
            ]
          },
          "execution_count": 22,
          "metadata": {},
          "output_type": "execute_result"
        }
      ],
      "source": [
        "#@title Kutilgan natija\n",
        "dfus.head(6)"
      ]
    },
    {
      "cell_type": "markdown",
      "id": "Di2y1U2PnTrd",
      "metadata": {
        "id": "Di2y1U2PnTrd"
      },
      "source": [
        "### 4-VAZIFA. `dfus` jadvalining indeksini `yil` ustuni bilan o'zgartiring. DF dan `yil` ustunini tashlab yuboring."
      ]
    },
    {
      "cell_type": "code",
      "execution_count": null,
      "id": "_HARbIlKneB9",
      "metadata": {
        "id": "_HARbIlKneB9"
      },
      "outputs": [
        {
          "ename": "KeyError",
          "evalue": "\"None of ['yil'] are in the columns\"",
          "output_type": "error",
          "traceback": [
            "\u001b[31m---------------------------------------------------------------------------\u001b[39m",
            "\u001b[31mKeyError\u001b[39m                                  Traceback (most recent call last)",
            "\u001b[32m~\\AppData\\Local\\Temp\\ipykernel_27028\\4062070489.py\u001b[39m in \u001b[36m?\u001b[39m\u001b[34m()\u001b[39m\n\u001b[32m      1\u001b[39m \u001b[38;5;66;03m# JAVOBNI SHUYERGA YOZING\u001b[39;00m\n\u001b[32m----> \u001b[39m\u001b[32m2\u001b[39m dfus.set_index(\u001b[33m'yil'\u001b[39m,inplace=\u001b[38;5;28;01mTrue\u001b[39;00m)\n\u001b[32m      3\u001b[39m dfus\n",
            "\u001b[32mc:\\Users\\behru\\AppData\\Local\\Programs\\Python\\Python312\\Lib\\site-packages\\pandas\\core\\frame.py\u001b[39m in \u001b[36m?\u001b[39m\u001b[34m(self, keys, drop, append, inplace, verify_integrity)\u001b[39m\n\u001b[32m   6125\u001b[39m                     \u001b[38;5;28;01mif\u001b[39;00m \u001b[38;5;28;01mnot\u001b[39;00m found:\n\u001b[32m   6126\u001b[39m                         missing.append(col)\n\u001b[32m   6127\u001b[39m \n\u001b[32m   6128\u001b[39m         \u001b[38;5;28;01mif\u001b[39;00m missing:\n\u001b[32m-> \u001b[39m\u001b[32m6129\u001b[39m             \u001b[38;5;28;01mraise\u001b[39;00m KeyError(f\"None of {missing} are in the columns\")\n\u001b[32m   6130\u001b[39m \n\u001b[32m   6131\u001b[39m         \u001b[38;5;28;01mif\u001b[39;00m inplace:\n\u001b[32m   6132\u001b[39m             frame = self\n",
            "\u001b[31mKeyError\u001b[39m: \"None of ['yil'] are in the columns\""
          ]
        }
      ],
      "source": [
        "# JAVOBNI SHUYERGA YOZING\n",
        "dfus.set_index('yil',inplace=True)"
      ]
    },
    {
      "cell_type": "code",
      "execution_count": 20,
      "id": "c176659c",
      "metadata": {},
      "outputs": [
        {
          "data": {
            "text/html": [
              "<div>\n",
              "<style scoped>\n",
              "    .dataframe tbody tr th:only-of-type {\n",
              "        vertical-align: middle;\n",
              "    }\n",
              "\n",
              "    .dataframe tbody tr th {\n",
              "        vertical-align: top;\n",
              "    }\n",
              "\n",
              "    .dataframe thead th {\n",
              "        text-align: right;\n",
              "    }\n",
              "</style>\n",
              "<table border=\"1\" class=\"dataframe\">\n",
              "  <thead>\n",
              "    <tr style=\"text-align: right;\">\n",
              "      <th></th>\n",
              "      <th>davlat</th>\n",
              "      <th>kod</th>\n",
              "      <th>komir</th>\n",
              "      <th>gaz</th>\n",
              "      <th>gidro</th>\n",
              "      <th>yangilanuvchi</th>\n",
              "      <th>quyosh</th>\n",
              "      <th>neft</th>\n",
              "      <th>shamol</th>\n",
              "      <th>atom</th>\n",
              "    </tr>\n",
              "    <tr>\n",
              "      <th>yil</th>\n",
              "      <th></th>\n",
              "      <th></th>\n",
              "      <th></th>\n",
              "      <th></th>\n",
              "      <th></th>\n",
              "      <th></th>\n",
              "      <th></th>\n",
              "      <th></th>\n",
              "      <th></th>\n",
              "      <th></th>\n",
              "    </tr>\n",
              "  </thead>\n",
              "  <tbody>\n",
              "    <tr>\n",
              "      <th>1985</th>\n",
              "      <td>United States</td>\n",
              "      <td>USA</td>\n",
              "      <td>1507.664651</td>\n",
              "      <td>313.920392</td>\n",
              "      <td>287.182362</td>\n",
              "      <td>36.392894</td>\n",
              "      <td>0.010737</td>\n",
              "      <td>107.744380</td>\n",
              "      <td>0.005820</td>\n",
              "      <td>403.884976</td>\n",
              "    </tr>\n",
              "    <tr>\n",
              "      <th>1986</th>\n",
              "      <td>United States</td>\n",
              "      <td>USA</td>\n",
              "      <td>1490.141346</td>\n",
              "      <td>267.213369</td>\n",
              "      <td>296.974969</td>\n",
              "      <td>38.701672</td>\n",
              "      <td>0.014174</td>\n",
              "      <td>146.865448</td>\n",
              "      <td>0.004231</td>\n",
              "      <td>435.829540</td>\n",
              "    </tr>\n",
              "    <tr>\n",
              "      <th>1987</th>\n",
              "      <td>United States</td>\n",
              "      <td>USA</td>\n",
              "      <td>1573.958375</td>\n",
              "      <td>293.140648</td>\n",
              "      <td>255.410195</td>\n",
              "      <td>42.665433</td>\n",
              "      <td>0.010603</td>\n",
              "      <td>127.411367</td>\n",
              "      <td>0.003577</td>\n",
              "      <td>479.231981</td>\n",
              "    </tr>\n",
              "    <tr>\n",
              "      <th>1988</th>\n",
              "      <td>United States</td>\n",
              "      <td>USA</td>\n",
              "      <td>1656.615886</td>\n",
              "      <td>271.828714</td>\n",
              "      <td>228.384649</td>\n",
              "      <td>42.394061</td>\n",
              "      <td>0.009186</td>\n",
              "      <td>160.107055</td>\n",
              "      <td>0.000880</td>\n",
              "      <td>554.708470</td>\n",
              "    </tr>\n",
              "    <tr>\n",
              "      <th>1989</th>\n",
              "      <td>United States</td>\n",
              "      <td>USA</td>\n",
              "      <td>1711.442534</td>\n",
              "      <td>379.170824</td>\n",
              "      <td>274.724178</td>\n",
              "      <td>48.854268</td>\n",
              "      <td>0.253132</td>\n",
              "      <td>176.729591</td>\n",
              "      <td>2.133377</td>\n",
              "      <td>557.215492</td>\n",
              "    </tr>\n",
              "  </tbody>\n",
              "</table>\n",
              "</div>"
            ],
            "text/plain": [
              "             davlat  kod        komir         gaz       gidro  yangilanuvchi  \\\n",
              "yil                                                                            \n",
              "1985  United States  USA  1507.664651  313.920392  287.182362      36.392894   \n",
              "1986  United States  USA  1490.141346  267.213369  296.974969      38.701672   \n",
              "1987  United States  USA  1573.958375  293.140648  255.410195      42.665433   \n",
              "1988  United States  USA  1656.615886  271.828714  228.384649      42.394061   \n",
              "1989  United States  USA  1711.442534  379.170824  274.724178      48.854268   \n",
              "\n",
              "        quyosh        neft    shamol        atom  \n",
              "yil                                               \n",
              "1985  0.010737  107.744380  0.005820  403.884976  \n",
              "1986  0.014174  146.865448  0.004231  435.829540  \n",
              "1987  0.010603  127.411367  0.003577  479.231981  \n",
              "1988  0.009186  160.107055  0.000880  554.708470  \n",
              "1989  0.253132  176.729591  2.133377  557.215492  "
            ]
          },
          "execution_count": 20,
          "metadata": {},
          "output_type": "execute_result"
        }
      ],
      "source": [
        "dfus.head()"
      ]
    },
    {
      "cell_type": "markdown",
      "id": "nR9QP5a9o294",
      "metadata": {
        "id": "nR9QP5a9o294"
      },
      "source": [
        "### 5-VAZIFA. AQSh 2020-yilda jami qancha elektr energiyasi ishlab chiqqan?"
      ]
    },
    {
      "cell_type": "code",
      "execution_count": 25,
      "id": "5b3da0a2",
      "metadata": {},
      "outputs": [
        {
          "name": "stdout",
          "output_type": "stream",
          "text": [
            "AQSh 2020-yilda jami 4049.8465373200006 birlik elektr energiyasi ishlab chiqargan.\n"
          ]
        }
      ],
      "source": [
        "# JAVOBNI SHUYERGA YOZING\n",
        "\n",
        "# 1. AQSh 2020-yil ma'lumotlarini olish\n",
        "dfus_2020 = df[(df['davlat'] == 'United States') & (df['yil'] == 2020)]\n",
        "\n",
        "# 2. Jami ishlab chiqarilgan energiyani hisoblash\n",
        "ustunlar = ['komir', 'gaz', 'gidro', 'yangilanuvchi', 'quyosh', 'neft', 'shamol', 'atom']\n",
        "jami = dfus_2020[ustunlar].sum(axis=1).iloc[0]\n",
        "\n",
        "# 3. Natijani chiqarish\n",
        "print(f\"AQSh 2020-yilda jami {jami} birlik elektr energiyasi ishlab chiqargan.\")\n"
      ]
    },
    {
      "cell_type": "code",
      "execution_count": null,
      "id": "4rUNNRDIog1q",
      "metadata": {
        "id": "4rUNNRDIog1q"
      },
      "outputs": [],
      "source": [
        "# JAVOBNI SHUYERGA YOZING\n",
        "df.iloc[2020 == df]"
      ]
    }
  ],
  "metadata": {
    "celltoolbar": "Create Assignment",
    "colab": {
      "provenance": []
    },
    "kernelspec": {
      "display_name": "Python 3",
      "language": "python",
      "name": "python3"
    },
    "language_info": {
      "codemirror_mode": {
        "name": "ipython",
        "version": 3
      },
      "file_extension": ".py",
      "mimetype": "text/x-python",
      "name": "python",
      "nbconvert_exporter": "python",
      "pygments_lexer": "ipython3",
      "version": "3.12.10"
    }
  },
  "nbformat": 4,
  "nbformat_minor": 5
}
