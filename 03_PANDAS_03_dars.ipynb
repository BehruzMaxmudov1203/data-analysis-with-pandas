{
  "cells": [
    {
      "cell_type": "markdown",
      "id": "88e95a94-c3c2-4fe1-91b6-2b5c14bd51c9",
      "metadata": {
        "id": "88e95a94-c3c2-4fe1-91b6-2b5c14bd51c9"
      },
      "source": [
        "# Ma'lumotlar tahlili. Pandas kutubxonasi.\n",
        "\n",
        "### 2.2.3 Foydali funksiyalar"
      ]
    },
    {
      "cell_type": "code",
      "execution_count": null,
      "id": "3cefc603-f17c-4601-9c0b-68af75286d15",
      "metadata": {
        "id": "3cefc603-f17c-4601-9c0b-68af75286d15"
      },
      "outputs": [],
      "source": [
        "import pandas as pd\n",
        "import numpy as np"
      ]
    },
    {
      "cell_type": "code",
      "execution_count": null,
      "id": "7eb712b4-aef2-42e3-9474-c6d093ca60ce",
      "metadata": {
        "id": "7eb712b4-aef2-42e3-9474-c6d093ca60ce"
      },
      "outputs": [],
      "source": [
        "data = {'Yil':[2021, 2020, 2019, 2018, 2017, 2016, 2015, 2010],\n",
        "       'Aholi soni':[33.9, 33.5, 32.9, 32.5, 31.9, 31.4, 30.9, 28.5],\n",
        "       'Temp':[1.54, 1.48, 1.56, 1.62, 1.65, 1.66, 1.64, 1.53],\n",
        "       'Zichlik':[79.77, 78.68, 77.53, 76.34, 75.13, 73.91, 72.71, 67.03]}"
      ]
    },
    {
      "cell_type": "code",
      "execution_count": null,
      "id": "af155004-0f48-4a8b-981f-131b1bd2114d",
      "metadata": {
        "id": "af155004-0f48-4a8b-981f-131b1bd2114d"
      },
      "outputs": [],
      "source": [
        "df = pd.DataFrame(data)"
      ]
    },
    {
      "cell_type": "code",
      "execution_count": null,
      "id": "c4563a82-879a-440d-92ff-dfdc40f3ca4e",
      "metadata": {
        "id": "c4563a82-879a-440d-92ff-dfdc40f3ca4e",
        "outputId": "9866ef9a-df4b-47b0-fc7a-31777143c175"
      },
      "outputs": [
        {
          "data": {
            "text/html": [
              "<div>\n",
              "<style scoped>\n",
              "    .dataframe tbody tr th:only-of-type {\n",
              "        vertical-align: middle;\n",
              "    }\n",
              "\n",
              "    .dataframe tbody tr th {\n",
              "        vertical-align: top;\n",
              "    }\n",
              "\n",
              "    .dataframe thead th {\n",
              "        text-align: right;\n",
              "    }\n",
              "</style>\n",
              "<table border=\"1\" class=\"dataframe\">\n",
              "  <thead>\n",
              "    <tr style=\"text-align: right;\">\n",
              "      <th></th>\n",
              "      <th>Yil</th>\n",
              "      <th>Aholi soni</th>\n",
              "      <th>Temp</th>\n",
              "      <th>Zichlik</th>\n",
              "    </tr>\n",
              "  </thead>\n",
              "  <tbody>\n",
              "    <tr>\n",
              "      <th>0</th>\n",
              "      <td>2021</td>\n",
              "      <td>33.9</td>\n",
              "      <td>1.54</td>\n",
              "      <td>79.77</td>\n",
              "    </tr>\n",
              "    <tr>\n",
              "      <th>1</th>\n",
              "      <td>2020</td>\n",
              "      <td>33.5</td>\n",
              "      <td>1.48</td>\n",
              "      <td>78.68</td>\n",
              "    </tr>\n",
              "    <tr>\n",
              "      <th>2</th>\n",
              "      <td>2019</td>\n",
              "      <td>32.9</td>\n",
              "      <td>1.56</td>\n",
              "      <td>77.53</td>\n",
              "    </tr>\n",
              "    <tr>\n",
              "      <th>3</th>\n",
              "      <td>2018</td>\n",
              "      <td>32.5</td>\n",
              "      <td>1.62</td>\n",
              "      <td>76.34</td>\n",
              "    </tr>\n",
              "    <tr>\n",
              "      <th>4</th>\n",
              "      <td>2017</td>\n",
              "      <td>31.9</td>\n",
              "      <td>1.65</td>\n",
              "      <td>75.13</td>\n",
              "    </tr>\n",
              "    <tr>\n",
              "      <th>5</th>\n",
              "      <td>2016</td>\n",
              "      <td>31.4</td>\n",
              "      <td>1.66</td>\n",
              "      <td>73.91</td>\n",
              "    </tr>\n",
              "    <tr>\n",
              "      <th>6</th>\n",
              "      <td>2015</td>\n",
              "      <td>30.9</td>\n",
              "      <td>1.64</td>\n",
              "      <td>72.71</td>\n",
              "    </tr>\n",
              "    <tr>\n",
              "      <th>7</th>\n",
              "      <td>2010</td>\n",
              "      <td>28.5</td>\n",
              "      <td>1.53</td>\n",
              "      <td>67.03</td>\n",
              "    </tr>\n",
              "  </tbody>\n",
              "</table>\n",
              "</div>"
            ],
            "text/plain": [
              "    Yil  Aholi soni  Temp  Zichlik\n",
              "0  2021        33.9  1.54    79.77\n",
              "1  2020        33.5  1.48    78.68\n",
              "2  2019        32.9  1.56    77.53\n",
              "3  2018        32.5  1.62    76.34\n",
              "4  2017        31.9  1.65    75.13\n",
              "5  2016        31.4  1.66    73.91\n",
              "6  2015        30.9  1.64    72.71\n",
              "7  2010        28.5  1.53    67.03"
            ]
          },
          "execution_count": 10,
          "metadata": {},
          "output_type": "execute_result"
        }
      ],
      "source": [
        "df"
      ]
    },
    {
      "cell_type": "code",
      "execution_count": null,
      "id": "2e750eb9-819e-40db-bec8-c218ddf11f24",
      "metadata": {
        "id": "2e750eb9-819e-40db-bec8-c218ddf11f24",
        "outputId": "9776f8b7-d618-42bb-ea8f-889db423c875"
      },
      "outputs": [
        {
          "data": {
            "text/html": [
              "<div>\n",
              "<style scoped>\n",
              "    .dataframe tbody tr th:only-of-type {\n",
              "        vertical-align: middle;\n",
              "    }\n",
              "\n",
              "    .dataframe tbody tr th {\n",
              "        vertical-align: top;\n",
              "    }\n",
              "\n",
              "    .dataframe thead th {\n",
              "        text-align: right;\n",
              "    }\n",
              "</style>\n",
              "<table border=\"1\" class=\"dataframe\">\n",
              "  <thead>\n",
              "    <tr style=\"text-align: right;\">\n",
              "      <th></th>\n",
              "      <th>Yil</th>\n",
              "      <th>Aholi soni</th>\n",
              "      <th>Temp</th>\n",
              "      <th>Zichlik</th>\n",
              "    </tr>\n",
              "  </thead>\n",
              "  <tbody>\n",
              "    <tr>\n",
              "      <th>21</th>\n",
              "      <td>2021</td>\n",
              "      <td>33.9</td>\n",
              "      <td>1.54</td>\n",
              "      <td>79.77</td>\n",
              "    </tr>\n",
              "    <tr>\n",
              "      <th>20</th>\n",
              "      <td>2020</td>\n",
              "      <td>33.5</td>\n",
              "      <td>1.48</td>\n",
              "      <td>78.68</td>\n",
              "    </tr>\n",
              "    <tr>\n",
              "      <th>19</th>\n",
              "      <td>2019</td>\n",
              "      <td>32.9</td>\n",
              "      <td>1.56</td>\n",
              "      <td>77.53</td>\n",
              "    </tr>\n",
              "    <tr>\n",
              "      <th>18</th>\n",
              "      <td>2018</td>\n",
              "      <td>32.5</td>\n",
              "      <td>1.62</td>\n",
              "      <td>76.34</td>\n",
              "    </tr>\n",
              "    <tr>\n",
              "      <th>17</th>\n",
              "      <td>2017</td>\n",
              "      <td>31.9</td>\n",
              "      <td>1.65</td>\n",
              "      <td>75.13</td>\n",
              "    </tr>\n",
              "    <tr>\n",
              "      <th>16</th>\n",
              "      <td>2016</td>\n",
              "      <td>31.4</td>\n",
              "      <td>1.66</td>\n",
              "      <td>73.91</td>\n",
              "    </tr>\n",
              "    <tr>\n",
              "      <th>15</th>\n",
              "      <td>2015</td>\n",
              "      <td>30.9</td>\n",
              "      <td>1.64</td>\n",
              "      <td>72.71</td>\n",
              "    </tr>\n",
              "    <tr>\n",
              "      <th>10</th>\n",
              "      <td>2010</td>\n",
              "      <td>28.5</td>\n",
              "      <td>1.53</td>\n",
              "      <td>67.03</td>\n",
              "    </tr>\n",
              "  </tbody>\n",
              "</table>\n",
              "</div>"
            ],
            "text/plain": [
              "     Yil  Aholi soni  Temp  Zichlik\n",
              "21  2021        33.9  1.54    79.77\n",
              "20  2020        33.5  1.48    78.68\n",
              "19  2019        32.9  1.56    77.53\n",
              "18  2018        32.5  1.62    76.34\n",
              "17  2017        31.9  1.65    75.13\n",
              "16  2016        31.4  1.66    73.91\n",
              "15  2015        30.9  1.64    72.71\n",
              "10  2010        28.5  1.53    67.03"
            ]
          },
          "execution_count": 45,
          "metadata": {},
          "output_type": "execute_result"
        }
      ],
      "source": [
        "df.index = [21, 20, 19, 18, 17, 16, 15, 10]\n",
        "df"
      ]
    },
    {
      "cell_type": "markdown",
      "id": "55a8167c-c233-4010-8aae-c39e65e146f2",
      "metadata": {
        "id": "55a8167c-c233-4010-8aae-c39e65e146f2"
      },
      "source": [
        "## `.reindex()` indekslar o'rnini almashtirish"
      ]
    },
    {
      "cell_type": "code",
      "execution_count": null,
      "id": "22a79c88-b2fb-4915-bf24-cec7d8f18a2f",
      "metadata": {
        "id": "22a79c88-b2fb-4915-bf24-cec7d8f18a2f",
        "outputId": "96c9d907-4905-426d-a23a-30ad39574db1"
      },
      "outputs": [
        {
          "data": {
            "text/html": [
              "<div>\n",
              "<style scoped>\n",
              "    .dataframe tbody tr th:only-of-type {\n",
              "        vertical-align: middle;\n",
              "    }\n",
              "\n",
              "    .dataframe tbody tr th {\n",
              "        vertical-align: top;\n",
              "    }\n",
              "\n",
              "    .dataframe thead th {\n",
              "        text-align: right;\n",
              "    }\n",
              "</style>\n",
              "<table border=\"1\" class=\"dataframe\">\n",
              "  <thead>\n",
              "    <tr style=\"text-align: right;\">\n",
              "      <th></th>\n",
              "      <th>Yil</th>\n",
              "      <th>Aholi soni</th>\n",
              "      <th>Temp</th>\n",
              "      <th>Zichlik</th>\n",
              "    </tr>\n",
              "  </thead>\n",
              "  <tbody>\n",
              "    <tr>\n",
              "      <th>10</th>\n",
              "      <td>2010</td>\n",
              "      <td>28.5</td>\n",
              "      <td>1.53</td>\n",
              "      <td>67.03</td>\n",
              "    </tr>\n",
              "    <tr>\n",
              "      <th>15</th>\n",
              "      <td>2015</td>\n",
              "      <td>30.9</td>\n",
              "      <td>1.64</td>\n",
              "      <td>72.71</td>\n",
              "    </tr>\n",
              "    <tr>\n",
              "      <th>20</th>\n",
              "      <td>2020</td>\n",
              "      <td>33.5</td>\n",
              "      <td>1.48</td>\n",
              "      <td>78.68</td>\n",
              "    </tr>\n",
              "  </tbody>\n",
              "</table>\n",
              "</div>"
            ],
            "text/plain": [
              "     Yil  Aholi soni  Temp  Zichlik\n",
              "10  2010        28.5  1.53    67.03\n",
              "15  2015        30.9  1.64    72.71\n",
              "20  2020        33.5  1.48    78.68"
            ]
          },
          "execution_count": 46,
          "metadata": {},
          "output_type": "execute_result"
        }
      ],
      "source": [
        "df.reindex([10,15,20])"
      ]
    },
    {
      "cell_type": "markdown",
      "id": "dcf7aa95-0168-4cc0-b381-7ad289933ae7",
      "metadata": {
        "id": "dcf7aa95-0168-4cc0-b381-7ad289933ae7"
      },
      "source": [
        "`.reindex` yordamida yangi indekslar qo'shish va ularni turli usullar (method) yordamida to'ldirish ham mumkin"
      ]
    },
    {
      "cell_type": "code",
      "execution_count": null,
      "id": "f10a8cf4-ebf0-49dc-9737-4d3077382bc1",
      "metadata": {
        "id": "f10a8cf4-ebf0-49dc-9737-4d3077382bc1",
        "outputId": "d0ab0cf0-07d6-44e5-bb46-e9aa64e32e10"
      },
      "outputs": [
        {
          "data": {
            "text/html": [
              "<div>\n",
              "<style scoped>\n",
              "    .dataframe tbody tr th:only-of-type {\n",
              "        vertical-align: middle;\n",
              "    }\n",
              "\n",
              "    .dataframe tbody tr th {\n",
              "        vertical-align: top;\n",
              "    }\n",
              "\n",
              "    .dataframe thead th {\n",
              "        text-align: right;\n",
              "    }\n",
              "</style>\n",
              "<table border=\"1\" class=\"dataframe\">\n",
              "  <thead>\n",
              "    <tr style=\"text-align: right;\">\n",
              "      <th></th>\n",
              "      <th>Yil</th>\n",
              "      <th>Aholi soni</th>\n",
              "      <th>Temp</th>\n",
              "      <th>Zichlik</th>\n",
              "    </tr>\n",
              "  </thead>\n",
              "  <tbody>\n",
              "    <tr>\n",
              "      <th>10</th>\n",
              "      <td>2010</td>\n",
              "      <td>28.5</td>\n",
              "      <td>1.53</td>\n",
              "      <td>67.03</td>\n",
              "    </tr>\n",
              "    <tr>\n",
              "      <th>11</th>\n",
              "      <td>2010</td>\n",
              "      <td>28.5</td>\n",
              "      <td>1.53</td>\n",
              "      <td>67.03</td>\n",
              "    </tr>\n",
              "    <tr>\n",
              "      <th>12</th>\n",
              "      <td>2010</td>\n",
              "      <td>28.5</td>\n",
              "      <td>1.53</td>\n",
              "      <td>67.03</td>\n",
              "    </tr>\n",
              "    <tr>\n",
              "      <th>13</th>\n",
              "      <td>2015</td>\n",
              "      <td>30.9</td>\n",
              "      <td>1.64</td>\n",
              "      <td>72.71</td>\n",
              "    </tr>\n",
              "    <tr>\n",
              "      <th>14</th>\n",
              "      <td>2015</td>\n",
              "      <td>30.9</td>\n",
              "      <td>1.64</td>\n",
              "      <td>72.71</td>\n",
              "    </tr>\n",
              "    <tr>\n",
              "      <th>15</th>\n",
              "      <td>2015</td>\n",
              "      <td>30.9</td>\n",
              "      <td>1.64</td>\n",
              "      <td>72.71</td>\n",
              "    </tr>\n",
              "    <tr>\n",
              "      <th>16</th>\n",
              "      <td>2016</td>\n",
              "      <td>31.4</td>\n",
              "      <td>1.66</td>\n",
              "      <td>73.91</td>\n",
              "    </tr>\n",
              "    <tr>\n",
              "      <th>17</th>\n",
              "      <td>2017</td>\n",
              "      <td>31.9</td>\n",
              "      <td>1.65</td>\n",
              "      <td>75.13</td>\n",
              "    </tr>\n",
              "    <tr>\n",
              "      <th>18</th>\n",
              "      <td>2018</td>\n",
              "      <td>32.5</td>\n",
              "      <td>1.62</td>\n",
              "      <td>76.34</td>\n",
              "    </tr>\n",
              "    <tr>\n",
              "      <th>19</th>\n",
              "      <td>2019</td>\n",
              "      <td>32.9</td>\n",
              "      <td>1.56</td>\n",
              "      <td>77.53</td>\n",
              "    </tr>\n",
              "    <tr>\n",
              "      <th>20</th>\n",
              "      <td>2020</td>\n",
              "      <td>33.5</td>\n",
              "      <td>1.48</td>\n",
              "      <td>78.68</td>\n",
              "    </tr>\n",
              "    <tr>\n",
              "      <th>21</th>\n",
              "      <td>2021</td>\n",
              "      <td>33.9</td>\n",
              "      <td>1.54</td>\n",
              "      <td>79.77</td>\n",
              "    </tr>\n",
              "  </tbody>\n",
              "</table>\n",
              "</div>"
            ],
            "text/plain": [
              "     Yil  Aholi soni  Temp  Zichlik\n",
              "10  2010        28.5  1.53    67.03\n",
              "11  2010        28.5  1.53    67.03\n",
              "12  2010        28.5  1.53    67.03\n",
              "13  2015        30.9  1.64    72.71\n",
              "14  2015        30.9  1.64    72.71\n",
              "15  2015        30.9  1.64    72.71\n",
              "16  2016        31.4  1.66    73.91\n",
              "17  2017        31.9  1.65    75.13\n",
              "18  2018        32.5  1.62    76.34\n",
              "19  2019        32.9  1.56    77.53\n",
              "20  2020        33.5  1.48    78.68\n",
              "21  2021        33.9  1.54    79.77"
            ]
          },
          "execution_count": 49,
          "metadata": {},
          "output_type": "execute_result"
        }
      ],
      "source": [
        "df.reindex(index=range(10,22), method=\"nearest\") # method='ffill'"
      ]
    },
    {
      "cell_type": "markdown",
      "id": "10d0dfc6-04ec-4cfb-bf5d-3609bb02878a",
      "metadata": {
        "id": "10d0dfc6-04ec-4cfb-bf5d-3609bb02878a"
      },
      "source": [
        "Nafaqat indekslarni balki ustunlarni ham qayta indekslash mumkin"
      ]
    },
    {
      "cell_type": "code",
      "execution_count": null,
      "id": "f6f62df7-1041-4b41-ab14-2161dc6e2c60",
      "metadata": {
        "id": "f6f62df7-1041-4b41-ab14-2161dc6e2c60",
        "outputId": "c04cb57d-0d31-4e95-d63e-b6e044ddbf9d"
      },
      "outputs": [
        {
          "data": {
            "text/html": [
              "<div>\n",
              "<style scoped>\n",
              "    .dataframe tbody tr th:only-of-type {\n",
              "        vertical-align: middle;\n",
              "    }\n",
              "\n",
              "    .dataframe tbody tr th {\n",
              "        vertical-align: top;\n",
              "    }\n",
              "\n",
              "    .dataframe thead th {\n",
              "        text-align: right;\n",
              "    }\n",
              "</style>\n",
              "<table border=\"1\" class=\"dataframe\">\n",
              "  <thead>\n",
              "    <tr style=\"text-align: right;\">\n",
              "      <th></th>\n",
              "      <th>Aholi soni</th>\n",
              "      <th>Temp</th>\n",
              "    </tr>\n",
              "  </thead>\n",
              "  <tbody>\n",
              "    <tr>\n",
              "      <th>21</th>\n",
              "      <td>33.9</td>\n",
              "      <td>1.54</td>\n",
              "    </tr>\n",
              "    <tr>\n",
              "      <th>20</th>\n",
              "      <td>33.5</td>\n",
              "      <td>1.48</td>\n",
              "    </tr>\n",
              "    <tr>\n",
              "      <th>19</th>\n",
              "      <td>32.9</td>\n",
              "      <td>1.56</td>\n",
              "    </tr>\n",
              "    <tr>\n",
              "      <th>18</th>\n",
              "      <td>32.5</td>\n",
              "      <td>1.62</td>\n",
              "    </tr>\n",
              "    <tr>\n",
              "      <th>17</th>\n",
              "      <td>31.9</td>\n",
              "      <td>1.65</td>\n",
              "    </tr>\n",
              "    <tr>\n",
              "      <th>16</th>\n",
              "      <td>31.4</td>\n",
              "      <td>1.66</td>\n",
              "    </tr>\n",
              "    <tr>\n",
              "      <th>15</th>\n",
              "      <td>30.9</td>\n",
              "      <td>1.64</td>\n",
              "    </tr>\n",
              "    <tr>\n",
              "      <th>10</th>\n",
              "      <td>28.5</td>\n",
              "      <td>1.53</td>\n",
              "    </tr>\n",
              "  </tbody>\n",
              "</table>\n",
              "</div>"
            ],
            "text/plain": [
              "    Aholi soni  Temp\n",
              "21        33.9  1.54\n",
              "20        33.5  1.48\n",
              "19        32.9  1.56\n",
              "18        32.5  1.62\n",
              "17        31.9  1.65\n",
              "16        31.4  1.66\n",
              "15        30.9  1.64\n",
              "10        28.5  1.53"
            ]
          },
          "execution_count": 50,
          "metadata": {},
          "output_type": "execute_result"
        }
      ],
      "source": [
        "df.reindex(columns=['Aholi soni','Temp'])"
      ]
    },
    {
      "cell_type": "markdown",
      "id": "187a9f6b-06c2-430d-bb90-2224f07e98b4",
      "metadata": {
        "id": "187a9f6b-06c2-430d-bb90-2224f07e98b4"
      },
      "source": [
        "### `.loc` yordamida indekslash"
      ]
    },
    {
      "cell_type": "code",
      "execution_count": null,
      "id": "e2f3e884-3724-49da-ba2f-f3e5c358abc1",
      "metadata": {
        "id": "e2f3e884-3724-49da-ba2f-f3e5c358abc1",
        "outputId": "655c608e-0fb0-4239-f86f-82c1b9900636"
      },
      "outputs": [
        {
          "data": {
            "text/html": [
              "<div>\n",
              "<style scoped>\n",
              "    .dataframe tbody tr th:only-of-type {\n",
              "        vertical-align: middle;\n",
              "    }\n",
              "\n",
              "    .dataframe tbody tr th {\n",
              "        vertical-align: top;\n",
              "    }\n",
              "\n",
              "    .dataframe thead th {\n",
              "        text-align: right;\n",
              "    }\n",
              "</style>\n",
              "<table border=\"1\" class=\"dataframe\">\n",
              "  <thead>\n",
              "    <tr style=\"text-align: right;\">\n",
              "      <th></th>\n",
              "      <th>Aholi soni</th>\n",
              "      <th>Temp</th>\n",
              "    </tr>\n",
              "  </thead>\n",
              "  <tbody>\n",
              "    <tr>\n",
              "      <th>10</th>\n",
              "      <td>28.5</td>\n",
              "      <td>1.53</td>\n",
              "    </tr>\n",
              "    <tr>\n",
              "      <th>15</th>\n",
              "      <td>30.9</td>\n",
              "      <td>1.64</td>\n",
              "    </tr>\n",
              "    <tr>\n",
              "      <th>20</th>\n",
              "      <td>33.5</td>\n",
              "      <td>1.48</td>\n",
              "    </tr>\n",
              "  </tbody>\n",
              "</table>\n",
              "</div>"
            ],
            "text/plain": [
              "    Aholi soni  Temp\n",
              "10        28.5  1.53\n",
              "15        30.9  1.64\n",
              "20        33.5  1.48"
            ]
          },
          "execution_count": 52,
          "metadata": {},
          "output_type": "execute_result"
        }
      ],
      "source": [
        "df.loc[[10,15,20],['Aholi soni','Temp']]"
      ]
    },
    {
      "cell_type": "markdown",
      "id": "ae89dc3a-f6df-436a-8845-dbaaab0a4046",
      "metadata": {
        "id": "ae89dc3a-f6df-436a-8845-dbaaab0a4046"
      },
      "source": [
        "**DIQQAT! DataFrame metodlati asl DataFrameni o'zgartirmaydi, balki yangi (o'zgartirilgan) DataFrame qaytaradi.**"
      ]
    },
    {
      "cell_type": "markdown",
      "id": "ab8ddc77-7dea-484b-9546-e91ebc939796",
      "metadata": {
        "id": "ab8ddc77-7dea-484b-9546-e91ebc939796"
      },
      "source": [
        "## `DataFrame`dan elementlarni o'chirish. `.drop()`"
      ]
    },
    {
      "cell_type": "markdown",
      "id": "ebb43ef4-201d-4dce-b0db-df1ec2d93ffe",
      "metadata": {
        "id": "ebb43ef4-201d-4dce-b0db-df1ec2d93ffe"
      },
      "source": [
        "Dataframedan biror qator yoki ustunni o'chirish uchun qator (ustun) indeksini bilish kifoya."
      ]
    },
    {
      "cell_type": "code",
      "execution_count": null,
      "id": "1f298948-b145-4516-b023-9f784bc5d232",
      "metadata": {
        "id": "1f298948-b145-4516-b023-9f784bc5d232",
        "outputId": "7f9b3f8a-40c5-4808-e535-392974b71b71"
      },
      "outputs": [
        {
          "data": {
            "text/html": [
              "<div>\n",
              "<style scoped>\n",
              "    .dataframe tbody tr th:only-of-type {\n",
              "        vertical-align: middle;\n",
              "    }\n",
              "\n",
              "    .dataframe tbody tr th {\n",
              "        vertical-align: top;\n",
              "    }\n",
              "\n",
              "    .dataframe thead th {\n",
              "        text-align: right;\n",
              "    }\n",
              "</style>\n",
              "<table border=\"1\" class=\"dataframe\">\n",
              "  <thead>\n",
              "    <tr style=\"text-align: right;\">\n",
              "      <th></th>\n",
              "      <th>Yil</th>\n",
              "      <th>Aholi soni</th>\n",
              "      <th>Temp</th>\n",
              "      <th>Zichlik</th>\n",
              "    </tr>\n",
              "  </thead>\n",
              "  <tbody>\n",
              "    <tr>\n",
              "      <th>21</th>\n",
              "      <td>2021</td>\n",
              "      <td>33.9</td>\n",
              "      <td>1.54</td>\n",
              "      <td>79.77</td>\n",
              "    </tr>\n",
              "    <tr>\n",
              "      <th>20</th>\n",
              "      <td>2020</td>\n",
              "      <td>33.5</td>\n",
              "      <td>1.48</td>\n",
              "      <td>78.68</td>\n",
              "    </tr>\n",
              "    <tr>\n",
              "      <th>19</th>\n",
              "      <td>2019</td>\n",
              "      <td>32.9</td>\n",
              "      <td>1.56</td>\n",
              "      <td>77.53</td>\n",
              "    </tr>\n",
              "    <tr>\n",
              "      <th>18</th>\n",
              "      <td>2018</td>\n",
              "      <td>32.5</td>\n",
              "      <td>1.62</td>\n",
              "      <td>76.34</td>\n",
              "    </tr>\n",
              "    <tr>\n",
              "      <th>17</th>\n",
              "      <td>2017</td>\n",
              "      <td>31.9</td>\n",
              "      <td>1.65</td>\n",
              "      <td>75.13</td>\n",
              "    </tr>\n",
              "    <tr>\n",
              "      <th>16</th>\n",
              "      <td>2016</td>\n",
              "      <td>31.4</td>\n",
              "      <td>1.66</td>\n",
              "      <td>73.91</td>\n",
              "    </tr>\n",
              "    <tr>\n",
              "      <th>15</th>\n",
              "      <td>2015</td>\n",
              "      <td>30.9</td>\n",
              "      <td>1.64</td>\n",
              "      <td>72.71</td>\n",
              "    </tr>\n",
              "    <tr>\n",
              "      <th>10</th>\n",
              "      <td>2010</td>\n",
              "      <td>28.5</td>\n",
              "      <td>1.53</td>\n",
              "      <td>67.03</td>\n",
              "    </tr>\n",
              "  </tbody>\n",
              "</table>\n",
              "</div>"
            ],
            "text/plain": [
              "     Yil  Aholi soni  Temp  Zichlik\n",
              "21  2021        33.9  1.54    79.77\n",
              "20  2020        33.5  1.48    78.68\n",
              "19  2019        32.9  1.56    77.53\n",
              "18  2018        32.5  1.62    76.34\n",
              "17  2017        31.9  1.65    75.13\n",
              "16  2016        31.4  1.66    73.91\n",
              "15  2015        30.9  1.64    72.71\n",
              "10  2010        28.5  1.53    67.03"
            ]
          },
          "execution_count": 54,
          "metadata": {},
          "output_type": "execute_result"
        }
      ],
      "source": [
        "df"
      ]
    },
    {
      "cell_type": "code",
      "execution_count": null,
      "id": "dc003016-1582-4f5f-b5e1-cdc4f4da66eb",
      "metadata": {
        "id": "dc003016-1582-4f5f-b5e1-cdc4f4da66eb"
      },
      "outputs": [],
      "source": [
        "df_new = df.drop(10) # 10 indeksini o'chiramiz va yangi df yaratamiz"
      ]
    },
    {
      "cell_type": "code",
      "execution_count": null,
      "id": "e4c25fd4-d719-4e20-8090-98ac37db944d",
      "metadata": {
        "id": "e4c25fd4-d719-4e20-8090-98ac37db944d",
        "outputId": "4e9cd1b5-8831-4c79-e81c-fad4bf2e3f5f"
      },
      "outputs": [
        {
          "data": {
            "text/html": [
              "<div>\n",
              "<style scoped>\n",
              "    .dataframe tbody tr th:only-of-type {\n",
              "        vertical-align: middle;\n",
              "    }\n",
              "\n",
              "    .dataframe tbody tr th {\n",
              "        vertical-align: top;\n",
              "    }\n",
              "\n",
              "    .dataframe thead th {\n",
              "        text-align: right;\n",
              "    }\n",
              "</style>\n",
              "<table border=\"1\" class=\"dataframe\">\n",
              "  <thead>\n",
              "    <tr style=\"text-align: right;\">\n",
              "      <th></th>\n",
              "      <th>Yil</th>\n",
              "      <th>Aholi soni</th>\n",
              "      <th>Temp</th>\n",
              "      <th>Zichlik</th>\n",
              "    </tr>\n",
              "  </thead>\n",
              "  <tbody>\n",
              "    <tr>\n",
              "      <th>21</th>\n",
              "      <td>2021</td>\n",
              "      <td>33.9</td>\n",
              "      <td>1.54</td>\n",
              "      <td>79.77</td>\n",
              "    </tr>\n",
              "    <tr>\n",
              "      <th>20</th>\n",
              "      <td>2020</td>\n",
              "      <td>33.5</td>\n",
              "      <td>1.48</td>\n",
              "      <td>78.68</td>\n",
              "    </tr>\n",
              "    <tr>\n",
              "      <th>19</th>\n",
              "      <td>2019</td>\n",
              "      <td>32.9</td>\n",
              "      <td>1.56</td>\n",
              "      <td>77.53</td>\n",
              "    </tr>\n",
              "    <tr>\n",
              "      <th>18</th>\n",
              "      <td>2018</td>\n",
              "      <td>32.5</td>\n",
              "      <td>1.62</td>\n",
              "      <td>76.34</td>\n",
              "    </tr>\n",
              "    <tr>\n",
              "      <th>17</th>\n",
              "      <td>2017</td>\n",
              "      <td>31.9</td>\n",
              "      <td>1.65</td>\n",
              "      <td>75.13</td>\n",
              "    </tr>\n",
              "    <tr>\n",
              "      <th>16</th>\n",
              "      <td>2016</td>\n",
              "      <td>31.4</td>\n",
              "      <td>1.66</td>\n",
              "      <td>73.91</td>\n",
              "    </tr>\n",
              "    <tr>\n",
              "      <th>15</th>\n",
              "      <td>2015</td>\n",
              "      <td>30.9</td>\n",
              "      <td>1.64</td>\n",
              "      <td>72.71</td>\n",
              "    </tr>\n",
              "  </tbody>\n",
              "</table>\n",
              "</div>"
            ],
            "text/plain": [
              "     Yil  Aholi soni  Temp  Zichlik\n",
              "21  2021        33.9  1.54    79.77\n",
              "20  2020        33.5  1.48    78.68\n",
              "19  2019        32.9  1.56    77.53\n",
              "18  2018        32.5  1.62    76.34\n",
              "17  2017        31.9  1.65    75.13\n",
              "16  2016        31.4  1.66    73.91\n",
              "15  2015        30.9  1.64    72.71"
            ]
          },
          "execution_count": 56,
          "metadata": {},
          "output_type": "execute_result"
        }
      ],
      "source": [
        "df_new"
      ]
    },
    {
      "cell_type": "code",
      "execution_count": null,
      "id": "7a751e47-1ccf-4db8-a0e9-443d776403d9",
      "metadata": {
        "id": "7a751e47-1ccf-4db8-a0e9-443d776403d9",
        "outputId": "a0a3539d-4e9c-4b07-f57b-40af64ff1a7f"
      },
      "outputs": [
        {
          "data": {
            "text/html": [
              "<div>\n",
              "<style scoped>\n",
              "    .dataframe tbody tr th:only-of-type {\n",
              "        vertical-align: middle;\n",
              "    }\n",
              "\n",
              "    .dataframe tbody tr th {\n",
              "        vertical-align: top;\n",
              "    }\n",
              "\n",
              "    .dataframe thead th {\n",
              "        text-align: right;\n",
              "    }\n",
              "</style>\n",
              "<table border=\"1\" class=\"dataframe\">\n",
              "  <thead>\n",
              "    <tr style=\"text-align: right;\">\n",
              "      <th></th>\n",
              "      <th>Yil</th>\n",
              "      <th>Aholi soni</th>\n",
              "      <th>Temp</th>\n",
              "      <th>Zichlik</th>\n",
              "    </tr>\n",
              "  </thead>\n",
              "  <tbody>\n",
              "    <tr>\n",
              "      <th>21</th>\n",
              "      <td>2021</td>\n",
              "      <td>33.9</td>\n",
              "      <td>1.54</td>\n",
              "      <td>79.77</td>\n",
              "    </tr>\n",
              "    <tr>\n",
              "      <th>19</th>\n",
              "      <td>2019</td>\n",
              "      <td>32.9</td>\n",
              "      <td>1.56</td>\n",
              "      <td>77.53</td>\n",
              "    </tr>\n",
              "    <tr>\n",
              "      <th>18</th>\n",
              "      <td>2018</td>\n",
              "      <td>32.5</td>\n",
              "      <td>1.62</td>\n",
              "      <td>76.34</td>\n",
              "    </tr>\n",
              "    <tr>\n",
              "      <th>17</th>\n",
              "      <td>2017</td>\n",
              "      <td>31.9</td>\n",
              "      <td>1.65</td>\n",
              "      <td>75.13</td>\n",
              "    </tr>\n",
              "    <tr>\n",
              "      <th>16</th>\n",
              "      <td>2016</td>\n",
              "      <td>31.4</td>\n",
              "      <td>1.66</td>\n",
              "      <td>73.91</td>\n",
              "    </tr>\n",
              "    <tr>\n",
              "      <th>10</th>\n",
              "      <td>2010</td>\n",
              "      <td>28.5</td>\n",
              "      <td>1.53</td>\n",
              "      <td>67.03</td>\n",
              "    </tr>\n",
              "  </tbody>\n",
              "</table>\n",
              "</div>"
            ],
            "text/plain": [
              "     Yil  Aholi soni  Temp  Zichlik\n",
              "21  2021        33.9  1.54    79.77\n",
              "19  2019        32.9  1.56    77.53\n",
              "18  2018        32.5  1.62    76.34\n",
              "17  2017        31.9  1.65    75.13\n",
              "16  2016        31.4  1.66    73.91\n",
              "10  2010        28.5  1.53    67.03"
            ]
          },
          "execution_count": 64,
          "metadata": {},
          "output_type": "execute_result"
        }
      ],
      "source": [
        "df.drop([15, 20]) # 15 va 20 qatorlarini tashlab yuboramiz"
      ]
    },
    {
      "cell_type": "markdown",
      "id": "08847561-8154-474d-bc0e-06b9ad333bda",
      "metadata": {
        "id": "08847561-8154-474d-bc0e-06b9ad333bda"
      },
      "source": [
        "`.drop()` yordamida nafaqat qatorlarni, balki ustunlarni ham o'chirish mumkin. Buning `.drop()` metodining `axis` parametri ishlatiladi."
      ]
    },
    {
      "cell_type": "code",
      "execution_count": null,
      "id": "c616f252-ea54-46ad-bf27-c713b639677e",
      "metadata": {
        "id": "c616f252-ea54-46ad-bf27-c713b639677e",
        "outputId": "4db0b986-1bbf-4c07-d747-567b7426cdaa"
      },
      "outputs": [
        {
          "data": {
            "text/html": [
              "<div>\n",
              "<style scoped>\n",
              "    .dataframe tbody tr th:only-of-type {\n",
              "        vertical-align: middle;\n",
              "    }\n",
              "\n",
              "    .dataframe tbody tr th {\n",
              "        vertical-align: top;\n",
              "    }\n",
              "\n",
              "    .dataframe thead th {\n",
              "        text-align: right;\n",
              "    }\n",
              "</style>\n",
              "<table border=\"1\" class=\"dataframe\">\n",
              "  <thead>\n",
              "    <tr style=\"text-align: right;\">\n",
              "      <th></th>\n",
              "      <th>Yil</th>\n",
              "      <th>Aholi soni</th>\n",
              "      <th>Zichlik</th>\n",
              "    </tr>\n",
              "  </thead>\n",
              "  <tbody>\n",
              "    <tr>\n",
              "      <th>21</th>\n",
              "      <td>2021</td>\n",
              "      <td>33.9</td>\n",
              "      <td>79.77</td>\n",
              "    </tr>\n",
              "    <tr>\n",
              "      <th>20</th>\n",
              "      <td>2020</td>\n",
              "      <td>33.5</td>\n",
              "      <td>78.68</td>\n",
              "    </tr>\n",
              "    <tr>\n",
              "      <th>19</th>\n",
              "      <td>2019</td>\n",
              "      <td>32.9</td>\n",
              "      <td>77.53</td>\n",
              "    </tr>\n",
              "    <tr>\n",
              "      <th>18</th>\n",
              "      <td>2018</td>\n",
              "      <td>32.5</td>\n",
              "      <td>76.34</td>\n",
              "    </tr>\n",
              "    <tr>\n",
              "      <th>17</th>\n",
              "      <td>2017</td>\n",
              "      <td>31.9</td>\n",
              "      <td>75.13</td>\n",
              "    </tr>\n",
              "    <tr>\n",
              "      <th>16</th>\n",
              "      <td>2016</td>\n",
              "      <td>31.4</td>\n",
              "      <td>73.91</td>\n",
              "    </tr>\n",
              "    <tr>\n",
              "      <th>15</th>\n",
              "      <td>2015</td>\n",
              "      <td>30.9</td>\n",
              "      <td>72.71</td>\n",
              "    </tr>\n",
              "    <tr>\n",
              "      <th>10</th>\n",
              "      <td>2010</td>\n",
              "      <td>28.5</td>\n",
              "      <td>67.03</td>\n",
              "    </tr>\n",
              "  </tbody>\n",
              "</table>\n",
              "</div>"
            ],
            "text/plain": [
              "     Yil  Aholi soni  Zichlik\n",
              "21  2021        33.9    79.77\n",
              "20  2020        33.5    78.68\n",
              "19  2019        32.9    77.53\n",
              "18  2018        32.5    76.34\n",
              "17  2017        31.9    75.13\n",
              "16  2016        31.4    73.91\n",
              "15  2015        30.9    72.71\n",
              "10  2010        28.5    67.03"
            ]
          },
          "execution_count": 63,
          "metadata": {},
          "output_type": "execute_result"
        }
      ],
      "source": [
        "df.drop('Temp', axis=1) # axis=1 ustunni anglatadi, axis=0 esa qatorni"
      ]
    },
    {
      "cell_type": "code",
      "execution_count": null,
      "id": "8c59e58e-16aa-432b-8e89-62eed17525ea",
      "metadata": {
        "id": "8c59e58e-16aa-432b-8e89-62eed17525ea",
        "outputId": "fec02725-d285-42b8-a57c-7171d32a81c9"
      },
      "outputs": [
        {
          "data": {
            "text/html": [
              "<div>\n",
              "<style scoped>\n",
              "    .dataframe tbody tr th:only-of-type {\n",
              "        vertical-align: middle;\n",
              "    }\n",
              "\n",
              "    .dataframe tbody tr th {\n",
              "        vertical-align: top;\n",
              "    }\n",
              "\n",
              "    .dataframe thead th {\n",
              "        text-align: right;\n",
              "    }\n",
              "</style>\n",
              "<table border=\"1\" class=\"dataframe\">\n",
              "  <thead>\n",
              "    <tr style=\"text-align: right;\">\n",
              "      <th></th>\n",
              "      <th>Yil</th>\n",
              "      <th>Aholi soni</th>\n",
              "      <th>Zichlik</th>\n",
              "    </tr>\n",
              "  </thead>\n",
              "  <tbody>\n",
              "    <tr>\n",
              "      <th>21</th>\n",
              "      <td>2021</td>\n",
              "      <td>33.9</td>\n",
              "      <td>79.77</td>\n",
              "    </tr>\n",
              "    <tr>\n",
              "      <th>20</th>\n",
              "      <td>2020</td>\n",
              "      <td>33.5</td>\n",
              "      <td>78.68</td>\n",
              "    </tr>\n",
              "    <tr>\n",
              "      <th>19</th>\n",
              "      <td>2019</td>\n",
              "      <td>32.9</td>\n",
              "      <td>77.53</td>\n",
              "    </tr>\n",
              "    <tr>\n",
              "      <th>18</th>\n",
              "      <td>2018</td>\n",
              "      <td>32.5</td>\n",
              "      <td>76.34</td>\n",
              "    </tr>\n",
              "    <tr>\n",
              "      <th>17</th>\n",
              "      <td>2017</td>\n",
              "      <td>31.9</td>\n",
              "      <td>75.13</td>\n",
              "    </tr>\n",
              "    <tr>\n",
              "      <th>16</th>\n",
              "      <td>2016</td>\n",
              "      <td>31.4</td>\n",
              "      <td>73.91</td>\n",
              "    </tr>\n",
              "    <tr>\n",
              "      <th>15</th>\n",
              "      <td>2015</td>\n",
              "      <td>30.9</td>\n",
              "      <td>72.71</td>\n",
              "    </tr>\n",
              "    <tr>\n",
              "      <th>10</th>\n",
              "      <td>2010</td>\n",
              "      <td>28.5</td>\n",
              "      <td>67.03</td>\n",
              "    </tr>\n",
              "  </tbody>\n",
              "</table>\n",
              "</div>"
            ],
            "text/plain": [
              "     Yil  Aholi soni  Zichlik\n",
              "21  2021        33.9    79.77\n",
              "20  2020        33.5    78.68\n",
              "19  2019        32.9    77.53\n",
              "18  2018        32.5    76.34\n",
              "17  2017        31.9    75.13\n",
              "16  2016        31.4    73.91\n",
              "15  2015        30.9    72.71\n",
              "10  2010        28.5    67.03"
            ]
          },
          "execution_count": 65,
          "metadata": {},
          "output_type": "execute_result"
        }
      ],
      "source": [
        "df.drop('Temp', axis='columns') # bu usul ham yuqoridagi natijani beradi"
      ]
    },
    {
      "cell_type": "markdown",
      "id": "d3d8048f-5433-417d-a54b-6992e6ca0f25",
      "metadata": {
        "id": "d3d8048f-5433-417d-a54b-6992e6ca0f25"
      },
      "source": [
        "Yana bir bor eslatamiz, metodlar asl `DataFrame`ni o'zgartirmaydi."
      ]
    },
    {
      "cell_type": "code",
      "execution_count": null,
      "id": "67f3eb26-c18c-467f-afb0-b6df30b84c5d",
      "metadata": {
        "id": "67f3eb26-c18c-467f-afb0-b6df30b84c5d",
        "outputId": "c78491e3-f291-404a-da27-193e3f78e638"
      },
      "outputs": [
        {
          "data": {
            "text/html": [
              "<div>\n",
              "<style scoped>\n",
              "    .dataframe tbody tr th:only-of-type {\n",
              "        vertical-align: middle;\n",
              "    }\n",
              "\n",
              "    .dataframe tbody tr th {\n",
              "        vertical-align: top;\n",
              "    }\n",
              "\n",
              "    .dataframe thead th {\n",
              "        text-align: right;\n",
              "    }\n",
              "</style>\n",
              "<table border=\"1\" class=\"dataframe\">\n",
              "  <thead>\n",
              "    <tr style=\"text-align: right;\">\n",
              "      <th></th>\n",
              "      <th>Yil</th>\n",
              "      <th>Aholi soni</th>\n",
              "      <th>Temp</th>\n",
              "      <th>Zichlik</th>\n",
              "    </tr>\n",
              "  </thead>\n",
              "  <tbody>\n",
              "    <tr>\n",
              "      <th>21</th>\n",
              "      <td>2021</td>\n",
              "      <td>33.9</td>\n",
              "      <td>1.54</td>\n",
              "      <td>79.77</td>\n",
              "    </tr>\n",
              "    <tr>\n",
              "      <th>20</th>\n",
              "      <td>2020</td>\n",
              "      <td>33.5</td>\n",
              "      <td>1.48</td>\n",
              "      <td>78.68</td>\n",
              "    </tr>\n",
              "    <tr>\n",
              "      <th>19</th>\n",
              "      <td>2019</td>\n",
              "      <td>32.9</td>\n",
              "      <td>1.56</td>\n",
              "      <td>77.53</td>\n",
              "    </tr>\n",
              "    <tr>\n",
              "      <th>18</th>\n",
              "      <td>2018</td>\n",
              "      <td>32.5</td>\n",
              "      <td>1.62</td>\n",
              "      <td>76.34</td>\n",
              "    </tr>\n",
              "    <tr>\n",
              "      <th>17</th>\n",
              "      <td>2017</td>\n",
              "      <td>31.9</td>\n",
              "      <td>1.65</td>\n",
              "      <td>75.13</td>\n",
              "    </tr>\n",
              "    <tr>\n",
              "      <th>16</th>\n",
              "      <td>2016</td>\n",
              "      <td>31.4</td>\n",
              "      <td>1.66</td>\n",
              "      <td>73.91</td>\n",
              "    </tr>\n",
              "    <tr>\n",
              "      <th>15</th>\n",
              "      <td>2015</td>\n",
              "      <td>30.9</td>\n",
              "      <td>1.64</td>\n",
              "      <td>72.71</td>\n",
              "    </tr>\n",
              "    <tr>\n",
              "      <th>10</th>\n",
              "      <td>2010</td>\n",
              "      <td>28.5</td>\n",
              "      <td>1.53</td>\n",
              "      <td>67.03</td>\n",
              "    </tr>\n",
              "  </tbody>\n",
              "</table>\n",
              "</div>"
            ],
            "text/plain": [
              "     Yil  Aholi soni  Temp  Zichlik\n",
              "21  2021        33.9  1.54    79.77\n",
              "20  2020        33.5  1.48    78.68\n",
              "19  2019        32.9  1.56    77.53\n",
              "18  2018        32.5  1.62    76.34\n",
              "17  2017        31.9  1.65    75.13\n",
              "16  2016        31.4  1.66    73.91\n",
              "15  2015        30.9  1.64    72.71\n",
              "10  2010        28.5  1.53    67.03"
            ]
          },
          "execution_count": 66,
          "metadata": {},
          "output_type": "execute_result"
        }
      ],
      "source": [
        "df"
      ]
    },
    {
      "cell_type": "markdown",
      "id": "92a8534f-d9f1-41d7-abc1-92579edcf3ae",
      "metadata": {
        "id": "92a8534f-d9f1-41d7-abc1-92579edcf3ae"
      },
      "source": [
        "Lekin buning ham imkoni bor. Odatda `.drop()` kabi metodlar maxsus `inplace` parametri bilan keladi va bu parametr standart `False` qiymatga ega bo'ladi (`inplace=False`)"
      ]
    },
    {
      "cell_type": "code",
      "execution_count": null,
      "id": "9ffb7001-1e1e-4311-a5fa-1986dffdd48a",
      "metadata": {
        "id": "9ffb7001-1e1e-4311-a5fa-1986dffdd48a"
      },
      "outputs": [],
      "source": [
        "df.drop('Yil', axis=1, inplace=True)"
      ]
    },
    {
      "cell_type": "code",
      "execution_count": null,
      "id": "8bb04263-c595-4c82-bddd-e8244df693e9",
      "metadata": {
        "id": "8bb04263-c595-4c82-bddd-e8244df693e9",
        "outputId": "243d6b81-1305-41bf-d277-16fd1009fe74"
      },
      "outputs": [
        {
          "data": {
            "text/html": [
              "<div>\n",
              "<style scoped>\n",
              "    .dataframe tbody tr th:only-of-type {\n",
              "        vertical-align: middle;\n",
              "    }\n",
              "\n",
              "    .dataframe tbody tr th {\n",
              "        vertical-align: top;\n",
              "    }\n",
              "\n",
              "    .dataframe thead th {\n",
              "        text-align: right;\n",
              "    }\n",
              "</style>\n",
              "<table border=\"1\" class=\"dataframe\">\n",
              "  <thead>\n",
              "    <tr style=\"text-align: right;\">\n",
              "      <th></th>\n",
              "      <th>Aholi soni</th>\n",
              "      <th>Temp</th>\n",
              "      <th>Zichlik</th>\n",
              "    </tr>\n",
              "  </thead>\n",
              "  <tbody>\n",
              "    <tr>\n",
              "      <th>21</th>\n",
              "      <td>33.9</td>\n",
              "      <td>1.54</td>\n",
              "      <td>79.77</td>\n",
              "    </tr>\n",
              "    <tr>\n",
              "      <th>20</th>\n",
              "      <td>33.5</td>\n",
              "      <td>1.48</td>\n",
              "      <td>78.68</td>\n",
              "    </tr>\n",
              "    <tr>\n",
              "      <th>19</th>\n",
              "      <td>32.9</td>\n",
              "      <td>1.56</td>\n",
              "      <td>77.53</td>\n",
              "    </tr>\n",
              "    <tr>\n",
              "      <th>18</th>\n",
              "      <td>32.5</td>\n",
              "      <td>1.62</td>\n",
              "      <td>76.34</td>\n",
              "    </tr>\n",
              "    <tr>\n",
              "      <th>17</th>\n",
              "      <td>31.9</td>\n",
              "      <td>1.65</td>\n",
              "      <td>75.13</td>\n",
              "    </tr>\n",
              "  </tbody>\n",
              "</table>\n",
              "</div>"
            ],
            "text/plain": [
              "    Aholi soni  Temp  Zichlik\n",
              "21        33.9  1.54    79.77\n",
              "20        33.5  1.48    78.68\n",
              "19        32.9  1.56    77.53\n",
              "18        32.5  1.62    76.34\n",
              "17        31.9  1.65    75.13"
            ]
          },
          "execution_count": 70,
          "metadata": {},
          "output_type": "execute_result"
        }
      ],
      "source": [
        "df.head() # E'tibot bering endi Yil ustini yo'q"
      ]
    },
    {
      "cell_type": "markdown",
      "id": "d2182c59-d79f-4ba6-b95f-a140d2be53f6",
      "metadata": {
        "id": "d2182c59-d79f-4ba6-b95f-a140d2be53f6"
      },
      "source": [
        "### Indekslash, qator (ustun) tanlash, filtrlash"
      ]
    },
    {
      "cell_type": "markdown",
      "id": "b20cc664-904f-4be7-adc1-7e1ce8a6af93",
      "metadata": {
        "id": "b20cc664-904f-4be7-adc1-7e1ce8a6af93"
      },
      "source": [
        "### `Series`"
      ]
    },
    {
      "cell_type": "code",
      "execution_count": null,
      "id": "ff6e3278-cdde-47c9-8a3e-0450b5037bce",
      "metadata": {
        "id": "ff6e3278-cdde-47c9-8a3e-0450b5037bce"
      },
      "outputs": [],
      "source": [
        "data = df['Aholi soni'] # Series obyekt yaratib olamiz"
      ]
    },
    {
      "cell_type": "code",
      "execution_count": null,
      "id": "956d90ee-5a08-45e7-a912-d94299119394",
      "metadata": {
        "id": "956d90ee-5a08-45e7-a912-d94299119394",
        "outputId": "fa8ccb67-74a0-443f-a3d5-1249558d8f64"
      },
      "outputs": [
        {
          "data": {
            "text/plain": [
              "21    33.9\n",
              "20    33.5\n",
              "19    32.9\n",
              "18    32.5\n",
              "17    31.9\n",
              "16    31.4\n",
              "15    30.9\n",
              "10    28.5\n",
              "Name: Aholi soni, dtype: float64"
            ]
          },
          "execution_count": 83,
          "metadata": {},
          "output_type": "execute_result"
        }
      ],
      "source": [
        "data"
      ]
    },
    {
      "cell_type": "code",
      "execution_count": null,
      "id": "9b1d87ce-47fe-4929-9b32-da0be97bcea4",
      "metadata": {
        "id": "9b1d87ce-47fe-4929-9b32-da0be97bcea4",
        "outputId": "36e59862-ab9a-4acc-ffe6-7d08101b457e"
      },
      "outputs": [
        {
          "data": {
            "text/plain": [
              "21    33.9\n",
              "20    33.5\n",
              "Name: Aholi soni, dtype: float64"
            ]
          },
          "execution_count": 96,
          "metadata": {},
          "output_type": "execute_result"
        }
      ],
      "source": [
        "data[0:2] # 0 va 1 elementlar qaytadi"
      ]
    },
    {
      "cell_type": "code",
      "execution_count": null,
      "id": "4056caae-2153-42fc-bb84-d66c0e37352f",
      "metadata": {
        "id": "4056caae-2153-42fc-bb84-d66c0e37352f",
        "outputId": "a58e9e9a-028f-4ec1-b775-3087266bef0b"
      },
      "outputs": [
        {
          "data": {
            "text/plain": [
              "21    33.9\n",
              "Name: Aholi soni, dtype: float64"
            ]
          },
          "execution_count": 118,
          "metadata": {},
          "output_type": "execute_result"
        }
      ],
      "source": [
        "data[[21]]"
      ]
    },
    {
      "cell_type": "code",
      "execution_count": null,
      "id": "d626f976-1dfa-4ae0-ad41-214de396ece4",
      "metadata": {
        "id": "d626f976-1dfa-4ae0-ad41-214de396ece4",
        "outputId": "d4b1651c-b914-4b18-e97f-74addf6aec57"
      },
      "outputs": [
        {
          "data": {
            "text/plain": [
              "21    33.9\n",
              "19    32.9\n",
              "17    31.9\n",
              "Name: Aholi soni, dtype: float64"
            ]
          },
          "execution_count": 93,
          "metadata": {},
          "output_type": "execute_result"
        }
      ],
      "source": [
        "data[[21,19,17]]"
      ]
    },
    {
      "cell_type": "code",
      "execution_count": null,
      "id": "43cf9c97-db9c-4689-846c-d7d8ce94c736",
      "metadata": {
        "id": "43cf9c97-db9c-4689-846c-d7d8ce94c736"
      },
      "outputs": [],
      "source": [
        "obj = pd.Series(np.arange(8.), index=['a', 'b', 'c', 'd', 'e', 'f', 'g', 'h'])"
      ]
    },
    {
      "cell_type": "code",
      "execution_count": null,
      "id": "df706520-9321-4a63-8642-c31db9a3b691",
      "metadata": {
        "id": "df706520-9321-4a63-8642-c31db9a3b691",
        "outputId": "63ad8deb-4489-4d97-ef2a-e55ee37ec3a8"
      },
      "outputs": [
        {
          "data": {
            "text/plain": [
              "a    0.0\n",
              "b    1.0\n",
              "c    2.0\n",
              "d    3.0\n",
              "e    4.0\n",
              "f    5.0\n",
              "g    6.0\n",
              "h    7.0\n",
              "dtype: float64"
            ]
          },
          "execution_count": 106,
          "metadata": {},
          "output_type": "execute_result"
        }
      ],
      "source": [
        "obj"
      ]
    },
    {
      "cell_type": "code",
      "execution_count": null,
      "id": "29392541-c8d7-4575-b460-ac3e4f440712",
      "metadata": {
        "id": "29392541-c8d7-4575-b460-ac3e4f440712",
        "outputId": "36d4fbe2-ef00-4597-8aa4-0005e25c7a5e"
      },
      "outputs": [
        {
          "data": {
            "text/plain": [
              "pandas.core.series.Series"
            ]
          },
          "execution_count": 123,
          "metadata": {},
          "output_type": "execute_result"
        }
      ],
      "source": [
        "obj[['b']]"
      ]
    },
    {
      "cell_type": "code",
      "execution_count": null,
      "id": "d171debb-464c-4bc5-a30a-e720aae0b840",
      "metadata": {
        "id": "d171debb-464c-4bc5-a30a-e720aae0b840",
        "outputId": "a4666861-bb62-47d3-843d-2059d1789443"
      },
      "outputs": [
        {
          "data": {
            "text/plain": [
              "pandas.core.series.Series"
            ]
          },
          "execution_count": 124,
          "metadata": {},
          "output_type": "execute_result"
        }
      ],
      "source": [
        "type(obj[['b']])"
      ]
    },
    {
      "cell_type": "code",
      "execution_count": null,
      "id": "ed0c80e5-0fa6-4f14-acce-9b2b2b10b934",
      "metadata": {
        "id": "ed0c80e5-0fa6-4f14-acce-9b2b2b10b934",
        "outputId": "fab4551c-06ce-47f4-bd21-9ed0b0762cd6"
      },
      "outputs": [
        {
          "data": {
            "text/plain": [
              "1.0"
            ]
          },
          "execution_count": 122,
          "metadata": {},
          "output_type": "execute_result"
        }
      ],
      "source": [
        "obj['b']"
      ]
    },
    {
      "cell_type": "code",
      "execution_count": null,
      "id": "8a70d977-fcc4-4f5d-a7b7-cf029eb06db5",
      "metadata": {
        "id": "8a70d977-fcc4-4f5d-a7b7-cf029eb06db5",
        "outputId": "8c6b79e3-c9c5-4212-a736-90d1b7660a0a"
      },
      "outputs": [
        {
          "data": {
            "text/plain": [
              "numpy.float64"
            ]
          },
          "execution_count": 125,
          "metadata": {},
          "output_type": "execute_result"
        }
      ],
      "source": [
        "type(obj['b'])"
      ]
    },
    {
      "cell_type": "code",
      "execution_count": null,
      "id": "44d5cf75-9375-4e0a-881d-395e89c5ebf4",
      "metadata": {
        "id": "44d5cf75-9375-4e0a-881d-395e89c5ebf4",
        "outputId": "6a2d7062-0a87-4fec-b6ee-3c75eeb4b6be"
      },
      "outputs": [
        {
          "data": {
            "text/plain": [
              "a    0.0\n",
              "b    1.0\n",
              "c    2.0\n",
              "d    3.0\n",
              "dtype: float64"
            ]
          },
          "execution_count": 130,
          "metadata": {},
          "output_type": "execute_result"
        }
      ],
      "source": [
        "obj[0:4] # 0,1,2,3 indeksdagi qiymatlar 4 kirmaydi"
      ]
    },
    {
      "cell_type": "code",
      "execution_count": null,
      "id": "6a5a5eb5-6962-4a68-8770-a359f69a086c",
      "metadata": {
        "id": "6a5a5eb5-6962-4a68-8770-a359f69a086c",
        "outputId": "b9751f63-4a5a-4dde-89f9-b6d727186236"
      },
      "outputs": [
        {
          "data": {
            "text/plain": [
              "a    0.0\n",
              "b    1.0\n",
              "c    2.0\n",
              "d    3.0\n",
              "e    4.0\n",
              "f    5.0\n",
              "dtype: float64"
            ]
          },
          "execution_count": 131,
          "metadata": {},
          "output_type": "execute_result"
        }
      ],
      "source": [
        "obj['a':'f'] # a,b,c,d,e,f chiqadi."
      ]
    },
    {
      "cell_type": "code",
      "execution_count": null,
      "id": "756f4708-3cb2-437d-96a7-75a8592b519d",
      "metadata": {
        "id": "756f4708-3cb2-437d-96a7-75a8592b519d",
        "outputId": "6378ed2b-23b0-446b-d9a6-c64b41e4e848"
      },
      "outputs": [
        {
          "data": {
            "text/plain": [
              "c    2.0\n",
              "d    3.0\n",
              "f    5.0\n",
              "dtype: float64"
            ]
          },
          "execution_count": 109,
          "metadata": {},
          "output_type": "execute_result"
        }
      ],
      "source": [
        "obj[['c','d','f']]"
      ]
    },
    {
      "cell_type": "code",
      "execution_count": null,
      "id": "b6be64df-930e-4f5c-bb0c-0a2d5b931096",
      "metadata": {
        "id": "b6be64df-930e-4f5c-bb0c-0a2d5b931096",
        "outputId": "576beb32-aa82-4f0c-c6d9-9522afa7f49e"
      },
      "outputs": [
        {
          "data": {
            "text/plain": [
              "b    1.0\n",
              "f    5.0\n",
              "dtype: float64"
            ]
          },
          "execution_count": 133,
          "metadata": {},
          "output_type": "execute_result"
        }
      ],
      "source": [
        "obj[[1,5]]"
      ]
    },
    {
      "cell_type": "code",
      "execution_count": null,
      "id": "646d7084-05ab-4efe-a65f-1d0e671c6d8c",
      "metadata": {
        "id": "646d7084-05ab-4efe-a65f-1d0e671c6d8c"
      },
      "outputs": [],
      "source": [
        "obj['a':'d']=22"
      ]
    },
    {
      "cell_type": "code",
      "execution_count": null,
      "id": "051761d2-35f4-4891-9c73-5cba248b13f9",
      "metadata": {
        "id": "051761d2-35f4-4891-9c73-5cba248b13f9",
        "outputId": "dba98acd-dbca-4ff9-c3d2-87d65b549a5b"
      },
      "outputs": [
        {
          "data": {
            "text/plain": [
              "a    22.0\n",
              "b    22.0\n",
              "c    22.0\n",
              "d    22.0\n",
              "e     4.0\n",
              "f     5.0\n",
              "g     6.0\n",
              "h     7.0\n",
              "dtype: float64"
            ]
          },
          "execution_count": 136,
          "metadata": {},
          "output_type": "execute_result"
        }
      ],
      "source": [
        "obj"
      ]
    },
    {
      "cell_type": "code",
      "execution_count": null,
      "id": "66c684d6-035d-4a77-b786-99e585505323",
      "metadata": {
        "id": "66c684d6-035d-4a77-b786-99e585505323",
        "outputId": "ab90350a-750e-475f-eb54-5a59c037d6d9"
      },
      "outputs": [
        {
          "data": {
            "text/plain": [
              "a    22.0\n",
              "b    22.0\n",
              "c    22.0\n",
              "d    22.0\n",
              "dtype: float64"
            ]
          },
          "execution_count": 137,
          "metadata": {},
          "output_type": "execute_result"
        }
      ],
      "source": [
        "obj[obj==22]"
      ]
    },
    {
      "cell_type": "code",
      "execution_count": null,
      "id": "52a9f552-d4b7-4b4a-87af-66edc14d6b9a",
      "metadata": {
        "id": "52a9f552-d4b7-4b4a-87af-66edc14d6b9a",
        "outputId": "21bef014-9cc4-418a-9cd8-93736be6bda0"
      },
      "outputs": [
        {
          "data": {
            "text/plain": [
              "e    4.0\n",
              "f    5.0\n",
              "g    6.0\n",
              "h    7.0\n",
              "dtype: float64"
            ]
          },
          "execution_count": 138,
          "metadata": {},
          "output_type": "execute_result"
        }
      ],
      "source": [
        "obj[obj<22]"
      ]
    },
    {
      "cell_type": "markdown",
      "id": "691dae59-72db-4076-990d-44b20aea9fa9",
      "metadata": {
        "id": "691dae59-72db-4076-990d-44b20aea9fa9"
      },
      "source": [
        "### `DataFrame`"
      ]
    },
    {
      "cell_type": "code",
      "execution_count": null,
      "id": "e42daf71-f2fc-4554-9e56-d26091b2e97b",
      "metadata": {
        "id": "e42daf71-f2fc-4554-9e56-d26091b2e97b"
      },
      "outputs": [],
      "source": [
        "uz = {2020:33.5, 2019:32.9, 2018:32.5, 2017:31.9, 2016:31.4, 2015:30.9}\n",
        "kz = {2020:18.8, 2019:18.5, 2018:18.3, 2017:18.1, 2016:17.8, 2015:17.6}\n",
        "tj = {2020:9.5, 2019:9.3, 2018:9.1, 2017:8.9, 2016:8.7, 2015:8.5}\n",
        "kg = {2020:6.5, 2019:6.4, 2018:6.3, 2017:6.2, 2016:6.1, 2015:6.0}\n",
        "tr = {2020:6.0, 2019:5.9, 2018:5.9, 2017:5.8, 2016:5.6, 2015:5.6}\n",
        "\n",
        "df = pd.DataFrame(\n",
        "    {'Uzbekistan':uz,\n",
        "     'Kazakhstan':kz,\n",
        "     'Tajikistan':tj,\n",
        "     'Kyrgizstan':kg,\n",
        "     'Turkmenistan':tr\n",
        "    }\n",
        ")"
      ]
    },
    {
      "cell_type": "code",
      "execution_count": null,
      "id": "ffd287c9-62f9-4374-a1a0-33648a0a37be",
      "metadata": {
        "id": "ffd287c9-62f9-4374-a1a0-33648a0a37be",
        "outputId": "3b83f7e1-a894-44f1-8236-de4a4c5a2cd8"
      },
      "outputs": [
        {
          "data": {
            "text/html": [
              "<div>\n",
              "<style scoped>\n",
              "    .dataframe tbody tr th:only-of-type {\n",
              "        vertical-align: middle;\n",
              "    }\n",
              "\n",
              "    .dataframe tbody tr th {\n",
              "        vertical-align: top;\n",
              "    }\n",
              "\n",
              "    .dataframe thead th {\n",
              "        text-align: right;\n",
              "    }\n",
              "</style>\n",
              "<table border=\"1\" class=\"dataframe\">\n",
              "  <thead>\n",
              "    <tr style=\"text-align: right;\">\n",
              "      <th></th>\n",
              "      <th>Uzbekistan</th>\n",
              "      <th>Kazakhstan</th>\n",
              "      <th>Tajikistan</th>\n",
              "      <th>Kyrgizstan</th>\n",
              "      <th>Turkmenistan</th>\n",
              "    </tr>\n",
              "  </thead>\n",
              "  <tbody>\n",
              "    <tr>\n",
              "      <th>2020</th>\n",
              "      <td>33.5</td>\n",
              "      <td>18.8</td>\n",
              "      <td>9.5</td>\n",
              "      <td>6.5</td>\n",
              "      <td>6.0</td>\n",
              "    </tr>\n",
              "    <tr>\n",
              "      <th>2019</th>\n",
              "      <td>32.9</td>\n",
              "      <td>18.5</td>\n",
              "      <td>9.3</td>\n",
              "      <td>6.4</td>\n",
              "      <td>5.9</td>\n",
              "    </tr>\n",
              "    <tr>\n",
              "      <th>2018</th>\n",
              "      <td>32.5</td>\n",
              "      <td>18.3</td>\n",
              "      <td>9.1</td>\n",
              "      <td>6.3</td>\n",
              "      <td>5.9</td>\n",
              "    </tr>\n",
              "    <tr>\n",
              "      <th>2017</th>\n",
              "      <td>31.9</td>\n",
              "      <td>18.1</td>\n",
              "      <td>8.9</td>\n",
              "      <td>6.2</td>\n",
              "      <td>5.8</td>\n",
              "    </tr>\n",
              "    <tr>\n",
              "      <th>2016</th>\n",
              "      <td>31.4</td>\n",
              "      <td>17.8</td>\n",
              "      <td>8.7</td>\n",
              "      <td>6.1</td>\n",
              "      <td>5.6</td>\n",
              "    </tr>\n",
              "    <tr>\n",
              "      <th>2015</th>\n",
              "      <td>30.9</td>\n",
              "      <td>17.6</td>\n",
              "      <td>8.5</td>\n",
              "      <td>6.0</td>\n",
              "      <td>5.6</td>\n",
              "    </tr>\n",
              "  </tbody>\n",
              "</table>\n",
              "</div>"
            ],
            "text/plain": [
              "      Uzbekistan  Kazakhstan  Tajikistan  Kyrgizstan  Turkmenistan\n",
              "2020        33.5        18.8         9.5         6.5           6.0\n",
              "2019        32.9        18.5         9.3         6.4           5.9\n",
              "2018        32.5        18.3         9.1         6.3           5.9\n",
              "2017        31.9        18.1         8.9         6.2           5.8\n",
              "2016        31.4        17.8         8.7         6.1           5.6\n",
              "2015        30.9        17.6         8.5         6.0           5.6"
            ]
          },
          "execution_count": 227,
          "metadata": {},
          "output_type": "execute_result"
        }
      ],
      "source": [
        "df"
      ]
    },
    {
      "cell_type": "code",
      "execution_count": null,
      "id": "edb60916-922d-4d13-8631-8cfe416fafa1",
      "metadata": {
        "id": "edb60916-922d-4d13-8631-8cfe416fafa1",
        "outputId": "2bb891be-ef03-453d-d80e-96b8c2998f5e"
      },
      "outputs": [
        {
          "data": {
            "text/plain": [
              "2020    33.5\n",
              "2019    32.9\n",
              "2018    32.5\n",
              "2017    31.9\n",
              "2016    31.4\n",
              "2015    30.9\n",
              "Name: Uzbekistan, dtype: float64"
            ]
          },
          "execution_count": 228,
          "metadata": {},
          "output_type": "execute_result"
        }
      ],
      "source": [
        "df['Uzbekistan']"
      ]
    },
    {
      "cell_type": "code",
      "execution_count": null,
      "id": "e8c6d5a2-cd3d-4e22-92b6-80aeee6dd9ae",
      "metadata": {
        "id": "e8c6d5a2-cd3d-4e22-92b6-80aeee6dd9ae",
        "outputId": "2a611fdd-508b-40e7-b40f-2b00c711965e"
      },
      "outputs": [
        {
          "data": {
            "text/html": [
              "<div>\n",
              "<style scoped>\n",
              "    .dataframe tbody tr th:only-of-type {\n",
              "        vertical-align: middle;\n",
              "    }\n",
              "\n",
              "    .dataframe tbody tr th {\n",
              "        vertical-align: top;\n",
              "    }\n",
              "\n",
              "    .dataframe thead th {\n",
              "        text-align: right;\n",
              "    }\n",
              "</style>\n",
              "<table border=\"1\" class=\"dataframe\">\n",
              "  <thead>\n",
              "    <tr style=\"text-align: right;\">\n",
              "      <th></th>\n",
              "      <th>Uzbekistan</th>\n",
              "    </tr>\n",
              "  </thead>\n",
              "  <tbody>\n",
              "    <tr>\n",
              "      <th>2020</th>\n",
              "      <td>33.5</td>\n",
              "    </tr>\n",
              "    <tr>\n",
              "      <th>2019</th>\n",
              "      <td>32.9</td>\n",
              "    </tr>\n",
              "    <tr>\n",
              "      <th>2018</th>\n",
              "      <td>32.5</td>\n",
              "    </tr>\n",
              "    <tr>\n",
              "      <th>2017</th>\n",
              "      <td>31.9</td>\n",
              "    </tr>\n",
              "    <tr>\n",
              "      <th>2016</th>\n",
              "      <td>31.4</td>\n",
              "    </tr>\n",
              "    <tr>\n",
              "      <th>2015</th>\n",
              "      <td>30.9</td>\n",
              "    </tr>\n",
              "  </tbody>\n",
              "</table>\n",
              "</div>"
            ],
            "text/plain": [
              "      Uzbekistan\n",
              "2020        33.5\n",
              "2019        32.9\n",
              "2018        32.5\n",
              "2017        31.9\n",
              "2016        31.4\n",
              "2015        30.9"
            ]
          },
          "execution_count": 229,
          "metadata": {},
          "output_type": "execute_result"
        }
      ],
      "source": [
        "df[['Uzbekistan']]"
      ]
    },
    {
      "cell_type": "code",
      "execution_count": null,
      "id": "65c533b1-fda5-4c4b-a505-ba7723d47648",
      "metadata": {
        "id": "65c533b1-fda5-4c4b-a505-ba7723d47648",
        "outputId": "b0a3e478-383a-47cb-df2f-fc323f9180f2"
      },
      "outputs": [
        {
          "data": {
            "text/html": [
              "<div>\n",
              "<style scoped>\n",
              "    .dataframe tbody tr th:only-of-type {\n",
              "        vertical-align: middle;\n",
              "    }\n",
              "\n",
              "    .dataframe tbody tr th {\n",
              "        vertical-align: top;\n",
              "    }\n",
              "\n",
              "    .dataframe thead th {\n",
              "        text-align: right;\n",
              "    }\n",
              "</style>\n",
              "<table border=\"1\" class=\"dataframe\">\n",
              "  <thead>\n",
              "    <tr style=\"text-align: right;\">\n",
              "      <th></th>\n",
              "      <th>Uzbekistan</th>\n",
              "      <th>Turkmenistan</th>\n",
              "    </tr>\n",
              "  </thead>\n",
              "  <tbody>\n",
              "    <tr>\n",
              "      <th>2020</th>\n",
              "      <td>33.5</td>\n",
              "      <td>6.0</td>\n",
              "    </tr>\n",
              "    <tr>\n",
              "      <th>2019</th>\n",
              "      <td>32.9</td>\n",
              "      <td>5.9</td>\n",
              "    </tr>\n",
              "    <tr>\n",
              "      <th>2018</th>\n",
              "      <td>32.5</td>\n",
              "      <td>5.9</td>\n",
              "    </tr>\n",
              "    <tr>\n",
              "      <th>2017</th>\n",
              "      <td>31.9</td>\n",
              "      <td>5.8</td>\n",
              "    </tr>\n",
              "    <tr>\n",
              "      <th>2016</th>\n",
              "      <td>31.4</td>\n",
              "      <td>5.6</td>\n",
              "    </tr>\n",
              "    <tr>\n",
              "      <th>2015</th>\n",
              "      <td>30.9</td>\n",
              "      <td>5.6</td>\n",
              "    </tr>\n",
              "  </tbody>\n",
              "</table>\n",
              "</div>"
            ],
            "text/plain": [
              "      Uzbekistan  Turkmenistan\n",
              "2020        33.5           6.0\n",
              "2019        32.9           5.9\n",
              "2018        32.5           5.9\n",
              "2017        31.9           5.8\n",
              "2016        31.4           5.6\n",
              "2015        30.9           5.6"
            ]
          },
          "execution_count": 230,
          "metadata": {},
          "output_type": "execute_result"
        }
      ],
      "source": [
        "df[['Uzbekistan','Turkmenistan']]"
      ]
    },
    {
      "cell_type": "code",
      "execution_count": null,
      "id": "75ab66b1-4614-43ea-900a-c0c303e677e1",
      "metadata": {
        "id": "75ab66b1-4614-43ea-900a-c0c303e677e1",
        "outputId": "27c4722e-edc1-48e9-f39b-677ac91e3636"
      },
      "outputs": [
        {
          "data": {
            "text/html": [
              "<div>\n",
              "<style scoped>\n",
              "    .dataframe tbody tr th:only-of-type {\n",
              "        vertical-align: middle;\n",
              "    }\n",
              "\n",
              "    .dataframe tbody tr th {\n",
              "        vertical-align: top;\n",
              "    }\n",
              "\n",
              "    .dataframe thead th {\n",
              "        text-align: right;\n",
              "    }\n",
              "</style>\n",
              "<table border=\"1\" class=\"dataframe\">\n",
              "  <thead>\n",
              "    <tr style=\"text-align: right;\">\n",
              "      <th></th>\n",
              "      <th>Uzbekistan</th>\n",
              "      <th>Kazakhstan</th>\n",
              "      <th>Tajikistan</th>\n",
              "      <th>Kyrgizstan</th>\n",
              "      <th>Turkmenistan</th>\n",
              "    </tr>\n",
              "  </thead>\n",
              "  <tbody>\n",
              "    <tr>\n",
              "      <th>2017</th>\n",
              "      <td>31.9</td>\n",
              "      <td>18.1</td>\n",
              "      <td>8.9</td>\n",
              "      <td>6.2</td>\n",
              "      <td>5.8</td>\n",
              "    </tr>\n",
              "    <tr>\n",
              "      <th>2016</th>\n",
              "      <td>31.4</td>\n",
              "      <td>17.8</td>\n",
              "      <td>8.7</td>\n",
              "      <td>6.1</td>\n",
              "      <td>5.6</td>\n",
              "    </tr>\n",
              "    <tr>\n",
              "      <th>2015</th>\n",
              "      <td>30.9</td>\n",
              "      <td>17.6</td>\n",
              "      <td>8.5</td>\n",
              "      <td>6.0</td>\n",
              "      <td>5.6</td>\n",
              "    </tr>\n",
              "  </tbody>\n",
              "</table>\n",
              "</div>"
            ],
            "text/plain": [
              "      Uzbekistan  Kazakhstan  Tajikistan  Kyrgizstan  Turkmenistan\n",
              "2017        31.9        18.1         8.9         6.2           5.8\n",
              "2016        31.4        17.8         8.7         6.1           5.6\n",
              "2015        30.9        17.6         8.5         6.0           5.6"
            ]
          },
          "execution_count": 231,
          "metadata": {},
          "output_type": "execute_result"
        }
      ],
      "source": [
        "df[3:]"
      ]
    },
    {
      "cell_type": "code",
      "execution_count": null,
      "id": "bf32e0c1-2e39-47f7-88b9-aca8091ec5b2",
      "metadata": {
        "id": "bf32e0c1-2e39-47f7-88b9-aca8091ec5b2",
        "outputId": "51c4a7f2-9791-4247-c15a-e44ad889b622"
      },
      "outputs": [
        {
          "data": {
            "text/html": [
              "<div>\n",
              "<style scoped>\n",
              "    .dataframe tbody tr th:only-of-type {\n",
              "        vertical-align: middle;\n",
              "    }\n",
              "\n",
              "    .dataframe tbody tr th {\n",
              "        vertical-align: top;\n",
              "    }\n",
              "\n",
              "    .dataframe thead th {\n",
              "        text-align: right;\n",
              "    }\n",
              "</style>\n",
              "<table border=\"1\" class=\"dataframe\">\n",
              "  <thead>\n",
              "    <tr style=\"text-align: right;\">\n",
              "      <th></th>\n",
              "      <th>Uzbekistan</th>\n",
              "      <th>Kazakhstan</th>\n",
              "      <th>Tajikistan</th>\n",
              "      <th>Kyrgizstan</th>\n",
              "      <th>Turkmenistan</th>\n",
              "    </tr>\n",
              "  </thead>\n",
              "  <tbody>\n",
              "    <tr>\n",
              "      <th>2020</th>\n",
              "      <td>True</td>\n",
              "      <td>True</td>\n",
              "      <td>True</td>\n",
              "      <td>False</td>\n",
              "      <td>False</td>\n",
              "    </tr>\n",
              "    <tr>\n",
              "      <th>2019</th>\n",
              "      <td>True</td>\n",
              "      <td>True</td>\n",
              "      <td>True</td>\n",
              "      <td>False</td>\n",
              "      <td>False</td>\n",
              "    </tr>\n",
              "    <tr>\n",
              "      <th>2018</th>\n",
              "      <td>True</td>\n",
              "      <td>True</td>\n",
              "      <td>True</td>\n",
              "      <td>False</td>\n",
              "      <td>False</td>\n",
              "    </tr>\n",
              "    <tr>\n",
              "      <th>2017</th>\n",
              "      <td>True</td>\n",
              "      <td>True</td>\n",
              "      <td>True</td>\n",
              "      <td>False</td>\n",
              "      <td>False</td>\n",
              "    </tr>\n",
              "    <tr>\n",
              "      <th>2016</th>\n",
              "      <td>True</td>\n",
              "      <td>True</td>\n",
              "      <td>True</td>\n",
              "      <td>False</td>\n",
              "      <td>False</td>\n",
              "    </tr>\n",
              "    <tr>\n",
              "      <th>2015</th>\n",
              "      <td>True</td>\n",
              "      <td>True</td>\n",
              "      <td>True</td>\n",
              "      <td>False</td>\n",
              "      <td>False</td>\n",
              "    </tr>\n",
              "  </tbody>\n",
              "</table>\n",
              "</div>"
            ],
            "text/plain": [
              "      Uzbekistan  Kazakhstan  Tajikistan  Kyrgizstan  Turkmenistan\n",
              "2020        True        True        True       False         False\n",
              "2019        True        True        True       False         False\n",
              "2018        True        True        True       False         False\n",
              "2017        True        True        True       False         False\n",
              "2016        True        True        True       False         False\n",
              "2015        True        True        True       False         False"
            ]
          },
          "execution_count": 232,
          "metadata": {},
          "output_type": "execute_result"
        }
      ],
      "source": [
        "df>8"
      ]
    },
    {
      "cell_type": "code",
      "execution_count": null,
      "id": "0f8ba476-4da9-41b9-946f-271b5aaa9f6d",
      "metadata": {
        "id": "0f8ba476-4da9-41b9-946f-271b5aaa9f6d",
        "outputId": "dafde979-e312-46fc-e846-9fb52f1123ab"
      },
      "outputs": [
        {
          "data": {
            "text/html": [
              "<div>\n",
              "<style scoped>\n",
              "    .dataframe tbody tr th:only-of-type {\n",
              "        vertical-align: middle;\n",
              "    }\n",
              "\n",
              "    .dataframe tbody tr th {\n",
              "        vertical-align: top;\n",
              "    }\n",
              "\n",
              "    .dataframe thead th {\n",
              "        text-align: right;\n",
              "    }\n",
              "</style>\n",
              "<table border=\"1\" class=\"dataframe\">\n",
              "  <thead>\n",
              "    <tr style=\"text-align: right;\">\n",
              "      <th></th>\n",
              "      <th>Uzbekistan</th>\n",
              "    </tr>\n",
              "  </thead>\n",
              "  <tbody>\n",
              "    <tr>\n",
              "      <th>2020</th>\n",
              "      <td>33.5</td>\n",
              "    </tr>\n",
              "    <tr>\n",
              "      <th>2019</th>\n",
              "      <td>32.9</td>\n",
              "    </tr>\n",
              "    <tr>\n",
              "      <th>2018</th>\n",
              "      <td>32.5</td>\n",
              "    </tr>\n",
              "  </tbody>\n",
              "</table>\n",
              "</div>"
            ],
            "text/plain": [
              "      Uzbekistan\n",
              "2020        33.5\n",
              "2019        32.9\n",
              "2018        32.5"
            ]
          },
          "execution_count": 233,
          "metadata": {},
          "output_type": "execute_result"
        }
      ],
      "source": [
        "df[['Uzbekistan']][df['Uzbekistan']>32]"
      ]
    },
    {
      "cell_type": "code",
      "execution_count": null,
      "id": "03102d07-fe53-4407-8db4-c88de98af54f",
      "metadata": {
        "id": "03102d07-fe53-4407-8db4-c88de98af54f"
      },
      "outputs": [],
      "source": [
        "df2=df.transpose(copy=True)"
      ]
    },
    {
      "cell_type": "code",
      "execution_count": null,
      "id": "6838442f-d1c8-49d2-918e-32d82d040991",
      "metadata": {
        "id": "6838442f-d1c8-49d2-918e-32d82d040991",
        "outputId": "0ed1bab0-c4a6-4cc1-991a-c6a12d44141f"
      },
      "outputs": [
        {
          "data": {
            "text/html": [
              "<div>\n",
              "<style scoped>\n",
              "    .dataframe tbody tr th:only-of-type {\n",
              "        vertical-align: middle;\n",
              "    }\n",
              "\n",
              "    .dataframe tbody tr th {\n",
              "        vertical-align: top;\n",
              "    }\n",
              "\n",
              "    .dataframe thead th {\n",
              "        text-align: right;\n",
              "    }\n",
              "</style>\n",
              "<table border=\"1\" class=\"dataframe\">\n",
              "  <thead>\n",
              "    <tr style=\"text-align: right;\">\n",
              "      <th></th>\n",
              "      <th>2020</th>\n",
              "      <th>2019</th>\n",
              "      <th>2018</th>\n",
              "      <th>2017</th>\n",
              "      <th>2016</th>\n",
              "      <th>2015</th>\n",
              "    </tr>\n",
              "  </thead>\n",
              "  <tbody>\n",
              "    <tr>\n",
              "      <th>Uzbekistan</th>\n",
              "      <td>33.5</td>\n",
              "      <td>32.9</td>\n",
              "      <td>32.5</td>\n",
              "      <td>31.9</td>\n",
              "      <td>31.4</td>\n",
              "      <td>30.9</td>\n",
              "    </tr>\n",
              "    <tr>\n",
              "      <th>Kazakhstan</th>\n",
              "      <td>18.8</td>\n",
              "      <td>18.5</td>\n",
              "      <td>18.3</td>\n",
              "      <td>18.1</td>\n",
              "      <td>17.8</td>\n",
              "      <td>17.6</td>\n",
              "    </tr>\n",
              "    <tr>\n",
              "      <th>Tajikistan</th>\n",
              "      <td>9.5</td>\n",
              "      <td>9.3</td>\n",
              "      <td>9.1</td>\n",
              "      <td>8.9</td>\n",
              "      <td>8.7</td>\n",
              "      <td>8.5</td>\n",
              "    </tr>\n",
              "    <tr>\n",
              "      <th>Kyrgizstan</th>\n",
              "      <td>6.5</td>\n",
              "      <td>6.4</td>\n",
              "      <td>6.3</td>\n",
              "      <td>6.2</td>\n",
              "      <td>6.1</td>\n",
              "      <td>6.0</td>\n",
              "    </tr>\n",
              "    <tr>\n",
              "      <th>Turkmenistan</th>\n",
              "      <td>6.0</td>\n",
              "      <td>5.9</td>\n",
              "      <td>5.9</td>\n",
              "      <td>5.8</td>\n",
              "      <td>5.6</td>\n",
              "      <td>5.6</td>\n",
              "    </tr>\n",
              "  </tbody>\n",
              "</table>\n",
              "</div>"
            ],
            "text/plain": [
              "              2020  2019  2018  2017  2016  2015\n",
              "Uzbekistan    33.5  32.9  32.5  31.9  31.4  30.9\n",
              "Kazakhstan    18.8  18.5  18.3  18.1  17.8  17.6\n",
              "Tajikistan     9.5   9.3   9.1   8.9   8.7   8.5\n",
              "Kyrgizstan     6.5   6.4   6.3   6.2   6.1   6.0\n",
              "Turkmenistan   6.0   5.9   5.9   5.8   5.6   5.6"
            ]
          },
          "execution_count": 235,
          "metadata": {},
          "output_type": "execute_result"
        }
      ],
      "source": [
        "df2"
      ]
    },
    {
      "cell_type": "code",
      "execution_count": null,
      "id": "436d2d55-5d31-41dc-9eab-1a2490baeca5",
      "metadata": {
        "id": "436d2d55-5d31-41dc-9eab-1a2490baeca5",
        "outputId": "abda5516-809e-4f44-f5c6-78056c4fe71c"
      },
      "outputs": [
        {
          "data": {
            "text/html": [
              "<div>\n",
              "<style scoped>\n",
              "    .dataframe tbody tr th:only-of-type {\n",
              "        vertical-align: middle;\n",
              "    }\n",
              "\n",
              "    .dataframe tbody tr th {\n",
              "        vertical-align: top;\n",
              "    }\n",
              "\n",
              "    .dataframe thead th {\n",
              "        text-align: right;\n",
              "    }\n",
              "</style>\n",
              "<table border=\"1\" class=\"dataframe\">\n",
              "  <thead>\n",
              "    <tr style=\"text-align: right;\">\n",
              "      <th></th>\n",
              "      <th>2020</th>\n",
              "      <th>2019</th>\n",
              "      <th>2018</th>\n",
              "      <th>2017</th>\n",
              "      <th>2016</th>\n",
              "      <th>2015</th>\n",
              "    </tr>\n",
              "  </thead>\n",
              "  <tbody>\n",
              "    <tr>\n",
              "      <th>Uzbekistan</th>\n",
              "      <td>33.5</td>\n",
              "      <td>32.9</td>\n",
              "      <td>32.5</td>\n",
              "      <td>31.9</td>\n",
              "      <td>31.4</td>\n",
              "      <td>30.9</td>\n",
              "    </tr>\n",
              "    <tr>\n",
              "      <th>Kazakhstan</th>\n",
              "      <td>18.8</td>\n",
              "      <td>18.5</td>\n",
              "      <td>18.3</td>\n",
              "      <td>18.1</td>\n",
              "      <td>17.8</td>\n",
              "      <td>17.6</td>\n",
              "    </tr>\n",
              "    <tr>\n",
              "      <th>Tajikistan</th>\n",
              "      <td>9.5</td>\n",
              "      <td>9.3</td>\n",
              "      <td>9.1</td>\n",
              "      <td>8.9</td>\n",
              "      <td>8.7</td>\n",
              "      <td>8.5</td>\n",
              "    </tr>\n",
              "  </tbody>\n",
              "</table>\n",
              "</div>"
            ],
            "text/plain": [
              "            2020  2019  2018  2017  2016  2015\n",
              "Uzbekistan  33.5  32.9  32.5  31.9  31.4  30.9\n",
              "Kazakhstan  18.8  18.5  18.3  18.1  17.8  17.6\n",
              "Tajikistan   9.5   9.3   9.1   8.9   8.7   8.5"
            ]
          },
          "execution_count": 236,
          "metadata": {},
          "output_type": "execute_result"
        }
      ],
      "source": [
        "df2[df2[2015]>6]"
      ]
    },
    {
      "cell_type": "code",
      "execution_count": null,
      "id": "a15cfad2-7a55-46d6-a8ff-16ff19853ce4",
      "metadata": {
        "id": "a15cfad2-7a55-46d6-a8ff-16ff19853ce4",
        "outputId": "a31105a9-9d7d-4a3d-c4fb-cd14a56a87d7"
      },
      "outputs": [
        {
          "data": {
            "text/html": [
              "<div>\n",
              "<style scoped>\n",
              "    .dataframe tbody tr th:only-of-type {\n",
              "        vertical-align: middle;\n",
              "    }\n",
              "\n",
              "    .dataframe tbody tr th {\n",
              "        vertical-align: top;\n",
              "    }\n",
              "\n",
              "    .dataframe thead th {\n",
              "        text-align: right;\n",
              "    }\n",
              "</style>\n",
              "<table border=\"1\" class=\"dataframe\">\n",
              "  <thead>\n",
              "    <tr style=\"text-align: right;\">\n",
              "      <th></th>\n",
              "      <th>2020</th>\n",
              "      <th>2019</th>\n",
              "      <th>2018</th>\n",
              "      <th>2017</th>\n",
              "      <th>2016</th>\n",
              "      <th>2015</th>\n",
              "    </tr>\n",
              "  </thead>\n",
              "  <tbody>\n",
              "    <tr>\n",
              "      <th>Uzbekistan</th>\n",
              "      <td>33.5</td>\n",
              "      <td>32.9</td>\n",
              "      <td>32.5</td>\n",
              "      <td>31.9</td>\n",
              "      <td>31.4</td>\n",
              "      <td>30.9</td>\n",
              "    </tr>\n",
              "    <tr>\n",
              "      <th>Kazakhstan</th>\n",
              "      <td>18.8</td>\n",
              "      <td>18.5</td>\n",
              "      <td>18.3</td>\n",
              "      <td>18.1</td>\n",
              "      <td>17.8</td>\n",
              "      <td>17.6</td>\n",
              "    </tr>\n",
              "    <tr>\n",
              "      <th>Tajikistan</th>\n",
              "      <td>9.5</td>\n",
              "      <td>9.3</td>\n",
              "      <td>9.1</td>\n",
              "      <td>8.9</td>\n",
              "      <td>8.7</td>\n",
              "      <td>8.5</td>\n",
              "    </tr>\n",
              "    <tr>\n",
              "      <th>Kyrgizstan</th>\n",
              "      <td>6.5</td>\n",
              "      <td>6.4</td>\n",
              "      <td>6.3</td>\n",
              "      <td>6.2</td>\n",
              "      <td>6.1</td>\n",
              "      <td>6.0</td>\n",
              "    </tr>\n",
              "    <tr>\n",
              "      <th>Turkmenistan</th>\n",
              "      <td>6.0</td>\n",
              "      <td>5.9</td>\n",
              "      <td>5.9</td>\n",
              "      <td>5.8</td>\n",
              "      <td>5.6</td>\n",
              "      <td>5.6</td>\n",
              "    </tr>\n",
              "  </tbody>\n",
              "</table>\n",
              "</div>"
            ],
            "text/plain": [
              "              2020  2019  2018  2017  2016  2015\n",
              "Uzbekistan    33.5  32.9  32.5  31.9  31.4  30.9\n",
              "Kazakhstan    18.8  18.5  18.3  18.1  17.8  17.6\n",
              "Tajikistan     9.5   9.3   9.1   8.9   8.7   8.5\n",
              "Kyrgizstan     6.5   6.4   6.3   6.2   6.1   6.0\n",
              "Turkmenistan   6.0   5.9   5.9   5.8   5.6   5.6"
            ]
          },
          "execution_count": 237,
          "metadata": {},
          "output_type": "execute_result"
        }
      ],
      "source": [
        "df2"
      ]
    },
    {
      "cell_type": "code",
      "execution_count": null,
      "id": "f1063c5d-be45-4e34-9c5e-40a9555e929d",
      "metadata": {
        "id": "f1063c5d-be45-4e34-9c5e-40a9555e929d"
      },
      "outputs": [],
      "source": [
        "df2[df2<8] = 0"
      ]
    },
    {
      "cell_type": "code",
      "execution_count": null,
      "id": "874de0ae-87ff-4cfa-9482-ad55965f9626",
      "metadata": {
        "id": "874de0ae-87ff-4cfa-9482-ad55965f9626",
        "outputId": "6cded93e-b37e-4ddd-9c06-e7da21e24306"
      },
      "outputs": [
        {
          "data": {
            "text/html": [
              "<div>\n",
              "<style scoped>\n",
              "    .dataframe tbody tr th:only-of-type {\n",
              "        vertical-align: middle;\n",
              "    }\n",
              "\n",
              "    .dataframe tbody tr th {\n",
              "        vertical-align: top;\n",
              "    }\n",
              "\n",
              "    .dataframe thead th {\n",
              "        text-align: right;\n",
              "    }\n",
              "</style>\n",
              "<table border=\"1\" class=\"dataframe\">\n",
              "  <thead>\n",
              "    <tr style=\"text-align: right;\">\n",
              "      <th></th>\n",
              "      <th>2020</th>\n",
              "      <th>2019</th>\n",
              "      <th>2018</th>\n",
              "      <th>2017</th>\n",
              "      <th>2016</th>\n",
              "      <th>2015</th>\n",
              "    </tr>\n",
              "  </thead>\n",
              "  <tbody>\n",
              "    <tr>\n",
              "      <th>Uzbekistan</th>\n",
              "      <td>33.5</td>\n",
              "      <td>32.9</td>\n",
              "      <td>32.5</td>\n",
              "      <td>31.9</td>\n",
              "      <td>31.4</td>\n",
              "      <td>30.9</td>\n",
              "    </tr>\n",
              "    <tr>\n",
              "      <th>Kazakhstan</th>\n",
              "      <td>18.8</td>\n",
              "      <td>18.5</td>\n",
              "      <td>18.3</td>\n",
              "      <td>18.1</td>\n",
              "      <td>17.8</td>\n",
              "      <td>17.6</td>\n",
              "    </tr>\n",
              "    <tr>\n",
              "      <th>Tajikistan</th>\n",
              "      <td>9.5</td>\n",
              "      <td>9.3</td>\n",
              "      <td>9.1</td>\n",
              "      <td>8.9</td>\n",
              "      <td>8.7</td>\n",
              "      <td>8.5</td>\n",
              "    </tr>\n",
              "    <tr>\n",
              "      <th>Kyrgizstan</th>\n",
              "      <td>0.0</td>\n",
              "      <td>0.0</td>\n",
              "      <td>0.0</td>\n",
              "      <td>0.0</td>\n",
              "      <td>0.0</td>\n",
              "      <td>0.0</td>\n",
              "    </tr>\n",
              "    <tr>\n",
              "      <th>Turkmenistan</th>\n",
              "      <td>0.0</td>\n",
              "      <td>0.0</td>\n",
              "      <td>0.0</td>\n",
              "      <td>0.0</td>\n",
              "      <td>0.0</td>\n",
              "      <td>0.0</td>\n",
              "    </tr>\n",
              "  </tbody>\n",
              "</table>\n",
              "</div>"
            ],
            "text/plain": [
              "              2020  2019  2018  2017  2016  2015\n",
              "Uzbekistan    33.5  32.9  32.5  31.9  31.4  30.9\n",
              "Kazakhstan    18.8  18.5  18.3  18.1  17.8  17.6\n",
              "Tajikistan     9.5   9.3   9.1   8.9   8.7   8.5\n",
              "Kyrgizstan     0.0   0.0   0.0   0.0   0.0   0.0\n",
              "Turkmenistan   0.0   0.0   0.0   0.0   0.0   0.0"
            ]
          },
          "execution_count": 239,
          "metadata": {},
          "output_type": "execute_result"
        }
      ],
      "source": [
        "df2"
      ]
    },
    {
      "cell_type": "code",
      "execution_count": null,
      "id": "d174b585-1244-404a-81cd-95a8b964612e",
      "metadata": {
        "id": "d174b585-1244-404a-81cd-95a8b964612e",
        "outputId": "a8f5c46c-2688-4e46-9c57-a5fd13c58434"
      },
      "outputs": [
        {
          "data": {
            "text/html": [
              "<div>\n",
              "<style scoped>\n",
              "    .dataframe tbody tr th:only-of-type {\n",
              "        vertical-align: middle;\n",
              "    }\n",
              "\n",
              "    .dataframe tbody tr th {\n",
              "        vertical-align: top;\n",
              "    }\n",
              "\n",
              "    .dataframe thead th {\n",
              "        text-align: right;\n",
              "    }\n",
              "</style>\n",
              "<table border=\"1\" class=\"dataframe\">\n",
              "  <thead>\n",
              "    <tr style=\"text-align: right;\">\n",
              "      <th></th>\n",
              "      <th>2020</th>\n",
              "    </tr>\n",
              "  </thead>\n",
              "  <tbody>\n",
              "    <tr>\n",
              "      <th>Uzbekistan</th>\n",
              "      <td>33.5</td>\n",
              "    </tr>\n",
              "    <tr>\n",
              "      <th>Kazakhstan</th>\n",
              "      <td>18.8</td>\n",
              "    </tr>\n",
              "    <tr>\n",
              "      <th>Tajikistan</th>\n",
              "      <td>9.5</td>\n",
              "    </tr>\n",
              "    <tr>\n",
              "      <th>Kyrgizstan</th>\n",
              "      <td>0.0</td>\n",
              "    </tr>\n",
              "    <tr>\n",
              "      <th>Turkmenistan</th>\n",
              "      <td>0.0</td>\n",
              "    </tr>\n",
              "  </tbody>\n",
              "</table>\n",
              "</div>"
            ],
            "text/plain": [
              "              2020\n",
              "Uzbekistan    33.5\n",
              "Kazakhstan    18.8\n",
              "Tajikistan     9.5\n",
              "Kyrgizstan     0.0\n",
              "Turkmenistan   0.0"
            ]
          },
          "execution_count": 249,
          "metadata": {},
          "output_type": "execute_result"
        }
      ],
      "source": [
        "df2[[2020]]"
      ]
    },
    {
      "cell_type": "markdown",
      "id": "7b8d0662-3a2e-4a6b-a931-59aca1aefb1c",
      "metadata": {
        "id": "7b8d0662-3a2e-4a6b-a931-59aca1aefb1c"
      },
      "source": [
        "## `.loc` va `.iloc`\n",
        "`.loc` yordamida qator va ustunlani ularning nomi bo'yicha tanlash mumkin."
      ]
    },
    {
      "cell_type": "code",
      "execution_count": null,
      "id": "38c7aadf-157a-4f73-a27e-9fa9de38deda",
      "metadata": {
        "id": "38c7aadf-157a-4f73-a27e-9fa9de38deda",
        "outputId": "d8807cff-3461-4598-8ef8-ecd46fed2ffd"
      },
      "outputs": [
        {
          "data": {
            "text/html": [
              "<div>\n",
              "<style scoped>\n",
              "    .dataframe tbody tr th:only-of-type {\n",
              "        vertical-align: middle;\n",
              "    }\n",
              "\n",
              "    .dataframe tbody tr th {\n",
              "        vertical-align: top;\n",
              "    }\n",
              "\n",
              "    .dataframe thead th {\n",
              "        text-align: right;\n",
              "    }\n",
              "</style>\n",
              "<table border=\"1\" class=\"dataframe\">\n",
              "  <thead>\n",
              "    <tr style=\"text-align: right;\">\n",
              "      <th></th>\n",
              "      <th>Uzbekistan</th>\n",
              "      <th>Kazakhstan</th>\n",
              "      <th>Tajikistan</th>\n",
              "      <th>Kyrgizstan</th>\n",
              "      <th>Turkmenistan</th>\n",
              "    </tr>\n",
              "  </thead>\n",
              "  <tbody>\n",
              "    <tr>\n",
              "      <th>2020</th>\n",
              "      <td>33.5</td>\n",
              "      <td>18.8</td>\n",
              "      <td>9.5</td>\n",
              "      <td>6.5</td>\n",
              "      <td>6.0</td>\n",
              "    </tr>\n",
              "    <tr>\n",
              "      <th>2019</th>\n",
              "      <td>32.9</td>\n",
              "      <td>18.5</td>\n",
              "      <td>9.3</td>\n",
              "      <td>6.4</td>\n",
              "      <td>5.9</td>\n",
              "    </tr>\n",
              "    <tr>\n",
              "      <th>2018</th>\n",
              "      <td>32.5</td>\n",
              "      <td>18.3</td>\n",
              "      <td>9.1</td>\n",
              "      <td>6.3</td>\n",
              "      <td>5.9</td>\n",
              "    </tr>\n",
              "    <tr>\n",
              "      <th>2017</th>\n",
              "      <td>31.9</td>\n",
              "      <td>18.1</td>\n",
              "      <td>8.9</td>\n",
              "      <td>6.2</td>\n",
              "      <td>5.8</td>\n",
              "    </tr>\n",
              "    <tr>\n",
              "      <th>2016</th>\n",
              "      <td>31.4</td>\n",
              "      <td>17.8</td>\n",
              "      <td>8.7</td>\n",
              "      <td>6.1</td>\n",
              "      <td>5.6</td>\n",
              "    </tr>\n",
              "    <tr>\n",
              "      <th>2015</th>\n",
              "      <td>30.9</td>\n",
              "      <td>17.6</td>\n",
              "      <td>8.5</td>\n",
              "      <td>6.0</td>\n",
              "      <td>5.6</td>\n",
              "    </tr>\n",
              "  </tbody>\n",
              "</table>\n",
              "</div>"
            ],
            "text/plain": [
              "      Uzbekistan  Kazakhstan  Tajikistan  Kyrgizstan  Turkmenistan\n",
              "2020        33.5        18.8         9.5         6.5           6.0\n",
              "2019        32.9        18.5         9.3         6.4           5.9\n",
              "2018        32.5        18.3         9.1         6.3           5.9\n",
              "2017        31.9        18.1         8.9         6.2           5.8\n",
              "2016        31.4        17.8         8.7         6.1           5.6\n",
              "2015        30.9        17.6         8.5         6.0           5.6"
            ]
          },
          "execution_count": 250,
          "metadata": {},
          "output_type": "execute_result"
        }
      ],
      "source": [
        "df"
      ]
    },
    {
      "cell_type": "code",
      "execution_count": null,
      "id": "01e9bf29-5535-4573-80f9-13f8c32e477f",
      "metadata": {
        "id": "01e9bf29-5535-4573-80f9-13f8c32e477f",
        "outputId": "abab7f65-5c12-4c5d-be60-7345e1d7bf1a"
      },
      "outputs": [
        {
          "data": {
            "text/html": [
              "<div>\n",
              "<style scoped>\n",
              "    .dataframe tbody tr th:only-of-type {\n",
              "        vertical-align: middle;\n",
              "    }\n",
              "\n",
              "    .dataframe tbody tr th {\n",
              "        vertical-align: top;\n",
              "    }\n",
              "\n",
              "    .dataframe thead th {\n",
              "        text-align: right;\n",
              "    }\n",
              "</style>\n",
              "<table border=\"1\" class=\"dataframe\">\n",
              "  <thead>\n",
              "    <tr style=\"text-align: right;\">\n",
              "      <th></th>\n",
              "      <th>Uzbekistan</th>\n",
              "      <th>Kazakhstan</th>\n",
              "      <th>Tajikistan</th>\n",
              "      <th>Kyrgizstan</th>\n",
              "      <th>Turkmenistan</th>\n",
              "    </tr>\n",
              "  </thead>\n",
              "  <tbody>\n",
              "    <tr>\n",
              "      <th>2015</th>\n",
              "      <td>30.9</td>\n",
              "      <td>17.6</td>\n",
              "      <td>8.5</td>\n",
              "      <td>6.0</td>\n",
              "      <td>5.6</td>\n",
              "    </tr>\n",
              "  </tbody>\n",
              "</table>\n",
              "</div>"
            ],
            "text/plain": [
              "      Uzbekistan  Kazakhstan  Tajikistan  Kyrgizstan  Turkmenistan\n",
              "2015        30.9        17.6         8.5         6.0           5.6"
            ]
          },
          "execution_count": 258,
          "metadata": {},
          "output_type": "execute_result"
        }
      ],
      "source": [
        "df.loc[[2015]]"
      ]
    },
    {
      "cell_type": "code",
      "execution_count": null,
      "id": "4d103a87-f91d-4c1c-b72d-a40c8bff728d",
      "metadata": {
        "id": "4d103a87-f91d-4c1c-b72d-a40c8bff728d",
        "outputId": "f77902db-bebc-45cd-a1ad-2fa303046ced"
      },
      "outputs": [
        {
          "data": {
            "text/html": [
              "<div>\n",
              "<style scoped>\n",
              "    .dataframe tbody tr th:only-of-type {\n",
              "        vertical-align: middle;\n",
              "    }\n",
              "\n",
              "    .dataframe tbody tr th {\n",
              "        vertical-align: top;\n",
              "    }\n",
              "\n",
              "    .dataframe thead th {\n",
              "        text-align: right;\n",
              "    }\n",
              "</style>\n",
              "<table border=\"1\" class=\"dataframe\">\n",
              "  <thead>\n",
              "    <tr style=\"text-align: right;\">\n",
              "      <th></th>\n",
              "      <th>Uzbekistan</th>\n",
              "      <th>Kazakhstan</th>\n",
              "      <th>Tajikistan</th>\n",
              "      <th>Kyrgizstan</th>\n",
              "      <th>Turkmenistan</th>\n",
              "    </tr>\n",
              "  </thead>\n",
              "  <tbody>\n",
              "    <tr>\n",
              "      <th>2017</th>\n",
              "      <td>31.9</td>\n",
              "      <td>18.1</td>\n",
              "      <td>8.9</td>\n",
              "      <td>6.2</td>\n",
              "      <td>5.8</td>\n",
              "    </tr>\n",
              "    <tr>\n",
              "      <th>2020</th>\n",
              "      <td>33.5</td>\n",
              "      <td>18.8</td>\n",
              "      <td>9.5</td>\n",
              "      <td>6.5</td>\n",
              "      <td>6.0</td>\n",
              "    </tr>\n",
              "  </tbody>\n",
              "</table>\n",
              "</div>"
            ],
            "text/plain": [
              "      Uzbekistan  Kazakhstan  Tajikistan  Kyrgizstan  Turkmenistan\n",
              "2017        31.9        18.1         8.9         6.2           5.8\n",
              "2020        33.5        18.8         9.5         6.5           6.0"
            ]
          },
          "execution_count": 259,
          "metadata": {},
          "output_type": "execute_result"
        }
      ],
      "source": [
        "df.loc[[2017,2020]]"
      ]
    },
    {
      "cell_type": "code",
      "execution_count": null,
      "id": "976c26dc-b1f9-435d-a1cf-703a024608dc",
      "metadata": {
        "id": "976c26dc-b1f9-435d-a1cf-703a024608dc",
        "outputId": "cca6ecb9-4b99-457f-ab7a-ad69de207bf5"
      },
      "outputs": [
        {
          "data": {
            "text/html": [
              "<div>\n",
              "<style scoped>\n",
              "    .dataframe tbody tr th:only-of-type {\n",
              "        vertical-align: middle;\n",
              "    }\n",
              "\n",
              "    .dataframe tbody tr th {\n",
              "        vertical-align: top;\n",
              "    }\n",
              "\n",
              "    .dataframe thead th {\n",
              "        text-align: right;\n",
              "    }\n",
              "</style>\n",
              "<table border=\"1\" class=\"dataframe\">\n",
              "  <thead>\n",
              "    <tr style=\"text-align: right;\">\n",
              "      <th></th>\n",
              "      <th>Uzbekistan</th>\n",
              "      <th>Kazakhstan</th>\n",
              "    </tr>\n",
              "  </thead>\n",
              "  <tbody>\n",
              "    <tr>\n",
              "      <th>2020</th>\n",
              "      <td>33.5</td>\n",
              "      <td>18.8</td>\n",
              "    </tr>\n",
              "    <tr>\n",
              "      <th>2019</th>\n",
              "      <td>32.9</td>\n",
              "      <td>18.5</td>\n",
              "    </tr>\n",
              "  </tbody>\n",
              "</table>\n",
              "</div>"
            ],
            "text/plain": [
              "      Uzbekistan  Kazakhstan\n",
              "2020        33.5        18.8\n",
              "2019        32.9        18.5"
            ]
          },
          "execution_count": 256,
          "metadata": {},
          "output_type": "execute_result"
        }
      ],
      "source": [
        "df.loc[[2020,2019],['Uzbekistan','Kazakhstan']]"
      ]
    },
    {
      "cell_type": "markdown",
      "id": "9727a4bc-e789-4fca-83ab-4e23898f3da5",
      "metadata": {
        "id": "9727a4bc-e789-4fca-83ab-4e23898f3da5"
      },
      "source": [
        "`.iloc` yordamida qator va ustunlani ularning tartib raqami bo'yicha tanlash mumkin"
      ]
    },
    {
      "cell_type": "code",
      "execution_count": null,
      "id": "061c7e60-94c2-4ff6-8b30-8565d0833dc8",
      "metadata": {
        "id": "061c7e60-94c2-4ff6-8b30-8565d0833dc8",
        "outputId": "b864440b-2241-4d4e-f85b-b266f378624b"
      },
      "outputs": [
        {
          "data": {
            "text/html": [
              "<div>\n",
              "<style scoped>\n",
              "    .dataframe tbody tr th:only-of-type {\n",
              "        vertical-align: middle;\n",
              "    }\n",
              "\n",
              "    .dataframe tbody tr th {\n",
              "        vertical-align: top;\n",
              "    }\n",
              "\n",
              "    .dataframe thead th {\n",
              "        text-align: right;\n",
              "    }\n",
              "</style>\n",
              "<table border=\"1\" class=\"dataframe\">\n",
              "  <thead>\n",
              "    <tr style=\"text-align: right;\">\n",
              "      <th></th>\n",
              "      <th>Uzbekistan</th>\n",
              "      <th>Kazakhstan</th>\n",
              "      <th>Tajikistan</th>\n",
              "      <th>Kyrgizstan</th>\n",
              "      <th>Turkmenistan</th>\n",
              "    </tr>\n",
              "  </thead>\n",
              "  <tbody>\n",
              "    <tr>\n",
              "      <th>2020</th>\n",
              "      <td>33.5</td>\n",
              "      <td>18.8</td>\n",
              "      <td>9.5</td>\n",
              "      <td>6.5</td>\n",
              "      <td>6.0</td>\n",
              "    </tr>\n",
              "    <tr>\n",
              "      <th>2018</th>\n",
              "      <td>32.5</td>\n",
              "      <td>18.3</td>\n",
              "      <td>9.1</td>\n",
              "      <td>6.3</td>\n",
              "      <td>5.9</td>\n",
              "    </tr>\n",
              "    <tr>\n",
              "      <th>2016</th>\n",
              "      <td>31.4</td>\n",
              "      <td>17.8</td>\n",
              "      <td>8.7</td>\n",
              "      <td>6.1</td>\n",
              "      <td>5.6</td>\n",
              "    </tr>\n",
              "  </tbody>\n",
              "</table>\n",
              "</div>"
            ],
            "text/plain": [
              "      Uzbekistan  Kazakhstan  Tajikistan  Kyrgizstan  Turkmenistan\n",
              "2020        33.5        18.8         9.5         6.5           6.0\n",
              "2018        32.5        18.3         9.1         6.3           5.9\n",
              "2016        31.4        17.8         8.7         6.1           5.6"
            ]
          },
          "execution_count": 262,
          "metadata": {},
          "output_type": "execute_result"
        }
      ],
      "source": [
        "df.iloc[[0,2,4]]"
      ]
    },
    {
      "cell_type": "code",
      "execution_count": null,
      "id": "d489ea2e-fc82-4706-98df-5c46de0b3f9c",
      "metadata": {
        "id": "d489ea2e-fc82-4706-98df-5c46de0b3f9c",
        "outputId": "db6518ce-38a5-4df2-c8ce-48156040987c"
      },
      "outputs": [
        {
          "data": {
            "text/html": [
              "<div>\n",
              "<style scoped>\n",
              "    .dataframe tbody tr th:only-of-type {\n",
              "        vertical-align: middle;\n",
              "    }\n",
              "\n",
              "    .dataframe tbody tr th {\n",
              "        vertical-align: top;\n",
              "    }\n",
              "\n",
              "    .dataframe thead th {\n",
              "        text-align: right;\n",
              "    }\n",
              "</style>\n",
              "<table border=\"1\" class=\"dataframe\">\n",
              "  <thead>\n",
              "    <tr style=\"text-align: right;\">\n",
              "      <th></th>\n",
              "      <th>Uzbekistan</th>\n",
              "      <th>Kyrgizstan</th>\n",
              "      <th>Turkmenistan</th>\n",
              "    </tr>\n",
              "  </thead>\n",
              "  <tbody>\n",
              "    <tr>\n",
              "      <th>2020</th>\n",
              "      <td>33.5</td>\n",
              "      <td>6.5</td>\n",
              "      <td>6.0</td>\n",
              "    </tr>\n",
              "  </tbody>\n",
              "</table>\n",
              "</div>"
            ],
            "text/plain": [
              "      Uzbekistan  Kyrgizstan  Turkmenistan\n",
              "2020        33.5         6.5           6.0"
            ]
          },
          "execution_count": 254,
          "metadata": {},
          "output_type": "execute_result"
        }
      ],
      "source": [
        "df.iloc[[0],[0,3,4]]"
      ]
    },
    {
      "cell_type": "code",
      "execution_count": null,
      "id": "10a20779-2c21-4029-8d23-bc269be3fb71",
      "metadata": {
        "id": "10a20779-2c21-4029-8d23-bc269be3fb71",
        "outputId": "5a5420e5-8146-4c70-a244-95eeb7bd34b7"
      },
      "outputs": [
        {
          "data": {
            "text/plain": [
              "2020    33.5\n",
              "2019    32.9\n",
              "2018    32.5\n",
              "2017    31.9\n",
              "Name: Uzbekistan, dtype: float64"
            ]
          },
          "execution_count": 265,
          "metadata": {},
          "output_type": "execute_result"
        }
      ],
      "source": [
        "df.loc[:2017,'Uzbekistan']"
      ]
    },
    {
      "cell_type": "markdown",
      "id": "dac25405-dd9b-4339-8d1d-75166e7e529a",
      "metadata": {
        "id": "dac25405-dd9b-4339-8d1d-75166e7e529a"
      },
      "source": [
        "## Sonli indekslar\n",
        "\n",
        "`pandas` obyektlariga indeks orqali murojaat qilish biroz mujmal tuyulishi mumkin. Bunga sabab biz o'rganib qolgan list va tuple ma'lumot turlari bilan ishlashdagi farq."
      ]
    },
    {
      "cell_type": "markdown",
      "id": "a363bcb1-962e-4f32-a9ec-57f60d305acf",
      "metadata": {
        "id": "a363bcb1-962e-4f32-a9ec-57f60d305acf"
      },
      "source": [
        "Misol uchun, Pythonda ro'yxatning oxirgi elementini ko'rish uchun -1 indeksi orqali murojaat qilishimiz mumkin:"
      ]
    },
    {
      "cell_type": "code",
      "execution_count": null,
      "id": "0e856814-14f8-4319-b0e1-638451c032d7",
      "metadata": {
        "id": "0e856814-14f8-4319-b0e1-638451c032d7",
        "outputId": "e033dec3-794c-4df6-a35f-0565dce38bdb"
      },
      "outputs": [
        {
          "data": {
            "text/plain": [
              "[0, 1, 2, 3, 4, 5, 6, 7, 8, 9, 10]"
            ]
          },
          "execution_count": 272,
          "metadata": {},
          "output_type": "execute_result"
        }
      ],
      "source": [
        "nums = list(range(0,11))\n",
        "nums"
      ]
    },
    {
      "cell_type": "code",
      "execution_count": null,
      "id": "103dccf9-2f5e-42d5-a642-d210d539fb85",
      "metadata": {
        "id": "103dccf9-2f5e-42d5-a642-d210d539fb85",
        "outputId": "952c9196-dcc0-49d4-dbce-9bc20aaa8f32"
      },
      "outputs": [
        {
          "data": {
            "text/plain": [
              "10"
            ]
          },
          "execution_count": 273,
          "metadata": {},
          "output_type": "execute_result"
        }
      ],
      "source": [
        "nums[-1] # nums oxirgi elementi"
      ]
    },
    {
      "cell_type": "markdown",
      "id": "e16e9620-ef79-4ecf-88da-2a65a5cef3ab",
      "metadata": {
        "id": "e16e9620-ef79-4ecf-88da-2a65a5cef3ab"
      },
      "source": [
        "Yuqoridagi usulni sonli indeksga ega `Series` ma'lumot tuzilmasiga qo'llab ko'ramiz:"
      ]
    },
    {
      "cell_type": "code",
      "execution_count": null,
      "id": "35d2e6d1-76f6-49a0-96f4-d7de87ff9fbd",
      "metadata": {
        "id": "35d2e6d1-76f6-49a0-96f4-d7de87ff9fbd",
        "outputId": "a6126477-6105-4f9c-da71-38740de21353"
      },
      "outputs": [
        {
          "data": {
            "text/plain": [
              "0    0.0\n",
              "1    1.0\n",
              "2    2.0\n",
              "3    3.0\n",
              "4    4.0\n",
              "5    5.0\n",
              "6    6.0\n",
              "7    7.0\n",
              "8    8.0\n",
              "9    9.0\n",
              "dtype: float64"
            ]
          },
          "execution_count": 275,
          "metadata": {},
          "output_type": "execute_result"
        }
      ],
      "source": [
        "nums = pd.Series(np.arange(10.))\n",
        "nums"
      ]
    },
    {
      "cell_type": "code",
      "execution_count": null,
      "id": "a8b249af-21fd-4ee0-bc75-d42106e3a61d",
      "metadata": {
        "id": "a8b249af-21fd-4ee0-bc75-d42106e3a61d",
        "outputId": "34b7d4ac-d13b-4f51-be7e-38944e98fc19"
      },
      "outputs": [
        {
          "ename": "KeyError",
          "evalue": "-1",
          "output_type": "error",
          "traceback": [
            "\u001b[1;31m---------------------------------------------------------------------------\u001b[0m",
            "\u001b[1;31mValueError\u001b[0m                                Traceback (most recent call last)",
            "\u001b[1;32m~\\Anaconda3\\lib\\site-packages\\pandas\\core\\indexes\\range.py\u001b[0m in \u001b[0;36mget_loc\u001b[1;34m(self, key, method, tolerance)\u001b[0m\n\u001b[0;32m    350\u001b[0m                 \u001b[1;32mtry\u001b[0m\u001b[1;33m:\u001b[0m\u001b[1;33m\u001b[0m\u001b[1;33m\u001b[0m\u001b[0m\n\u001b[1;32m--> 351\u001b[1;33m                     \u001b[1;32mreturn\u001b[0m \u001b[0mself\u001b[0m\u001b[1;33m.\u001b[0m\u001b[0m_range\u001b[0m\u001b[1;33m.\u001b[0m\u001b[0mindex\u001b[0m\u001b[1;33m(\u001b[0m\u001b[0mnew_key\u001b[0m\u001b[1;33m)\u001b[0m\u001b[1;33m\u001b[0m\u001b[1;33m\u001b[0m\u001b[0m\n\u001b[0m\u001b[0;32m    352\u001b[0m                 \u001b[1;32mexcept\u001b[0m \u001b[0mValueError\u001b[0m \u001b[1;32mas\u001b[0m \u001b[0merr\u001b[0m\u001b[1;33m:\u001b[0m\u001b[1;33m\u001b[0m\u001b[1;33m\u001b[0m\u001b[0m\n",
            "\u001b[1;31mValueError\u001b[0m: -1 is not in range",
            "\nThe above exception was the direct cause of the following exception:\n",
            "\u001b[1;31mKeyError\u001b[0m                                  Traceback (most recent call last)",
            "\u001b[1;32m<ipython-input-276-f23cd2ffe120>\u001b[0m in \u001b[0;36m<module>\u001b[1;34m\u001b[0m\n\u001b[1;32m----> 1\u001b[1;33m \u001b[0mnums\u001b[0m\u001b[1;33m[\u001b[0m\u001b[1;33m-\u001b[0m\u001b[1;36m1\u001b[0m\u001b[1;33m]\u001b[0m\u001b[1;33m\u001b[0m\u001b[1;33m\u001b[0m\u001b[0m\n\u001b[0m",
            "\u001b[1;32m~\\Anaconda3\\lib\\site-packages\\pandas\\core\\series.py\u001b[0m in \u001b[0;36m__getitem__\u001b[1;34m(self, key)\u001b[0m\n\u001b[0;32m    851\u001b[0m \u001b[1;33m\u001b[0m\u001b[0m\n\u001b[0;32m    852\u001b[0m         \u001b[1;32melif\u001b[0m \u001b[0mkey_is_scalar\u001b[0m\u001b[1;33m:\u001b[0m\u001b[1;33m\u001b[0m\u001b[1;33m\u001b[0m\u001b[0m\n\u001b[1;32m--> 853\u001b[1;33m             \u001b[1;32mreturn\u001b[0m \u001b[0mself\u001b[0m\u001b[1;33m.\u001b[0m\u001b[0m_get_value\u001b[0m\u001b[1;33m(\u001b[0m\u001b[0mkey\u001b[0m\u001b[1;33m)\u001b[0m\u001b[1;33m\u001b[0m\u001b[1;33m\u001b[0m\u001b[0m\n\u001b[0m\u001b[0;32m    854\u001b[0m \u001b[1;33m\u001b[0m\u001b[0m\n\u001b[0;32m    855\u001b[0m         \u001b[1;32mif\u001b[0m \u001b[0mis_hashable\u001b[0m\u001b[1;33m(\u001b[0m\u001b[0mkey\u001b[0m\u001b[1;33m)\u001b[0m\u001b[1;33m:\u001b[0m\u001b[1;33m\u001b[0m\u001b[1;33m\u001b[0m\u001b[0m\n",
            "\u001b[1;32m~\\Anaconda3\\lib\\site-packages\\pandas\\core\\series.py\u001b[0m in \u001b[0;36m_get_value\u001b[1;34m(self, label, takeable)\u001b[0m\n\u001b[0;32m    959\u001b[0m \u001b[1;33m\u001b[0m\u001b[0m\n\u001b[0;32m    960\u001b[0m         \u001b[1;31m# Similar to Index.get_value, but we do not fall back to positional\u001b[0m\u001b[1;33m\u001b[0m\u001b[1;33m\u001b[0m\u001b[1;33m\u001b[0m\u001b[0m\n\u001b[1;32m--> 961\u001b[1;33m         \u001b[0mloc\u001b[0m \u001b[1;33m=\u001b[0m \u001b[0mself\u001b[0m\u001b[1;33m.\u001b[0m\u001b[0mindex\u001b[0m\u001b[1;33m.\u001b[0m\u001b[0mget_loc\u001b[0m\u001b[1;33m(\u001b[0m\u001b[0mlabel\u001b[0m\u001b[1;33m)\u001b[0m\u001b[1;33m\u001b[0m\u001b[1;33m\u001b[0m\u001b[0m\n\u001b[0m\u001b[0;32m    962\u001b[0m         \u001b[1;32mreturn\u001b[0m \u001b[0mself\u001b[0m\u001b[1;33m.\u001b[0m\u001b[0mindex\u001b[0m\u001b[1;33m.\u001b[0m\u001b[0m_get_values_for_loc\u001b[0m\u001b[1;33m(\u001b[0m\u001b[0mself\u001b[0m\u001b[1;33m,\u001b[0m \u001b[0mloc\u001b[0m\u001b[1;33m,\u001b[0m \u001b[0mlabel\u001b[0m\u001b[1;33m)\u001b[0m\u001b[1;33m\u001b[0m\u001b[1;33m\u001b[0m\u001b[0m\n\u001b[0;32m    963\u001b[0m \u001b[1;33m\u001b[0m\u001b[0m\n",
            "\u001b[1;32m~\\Anaconda3\\lib\\site-packages\\pandas\\core\\indexes\\range.py\u001b[0m in \u001b[0;36mget_loc\u001b[1;34m(self, key, method, tolerance)\u001b[0m\n\u001b[0;32m    351\u001b[0m                     \u001b[1;32mreturn\u001b[0m \u001b[0mself\u001b[0m\u001b[1;33m.\u001b[0m\u001b[0m_range\u001b[0m\u001b[1;33m.\u001b[0m\u001b[0mindex\u001b[0m\u001b[1;33m(\u001b[0m\u001b[0mnew_key\u001b[0m\u001b[1;33m)\u001b[0m\u001b[1;33m\u001b[0m\u001b[1;33m\u001b[0m\u001b[0m\n\u001b[0;32m    352\u001b[0m                 \u001b[1;32mexcept\u001b[0m \u001b[0mValueError\u001b[0m \u001b[1;32mas\u001b[0m \u001b[0merr\u001b[0m\u001b[1;33m:\u001b[0m\u001b[1;33m\u001b[0m\u001b[1;33m\u001b[0m\u001b[0m\n\u001b[1;32m--> 353\u001b[1;33m                     \u001b[1;32mraise\u001b[0m \u001b[0mKeyError\u001b[0m\u001b[1;33m(\u001b[0m\u001b[0mkey\u001b[0m\u001b[1;33m)\u001b[0m \u001b[1;32mfrom\u001b[0m \u001b[0merr\u001b[0m\u001b[1;33m\u001b[0m\u001b[1;33m\u001b[0m\u001b[0m\n\u001b[0m\u001b[0;32m    354\u001b[0m             \u001b[1;32mraise\u001b[0m \u001b[0mKeyError\u001b[0m\u001b[1;33m(\u001b[0m\u001b[0mkey\u001b[0m\u001b[1;33m)\u001b[0m\u001b[1;33m\u001b[0m\u001b[1;33m\u001b[0m\u001b[0m\n\u001b[0;32m    355\u001b[0m         \u001b[1;32mreturn\u001b[0m \u001b[0msuper\u001b[0m\u001b[1;33m(\u001b[0m\u001b[1;33m)\u001b[0m\u001b[1;33m.\u001b[0m\u001b[0mget_loc\u001b[0m\u001b[1;33m(\u001b[0m\u001b[0mkey\u001b[0m\u001b[1;33m,\u001b[0m \u001b[0mmethod\u001b[0m\u001b[1;33m=\u001b[0m\u001b[0mmethod\u001b[0m\u001b[1;33m,\u001b[0m \u001b[0mtolerance\u001b[0m\u001b[1;33m=\u001b[0m\u001b[0mtolerance\u001b[0m\u001b[1;33m)\u001b[0m\u001b[1;33m\u001b[0m\u001b[1;33m\u001b[0m\u001b[0m\n",
            "\u001b[1;31mKeyError\u001b[0m: -1"
          ]
        }
      ],
      "source": [
        "nums[-1]"
      ]
    },
    {
      "cell_type": "markdown",
      "id": "6e0f2ef9-b7f3-40cc-bb44-2b2e29103104",
      "metadata": {
        "id": "6e0f2ef9-b7f3-40cc-bb44-2b2e29103104"
      },
      "source": [
        "Ko'rib turganingizdek bu usul raqamli indekslar bilan ishlamas ekan. Agar indesklar raqamli emas, matn bo'lsachi?"
      ]
    },
    {
      "cell_type": "code",
      "execution_count": null,
      "id": "0dd9be01-407a-4376-9b97-05af056ee0ce",
      "metadata": {
        "id": "0dd9be01-407a-4376-9b97-05af056ee0ce",
        "outputId": "ac3b9fff-ca10-4070-8e4a-c6d1127bee14"
      },
      "outputs": [
        {
          "data": {
            "text/plain": [
              "a    0.0\n",
              "b    1.0\n",
              "c    2.0\n",
              "d    3.0\n",
              "e    4.0\n",
              "dtype: float64"
            ]
          },
          "execution_count": 279,
          "metadata": {},
          "output_type": "execute_result"
        }
      ],
      "source": [
        "ser = pd.Series(np.arange(5.), index=['a', 'b', 'c', 'd', 'e'])\n",
        "ser"
      ]
    },
    {
      "cell_type": "code",
      "execution_count": null,
      "id": "7629f258-85cf-4bf4-87bd-4112df6cc28a",
      "metadata": {
        "id": "7629f258-85cf-4bf4-87bd-4112df6cc28a",
        "outputId": "b3e424ec-e450-43aa-e66a-71009721a2ad"
      },
      "outputs": [
        {
          "data": {
            "text/plain": [
              "4.0"
            ]
          },
          "execution_count": 280,
          "metadata": {},
          "output_type": "execute_result"
        }
      ],
      "source": [
        "ser[-1]"
      ]
    },
    {
      "cell_type": "markdown",
      "id": "9caf6e62-3d97-4387-b9a6-de615ae699be",
      "metadata": {
        "id": "9caf6e62-3d97-4387-b9a6-de615ae699be"
      },
      "source": [
        "Bu holda esa xato yo'q."
      ]
    },
    {
      "cell_type": "markdown",
      "id": "9b7ce1c0-4823-4de1-92a5-9ba59f4bea3f",
      "metadata": {
        "id": "9b7ce1c0-4823-4de1-92a5-9ba59f4bea3f"
      },
      "source": [
        "Muammoning yechimi doimo `.loc` yoki `.iloc` parametrlaridan foydalanish"
      ]
    },
    {
      "cell_type": "code",
      "execution_count": null,
      "id": "91298d98-cda6-4fa4-8ec3-2fcc7ee50fc9",
      "metadata": {
        "id": "91298d98-cda6-4fa4-8ec3-2fcc7ee50fc9",
        "outputId": "b7ad125b-35c9-403c-ff9d-2e59a880c88c"
      },
      "outputs": [
        {
          "data": {
            "text/plain": [
              "9.0"
            ]
          },
          "execution_count": 282,
          "metadata": {},
          "output_type": "execute_result"
        }
      ],
      "source": [
        "nums.iloc[-1]"
      ]
    },
    {
      "cell_type": "code",
      "execution_count": null,
      "id": "4ee90d84-11df-4a81-89f5-2ea2ef626ad5",
      "metadata": {
        "id": "4ee90d84-11df-4a81-89f5-2ea2ef626ad5",
        "outputId": "592d5a4c-b6ae-4aef-e96c-70e960234c03"
      },
      "outputs": [
        {
          "data": {
            "text/plain": [
              "4.0"
            ]
          },
          "execution_count": 289,
          "metadata": {},
          "output_type": "execute_result"
        }
      ],
      "source": [
        "nums.iloc[4]"
      ]
    },
    {
      "cell_type": "code",
      "execution_count": null,
      "id": "596ffc78-0d9e-4ede-8caf-45822ecc934a",
      "metadata": {
        "id": "596ffc78-0d9e-4ede-8caf-45822ecc934a",
        "outputId": "dbb17386-31d2-493f-b7d1-104e071d4fae"
      },
      "outputs": [
        {
          "data": {
            "text/plain": [
              "3.0"
            ]
          },
          "execution_count": 290,
          "metadata": {},
          "output_type": "execute_result"
        }
      ],
      "source": [
        "ser.loc['d']"
      ]
    }
  ],
  "metadata": {
    "colab": {
      "provenance": []
    },
    "language_info": {
      "codemirror_mode": {
        "name": "ipython",
        "version": 3
      },
      "file_extension": ".py",
      "mimetype": "text/x-python",
      "name": "python",
      "nbconvert_exporter": "python",
      "pygments_lexer": "ipython3",
      "version": "3.8.8"
    }
  },
  "nbformat": 4,
  "nbformat_minor": 5
}
