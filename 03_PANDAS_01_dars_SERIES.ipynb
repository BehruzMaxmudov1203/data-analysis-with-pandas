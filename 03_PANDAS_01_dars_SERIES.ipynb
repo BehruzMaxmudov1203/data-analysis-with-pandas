{
  "cells": [
    {
      "cell_type": "markdown",
      "id": "034e315b",
      "metadata": {
        "id": "034e315b"
      },
      "source": [
        "\n",
        "\n",
        "# Ma'lumotlar tahlili. Pandas kutubxonasi.\n",
        "\n",
        "### 2.2 Pandas kutubxonasi bilan tanishuv\n",
        "\n",
        "`pandas` kutubxonasi ma'lumotlar muhandisining eng muhim ish quroli hisoblanadi. Data Science loyihalar ustida ishlar ekanmiz, 90% amallar aynan pandas yordamida amalga oshiriladi. `pandas` o'zining maxsus ma'lumotlar tuzilmalariga ega va bu tuzilmalar ma'lumotlarga ishlov berish, tozalash va boshqa amllarni bir necha barobar osonlashtiradi.\n",
        "\n",
        "Avvalgi bo'limda ko'rilgan `numpy` kutubxonasidan farqli ravishda, `pandas` kutubxonasi faqatgina sonlardan iborat massivlar bilan emas, balki turli ko'rinishdagi ma'lumotlardan iborat jadvallar bilan ishlashga moslashgan."
      ]
    },
    {
      "cell_type": "markdown",
      "id": "8211f25f",
      "metadata": {
        "id": "8211f25f"
      },
      "source": [
        "### Kutubxonani chaqiramiz\n",
        "\n",
        "Oson bo'lishi uchun `pandas` kutubxonasini `pd` deb chaqirib olish urf bo'lgan."
      ]
    },
    {
      "cell_type": "code",
      "execution_count": null,
      "id": "5b0ccbd9",
      "metadata": {
        "id": "5b0ccbd9"
      },
      "outputs": [],
      "source": [
        "import pandas as pd\n",
        "import numpy as np"
      ]
    },
    {
      "cell_type": "markdown",
      "id": "c73942a4",
      "metadata": {
        "id": "c73942a4"
      },
      "source": [
        "## `pandas` tarkibidagi ma'lumotlar tuzilmalari\n",
        "\n",
        "pandas ikkita juda muhim va deyalri barcha loyihalar uchun mos tushuvchi Series va DataFrame ma'lumotlar tuzilamalariga ega. Keling ular bilan yaqindan tanishamiz.\n",
        "\n",
        "Boshlanishiga bu ikki tuzilmalarni ham dasturimizga chaqirib olaylik."
      ]
    },
    {
      "cell_type": "code",
      "execution_count": null,
      "id": "a543bf7d",
      "metadata": {
        "id": "a543bf7d"
      },
      "outputs": [],
      "source": [
        "from pandas import Series, DataFrame as df # DataFrameni qisqacha qilib df deb chariqib oldik"
      ]
    },
    {
      "cell_type": "markdown",
      "id": "8d88ccbd",
      "metadata": {
        "id": "8d88ccbd"
      },
      "source": [
        "### 2.2.1 `Series`\n",
        "\n",
        "`Series` bir o'lchovli massivga o'xshash ma'lumotlar tuzilmasi bo'lib qiymatlar va ularga mos keluvchi indekslardan iborat bo'ladi.\n",
        "\n",
        "Eng sodda ko'rinishda `Series` ma'lumotlar massividan iborat bo'ladi."
      ]
    },
    {
      "cell_type": "code",
      "execution_count": null,
      "id": "7cbe335d",
      "metadata": {
        "id": "7cbe335d"
      },
      "outputs": [],
      "source": [
        "obj = Series([4, 5, -7, 3.2])"
      ]
    },
    {
      "cell_type": "code",
      "execution_count": null,
      "id": "3bafadcc",
      "metadata": {
        "id": "3bafadcc",
        "outputId": "ffcb3b50-36da-41e7-f76c-96829387d75d"
      },
      "outputs": [
        {
          "data": {
            "text/plain": [
              "0    4.0\n",
              "1    5.0\n",
              "2   -7.0\n",
              "3    3.2\n",
              "dtype: float64"
            ]
          },
          "execution_count": 5,
          "metadata": {},
          "output_type": "execute_result"
        }
      ],
      "source": [
        "obj"
      ]
    },
    {
      "cell_type": "markdown",
      "id": "81e157e1",
      "metadata": {
        "id": "81e157e1"
      },
      "source": [
        "Konsolga chop etganda ,`Series` yuqoridagi kabi indekslar (chap ustun) va qiymatlar (o'ng ustun) ko'rinishida chiqadi.\n",
        "`Series` obyektini yaratsihda indekslarni bermaganimiz sababli indekslar `0` dan `N-1` gacha qiymatlarni oladi (`N` ma'lumotlar uzunligi).\n",
        "\n",
        "`Series` obyekti index va qiymatlarini alohida ajratib ko'rishimiz ham mumkin."
      ]
    },
    {
      "cell_type": "code",
      "execution_count": null,
      "id": "78c31c02",
      "metadata": {
        "id": "78c31c02",
        "outputId": "6b88b3dc-dfee-40e3-dc7e-e4195f29a3dc"
      },
      "outputs": [
        {
          "data": {
            "text/plain": [
              "array([ 4. ,  5. , -7. ,  3.2])"
            ]
          },
          "execution_count": 6,
          "metadata": {},
          "output_type": "execute_result"
        }
      ],
      "source": [
        "obj.values # qiymatlar"
      ]
    },
    {
      "cell_type": "code",
      "execution_count": null,
      "id": "175bf75c",
      "metadata": {
        "id": "175bf75c",
        "outputId": "0eabd3a5-f8a9-4710-d649-f841c8d74eb8"
      },
      "outputs": [
        {
          "data": {
            "text/plain": [
              "RangeIndex(start=0, stop=4, step=1)"
            ]
          },
          "execution_count": 7,
          "metadata": {},
          "output_type": "execute_result"
        }
      ],
      "source": [
        "obj.index # indekslar"
      ]
    },
    {
      "cell_type": "markdown",
      "id": "2367f3a6",
      "metadata": {
        "id": "2367f3a6"
      },
      "source": [
        "Qiymatlarga indeks orqali murojaat qilish mumkin."
      ]
    },
    {
      "cell_type": "code",
      "execution_count": null,
      "id": "b5f547ad",
      "metadata": {
        "id": "b5f547ad",
        "outputId": "6c71fc81-e823-4ee9-aa78-520380270a62"
      },
      "outputs": [
        {
          "data": {
            "text/plain": [
              "4.0"
            ]
          },
          "execution_count": 13,
          "metadata": {},
          "output_type": "execute_result"
        }
      ],
      "source": [
        "obj[0] # birinchi element"
      ]
    },
    {
      "cell_type": "code",
      "execution_count": null,
      "id": "3e9d806e",
      "metadata": {
        "id": "3e9d806e",
        "outputId": "14e91fda-a79d-4bdd-f241-3877800768a1"
      },
      "outputs": [
        {
          "data": {
            "text/plain": [
              "3.2"
            ]
          },
          "execution_count": 17,
          "metadata": {},
          "output_type": "execute_result"
        }
      ],
      "source": [
        "obj[3]"
      ]
    },
    {
      "cell_type": "markdown",
      "id": "140e5f2b",
      "metadata": {
        "id": "140e5f2b"
      },
      "source": [
        "`Series` obyektini yaratishda indekslarga o'zimiz ham nom berishimiz mumkin"
      ]
    },
    {
      "cell_type": "code",
      "execution_count": null,
      "id": "9faa330a",
      "metadata": {
        "id": "9faa330a"
      },
      "outputs": [],
      "source": [
        "obj2 = Series([4, 5, -7, 3.2], index=['a','b','c','d']) # bu yerda indekslarga alifbo harflarini berdik."
      ]
    },
    {
      "cell_type": "code",
      "execution_count": null,
      "id": "beac19c7",
      "metadata": {
        "id": "beac19c7",
        "outputId": "05da9055-67aa-439e-97a7-e9a791dd39df"
      },
      "outputs": [
        {
          "data": {
            "text/plain": [
              "a    4.0\n",
              "b    5.0\n",
              "c   -7.0\n",
              "d    3.2\n",
              "dtype: float64"
            ]
          },
          "execution_count": 9,
          "metadata": {},
          "output_type": "execute_result"
        }
      ],
      "source": [
        "obj2"
      ]
    },
    {
      "cell_type": "code",
      "execution_count": null,
      "id": "5aa9cb88",
      "metadata": {
        "id": "5aa9cb88",
        "outputId": "bf19f212-54bf-453a-f22b-2629d497b2e8"
      },
      "outputs": [
        {
          "data": {
            "text/plain": [
              "Index(['a', 'b', 'c', 'd'], dtype='object')"
            ]
          },
          "execution_count": 10,
          "metadata": {},
          "output_type": "execute_result"
        }
      ],
      "source": [
        "obj2.index"
      ]
    },
    {
      "cell_type": "markdown",
      "id": "43be3341",
      "metadata": {
        "id": "43be3341"
      },
      "source": [
        "Obyekt ichidagi qiymatlarga esa yana indeks orqali murojaat qilamiz:"
      ]
    },
    {
      "cell_type": "code",
      "execution_count": null,
      "id": "43de675d",
      "metadata": {
        "id": "43de675d",
        "outputId": "193a442c-408c-4a94-e3f5-3199a3219d9c"
      },
      "outputs": [
        {
          "data": {
            "text/plain": [
              "4.0"
            ]
          },
          "execution_count": 12,
          "metadata": {},
          "output_type": "execute_result"
        }
      ],
      "source": [
        "obj2['a']"
      ]
    },
    {
      "cell_type": "code",
      "execution_count": null,
      "id": "63865e7c",
      "metadata": {
        "id": "63865e7c"
      },
      "outputs": [],
      "source": [
        "obj2['a']=4.5"
      ]
    },
    {
      "cell_type": "code",
      "execution_count": null,
      "id": "4a413744",
      "metadata": {
        "id": "4a413744",
        "outputId": "d41a3911-90f2-4162-92a1-a2336a079554"
      },
      "outputs": [
        {
          "data": {
            "text/plain": [
              "a    4.5\n",
              "b    5.0\n",
              "c   -7.0\n",
              "d    3.2\n",
              "dtype: float64"
            ]
          },
          "execution_count": 48,
          "metadata": {},
          "output_type": "execute_result"
        }
      ],
      "source": [
        "obj2"
      ]
    },
    {
      "cell_type": "markdown",
      "id": "bab2c845",
      "metadata": {
        "id": "bab2c845"
      },
      "source": [
        "Yangi qiymat qo'shish:"
      ]
    },
    {
      "cell_type": "code",
      "execution_count": null,
      "id": "cdd471d4",
      "metadata": {
        "id": "cdd471d4"
      },
      "outputs": [],
      "source": [
        "obj2['e']=5"
      ]
    },
    {
      "cell_type": "code",
      "execution_count": null,
      "id": "c34c0ec5",
      "metadata": {
        "id": "c34c0ec5",
        "outputId": "5593f179-098f-4d29-8d44-7673763d92e2"
      },
      "outputs": [
        {
          "data": {
            "text/plain": [
              "a    4.5\n",
              "b    5.0\n",
              "c   -7.0\n",
              "d    3.2\n",
              "e    5.0\n",
              "dtype: float64"
            ]
          },
          "execution_count": 51,
          "metadata": {},
          "output_type": "execute_result"
        }
      ],
      "source": [
        "obj2"
      ]
    },
    {
      "cell_type": "markdown",
      "id": "5862e186",
      "metadata": {
        "id": "5862e186"
      },
      "source": [
        "Birdaniga bir nechta qiymatlarni olish:"
      ]
    },
    {
      "cell_type": "code",
      "execution_count": null,
      "id": "3a59ef9e",
      "metadata": {
        "id": "3a59ef9e",
        "outputId": "4981f921-2a6a-4e80-a7ce-45cce72d48af"
      },
      "outputs": [
        {
          "data": {
            "text/plain": [
              "a    4.5\n",
              "c   -7.0\n",
              "e    5.0\n",
              "dtype: float64"
            ]
          },
          "execution_count": 52,
          "metadata": {},
          "output_type": "execute_result"
        }
      ],
      "source": [
        "obj2[['a','c','e']]"
      ]
    },
    {
      "cell_type": "markdown",
      "id": "62ad79f0",
      "metadata": {
        "id": "62ad79f0"
      },
      "source": [
        "`Series` obyekti ustida arifmetik amallar bajarishda indekslar saqlanib qoladi"
      ]
    },
    {
      "cell_type": "code",
      "execution_count": null,
      "id": "e300b78e",
      "metadata": {
        "id": "e300b78e",
        "outputId": "119422ad-9c0f-46b5-b404-dd507294486c"
      },
      "outputs": [
        {
          "data": {
            "text/plain": [
              "a    4.0\n",
              "b    5.0\n",
              "d    3.2\n",
              "dtype: float64"
            ]
          },
          "execution_count": 19,
          "metadata": {},
          "output_type": "execute_result"
        }
      ],
      "source": [
        "obj2[obj2>0]"
      ]
    },
    {
      "cell_type": "code",
      "execution_count": null,
      "id": "293ecf62",
      "metadata": {
        "id": "293ecf62",
        "outputId": "6ab87f37-1bf5-4bce-c904-9b59b8dc6725"
      },
      "outputs": [
        {
          "data": {
            "text/plain": [
              "a     8.0\n",
              "b    10.0\n",
              "c   -14.0\n",
              "d     6.4\n",
              "dtype: float64"
            ]
          },
          "execution_count": 20,
          "metadata": {},
          "output_type": "execute_result"
        }
      ],
      "source": [
        "obj2*2"
      ]
    },
    {
      "cell_type": "code",
      "execution_count": null,
      "id": "e305c453",
      "metadata": {
        "id": "e305c453",
        "outputId": "09ca6b01-bd35-49a6-cac0-ae4b69a94c7f"
      },
      "outputs": [
        {
          "data": {
            "text/plain": [
              "a     54.598150\n",
              "b    148.413159\n",
              "c      0.000912\n",
              "d     24.532530\n",
              "dtype: float64"
            ]
          },
          "execution_count": 22,
          "metadata": {},
          "output_type": "execute_result"
        }
      ],
      "source": [
        "np.exp(obj2)"
      ]
    },
    {
      "cell_type": "markdown",
      "id": "9e1883b4",
      "metadata": {
        "id": "9e1883b4"
      },
      "source": [
        "`Series` obyektini Pythondagi lug'at (dictionary) ma'lumot turiga ham o'xshatish mumkin. Yodingizda bo'lsa lug'at elementlari ham 2 qismdan, kalit va qiymatdan iborat edi.\n",
        "\n",
        "O'rni kelganda bu turdagi obyektlardan lug'atdan foydalangandek ham foydalanish mumkin:"
      ]
    },
    {
      "cell_type": "code",
      "execution_count": null,
      "id": "4965d6f3",
      "metadata": {
        "id": "4965d6f3",
        "outputId": "81d2cd9a-6bfb-453b-b89a-fd2f108ddfd8"
      },
      "outputs": [
        {
          "data": {
            "text/plain": [
              "True"
            ]
          },
          "execution_count": 94,
          "metadata": {},
          "output_type": "execute_result"
        }
      ],
      "source": [
        "'b' in obj2"
      ]
    },
    {
      "cell_type": "code",
      "execution_count": null,
      "id": "5ff5aa83",
      "metadata": {
        "id": "5ff5aa83",
        "outputId": "ce49359c-482c-49bf-ee09-1fab5bb69f06"
      },
      "outputs": [
        {
          "data": {
            "text/plain": [
              "False"
            ]
          },
          "execution_count": 24,
          "metadata": {},
          "output_type": "execute_result"
        }
      ],
      "source": [
        "'x' in obj2"
      ]
    },
    {
      "cell_type": "markdown",
      "id": "69800b4e",
      "metadata": {
        "id": "69800b4e"
      },
      "source": [
        "Lug'atdan `Series` obyektini yaratish ham juda oson:"
      ]
    },
    {
      "cell_type": "code",
      "execution_count": null,
      "id": "80b4c570",
      "metadata": {
        "id": "80b4c570"
      },
      "outputs": [],
      "source": [
        "cars_dict = {'Malibu':40000, 'Lacetti':20000, 'Toyota':45000, 'Mazda':52000, 'Honda':38000} # bu lug'at"
      ]
    },
    {
      "cell_type": "code",
      "execution_count": null,
      "id": "caeb485a",
      "metadata": {
        "id": "caeb485a"
      },
      "outputs": [],
      "source": [
        "salon1 = Series(cars_dict) # lug'atdan Sereis yaratamiz"
      ]
    },
    {
      "cell_type": "code",
      "execution_count": null,
      "id": "7986df89",
      "metadata": {
        "id": "7986df89",
        "outputId": "fe574dea-be2a-44ad-bcfe-8e54adb7504b"
      },
      "outputs": [
        {
          "data": {
            "text/plain": [
              "Malibu     40000\n",
              "Lacetti    20000\n",
              "Toyota     45000\n",
              "Mazda      52000\n",
              "Honda      38000\n",
              "dtype: int64"
            ]
          },
          "execution_count": 98,
          "metadata": {},
          "output_type": "execute_result"
        }
      ],
      "source": [
        "salon1"
      ]
    },
    {
      "cell_type": "code",
      "execution_count": null,
      "id": "675dc4ea",
      "metadata": {
        "id": "675dc4ea",
        "outputId": "8d487fed-27be-471d-a53b-2fed616a5a9d"
      },
      "outputs": [
        {
          "data": {
            "text/plain": [
              "38000"
            ]
          },
          "execution_count": 99,
          "metadata": {},
          "output_type": "execute_result"
        }
      ],
      "source": [
        "salon1['Honda']"
      ]
    },
    {
      "cell_type": "markdown",
      "id": "ed32445c",
      "metadata": {
        "id": "ed32445c"
      },
      "source": [
        "Lug'atdan `Series` yaratishda yangi elementlar indeksi lug'atda berilgan ketma-ketlikda bo'ladi. Bu ketma-ketlikni biz avvaldan ro'yxat ko'rinishida ham berishimiz mumkin."
      ]
    },
    {
      "cell_type": "code",
      "execution_count": null,
      "id": "75ba0338",
      "metadata": {
        "id": "75ba0338"
      },
      "outputs": [],
      "source": [
        "models = ['Honda','Mazda','Lacetti','Jaguar','Malibu','Toyota'] # buyerda bitta qo'shimcha model bor"
      ]
    },
    {
      "cell_type": "code",
      "execution_count": null,
      "id": "9f97a253",
      "metadata": {
        "id": "9f97a253"
      },
      "outputs": [],
      "source": [
        "salon2 = Series(cars_dict, index=models)"
      ]
    },
    {
      "cell_type": "code",
      "execution_count": null,
      "id": "a955010c",
      "metadata": {
        "id": "a955010c",
        "outputId": "efe0bc12-2a7f-4f51-a21e-17a679db368e"
      },
      "outputs": [
        {
          "data": {
            "text/plain": [
              "Honda      38000.0\n",
              "Mazda      52000.0\n",
              "Lacetti    20000.0\n",
              "Jaguar         NaN\n",
              "Malibu     40000.0\n",
              "Toyota     45000.0\n",
              "dtype: float64"
            ]
          },
          "execution_count": 115,
          "metadata": {},
          "output_type": "execute_result"
        }
      ],
      "source": [
        "salon2"
      ]
    },
    {
      "cell_type": "markdown",
      "id": "e5855406",
      "metadata": {
        "id": "e5855406"
      },
      "source": [
        "Keyinchalik, ma'lumotlar bilan ishlaganda `NaN` qiymatlarni ajratish muhim ahamiyatga ega. Buning uchun `Series` obyekti bir maxsus metodlarga ega:"
      ]
    },
    {
      "cell_type": "code",
      "execution_count": null,
      "id": "8c0d2048",
      "metadata": {
        "id": "8c0d2048",
        "outputId": "90843576-37af-4301-d3dd-fd98a9ae433b"
      },
      "outputs": [
        {
          "data": {
            "text/plain": [
              "Honda      False\n",
              "Mazda      False\n",
              "Lacetti    False\n",
              "Jaguar      True\n",
              "Malibu     False\n",
              "Toyota     False\n",
              "dtype: bool"
            ]
          },
          "execution_count": 116,
          "metadata": {},
          "output_type": "execute_result"
        }
      ],
      "source": [
        "salon2.isnull() # qiymat null (mavjud emasligini) tekshirish uchun"
      ]
    },
    {
      "cell_type": "code",
      "execution_count": null,
      "id": "0337db34",
      "metadata": {
        "id": "0337db34",
        "outputId": "b28ebafc-5aa5-46ff-b488-ccafb3507e79"
      },
      "outputs": [
        {
          "data": {
            "text/plain": [
              "Honda       True\n",
              "Mazda       True\n",
              "Lacetti     True\n",
              "Jaguar     False\n",
              "Malibu      True\n",
              "Toyota      True\n",
              "dtype: bool"
            ]
          },
          "execution_count": 117,
          "metadata": {},
          "output_type": "execute_result"
        }
      ],
      "source": [
        "salon2.notnull() # qiymat null emasligini (mavjudligini) tekshirish uchun"
      ]
    },
    {
      "cell_type": "markdown",
      "id": "bd8cb678",
      "metadata": {
        "id": "bd8cb678"
      },
      "source": [
        "`Series` obyektining muhim jihatlaridan biri, ikkita `series` obyektini qo'shishda (ayirishda) qiymatlar indeks bo'yicha qo'shiladi."
      ]
    },
    {
      "cell_type": "code",
      "execution_count": null,
      "id": "b117c771",
      "metadata": {
        "id": "b117c771",
        "outputId": "27994c5c-56f2-4a5e-f444-bec4b0a27e25"
      },
      "outputs": [
        {
          "data": {
            "text/plain": [
              "Honda      38000.0\n",
              "Mazda      52000.0\n",
              "Lacetti    20000.0\n",
              "Jaguar         NaN\n",
              "Malibu     40000.0\n",
              "Toyota     45000.0\n",
              "dtype: float64"
            ]
          },
          "execution_count": 118,
          "metadata": {},
          "output_type": "execute_result"
        }
      ],
      "source": [
        "salon2"
      ]
    },
    {
      "cell_type": "code",
      "execution_count": null,
      "id": "f39d6df2",
      "metadata": {
        "id": "f39d6df2"
      },
      "outputs": [],
      "source": [
        "# 'Honda','Mazda','Lacetti','Jaguar','Malibu','Toyota'\n",
        "new_prices = Series({\"Honda\":5000, \"Mazda\":-3000, \"Malibu\":4500, \"Toyota\":5200, 'Lacetti':-1200})"
      ]
    },
    {
      "cell_type": "code",
      "execution_count": null,
      "id": "2c0d0a51",
      "metadata": {
        "id": "2c0d0a51",
        "outputId": "09507123-5a38-4397-bfc1-41f911df86a7"
      },
      "outputs": [
        {
          "data": {
            "text/plain": [
              "Honda      5000\n",
              "Mazda     -3000\n",
              "Malibu     4500\n",
              "Toyota     5200\n",
              "Lacetti   -1200\n",
              "dtype: int64"
            ]
          },
          "execution_count": 129,
          "metadata": {},
          "output_type": "execute_result"
        }
      ],
      "source": [
        "new_prices"
      ]
    },
    {
      "cell_type": "code",
      "execution_count": null,
      "id": "c0b9173b",
      "metadata": {
        "id": "c0b9173b",
        "outputId": "3702d610-b51d-40ba-d9ae-ad7d1ea4f5aa"
      },
      "outputs": [
        {
          "data": {
            "text/plain": [
              "Honda      43000.0\n",
              "Jaguar         NaN\n",
              "Lacetti    18800.0\n",
              "Malibu     44500.0\n",
              "Mazda      49000.0\n",
              "Toyota     50200.0\n",
              "dtype: float64"
            ]
          },
          "execution_count": 130,
          "metadata": {},
          "output_type": "execute_result"
        }
      ],
      "source": [
        "salon2+new_prices"
      ]
    },
    {
      "cell_type": "markdown",
      "id": "484e452f",
      "metadata": {
        "id": "484e452f"
      },
      "source": [
        "`Series` obyektining o'zini ham indekslarini ham nomlash mumkin:"
      ]
    },
    {
      "cell_type": "code",
      "execution_count": null,
      "id": "744f8738",
      "metadata": {
        "id": "744f8738"
      },
      "outputs": [],
      "source": [
        "salon2.name = 'Avtosalon'"
      ]
    },
    {
      "cell_type": "code",
      "execution_count": null,
      "id": "c5314005",
      "metadata": {
        "id": "c5314005"
      },
      "outputs": [],
      "source": [
        "salon2.index.name = 'Car Model'"
      ]
    },
    {
      "cell_type": "code",
      "execution_count": null,
      "id": "e5eeedbb",
      "metadata": {
        "id": "e5eeedbb",
        "outputId": "d91c0ff3-e52d-49a6-8701-50c0a8432bc3"
      },
      "outputs": [
        {
          "data": {
            "text/plain": [
              "Car Model\n",
              "Honda      38000.0\n",
              "Mazda      52000.0\n",
              "Lacetti    20000.0\n",
              "Jaguar         NaN\n",
              "Malibu     40000.0\n",
              "Toyota     45000.0\n",
              "Name: Avtosalon, dtype: float64"
            ]
          },
          "execution_count": 140,
          "metadata": {},
          "output_type": "execute_result"
        }
      ],
      "source": [
        "salon2"
      ]
    },
    {
      "cell_type": "code",
      "execution_count": null,
      "id": "7882e172",
      "metadata": {
        "id": "7882e172",
        "outputId": "de0f5c1b-9ce7-4094-eea5-93c258dc3035"
      },
      "outputs": [
        {
          "data": {
            "text/plain": [
              "'Avtosalon'"
            ]
          },
          "execution_count": 141,
          "metadata": {},
          "output_type": "execute_result"
        }
      ],
      "source": [
        "salon2.name"
      ]
    },
    {
      "cell_type": "markdown",
      "id": "51ca624d",
      "metadata": {
        "id": "51ca624d"
      },
      "source": [
        "## `Series` obyektiga oid ba'zi parametrlar va metodlar"
      ]
    },
    {
      "cell_type": "code",
      "execution_count": null,
      "id": "56a96c8c",
      "metadata": {
        "id": "56a96c8c",
        "outputId": "d8d8b4fd-9f7e-44c2-84c8-e23d534ae1c6"
      },
      "outputs": [
        {
          "data": {
            "text/plain": [
              "Index(['Honda', 'Mazda', 'Lacetti', 'Jaguar', 'Malibu', 'Toyota'], dtype='object', name='Car Model')"
            ]
          },
          "execution_count": 160,
          "metadata": {},
          "output_type": "execute_result"
        }
      ],
      "source": [
        "salon2.index # indekslar"
      ]
    },
    {
      "cell_type": "code",
      "execution_count": null,
      "id": "3a6fe77b",
      "metadata": {
        "id": "3a6fe77b",
        "outputId": "500ae4af-f7a1-4610-d404-b8c75b0e4a1a"
      },
      "outputs": [
        {
          "data": {
            "text/plain": [
              "array([38000., 52000., 20000.,    nan, 40000., 45000.])"
            ]
          },
          "execution_count": 161,
          "metadata": {},
          "output_type": "execute_result"
        }
      ],
      "source": [
        "salon2.values # qiymatlar"
      ]
    },
    {
      "cell_type": "code",
      "execution_count": null,
      "id": "2cebdbaa",
      "metadata": {
        "id": "2cebdbaa",
        "outputId": "ef86a1f2-a784-441b-f91a-ce72509f49f1"
      },
      "outputs": [
        {
          "data": {
            "text/plain": [
              "True"
            ]
          },
          "execution_count": 170,
          "metadata": {},
          "output_type": "execute_result"
        }
      ],
      "source": [
        "salon2.hasnans # NaN qiymatlar bor (True) yo'qligi (False)"
      ]
    },
    {
      "cell_type": "code",
      "execution_count": null,
      "id": "4aa0030c",
      "metadata": {
        "id": "4aa0030c",
        "outputId": "b9f89a2f-3f77-4950-af4c-19fdf43540bc"
      },
      "outputs": [
        {
          "data": {
            "text/plain": [
              "dtype('float64')"
            ]
          },
          "execution_count": 164,
          "metadata": {},
          "output_type": "execute_result"
        }
      ],
      "source": [
        "salon2.dtype # qiymatlarning ma'lumot turi"
      ]
    },
    {
      "cell_type": "code",
      "execution_count": null,
      "id": "0259d253",
      "metadata": {
        "id": "0259d253",
        "outputId": "3af2477b-5663-447f-d8ac-24983a391f39"
      },
      "outputs": [
        {
          "data": {
            "text/plain": [
              "True"
            ]
          },
          "execution_count": 172,
          "metadata": {},
          "output_type": "execute_result"
        }
      ],
      "source": [
        "salon2.is_unique # qiymatlar takrorlanmas ekanini tekshirish"
      ]
    },
    {
      "cell_type": "code",
      "execution_count": null,
      "id": "6225a021",
      "metadata": {
        "id": "6225a021",
        "outputId": "3b8a91ee-5b05-47ba-dfc2-d34214953a6c"
      },
      "outputs": [
        {
          "data": {
            "text/plain": [
              "(6,)"
            ]
          },
          "execution_count": 153,
          "metadata": {},
          "output_type": "execute_result"
        }
      ],
      "source": [
        "salon2.shape # Series hajmi"
      ]
    },
    {
      "cell_type": "code",
      "execution_count": null,
      "id": "42ff4fa8",
      "metadata": {
        "id": "42ff4fa8",
        "outputId": "3c685ab8-d277-4ea3-e1fc-5853816b1833",
        "scrolled": true
      },
      "outputs": [
        {
          "data": {
            "text/plain": [
              "6"
            ]
          },
          "execution_count": 154,
          "metadata": {},
          "output_type": "execute_result"
        }
      ],
      "source": [
        "salon2.size # Series hajmi"
      ]
    },
    {
      "cell_type": "code",
      "execution_count": null,
      "id": "abfa7655",
      "metadata": {
        "id": "abfa7655",
        "outputId": "3e8d96bf-de44-4f6c-89c5-6c3650edd80a",
        "scrolled": true
      },
      "outputs": [
        {
          "data": {
            "text/plain": [
              "20000.0"
            ]
          },
          "execution_count": 168,
          "metadata": {},
          "output_type": "execute_result"
        }
      ],
      "source": [
        "salon2.iloc[2] # ma'lumotlarga indeks tartib raqami bo'yicha murojaat qilish"
      ]
    },
    {
      "cell_type": "code",
      "execution_count": null,
      "id": "57edc208",
      "metadata": {
        "id": "57edc208",
        "outputId": "b3133294-cc43-4a7a-ca5c-3d5ce7df5f1b"
      },
      "outputs": [
        {
          "data": {
            "text/plain": [
              "45000.0"
            ]
          },
          "execution_count": 169,
          "metadata": {},
          "output_type": "execute_result"
        }
      ],
      "source": [
        "salon2.iloc[-1]"
      ]
    },
    {
      "cell_type": "code",
      "execution_count": null,
      "id": "f1b022d9",
      "metadata": {
        "id": "f1b022d9",
        "outputId": "419bcd84-da3d-4cd3-f171-376c387d5707"
      },
      "outputs": [
        {
          "data": {
            "text/plain": [
              "38000.0"
            ]
          },
          "execution_count": 165,
          "metadata": {},
          "output_type": "execute_result"
        }
      ],
      "source": [
        "salon2['Honda'] # ma'lumotlarga indeks bo'yicha murojaat qilish"
      ]
    },
    {
      "cell_type": "code",
      "execution_count": null,
      "id": "4d0ba654",
      "metadata": {
        "id": "4d0ba654",
        "outputId": "0fed145a-fcb6-4e04-db24-02f744ebafc1"
      },
      "outputs": [
        {
          "data": {
            "text/plain": [
              "45000.0"
            ]
          },
          "execution_count": 166,
          "metadata": {},
          "output_type": "execute_result"
        }
      ],
      "source": [
        "salon2.loc['Toyota'] # ma'lumotlarga indeks bo'yicha murojaat qilish"
      ]
    },
    {
      "cell_type": "code",
      "execution_count": null,
      "id": "67589333",
      "metadata": {
        "id": "67589333",
        "outputId": "a515fdab-536c-458b-b73c-76a104f17150"
      },
      "outputs": [
        {
          "data": {
            "text/plain": [
              "52000.0"
            ]
          },
          "execution_count": 157,
          "metadata": {},
          "output_type": "execute_result"
        }
      ],
      "source": [
        "salon2.max() # max qiymat"
      ]
    },
    {
      "cell_type": "code",
      "execution_count": null,
      "id": "1f221603",
      "metadata": {
        "id": "1f221603",
        "outputId": "037dac5c-c5d2-43dc-d554-67762a9bcc45"
      },
      "outputs": [
        {
          "data": {
            "text/plain": [
              "20000.0"
            ]
          },
          "execution_count": 158,
          "metadata": {},
          "output_type": "execute_result"
        }
      ],
      "source": [
        "salon2.min() # min qiymat"
      ]
    },
    {
      "cell_type": "code",
      "execution_count": null,
      "id": "ef0ba978",
      "metadata": {
        "id": "ef0ba978",
        "outputId": "48bbd6cd-bc01-48ed-a497-84616c67a98d"
      },
      "outputs": [
        {
          "data": {
            "text/plain": [
              "39000.0"
            ]
          },
          "execution_count": 173,
          "metadata": {},
          "output_type": "execute_result"
        }
      ],
      "source": [
        "salon2.mean() # o'rtacha qiymat"
      ]
    },
    {
      "cell_type": "markdown",
      "id": "71d61527",
      "metadata": {
        "id": "71d61527"
      },
      "source": [
        "## AMALIYOT"
      ]
    },
    {
      "cell_type": "code",
      "execution_count": null,
      "id": "59a40094",
      "metadata": {
        "id": "59a40094"
      },
      "outputs": [],
      "source": []
    }
  ],
  "metadata": {
    "colab": {
      "provenance": []
    },
    "language_info": {
      "codemirror_mode": {
        "name": "ipython",
        "version": 3
      },
      "file_extension": ".py",
      "mimetype": "text/x-python",
      "name": "python",
      "nbconvert_exporter": "python",
      "pygments_lexer": "ipython3",
      "version": "3.8.8"
    }
  },
  "nbformat": 4,
  "nbformat_minor": 5
}
